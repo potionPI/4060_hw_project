{
 "cells": [
  {
   "cell_type": "markdown",
   "id": "d8c5ea43",
   "metadata": {
    "papermill": {
     "duration": 0.009921,
     "end_time": "2022-12-22T11:04:41.887938",
     "exception": false,
     "start_time": "2022-12-22T11:04:41.878017",
     "status": "completed"
    },
    "tags": []
   },
   "source": [
    "Because the datasets are SO large (especially the Multiome dataset), instead of running both parts of the project in one notebook (and risk Kaggle running out of storage space then resetting all progress), it is more convenient to separate the multiome and citeseq parts of the project, then later merge the predicted outputs from the two parts together."
   ]
  },
  {
   "cell_type": "markdown",
   "id": "1b75c7c0",
   "metadata": {
    "papermill": {
     "duration": 0.008162,
     "end_time": "2022-12-22T11:04:41.904870",
     "exception": false,
     "start_time": "2022-12-22T11:04:41.896708",
     "status": "completed"
    },
    "tags": []
   },
   "source": [
    "This notebook concerns itself with the multiome portion."
   ]
  },
  {
   "cell_type": "markdown",
   "id": "13c707c2",
   "metadata": {
    "papermill": {
     "duration": 0.008132,
     "end_time": "2022-12-22T11:04:41.921615",
     "exception": false,
     "start_time": "2022-12-22T11:04:41.913483",
     "status": "completed"
    },
    "tags": []
   },
   "source": [
    "# First, all the basic imports and file names which may or may not be used is loaded in essentially as a header"
   ]
  },
  {
   "cell_type": "code",
   "execution_count": 1,
   "id": "8fe3da83",
   "metadata": {
    "_cell_guid": "b1076dfc-b9ad-4769-8c92-a6c4dae69d19",
    "_uuid": "8f2839f25d086af736a60e9eeb907d3b93b6e0e5",
    "execution": {
     "iopub.execute_input": "2022-12-22T11:04:41.940913Z",
     "iopub.status.busy": "2022-12-22T11:04:41.940330Z",
     "iopub.status.idle": "2022-12-22T11:04:55.058043Z",
     "shell.execute_reply": "2022-12-22T11:04:55.055991Z"
    },
    "papermill": {
     "duration": 13.132111,
     "end_time": "2022-12-22T11:04:55.062265",
     "exception": false,
     "start_time": "2022-12-22T11:04:41.930154",
     "status": "completed"
    },
    "tags": []
   },
   "outputs": [
    {
     "name": "stdout",
     "output_type": "stream",
     "text": [
      "Requirement already satisfied: tables in /opt/conda/lib/python3.7/site-packages (3.7.0)\r\n",
      "Requirement already satisfied: numexpr>=2.6.2 in /opt/conda/lib/python3.7/site-packages (from tables) (2.8.3)\r\n",
      "Requirement already satisfied: packaging in /opt/conda/lib/python3.7/site-packages (from tables) (21.3)\r\n",
      "Requirement already satisfied: numpy>=1.19.0 in /opt/conda/lib/python3.7/site-packages (from tables) (1.21.6)\r\n",
      "Requirement already satisfied: pyparsing!=3.0.5,>=2.0.2 in /opt/conda/lib/python3.7/site-packages (from packaging->tables) (3.0.9)\r\n",
      "\u001b[33mWARNING: Running pip as the 'root' user can result in broken permissions and conflicting behaviour with the system package manager. It is recommended to use a virtual environment instead: https://pip.pypa.io/warnings/venv\u001b[0m\u001b[33m\r\n",
      "\u001b[0m"
     ]
    }
   ],
   "source": [
    "!pip install tables"
   ]
  },
  {
   "cell_type": "code",
   "execution_count": 2,
   "id": "3a133ee3",
   "metadata": {
    "execution": {
     "iopub.execute_input": "2022-12-22T11:04:55.089153Z",
     "iopub.status.busy": "2022-12-22T11:04:55.088266Z",
     "iopub.status.idle": "2022-12-22T11:04:56.522839Z",
     "shell.execute_reply": "2022-12-22T11:04:56.521524Z"
    },
    "papermill": {
     "duration": 1.450633,
     "end_time": "2022-12-22T11:04:56.525948",
     "exception": false,
     "start_time": "2022-12-22T11:04:55.075315",
     "status": "completed"
    },
    "tags": []
   },
   "outputs": [],
   "source": [
    "import os, gc, pickle, datetime, scipy.sparse\n",
    "import pandas as pd\n",
    "import matplotlib.pyplot as plt\n",
    "import numpy as np\n",
    "from colorama import Fore, Back, Style\n",
    "\n",
    "from sklearn.model_selection import GroupKFold\n",
    "from sklearn.preprocessing import StandardScaler\n",
    "from sklearn.decomposition import TruncatedSVD,PCA\n",
    "from sklearn.metrics import mean_squared_error\n",
    "\n",
    "import matplotlib.pyplot as plt\n",
    "from matplotlib.ticker import MaxNLocator\n",
    "import seaborn as sns\n",
    "from cycler import cycler\n",
    "from IPython.display import display\n",
    "\n",
    "import scipy.sparse"
   ]
  },
  {
   "cell_type": "code",
   "execution_count": 3,
   "id": "e1698517",
   "metadata": {
    "execution": {
     "iopub.execute_input": "2022-12-22T11:04:56.548636Z",
     "iopub.status.busy": "2022-12-22T11:04:56.548173Z",
     "iopub.status.idle": "2022-12-22T11:04:56.557063Z",
     "shell.execute_reply": "2022-12-22T11:04:56.555626Z"
    },
    "papermill": {
     "duration": 0.022743,
     "end_time": "2022-12-22T11:04:56.559802",
     "exception": false,
     "start_time": "2022-12-22T11:04:56.537059",
     "status": "completed"
    },
    "tags": []
   },
   "outputs": [],
   "source": [
    "# Directory of the data\n",
    "DATA_DIR = \"/kaggle/input/open-problems-multimodal/\"\n",
    "FP_CELL_METADATA = os.path.join(DATA_DIR,\"metadata.csv\")\n",
    "\n",
    "FP_CITE_TRAIN_INPUTS = os.path.join(DATA_DIR,\"train_cite_inputs.h5\")\n",
    "FP_CITE_TRAIN_TARGETS = os.path.join(DATA_DIR,\"train_cite_targets.h5\")\n",
    "FP_CITE_TEST_INPUTS = os.path.join(DATA_DIR,\"test_cite_inputs.h5\")\n",
    "\n",
    "FP_MULT_TRAIN_INPUTS = os.path.join(DATA_DIR,\"train_multi_inputs.h5\")\n",
    "FP_MULT_TRAIN_TARGETS = os.path.join(DATA_DIR,\"train_multi_targets.h5\")\n",
    "FP_MULT_TEST_INPUTS = os.path.join(DATA_DIR,\"test_multi_inputs.h5\")\n",
    "\n",
    "FP_MULT_TRAIN_TARGETS_idx = \"../input/multimodal-single-cell-as-sparse-matrix/train_multi_targets_idxcol.npz\"\n",
    "FP_MULT_TRAIN_TARGETS_sparse = \"../input/multimodal-single-cell-as-sparse-matrix/train_multi_targets_values.sparse.npz\"\n",
    "FP_MULT_TRAIN_INPUTS_idx = \"../input/multimodal-single-cell-as-sparse-matrix/train_multi_inputs_idxcol.npz\"\n",
    "FP_MULT_TRAIN_INPUTS_sparse = \"../input/multimodal-single-cell-as-sparse-matrix/train_multi_inputs_values.sparse.npz\"\n",
    "FP_MULT_TEST_INPUTS_idx = \"../input/multimodal-single-cell-as-sparse-matrix/test_multi_inputs_idxcol.npz\"\n",
    "FP_MULT_TEST_INPUTS_sparse = \"../input/multimodal-single-cell-as-sparse-matrix/test_multi_inputs_values.sparse.npz\"\n",
    "\n",
    "FP_SUBMISSION = os.path.join(DATA_DIR,\"sample_submission.csv\")\n",
    "FP_EVALUATION_IDS = os.path.join(DATA_DIR,\"evaluation_ids.csv\")\n",
    "\n",
    "FP_EVALUATION_IDS_parquet = \"../input/multimodal-single-cell-as-sparse-matrix/evaluation.parquet\"\n"
   ]
  },
  {
   "cell_type": "markdown",
   "id": "5aa4401d",
   "metadata": {
    "papermill": {
     "duration": 0.008983,
     "end_time": "2022-12-22T11:04:56.578370",
     "exception": false,
     "start_time": "2022-12-22T11:04:56.569387",
     "status": "completed"
    },
    "tags": []
   },
   "source": [
    "# Multiome\n",
    "\n",
    "Now the multiome portion begins\n",
    "\n",
    "Model from: https://www.kaggle.com/code/xiafire/msci-multiome-5-steps-x-5-folds-25-models"
   ]
  },
  {
   "cell_type": "markdown",
   "id": "f137c3ea",
   "metadata": {
    "papermill": {
     "duration": 0.008889,
     "end_time": "2022-12-22T11:04:56.596652",
     "exception": false,
     "start_time": "2022-12-22T11:04:56.587763",
     "status": "completed"
    },
    "tags": []
   },
   "source": [
    "## Load in the data"
   ]
  },
  {
   "cell_type": "code",
   "execution_count": 4,
   "id": "8eccd92e",
   "metadata": {
    "execution": {
     "iopub.execute_input": "2022-12-22T11:04:56.617863Z",
     "iopub.status.busy": "2022-12-22T11:04:56.617377Z",
     "iopub.status.idle": "2022-12-22T11:07:20.984457Z",
     "shell.execute_reply": "2022-12-22T11:07:20.980223Z"
    },
    "papermill": {
     "duration": 144.388125,
     "end_time": "2022-12-22T11:07:20.994270",
     "exception": false,
     "start_time": "2022-12-22T11:04:56.606145",
     "status": "completed"
    },
    "tags": []
   },
   "outputs": [
    {
     "name": "stdout",
     "output_type": "stream",
     "text": [
      "CPU times: user 1min 17s, sys: 8.82 s, total: 1min 26s\n",
      "Wall time: 2min 24s\n"
     ]
    }
   ],
   "source": [
    "%%time\n",
    "# 1 min 54 s\n",
    "\n",
    "train_inputs = scipy.sparse.load_npz(FP_MULT_TRAIN_INPUTS_sparse)\n",
    "train_inputs = train_inputs.astype('float16', copy=False)\n",
    "\n",
    "train_targets = scipy.sparse.load_npz(FP_MULT_TRAIN_TARGETS_sparse)\n",
    "\n",
    "test_inputs = scipy.sparse.load_npz(FP_MULT_TEST_INPUTS_sparse)\n",
    "\n",
    "\n",
    "train_target_cols = np.load(FP_MULT_TRAIN_TARGETS_idx,\n",
    "                    allow_pickle=True)[\"columns\"]\n",
    "\n",
    "test_input_rows = np.load(FP_MULT_TEST_INPUTS_idx,\n",
    "                  allow_pickle=True)[\"index\"]"
   ]
  },
  {
   "cell_type": "markdown",
   "id": "b69a152b",
   "metadata": {
    "papermill": {
     "duration": 0.008699,
     "end_time": "2022-12-22T11:07:21.012015",
     "exception": false,
     "start_time": "2022-12-22T11:07:21.003316",
     "status": "completed"
    },
    "tags": []
   },
   "source": [
    "## Perform SVD"
   ]
  },
  {
   "cell_type": "code",
   "execution_count": 5,
   "id": "c75ae9fc",
   "metadata": {
    "execution": {
     "iopub.execute_input": "2022-12-22T11:07:21.032213Z",
     "iopub.status.busy": "2022-12-22T11:07:21.031726Z",
     "iopub.status.idle": "2022-12-22T11:07:21.039232Z",
     "shell.execute_reply": "2022-12-22T11:07:21.037982Z"
    },
    "papermill": {
     "duration": 0.021282,
     "end_time": "2022-12-22T11:07:21.042146",
     "exception": false,
     "start_time": "2022-12-22T11:07:21.020864",
     "status": "completed"
    },
    "tags": []
   },
   "outputs": [],
   "source": [
    "num_components = 128 # this will be the setting for n_components\n",
    "random_state_num = 4060 # random state number"
   ]
  },
  {
   "cell_type": "code",
   "execution_count": 6,
   "id": "d162cfd0",
   "metadata": {
    "execution": {
     "iopub.execute_input": "2022-12-22T11:07:21.062451Z",
     "iopub.status.busy": "2022-12-22T11:07:21.061983Z",
     "iopub.status.idle": "2022-12-22T11:31:35.566679Z",
     "shell.execute_reply": "2022-12-22T11:31:35.564419Z"
    },
    "papermill": {
     "duration": 1454.531211,
     "end_time": "2022-12-22T11:31:35.582626",
     "exception": false,
     "start_time": "2022-12-22T11:07:21.051415",
     "status": "completed"
    },
    "tags": []
   },
   "outputs": [
    {
     "name": "stdout",
     "output_type": "stream",
     "text": [
      "0.011000143\n",
      "CPU times: user 24min 20s, sys: 21.9 s, total: 24min 42s\n",
      "Wall time: 24min 14s\n"
     ]
    }
   ],
   "source": [
    "%%time\n",
    "# 34 minutes 24 seconds\n",
    "\n",
    "# reduce the dimensionality of the training inputs\n",
    "pca_inputs = TruncatedSVD(n_components=num_components, random_state=random_state_num)\n",
    "train_inputs = pca_inputs.fit_transform(train_inputs)\n",
    "\n",
    "print(pca_inputs.explained_variance_ratio_.sum())"
   ]
  },
  {
   "cell_type": "code",
   "execution_count": 7,
   "id": "c17e4f93",
   "metadata": {
    "execution": {
     "iopub.execute_input": "2022-12-22T11:31:35.604398Z",
     "iopub.status.busy": "2022-12-22T11:31:35.603419Z",
     "iopub.status.idle": "2022-12-22T11:36:54.829462Z",
     "shell.execute_reply": "2022-12-22T11:36:54.828271Z"
    },
    "papermill": {
     "duration": 319.250368,
     "end_time": "2022-12-22T11:36:54.841961",
     "exception": false,
     "start_time": "2022-12-22T11:31:35.591593",
     "status": "completed"
    },
    "tags": []
   },
   "outputs": [
    {
     "name": "stdout",
     "output_type": "stream",
     "text": [
      "0.117797665\n",
      "CPU times: user 5min 23s, sys: 5.9 s, total: 5min 29s\n",
      "Wall time: 5min 19s\n"
     ]
    }
   ],
   "source": [
    "%%time\n",
    "# 5 minutes 58 seconds\n",
    "\n",
    "# Reduce the dimensionality of the training targets\n",
    "pca_targets = TruncatedSVD(n_components=num_components, random_state=random_state_num)\n",
    "train_target = pca_targets.fit_transform(train_targets)\n",
    "print(pca_targets.explained_variance_ratio_.sum())"
   ]
  },
  {
   "cell_type": "markdown",
   "id": "03d857dd",
   "metadata": {
    "papermill": {
     "duration": 0.009193,
     "end_time": "2022-12-22T11:36:54.860555",
     "exception": false,
     "start_time": "2022-12-22T11:36:54.851362",
     "status": "completed"
    },
    "tags": []
   },
   "source": [
    "## Multiome learning model\n",
    "\n",
    "From: https://www.kaggle.com/code/xiafire/msci-multiome-5-steps-x-5-folds-25-models"
   ]
  },
  {
   "cell_type": "code",
   "execution_count": 8,
   "id": "aedc3521",
   "metadata": {
    "execution": {
     "iopub.execute_input": "2022-12-22T11:36:54.881380Z",
     "iopub.status.busy": "2022-12-22T11:36:54.880936Z",
     "iopub.status.idle": "2022-12-22T11:36:54.913593Z",
     "shell.execute_reply": "2022-12-22T11:36:54.912188Z"
    },
    "papermill": {
     "duration": 0.047121,
     "end_time": "2022-12-22T11:36:54.917043",
     "exception": false,
     "start_time": "2022-12-22T11:36:54.869922",
     "status": "completed"
    },
    "tags": []
   },
   "outputs": [],
   "source": [
    "# Use kernel ridge regression\n",
    "from sklearn.gaussian_process.kernels import RBF\n",
    "from sklearn.kernel_ridge import KernelRidge\n",
    "kernel = RBF(length_scale = 10)\n",
    "krr = KernelRidge(alpha=0.2, kernel=kernel)"
   ]
  },
  {
   "cell_type": "code",
   "execution_count": 9,
   "id": "530c28f5",
   "metadata": {
    "execution": {
     "iopub.execute_input": "2022-12-22T11:36:54.938133Z",
     "iopub.status.busy": "2022-12-22T11:36:54.937650Z",
     "iopub.status.idle": "2022-12-22T11:36:54.942722Z",
     "shell.execute_reply": "2022-12-22T11:36:54.941448Z"
    },
    "papermill": {
     "duration": 0.018536,
     "end_time": "2022-12-22T11:36:54.945214",
     "exception": false,
     "start_time": "2022-12-22T11:36:54.926678",
     "status": "completed"
    },
    "tags": []
   },
   "outputs": [],
   "source": [
    "n = 5 # 5 folds"
   ]
  },
  {
   "cell_type": "markdown",
   "id": "4b8e1b37",
   "metadata": {
    "papermill": {
     "duration": 0.009055,
     "end_time": "2022-12-22T11:36:54.963942",
     "exception": false,
     "start_time": "2022-12-22T11:36:54.954887",
     "status": "completed"
    },
    "tags": []
   },
   "source": [
    "correlation score from MSCI CITEseq Keras Quickstart by AMBROSM"
   ]
  },
  {
   "cell_type": "code",
   "execution_count": 10,
   "id": "136d1355",
   "metadata": {
    "execution": {
     "iopub.execute_input": "2022-12-22T11:36:54.984796Z",
     "iopub.status.busy": "2022-12-22T11:36:54.984242Z",
     "iopub.status.idle": "2022-12-22T11:36:54.994823Z",
     "shell.execute_reply": "2022-12-22T11:36:54.993515Z"
    },
    "papermill": {
     "duration": 0.024553,
     "end_time": "2022-12-22T11:36:54.997918",
     "exception": false,
     "start_time": "2022-12-22T11:36:54.973365",
     "status": "completed"
    },
    "tags": []
   },
   "outputs": [],
   "source": [
    "def correlation_score(y_true, y_pred):\n",
    "    \"\"\"Scores the predictions according to the competition rules. \n",
    "    \n",
    "    It is assumed that the predictions are not constant.\n",
    "    \n",
    "    Returns the average of each sample's Pearson correlation coefficient\"\"\"\n",
    "    if type(y_true) == pd.DataFrame: y_true = y_true.values\n",
    "    if type(y_pred) == pd.DataFrame: y_pred = y_pred.values\n",
    "    if y_true.shape != y_pred.shape: raise ValueError(\"Shapes are different.\")\n",
    "    corrsum = 0\n",
    "    for i in range(len(y_true)):\n",
    "        corrsum += np.corrcoef(y_true[i], y_pred[i])[1, 0]\n",
    "    return corrsum / len(y_true)"
   ]
  },
  {
   "cell_type": "code",
   "execution_count": 11,
   "id": "e4322477",
   "metadata": {
    "execution": {
     "iopub.execute_input": "2022-12-22T11:36:55.020655Z",
     "iopub.status.busy": "2022-12-22T11:36:55.020240Z",
     "iopub.status.idle": "2022-12-22T12:13:09.826601Z",
     "shell.execute_reply": "2022-12-22T12:13:09.825358Z"
    },
    "papermill": {
     "duration": 2174.834573,
     "end_time": "2022-12-22T12:13:09.843273",
     "exception": false,
     "start_time": "2022-12-22T11:36:55.008700",
     "status": "completed"
    },
    "tags": []
   },
   "outputs": [
    {
     "name": "stdout",
     "output_type": "stream",
     "text": [
      "start [0:21188]\n",
      "Train...\n",
      "0 0.6676727468925469\n",
      "Train...\n",
      "1 0.6678320190259386\n",
      "Train...\n",
      "2 0.6676293676935088\n",
      "Train...\n",
      "3 0.6668018392232067\n",
      "Train...\n",
      "4 0.6675136946502929\n",
      "start [21188:42376]\n",
      "Train...\n",
      "5 0.6670241644104904\n",
      "Train...\n",
      "6 0.6663319766976489\n",
      "Train...\n",
      "7 0.6683778637199231\n",
      "Train...\n",
      "8 0.6670932086526736\n",
      "Train...\n",
      "9 0.6673672756506956\n",
      "start [42376:63564]\n",
      "Train...\n",
      "10 0.667226487170204\n",
      "Train...\n",
      "11 0.666734964689098\n",
      "Train...\n",
      "12 0.6661706872690037\n",
      "Train...\n",
      "13 0.6672669159425553\n",
      "Train...\n",
      "14 0.6672535444828195\n",
      "start [63564:84752]\n",
      "Train...\n",
      "15 0.6671731090709904\n",
      "Train...\n",
      "16 0.6676842566176582\n",
      "Train...\n",
      "17 0.6654245963939633\n",
      "Train...\n",
      "18 0.6672898039846825\n",
      "Train...\n",
      "19 0.6679875543340067\n",
      "start [84752:105940]\n",
      "Train...\n",
      "20 0.6677907016223873\n",
      "Train...\n",
      "21 0.6677506240283801\n",
      "Train...\n",
      "22 0.6669268101500415\n",
      "Train...\n",
      "23 0.6685467253060617\n",
      "Train...\n",
      "24 0.6699420190388119\n",
      "CPU times: user 1h 10min 40s, sys: 4min 28s, total: 1h 15min 8s\n",
      "Wall time: 36min 14s\n"
     ]
    }
   ],
   "source": [
    "%%time\n",
    "# 47 min 59 s\n",
    "\n",
    "# Perform training\n",
    "from sklearn.model_selection import KFold\n",
    "import os, gc, pickle\n",
    "\n",
    "np.random.seed(random_state_num)\n",
    "all_row_indices = np.arange(train_inputs.shape[0])\n",
    "np.random.shuffle(all_row_indices)\n",
    "\n",
    "kf = KFold(n_splits=5, shuffle=True, random_state=random_state_num)\n",
    "\n",
    "index = 0\n",
    "score = []\n",
    "\n",
    "d = train_inputs.shape[0]//n\n",
    "for i in range(0, n*d, d):\n",
    "    print(f'start [{i}:{i+d}]')\n",
    "    ind = all_row_indices[i:i+d]    \n",
    "    for idx_tr, idx_va in kf.split(ind):\n",
    "        X = train_inputs[ind]\n",
    "        Y = train_target[ind] #.todense()\n",
    "        Yva = train_targets[ind][idx_va]\n",
    "        Xtr, Xva = X[idx_tr], X[idx_va]\n",
    "        Ytr = Y[idx_tr]\n",
    "        del X, Y\n",
    "        gc.collect()\n",
    "        \n",
    "        print('Train...')\n",
    "        model = krr #Ridge(copy_X=False)\n",
    "        model.fit(Xtr, Ytr)\n",
    "        del Xtr, Ytr\n",
    "        gc.collect()\n",
    "        \n",
    "        s = correlation_score(Yva.todense(), model.predict(Xva)@pca_targets.components_)\n",
    "        score.append(s)\n",
    "        print(index, s)\n",
    "        del Xva, Yva\n",
    "        gc.collect()\n",
    "        \n",
    "        pkl_filename = f\"model{index:02d}.pkl\"\n",
    "        index += 1\n",
    "        with open(pkl_filename, 'wb') as file:\n",
    "            pickle.dump(model, file)\n",
    "    gc.collect()"
   ]
  },
  {
   "cell_type": "code",
   "execution_count": 12,
   "id": "1397872a",
   "metadata": {
    "execution": {
     "iopub.execute_input": "2022-12-22T12:13:09.871974Z",
     "iopub.status.busy": "2022-12-22T12:13:09.871550Z",
     "iopub.status.idle": "2022-12-22T12:13:10.087507Z",
     "shell.execute_reply": "2022-12-22T12:13:10.085537Z"
    },
    "papermill": {
     "duration": 0.234146,
     "end_time": "2022-12-22T12:13:10.091302",
     "exception": false,
     "start_time": "2022-12-22T12:13:09.857156",
     "status": "completed"
    },
    "tags": []
   },
   "outputs": [
    {
     "data": {
      "text/plain": [
       "21"
      ]
     },
     "execution_count": 12,
     "metadata": {},
     "output_type": "execute_result"
    }
   ],
   "source": [
    "# Delete variables to free up space\n",
    "del train_inputs # Multiome training data, has SVD applied (inputs)\n",
    "del train_targets # Multiome training data, no SVD applied (targets)\n",
    "del train_target # Multiome training data after SVD (targets)\n",
    "gc.collect()"
   ]
  },
  {
   "cell_type": "markdown",
   "id": "e3206d5a",
   "metadata": {
    "papermill": {
     "duration": 0.012594,
     "end_time": "2022-12-22T12:13:10.116957",
     "exception": false,
     "start_time": "2022-12-22T12:13:10.104363",
     "status": "completed"
    },
    "tags": []
   },
   "source": [
    "## Predictions for multiome"
   ]
  },
  {
   "cell_type": "code",
   "execution_count": 13,
   "id": "a9b8b8d4",
   "metadata": {
    "execution": {
     "iopub.execute_input": "2022-12-22T12:13:10.148293Z",
     "iopub.status.busy": "2022-12-22T12:13:10.147475Z",
     "iopub.status.idle": "2022-12-22T12:13:55.971248Z",
     "shell.execute_reply": "2022-12-22T12:13:55.969870Z"
    },
    "papermill": {
     "duration": 45.854132,
     "end_time": "2022-12-22T12:13:55.986795",
     "exception": false,
     "start_time": "2022-12-22T12:13:10.132663",
     "status": "completed"
    },
    "tags": []
   },
   "outputs": [
    {
     "name": "stdout",
     "output_type": "stream",
     "text": [
      "CPU times: user 45.7 s, sys: 100 ms, total: 45.8 s\n",
      "Wall time: 45.8 s\n"
     ]
    }
   ],
   "source": [
    "%%time\n",
    "# 1 min 12 s\n",
    "\n",
    "# For test inputs, match the pca transform of the training inputs\n",
    "test_inputs = pca_inputs.transform(test_inputs)"
   ]
  },
  {
   "cell_type": "code",
   "execution_count": 14,
   "id": "51b9d5a8",
   "metadata": {
    "execution": {
     "iopub.execute_input": "2022-12-22T12:13:56.015871Z",
     "iopub.status.busy": "2022-12-22T12:13:56.015445Z",
     "iopub.status.idle": "2022-12-22T12:13:56.147808Z",
     "shell.execute_reply": "2022-12-22T12:13:56.146330Z"
    },
    "papermill": {
     "duration": 0.150691,
     "end_time": "2022-12-22T12:13:56.150419",
     "exception": false,
     "start_time": "2022-12-22T12:13:55.999728",
     "status": "completed"
    },
    "tags": []
   },
   "outputs": [
    {
     "name": "stdout",
     "output_type": "stream",
     "text": [
      "CPU times: user 122 ms, sys: 1.01 ms, total: 123 ms\n",
      "Wall time: 122 ms\n"
     ]
    },
    {
     "data": {
      "text/plain": [
       "42"
      ]
     },
     "execution_count": 14,
     "metadata": {},
     "output_type": "execute_result"
    }
   ],
   "source": [
    "%%time\n",
    "# less than a second\n",
    "\n",
    "test_len = test_inputs.shape[0]\n",
    "d = test_len//n\n",
    "x = []\n",
    "for i in range(n):\n",
    "    x.append(test_inputs[i*d:i*d+d])\n",
    "    \n",
    "del test_inputs\n",
    "gc.collect()"
   ]
  },
  {
   "cell_type": "code",
   "execution_count": 15,
   "id": "b4ebfc3b",
   "metadata": {
    "execution": {
     "iopub.execute_input": "2022-12-22T12:13:56.178461Z",
     "iopub.status.busy": "2022-12-22T12:13:56.178013Z",
     "iopub.status.idle": "2022-12-22T13:19:34.329665Z",
     "shell.execute_reply": "2022-12-22T13:19:34.328738Z"
    },
    "papermill": {
     "duration": 3938.191169,
     "end_time": "2022-12-22T13:19:34.354689",
     "exception": false,
     "start_time": "2022-12-22T12:13:56.163520",
     "status": "completed"
    },
    "tags": []
   },
   "outputs": [
    {
     "name": "stdout",
     "output_type": "stream",
     "text": [
      "0 1 2 3 4 5 6 7 8 9 10 11 12 13 14 15 16 17 18 19 20 21 22 23 24 \n",
      "0 1 2 3 4 5 6 7 8 9 10 11 12 13 14 15 16 17 18 19 20 21 22 23 24 \n",
      "0 1 2 3 4 5 6 7 8 9 10 11 12 13 14 15 16 17 18 19 20 21 22 23 24 \n",
      "0 1 2 3 4 5 6 7 8 9 10 11 12 13 14 15 16 17 18 19 20 21 22 23 24 \n",
      "0 1 2 3 4 5 6 7 8 9 10 11 12 13 14 15 16 17 18 19 20 21 22 23 24 \n",
      "CPU times: user 1h 16min 39s, sys: 6min 3s, total: 1h 22min 43s\n",
      "Wall time: 1h 5min 38s\n"
     ]
    },
    {
     "data": {
      "text/plain": [
       "0"
      ]
     },
     "execution_count": 15,
     "metadata": {},
     "output_type": "execute_result"
    }
   ],
   "source": [
    "%%time\n",
    "# 1 h 34 min 47 s\n",
    "\n",
    "preds = np.zeros((test_len, 23418), dtype='float16')\n",
    "for i,xx in enumerate(x):\n",
    "    for ind in range(index): # index gives the number of models (25)\n",
    "        print(ind, end=' ')\n",
    "        with open(f'model{ind:02}.pkl', 'rb') as file:\n",
    "            model = pickle.load(file)\n",
    "        preds[i*d:i*d+d,:] += (model.predict(xx)@pca_targets.components_)/index\n",
    "        gc.collect()\n",
    "    print('')\n",
    "    del xx\n",
    "gc.collect()"
   ]
  },
  {
   "cell_type": "code",
   "execution_count": 16,
   "id": "cc2e5877",
   "metadata": {
    "execution": {
     "iopub.execute_input": "2022-12-22T13:19:34.401954Z",
     "iopub.status.busy": "2022-12-22T13:19:34.400731Z",
     "iopub.status.idle": "2022-12-22T13:19:34.529815Z",
     "shell.execute_reply": "2022-12-22T13:19:34.527947Z"
    },
    "papermill": {
     "duration": 0.15626,
     "end_time": "2022-12-22T13:19:34.533190",
     "exception": false,
     "start_time": "2022-12-22T13:19:34.376930",
     "status": "completed"
    },
    "tags": []
   },
   "outputs": [
    {
     "data": {
      "text/plain": [
       "21"
      ]
     },
     "execution_count": 16,
     "metadata": {},
     "output_type": "execute_result"
    }
   ],
   "source": [
    "del x\n",
    "gc.collect()"
   ]
  },
  {
   "cell_type": "code",
   "execution_count": 17,
   "id": "7dbf7e37",
   "metadata": {
    "execution": {
     "iopub.execute_input": "2022-12-22T13:19:34.578862Z",
     "iopub.status.busy": "2022-12-22T13:19:34.578439Z",
     "iopub.status.idle": "2022-12-22T13:19:37.262570Z",
     "shell.execute_reply": "2022-12-22T13:19:37.260640Z"
    },
    "papermill": {
     "duration": 2.711353,
     "end_time": "2022-12-22T13:19:37.266202",
     "exception": false,
     "start_time": "2022-12-22T13:19:34.554849",
     "status": "completed"
    },
    "tags": []
   },
   "outputs": [
    {
     "name": "stdout",
     "output_type": "stream",
     "text": [
      "CPU times: user 3.69 ms, sys: 2.67 s, total: 2.67 s\n",
      "Wall time: 2.68 s\n"
     ]
    }
   ],
   "source": [
    "%%time\n",
    "# 4.38 s\n",
    "np.save('preds.npy', preds) # save predictions"
   ]
  },
  {
   "cell_type": "code",
   "execution_count": 18,
   "id": "d405e389",
   "metadata": {
    "execution": {
     "iopub.execute_input": "2022-12-22T13:19:37.321472Z",
     "iopub.status.busy": "2022-12-22T13:19:37.320628Z",
     "iopub.status.idle": "2022-12-22T13:19:37.344019Z",
     "shell.execute_reply": "2022-12-22T13:19:37.342735Z"
    },
    "papermill": {
     "duration": 0.051708,
     "end_time": "2022-12-22T13:19:37.347566",
     "exception": false,
     "start_time": "2022-12-22T13:19:37.295858",
     "status": "completed"
    },
    "tags": []
   },
   "outputs": [
    {
     "name": "stdout",
     "output_type": "stream",
     "text": [
      "CPU times: user 49 µs, sys: 3 µs, total: 52 µs\n",
      "Wall time: 57.5 µs\n"
     ]
    },
    {
     "data": {
      "text/plain": [
       "array([[0.87  , 0.376 , 0.2837, ..., 0.9976, 1.639 , 2.848 ],\n",
       "       [0.854 , 0.4656, 0.6665, ..., 1.777 , 1.911 , 3.057 ],\n",
       "       [0.7783, 0.3435, 0.5366, ..., 1.157 , 1.488 , 2.514 ],\n",
       "       ...,\n",
       "       [0.331 , 0.3623, 0.4385, ..., 1.342 , 0.8057, 2.613 ],\n",
       "       [0.3745, 0.3857, 0.3699, ..., 1.508 , 1.228 , 2.865 ],\n",
       "       [0.8774, 0.6597, 0.2416, ..., 1.897 , 5.94  , 4.633 ]],\n",
       "      dtype=float16)"
      ]
     },
     "execution_count": 18,
     "metadata": {},
     "output_type": "execute_result"
    }
   ],
   "source": [
    "%%time\n",
    "# less than a minute\n",
    "preds = preds.astype('float16', copy=False)\n",
    "preds"
   ]
  },
  {
   "cell_type": "markdown",
   "id": "d7499319",
   "metadata": {
    "papermill": {
     "duration": 0.022619,
     "end_time": "2022-12-22T13:19:37.395100",
     "exception": false,
     "start_time": "2022-12-22T13:19:37.372481",
     "status": "completed"
    },
    "tags": []
   },
   "source": [
    "## Submission format and save"
   ]
  },
  {
   "cell_type": "code",
   "execution_count": 19,
   "id": "5999071e",
   "metadata": {
    "execution": {
     "iopub.execute_input": "2022-12-22T13:19:37.442106Z",
     "iopub.status.busy": "2022-12-22T13:19:37.441600Z",
     "iopub.status.idle": "2022-12-22T13:20:23.207927Z",
     "shell.execute_reply": "2022-12-22T13:20:23.206185Z"
    },
    "papermill": {
     "duration": 45.816691,
     "end_time": "2022-12-22T13:20:23.234445",
     "exception": false,
     "start_time": "2022-12-22T13:19:37.417754",
     "status": "completed"
    },
    "tags": []
   },
   "outputs": [
    {
     "name": "stdout",
     "output_type": "stream",
     "text": [
      "CPU times: user 32.6 s, sys: 17.2 s, total: 49.8 s\n",
      "Wall time: 45.8 s\n"
     ]
    }
   ],
   "source": [
    "%%time\n",
    "# 42 seconds\n",
    "\n",
    "# Read the table of rows and columns required for submission\n",
    "eval_ids = pd.read_parquet(FP_EVALUATION_IDS_parquet)\n",
    "# Convert the string columns to more efficient categorical types\n",
    "#eval_ids.cell_id = eval_ids.cell_id.apply(lambda s: int(s, base=16))\n",
    "eval_ids.cell_id = eval_ids.cell_id.astype(pd.CategoricalDtype())\n",
    "eval_ids.gene_id = eval_ids.gene_id.astype(pd.CategoricalDtype())"
   ]
  },
  {
   "cell_type": "code",
   "execution_count": 20,
   "id": "68ebb6aa",
   "metadata": {
    "execution": {
     "iopub.execute_input": "2022-12-22T13:20:23.281817Z",
     "iopub.status.busy": "2022-12-22T13:20:23.280911Z",
     "iopub.status.idle": "2022-12-22T13:20:53.193563Z",
     "shell.execute_reply": "2022-12-22T13:20:53.192300Z"
    },
    "papermill": {
     "duration": 29.94009,
     "end_time": "2022-12-22T13:20:53.196069",
     "exception": false,
     "start_time": "2022-12-22T13:20:23.255979",
     "status": "completed"
    },
    "tags": []
   },
   "outputs": [
    {
     "data": {
      "text/plain": [
       "row_id    cell_id       gene_id        \n",
       "0         c2150f55becb  CD86              NaN\n",
       "1         c2150f55becb  CD274             NaN\n",
       "2         c2150f55becb  CD270             NaN\n",
       "3         c2150f55becb  CD155             NaN\n",
       "4         c2150f55becb  CD112             NaN\n",
       "                                           ..\n",
       "65744175  2c53aa67933d  ENSG00000134419   NaN\n",
       "65744176  2c53aa67933d  ENSG00000186862   NaN\n",
       "65744177  2c53aa67933d  ENSG00000170959   NaN\n",
       "65744178  2c53aa67933d  ENSG00000107874   NaN\n",
       "65744179  2c53aa67933d  ENSG00000166012   NaN\n",
       "Name: target, Length: 65744180, dtype: float32"
      ]
     },
     "execution_count": 20,
     "metadata": {},
     "output_type": "execute_result"
    }
   ],
   "source": [
    "# Prepare an empty series which will be filled with predictions\n",
    "submission = pd.Series(name='target',\n",
    "                       index=pd.MultiIndex.from_frame(eval_ids), \n",
    "                       dtype=np.float32)\n",
    "submission"
   ]
  },
  {
   "cell_type": "code",
   "execution_count": 21,
   "id": "9e3c5d4b",
   "metadata": {
    "execution": {
     "iopub.execute_input": "2022-12-22T13:20:53.240717Z",
     "iopub.status.busy": "2022-12-22T13:20:53.240056Z",
     "iopub.status.idle": "2022-12-22T13:20:53.284324Z",
     "shell.execute_reply": "2022-12-22T13:20:53.282987Z"
    },
    "papermill": {
     "duration": 0.069504,
     "end_time": "2022-12-22T13:20:53.286658",
     "exception": false,
     "start_time": "2022-12-22T13:20:53.217154",
     "status": "completed"
    },
    "tags": []
   },
   "outputs": [
    {
     "name": "stdout",
     "output_type": "stream",
     "text": [
      "CPU times: user 33.1 ms, sys: 2.96 ms, total: 36 ms\n",
      "Wall time: 36.1 ms\n"
     ]
    }
   ],
   "source": [
    "%%time\n",
    "# 34.5 ms\n",
    "\n",
    "cell_dict = dict((k,v) for v,k in enumerate(test_input_rows)) \n",
    "assert len(cell_dict)  == len(test_input_rows)\n",
    "\n",
    "gene_dict = dict((k,v) for v,k in enumerate(train_target_cols))\n",
    "assert len(gene_dict) == len(train_target_cols)"
   ]
  },
  {
   "cell_type": "code",
   "execution_count": 22,
   "id": "81ee3c6d",
   "metadata": {
    "execution": {
     "iopub.execute_input": "2022-12-22T13:20:53.331995Z",
     "iopub.status.busy": "2022-12-22T13:20:53.331321Z",
     "iopub.status.idle": "2022-12-22T13:20:55.853305Z",
     "shell.execute_reply": "2022-12-22T13:20:55.851356Z"
    },
    "papermill": {
     "duration": 2.548061,
     "end_time": "2022-12-22T13:20:55.856186",
     "exception": false,
     "start_time": "2022-12-22T13:20:53.308125",
     "status": "completed"
    },
    "tags": []
   },
   "outputs": [
    {
     "name": "stdout",
     "output_type": "stream",
     "text": [
      "CPU times: user 1.64 s, sys: 1.16 s, total: 2.8 s\n",
      "Wall time: 2.51 s\n"
     ]
    }
   ],
   "source": [
    "%%time\n",
    "# 2.92 s\n",
    "\n",
    "eval_ids_cell_num = eval_ids.cell_id.apply(lambda x:cell_dict.get(x, -1))\n",
    "eval_ids_gene_num = eval_ids.gene_id.apply(lambda x:gene_dict.get(x, -1))\n",
    "\n",
    "valid_multi_rows = (eval_ids_gene_num !=-1) & (eval_ids_cell_num!=-1)"
   ]
  },
  {
   "cell_type": "code",
   "execution_count": 23,
   "id": "bd9c5936",
   "metadata": {
    "execution": {
     "iopub.execute_input": "2022-12-22T13:20:55.902294Z",
     "iopub.status.busy": "2022-12-22T13:20:55.901114Z",
     "iopub.status.idle": "2022-12-22T13:20:58.252561Z",
     "shell.execute_reply": "2022-12-22T13:20:58.250964Z"
    },
    "papermill": {
     "duration": 2.378249,
     "end_time": "2022-12-22T13:20:58.256103",
     "exception": false,
     "start_time": "2022-12-22T13:20:55.877854",
     "status": "completed"
    },
    "tags": []
   },
   "outputs": [
    {
     "name": "stdout",
     "output_type": "stream",
     "text": [
      "CPU times: user 1.72 s, sys: 625 ms, total: 2.34 s\n",
      "Wall time: 2.34 s\n"
     ]
    }
   ],
   "source": [
    "%%time\n",
    "# 4.78 s\n",
    "\n",
    "submission.iloc[valid_multi_rows] = preds[eval_ids_cell_num[valid_multi_rows].to_numpy(),\n",
    "eval_ids_gene_num[valid_multi_rows].to_numpy()]"
   ]
  },
  {
   "cell_type": "code",
   "execution_count": 24,
   "id": "7f510c80",
   "metadata": {
    "execution": {
     "iopub.execute_input": "2022-12-22T13:20:58.302406Z",
     "iopub.status.busy": "2022-12-22T13:20:58.301035Z",
     "iopub.status.idle": "2022-12-22T13:20:58.480598Z",
     "shell.execute_reply": "2022-12-22T13:20:58.479616Z"
    },
    "papermill": {
     "duration": 0.204754,
     "end_time": "2022-12-22T13:20:58.482817",
     "exception": false,
     "start_time": "2022-12-22T13:20:58.278063",
     "status": "completed"
    },
    "tags": []
   },
   "outputs": [
    {
     "data": {
      "text/plain": [
       "55"
      ]
     },
     "execution_count": 24,
     "metadata": {},
     "output_type": "execute_result"
    }
   ],
   "source": [
    "del eval_ids_cell_num, eval_ids_gene_num, valid_multi_rows, eval_ids, test_input_rows, train_target_cols\n",
    "gc.collect()"
   ]
  },
  {
   "cell_type": "code",
   "execution_count": 25,
   "id": "1b070468",
   "metadata": {
    "execution": {
     "iopub.execute_input": "2022-12-22T13:20:58.527545Z",
     "iopub.status.busy": "2022-12-22T13:20:58.526195Z",
     "iopub.status.idle": "2022-12-22T13:20:58.541277Z",
     "shell.execute_reply": "2022-12-22T13:20:58.539857Z"
    },
    "papermill": {
     "duration": 0.040106,
     "end_time": "2022-12-22T13:20:58.543816",
     "exception": false,
     "start_time": "2022-12-22T13:20:58.503710",
     "status": "completed"
    },
    "tags": []
   },
   "outputs": [
    {
     "data": {
      "text/plain": [
       "row_id    cell_id       gene_id        \n",
       "0         c2150f55becb  CD86                    NaN\n",
       "1         c2150f55becb  CD274                   NaN\n",
       "2         c2150f55becb  CD270                   NaN\n",
       "3         c2150f55becb  CD155                   NaN\n",
       "4         c2150f55becb  CD112                   NaN\n",
       "                                             ...   \n",
       "65744175  2c53aa67933d  ENSG00000134419    9.453125\n",
       "65744176  2c53aa67933d  ENSG00000186862    0.062561\n",
       "65744177  2c53aa67933d  ENSG00000170959    0.077026\n",
       "65744178  2c53aa67933d  ENSG00000107874    1.852539\n",
       "65744179  2c53aa67933d  ENSG00000166012    8.085938\n",
       "Name: target, Length: 65744180, dtype: float32"
      ]
     },
     "execution_count": 25,
     "metadata": {},
     "output_type": "execute_result"
    }
   ],
   "source": [
    "submission"
   ]
  },
  {
   "cell_type": "code",
   "execution_count": 26,
   "id": "e6d9b431",
   "metadata": {
    "execution": {
     "iopub.execute_input": "2022-12-22T13:20:58.589338Z",
     "iopub.status.busy": "2022-12-22T13:20:58.588499Z",
     "iopub.status.idle": "2022-12-22T13:21:01.114679Z",
     "shell.execute_reply": "2022-12-22T13:21:01.113628Z"
    },
    "papermill": {
     "duration": 2.551419,
     "end_time": "2022-12-22T13:21:01.117035",
     "exception": false,
     "start_time": "2022-12-22T13:20:58.565616",
     "status": "completed"
    },
    "tags": []
   },
   "outputs": [
    {
     "data": {
      "text/html": [
       "<div>\n",
       "<style scoped>\n",
       "    .dataframe tbody tr th:only-of-type {\n",
       "        vertical-align: middle;\n",
       "    }\n",
       "\n",
       "    .dataframe tbody tr th {\n",
       "        vertical-align: top;\n",
       "    }\n",
       "\n",
       "    .dataframe thead th {\n",
       "        text-align: right;\n",
       "    }\n",
       "</style>\n",
       "<table border=\"1\" class=\"dataframe\">\n",
       "  <thead>\n",
       "    <tr style=\"text-align: right;\">\n",
       "      <th></th>\n",
       "      <th>row_id</th>\n",
       "      <th>cell_id</th>\n",
       "      <th>gene_id</th>\n",
       "      <th>target</th>\n",
       "    </tr>\n",
       "  </thead>\n",
       "  <tbody>\n",
       "    <tr>\n",
       "      <th>0</th>\n",
       "      <td>0</td>\n",
       "      <td>c2150f55becb</td>\n",
       "      <td>CD86</td>\n",
       "      <td>NaN</td>\n",
       "    </tr>\n",
       "    <tr>\n",
       "      <th>1</th>\n",
       "      <td>1</td>\n",
       "      <td>c2150f55becb</td>\n",
       "      <td>CD274</td>\n",
       "      <td>NaN</td>\n",
       "    </tr>\n",
       "    <tr>\n",
       "      <th>2</th>\n",
       "      <td>2</td>\n",
       "      <td>c2150f55becb</td>\n",
       "      <td>CD270</td>\n",
       "      <td>NaN</td>\n",
       "    </tr>\n",
       "    <tr>\n",
       "      <th>3</th>\n",
       "      <td>3</td>\n",
       "      <td>c2150f55becb</td>\n",
       "      <td>CD155</td>\n",
       "      <td>NaN</td>\n",
       "    </tr>\n",
       "    <tr>\n",
       "      <th>4</th>\n",
       "      <td>4</td>\n",
       "      <td>c2150f55becb</td>\n",
       "      <td>CD112</td>\n",
       "      <td>NaN</td>\n",
       "    </tr>\n",
       "    <tr>\n",
       "      <th>...</th>\n",
       "      <td>...</td>\n",
       "      <td>...</td>\n",
       "      <td>...</td>\n",
       "      <td>...</td>\n",
       "    </tr>\n",
       "    <tr>\n",
       "      <th>65744175</th>\n",
       "      <td>65744175</td>\n",
       "      <td>2c53aa67933d</td>\n",
       "      <td>ENSG00000134419</td>\n",
       "      <td>9.453125</td>\n",
       "    </tr>\n",
       "    <tr>\n",
       "      <th>65744176</th>\n",
       "      <td>65744176</td>\n",
       "      <td>2c53aa67933d</td>\n",
       "      <td>ENSG00000186862</td>\n",
       "      <td>0.062561</td>\n",
       "    </tr>\n",
       "    <tr>\n",
       "      <th>65744177</th>\n",
       "      <td>65744177</td>\n",
       "      <td>2c53aa67933d</td>\n",
       "      <td>ENSG00000170959</td>\n",
       "      <td>0.077026</td>\n",
       "    </tr>\n",
       "    <tr>\n",
       "      <th>65744178</th>\n",
       "      <td>65744178</td>\n",
       "      <td>2c53aa67933d</td>\n",
       "      <td>ENSG00000107874</td>\n",
       "      <td>1.852539</td>\n",
       "    </tr>\n",
       "    <tr>\n",
       "      <th>65744179</th>\n",
       "      <td>65744179</td>\n",
       "      <td>2c53aa67933d</td>\n",
       "      <td>ENSG00000166012</td>\n",
       "      <td>8.085938</td>\n",
       "    </tr>\n",
       "  </tbody>\n",
       "</table>\n",
       "<p>65744180 rows × 4 columns</p>\n",
       "</div>"
      ],
      "text/plain": [
       "            row_id       cell_id          gene_id    target\n",
       "0                0  c2150f55becb             CD86       NaN\n",
       "1                1  c2150f55becb            CD274       NaN\n",
       "2                2  c2150f55becb            CD270       NaN\n",
       "3                3  c2150f55becb            CD155       NaN\n",
       "4                4  c2150f55becb            CD112       NaN\n",
       "...            ...           ...              ...       ...\n",
       "65744175  65744175  2c53aa67933d  ENSG00000134419  9.453125\n",
       "65744176  65744176  2c53aa67933d  ENSG00000186862  0.062561\n",
       "65744177  65744177  2c53aa67933d  ENSG00000170959  0.077026\n",
       "65744178  65744178  2c53aa67933d  ENSG00000107874  1.852539\n",
       "65744179  65744179  2c53aa67933d  ENSG00000166012  8.085938\n",
       "\n",
       "[65744180 rows x 4 columns]"
      ]
     },
     "execution_count": 26,
     "metadata": {},
     "output_type": "execute_result"
    }
   ],
   "source": [
    "submission.reset_index()"
   ]
  },
  {
   "cell_type": "code",
   "execution_count": 27,
   "id": "0a9acf37",
   "metadata": {
    "execution": {
     "iopub.execute_input": "2022-12-22T13:21:01.163683Z",
     "iopub.status.busy": "2022-12-22T13:21:01.162876Z",
     "iopub.status.idle": "2022-12-22T13:21:04.531545Z",
     "shell.execute_reply": "2022-12-22T13:21:04.530251Z"
    },
    "papermill": {
     "duration": 3.395963,
     "end_time": "2022-12-22T13:21:04.534624",
     "exception": false,
     "start_time": "2022-12-22T13:21:01.138661",
     "status": "completed"
    },
    "tags": []
   },
   "outputs": [
    {
     "name": "stdout",
     "output_type": "stream",
     "text": [
      "CPU times: user 2.29 s, sys: 1.06 s, total: 3.35 s\n",
      "Wall time: 3.35 s\n"
     ]
    },
    {
     "data": {
      "text/html": [
       "<div>\n",
       "<style scoped>\n",
       "    .dataframe tbody tr th:only-of-type {\n",
       "        vertical-align: middle;\n",
       "    }\n",
       "\n",
       "    .dataframe tbody tr th {\n",
       "        vertical-align: top;\n",
       "    }\n",
       "\n",
       "    .dataframe thead th {\n",
       "        text-align: right;\n",
       "    }\n",
       "</style>\n",
       "<table border=\"1\" class=\"dataframe\">\n",
       "  <thead>\n",
       "    <tr style=\"text-align: right;\">\n",
       "      <th></th>\n",
       "      <th>row_id</th>\n",
       "      <th>target</th>\n",
       "    </tr>\n",
       "  </thead>\n",
       "  <tbody>\n",
       "    <tr>\n",
       "      <th>0</th>\n",
       "      <td>0</td>\n",
       "      <td>NaN</td>\n",
       "    </tr>\n",
       "    <tr>\n",
       "      <th>1</th>\n",
       "      <td>1</td>\n",
       "      <td>NaN</td>\n",
       "    </tr>\n",
       "    <tr>\n",
       "      <th>2</th>\n",
       "      <td>2</td>\n",
       "      <td>NaN</td>\n",
       "    </tr>\n",
       "    <tr>\n",
       "      <th>3</th>\n",
       "      <td>3</td>\n",
       "      <td>NaN</td>\n",
       "    </tr>\n",
       "    <tr>\n",
       "      <th>4</th>\n",
       "      <td>4</td>\n",
       "      <td>NaN</td>\n",
       "    </tr>\n",
       "    <tr>\n",
       "      <th>...</th>\n",
       "      <td>...</td>\n",
       "      <td>...</td>\n",
       "    </tr>\n",
       "    <tr>\n",
       "      <th>65744175</th>\n",
       "      <td>65744175</td>\n",
       "      <td>9.453125</td>\n",
       "    </tr>\n",
       "    <tr>\n",
       "      <th>65744176</th>\n",
       "      <td>65744176</td>\n",
       "      <td>0.062561</td>\n",
       "    </tr>\n",
       "    <tr>\n",
       "      <th>65744177</th>\n",
       "      <td>65744177</td>\n",
       "      <td>0.077026</td>\n",
       "    </tr>\n",
       "    <tr>\n",
       "      <th>65744178</th>\n",
       "      <td>65744178</td>\n",
       "      <td>1.852539</td>\n",
       "    </tr>\n",
       "    <tr>\n",
       "      <th>65744179</th>\n",
       "      <td>65744179</td>\n",
       "      <td>8.085938</td>\n",
       "    </tr>\n",
       "  </tbody>\n",
       "</table>\n",
       "<p>65744180 rows × 2 columns</p>\n",
       "</div>"
      ],
      "text/plain": [
       "            row_id    target\n",
       "0                0       NaN\n",
       "1                1       NaN\n",
       "2                2       NaN\n",
       "3                3       NaN\n",
       "4                4       NaN\n",
       "...            ...       ...\n",
       "65744175  65744175  9.453125\n",
       "65744176  65744176  0.062561\n",
       "65744177  65744177  0.077026\n",
       "65744178  65744178  1.852539\n",
       "65744179  65744179  8.085938\n",
       "\n",
       "[65744180 rows x 2 columns]"
      ]
     },
     "execution_count": 27,
     "metadata": {},
     "output_type": "execute_result"
    }
   ],
   "source": [
    "%%time\n",
    "\n",
    "submission = submission.reset_index().drop(['cell_id', 'gene_id'], axis=1)\n",
    "submission"
   ]
  },
  {
   "cell_type": "code",
   "execution_count": 28,
   "id": "8b57be44",
   "metadata": {
    "execution": {
     "iopub.execute_input": "2022-12-22T13:21:04.582120Z",
     "iopub.status.busy": "2022-12-22T13:21:04.581694Z",
     "iopub.status.idle": "2022-12-22T13:21:04.596471Z",
     "shell.execute_reply": "2022-12-22T13:21:04.595040Z"
    },
    "papermill": {
     "duration": 0.041781,
     "end_time": "2022-12-22T13:21:04.598911",
     "exception": false,
     "start_time": "2022-12-22T13:21:04.557130",
     "status": "completed"
    },
    "tags": []
   },
   "outputs": [
    {
     "name": "stdout",
     "output_type": "stream",
     "text": [
      "CPU times: user 781 µs, sys: 0 ns, total: 781 µs\n",
      "Wall time: 769 µs\n"
     ]
    },
    {
     "data": {
      "text/html": [
       "<div>\n",
       "<style scoped>\n",
       "    .dataframe tbody tr th:only-of-type {\n",
       "        vertical-align: middle;\n",
       "    }\n",
       "\n",
       "    .dataframe tbody tr th {\n",
       "        vertical-align: top;\n",
       "    }\n",
       "\n",
       "    .dataframe thead th {\n",
       "        text-align: right;\n",
       "    }\n",
       "</style>\n",
       "<table border=\"1\" class=\"dataframe\">\n",
       "  <thead>\n",
       "    <tr style=\"text-align: right;\">\n",
       "      <th></th>\n",
       "      <th>target</th>\n",
       "    </tr>\n",
       "    <tr>\n",
       "      <th>row_id</th>\n",
       "      <th></th>\n",
       "    </tr>\n",
       "  </thead>\n",
       "  <tbody>\n",
       "    <tr>\n",
       "      <th>0</th>\n",
       "      <td>NaN</td>\n",
       "    </tr>\n",
       "    <tr>\n",
       "      <th>1</th>\n",
       "      <td>NaN</td>\n",
       "    </tr>\n",
       "    <tr>\n",
       "      <th>2</th>\n",
       "      <td>NaN</td>\n",
       "    </tr>\n",
       "    <tr>\n",
       "      <th>3</th>\n",
       "      <td>NaN</td>\n",
       "    </tr>\n",
       "    <tr>\n",
       "      <th>4</th>\n",
       "      <td>NaN</td>\n",
       "    </tr>\n",
       "    <tr>\n",
       "      <th>...</th>\n",
       "      <td>...</td>\n",
       "    </tr>\n",
       "    <tr>\n",
       "      <th>65744175</th>\n",
       "      <td>9.453125</td>\n",
       "    </tr>\n",
       "    <tr>\n",
       "      <th>65744176</th>\n",
       "      <td>0.062561</td>\n",
       "    </tr>\n",
       "    <tr>\n",
       "      <th>65744177</th>\n",
       "      <td>0.077026</td>\n",
       "    </tr>\n",
       "    <tr>\n",
       "      <th>65744178</th>\n",
       "      <td>1.852539</td>\n",
       "    </tr>\n",
       "    <tr>\n",
       "      <th>65744179</th>\n",
       "      <td>8.085938</td>\n",
       "    </tr>\n",
       "  </tbody>\n",
       "</table>\n",
       "<p>65744180 rows × 1 columns</p>\n",
       "</div>"
      ],
      "text/plain": [
       "            target\n",
       "row_id            \n",
       "0              NaN\n",
       "1              NaN\n",
       "2              NaN\n",
       "3              NaN\n",
       "4              NaN\n",
       "...            ...\n",
       "65744175  9.453125\n",
       "65744176  0.062561\n",
       "65744177  0.077026\n",
       "65744178  1.852539\n",
       "65744179  8.085938\n",
       "\n",
       "[65744180 rows x 1 columns]"
      ]
     },
     "execution_count": 28,
     "metadata": {},
     "output_type": "execute_result"
    }
   ],
   "source": [
    "%%time\n",
    "\n",
    "submission.set_index('row_id', inplace=True)\n",
    "submission\n"
   ]
  },
  {
   "cell_type": "code",
   "execution_count": 29,
   "id": "a91f5c39",
   "metadata": {
    "execution": {
     "iopub.execute_input": "2022-12-22T13:21:04.647711Z",
     "iopub.status.busy": "2022-12-22T13:21:04.646864Z",
     "iopub.status.idle": "2022-12-22T13:23:12.897236Z",
     "shell.execute_reply": "2022-12-22T13:23:12.895608Z"
    },
    "papermill": {
     "duration": 128.302741,
     "end_time": "2022-12-22T13:23:12.924424",
     "exception": false,
     "start_time": "2022-12-22T13:21:04.621683",
     "status": "completed"
    },
    "tags": []
   },
   "outputs": [
    {
     "name": "stdout",
     "output_type": "stream",
     "text": [
      "CPU times: user 2min 3s, sys: 4.52 s, total: 2min 8s\n",
      "Wall time: 2min 8s\n"
     ]
    }
   ],
   "source": [
    "%%time\n",
    "# Approximately 2 minutes\n",
    "\n",
    "# save as csv\n",
    "submission.to_csv('multiome_only_128.csv')"
   ]
  }
 ],
 "metadata": {
  "kernelspec": {
   "display_name": "Python 3",
   "language": "python",
   "name": "python3"
  },
  "language_info": {
   "codemirror_mode": {
    "name": "ipython",
    "version": 3
   },
   "file_extension": ".py",
   "mimetype": "text/x-python",
   "name": "python",
   "nbconvert_exporter": "python",
   "pygments_lexer": "ipython3",
   "version": "3.7.12"
  },
  "papermill": {
   "default_parameters": {},
   "duration": 8321.234062,
   "end_time": "2022-12-22T13:23:14.396457",
   "environment_variables": {},
   "exception": null,
   "input_path": "__notebook__.ipynb",
   "output_path": "__notebook__.ipynb",
   "parameters": {},
   "start_time": "2022-12-22T11:04:33.162395",
   "version": "2.3.4"
  }
 },
 "nbformat": 4,
 "nbformat_minor": 5
}
