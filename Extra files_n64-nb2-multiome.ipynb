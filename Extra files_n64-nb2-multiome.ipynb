{
 "cells": [
  {
   "cell_type": "markdown",
   "id": "eae12d15",
   "metadata": {
    "papermill": {
     "duration": 0.010101,
     "end_time": "2022-12-22T09:51:49.245672",
     "exception": false,
     "start_time": "2022-12-22T09:51:49.235571",
     "status": "completed"
    },
    "tags": []
   },
   "source": [
    "Because the datasets are SO large (especially the Multiome dataset), instead of running both parts of the project in one notebook (and risk Kaggle running out of storage space then resetting all progress), it is more convenient to separate the multiome and citeseq parts of the project, then later merge the predicted outputs from the two parts together."
   ]
  },
  {
   "cell_type": "markdown",
   "id": "b9229672",
   "metadata": {
    "papermill": {
     "duration": 0.007994,
     "end_time": "2022-12-22T09:51:49.262359",
     "exception": false,
     "start_time": "2022-12-22T09:51:49.254365",
     "status": "completed"
    },
    "tags": []
   },
   "source": [
    "This notebook concerns itself with the multiome portion."
   ]
  },
  {
   "cell_type": "markdown",
   "id": "6d165778",
   "metadata": {
    "papermill": {
     "duration": 0.007965,
     "end_time": "2022-12-22T09:51:49.278599",
     "exception": false,
     "start_time": "2022-12-22T09:51:49.270634",
     "status": "completed"
    },
    "tags": []
   },
   "source": [
    "# First, all the basic imports and file names which may or may not be used is loaded in essentially as a header"
   ]
  },
  {
   "cell_type": "code",
   "execution_count": 1,
   "id": "f1206eba",
   "metadata": {
    "_cell_guid": "b1076dfc-b9ad-4769-8c92-a6c4dae69d19",
    "_uuid": "8f2839f25d086af736a60e9eeb907d3b93b6e0e5",
    "execution": {
     "iopub.execute_input": "2022-12-22T09:51:49.298132Z",
     "iopub.status.busy": "2022-12-22T09:51:49.297132Z",
     "iopub.status.idle": "2022-12-22T09:52:01.266374Z",
     "shell.execute_reply": "2022-12-22T09:52:01.264982Z"
    },
    "papermill": {
     "duration": 11.982602,
     "end_time": "2022-12-22T09:52:01.269369",
     "exception": false,
     "start_time": "2022-12-22T09:51:49.286767",
     "status": "completed"
    },
    "tags": []
   },
   "outputs": [
    {
     "name": "stdout",
     "output_type": "stream",
     "text": [
      "Requirement already satisfied: tables in /opt/conda/lib/python3.7/site-packages (3.7.0)\r\n",
      "Requirement already satisfied: numexpr>=2.6.2 in /opt/conda/lib/python3.7/site-packages (from tables) (2.8.3)\r\n",
      "Requirement already satisfied: numpy>=1.19.0 in /opt/conda/lib/python3.7/site-packages (from tables) (1.21.6)\r\n",
      "Requirement already satisfied: packaging in /opt/conda/lib/python3.7/site-packages (from tables) (21.3)\r\n",
      "Requirement already satisfied: pyparsing!=3.0.5,>=2.0.2 in /opt/conda/lib/python3.7/site-packages (from packaging->tables) (3.0.9)\r\n",
      "\u001b[33mWARNING: Running pip as the 'root' user can result in broken permissions and conflicting behaviour with the system package manager. It is recommended to use a virtual environment instead: https://pip.pypa.io/warnings/venv\u001b[0m\u001b[33m\r\n",
      "\u001b[0m"
     ]
    }
   ],
   "source": [
    "!pip install tables"
   ]
  },
  {
   "cell_type": "code",
   "execution_count": 2,
   "id": "9922fa07",
   "metadata": {
    "execution": {
     "iopub.execute_input": "2022-12-22T09:52:01.290535Z",
     "iopub.status.busy": "2022-12-22T09:52:01.290103Z",
     "iopub.status.idle": "2022-12-22T09:52:02.433190Z",
     "shell.execute_reply": "2022-12-22T09:52:02.432233Z"
    },
    "papermill": {
     "duration": 1.155948,
     "end_time": "2022-12-22T09:52:02.435865",
     "exception": false,
     "start_time": "2022-12-22T09:52:01.279917",
     "status": "completed"
    },
    "tags": []
   },
   "outputs": [],
   "source": [
    "import os, gc, pickle, datetime, scipy.sparse\n",
    "import pandas as pd\n",
    "import matplotlib.pyplot as plt\n",
    "import numpy as np\n",
    "from colorama import Fore, Back, Style\n",
    "\n",
    "from sklearn.model_selection import GroupKFold\n",
    "from sklearn.preprocessing import StandardScaler\n",
    "from sklearn.decomposition import TruncatedSVD,PCA\n",
    "from sklearn.metrics import mean_squared_error\n",
    "\n",
    "import matplotlib.pyplot as plt\n",
    "from matplotlib.ticker import MaxNLocator\n",
    "import seaborn as sns\n",
    "from cycler import cycler\n",
    "from IPython.display import display\n",
    "\n",
    "import scipy.sparse"
   ]
  },
  {
   "cell_type": "code",
   "execution_count": 3,
   "id": "75a06dcd",
   "metadata": {
    "execution": {
     "iopub.execute_input": "2022-12-22T09:52:02.455408Z",
     "iopub.status.busy": "2022-12-22T09:52:02.454967Z",
     "iopub.status.idle": "2022-12-22T09:52:02.463292Z",
     "shell.execute_reply": "2022-12-22T09:52:02.462164Z"
    },
    "papermill": {
     "duration": 0.020562,
     "end_time": "2022-12-22T09:52:02.465544",
     "exception": false,
     "start_time": "2022-12-22T09:52:02.444982",
     "status": "completed"
    },
    "tags": []
   },
   "outputs": [],
   "source": [
    "# Directory of the data\n",
    "DATA_DIR = \"/kaggle/input/open-problems-multimodal/\"\n",
    "FP_CELL_METADATA = os.path.join(DATA_DIR,\"metadata.csv\")\n",
    "\n",
    "FP_CITE_TRAIN_INPUTS = os.path.join(DATA_DIR,\"train_cite_inputs.h5\")\n",
    "FP_CITE_TRAIN_TARGETS = os.path.join(DATA_DIR,\"train_cite_targets.h5\")\n",
    "FP_CITE_TEST_INPUTS = os.path.join(DATA_DIR,\"test_cite_inputs.h5\")\n",
    "\n",
    "FP_MULT_TRAIN_INPUTS = os.path.join(DATA_DIR,\"train_multi_inputs.h5\")\n",
    "FP_MULT_TRAIN_TARGETS = os.path.join(DATA_DIR,\"train_multi_targets.h5\")\n",
    "FP_MULT_TEST_INPUTS = os.path.join(DATA_DIR,\"test_multi_inputs.h5\")\n",
    "\n",
    "FP_MULT_TRAIN_TARGETS_idx = \"../input/multimodal-single-cell-as-sparse-matrix/train_multi_targets_idxcol.npz\"\n",
    "FP_MULT_TRAIN_TARGETS_sparse = \"../input/multimodal-single-cell-as-sparse-matrix/train_multi_targets_values.sparse.npz\"\n",
    "FP_MULT_TRAIN_INPUTS_idx = \"../input/multimodal-single-cell-as-sparse-matrix/train_multi_inputs_idxcol.npz\"\n",
    "FP_MULT_TRAIN_INPUTS_sparse = \"../input/multimodal-single-cell-as-sparse-matrix/train_multi_inputs_values.sparse.npz\"\n",
    "FP_MULT_TEST_INPUTS_idx = \"../input/multimodal-single-cell-as-sparse-matrix/test_multi_inputs_idxcol.npz\"\n",
    "FP_MULT_TEST_INPUTS_sparse = \"../input/multimodal-single-cell-as-sparse-matrix/test_multi_inputs_values.sparse.npz\"\n",
    "\n",
    "FP_SUBMISSION = os.path.join(DATA_DIR,\"sample_submission.csv\")\n",
    "FP_EVALUATION_IDS = os.path.join(DATA_DIR,\"evaluation_ids.csv\")\n",
    "\n",
    "FP_EVALUATION_IDS_parquet = \"../input/multimodal-single-cell-as-sparse-matrix/evaluation.parquet\"\n"
   ]
  },
  {
   "cell_type": "markdown",
   "id": "142977a6",
   "metadata": {
    "papermill": {
     "duration": 0.008468,
     "end_time": "2022-12-22T09:52:02.482960",
     "exception": false,
     "start_time": "2022-12-22T09:52:02.474492",
     "status": "completed"
    },
    "tags": []
   },
   "source": [
    "# Multiome\n",
    "\n",
    "Now the multiome portion begins\n",
    "\n",
    "Model from: https://www.kaggle.com/code/xiafire/msci-multiome-5-steps-x-5-folds-25-models"
   ]
  },
  {
   "cell_type": "markdown",
   "id": "b697aca8",
   "metadata": {
    "papermill": {
     "duration": 0.008305,
     "end_time": "2022-12-22T09:52:02.499971",
     "exception": false,
     "start_time": "2022-12-22T09:52:02.491666",
     "status": "completed"
    },
    "tags": []
   },
   "source": [
    "## Load in the data"
   ]
  },
  {
   "cell_type": "code",
   "execution_count": 4,
   "id": "f156c513",
   "metadata": {
    "execution": {
     "iopub.execute_input": "2022-12-22T09:52:02.519917Z",
     "iopub.status.busy": "2022-12-22T09:52:02.518912Z",
     "iopub.status.idle": "2022-12-22T09:54:02.308601Z",
     "shell.execute_reply": "2022-12-22T09:54:02.307317Z"
    },
    "papermill": {
     "duration": 119.809475,
     "end_time": "2022-12-22T09:54:02.318133",
     "exception": false,
     "start_time": "2022-12-22T09:52:02.508658",
     "status": "completed"
    },
    "tags": []
   },
   "outputs": [
    {
     "name": "stdout",
     "output_type": "stream",
     "text": [
      "CPU times: user 1min 13s, sys: 7.01 s, total: 1min 20s\n",
      "Wall time: 1min 59s\n"
     ]
    }
   ],
   "source": [
    "%%time\n",
    "# 1 min 54 s\n",
    "\n",
    "train_inputs = scipy.sparse.load_npz(FP_MULT_TRAIN_INPUTS_sparse)\n",
    "train_inputs = train_inputs.astype('float16', copy=False)\n",
    "\n",
    "train_targets = scipy.sparse.load_npz(FP_MULT_TRAIN_TARGETS_sparse)\n",
    "\n",
    "test_inputs = scipy.sparse.load_npz(FP_MULT_TEST_INPUTS_sparse)\n",
    "\n",
    "\n",
    "train_target_cols = np.load(FP_MULT_TRAIN_TARGETS_idx,\n",
    "                    allow_pickle=True)[\"columns\"]\n",
    "\n",
    "test_input_rows = np.load(FP_MULT_TEST_INPUTS_idx,\n",
    "                  allow_pickle=True)[\"index\"]"
   ]
  },
  {
   "cell_type": "markdown",
   "id": "8caa331b",
   "metadata": {
    "papermill": {
     "duration": 0.008369,
     "end_time": "2022-12-22T09:54:02.336121",
     "exception": false,
     "start_time": "2022-12-22T09:54:02.327752",
     "status": "completed"
    },
    "tags": []
   },
   "source": [
    "## Perform SVD"
   ]
  },
  {
   "cell_type": "code",
   "execution_count": 5,
   "id": "16271edd",
   "metadata": {
    "execution": {
     "iopub.execute_input": "2022-12-22T09:54:02.355913Z",
     "iopub.status.busy": "2022-12-22T09:54:02.355112Z",
     "iopub.status.idle": "2022-12-22T09:54:02.360143Z",
     "shell.execute_reply": "2022-12-22T09:54:02.359341Z"
    },
    "papermill": {
     "duration": 0.017698,
     "end_time": "2022-12-22T09:54:02.362389",
     "exception": false,
     "start_time": "2022-12-22T09:54:02.344691",
     "status": "completed"
    },
    "tags": []
   },
   "outputs": [],
   "source": [
    "num_components = 64 # this will be the setting for n_components\n",
    "random_state_num = 4060 # random state number"
   ]
  },
  {
   "cell_type": "code",
   "execution_count": 6,
   "id": "4a948d31",
   "metadata": {
    "execution": {
     "iopub.execute_input": "2022-12-22T09:54:02.381199Z",
     "iopub.status.busy": "2022-12-22T09:54:02.380789Z",
     "iopub.status.idle": "2022-12-22T10:10:12.435045Z",
     "shell.execute_reply": "2022-12-22T10:10:12.427605Z"
    },
    "papermill": {
     "duration": 970.091613,
     "end_time": "2022-12-22T10:10:12.462316",
     "exception": false,
     "start_time": "2022-12-22T09:54:02.370703",
     "status": "completed"
    },
    "tags": []
   },
   "outputs": [
    {
     "name": "stdout",
     "output_type": "stream",
     "text": [
      "0.009176096\n",
      "CPU times: user 15min 59s, sys: 22.3 s, total: 16min 21s\n",
      "Wall time: 16min 10s\n"
     ]
    }
   ],
   "source": [
    "%%time\n",
    "# 34 minutes 24 seconds\n",
    "\n",
    "# reduce the dimensionality of the training inputs\n",
    "pca_inputs = TruncatedSVD(n_components=num_components, random_state=random_state_num)\n",
    "train_inputs = pca_inputs.fit_transform(train_inputs)\n",
    "\n",
    "print(pca_inputs.explained_variance_ratio_.sum())"
   ]
  },
  {
   "cell_type": "code",
   "execution_count": 7,
   "id": "d9f6c5d6",
   "metadata": {
    "execution": {
     "iopub.execute_input": "2022-12-22T10:10:12.488917Z",
     "iopub.status.busy": "2022-12-22T10:10:12.487764Z",
     "iopub.status.idle": "2022-12-22T10:13:03.095341Z",
     "shell.execute_reply": "2022-12-22T10:13:03.094155Z"
    },
    "papermill": {
     "duration": 170.634742,
     "end_time": "2022-12-22T10:13:03.106225",
     "exception": false,
     "start_time": "2022-12-22T10:10:12.471483",
     "status": "completed"
    },
    "tags": []
   },
   "outputs": [
    {
     "name": "stdout",
     "output_type": "stream",
     "text": [
      "0.1079557\n",
      "CPU times: user 2min 52s, sys: 3.84 s, total: 2min 56s\n",
      "Wall time: 2min 50s\n"
     ]
    }
   ],
   "source": [
    "%%time\n",
    "# 5 minutes 58 seconds\n",
    "\n",
    "# Reduce the dimensionality of the training targets\n",
    "pca_targets = TruncatedSVD(n_components=num_components, random_state=random_state_num)\n",
    "train_target = pca_targets.fit_transform(train_targets)\n",
    "print(pca_targets.explained_variance_ratio_.sum())"
   ]
  },
  {
   "cell_type": "markdown",
   "id": "104f5f44",
   "metadata": {
    "papermill": {
     "duration": 0.007873,
     "end_time": "2022-12-22T10:13:03.122448",
     "exception": false,
     "start_time": "2022-12-22T10:13:03.114575",
     "status": "completed"
    },
    "tags": []
   },
   "source": [
    "## Multiome learning model\n",
    "\n",
    "From: https://www.kaggle.com/code/xiafire/msci-multiome-5-steps-x-5-folds-25-models"
   ]
  },
  {
   "cell_type": "code",
   "execution_count": 8,
   "id": "79232d30",
   "metadata": {
    "execution": {
     "iopub.execute_input": "2022-12-22T10:13:03.140428Z",
     "iopub.status.busy": "2022-12-22T10:13:03.140043Z",
     "iopub.status.idle": "2022-12-22T10:13:03.157832Z",
     "shell.execute_reply": "2022-12-22T10:13:03.157073Z"
    },
    "papermill": {
     "duration": 0.029366,
     "end_time": "2022-12-22T10:13:03.159925",
     "exception": false,
     "start_time": "2022-12-22T10:13:03.130559",
     "status": "completed"
    },
    "tags": []
   },
   "outputs": [],
   "source": [
    "# Use kernel ridge regression\n",
    "from sklearn.gaussian_process.kernels import RBF\n",
    "from sklearn.kernel_ridge import KernelRidge\n",
    "kernel = RBF(length_scale = 10)\n",
    "krr = KernelRidge(alpha=0.2, kernel=kernel)"
   ]
  },
  {
   "cell_type": "code",
   "execution_count": 9,
   "id": "98d30b01",
   "metadata": {
    "execution": {
     "iopub.execute_input": "2022-12-22T10:13:03.178898Z",
     "iopub.status.busy": "2022-12-22T10:13:03.177925Z",
     "iopub.status.idle": "2022-12-22T10:13:03.182767Z",
     "shell.execute_reply": "2022-12-22T10:13:03.182004Z"
    },
    "papermill": {
     "duration": 0.016391,
     "end_time": "2022-12-22T10:13:03.184739",
     "exception": false,
     "start_time": "2022-12-22T10:13:03.168348",
     "status": "completed"
    },
    "tags": []
   },
   "outputs": [],
   "source": [
    "n = 5 # 5 folds"
   ]
  },
  {
   "cell_type": "markdown",
   "id": "0313e525",
   "metadata": {
    "papermill": {
     "duration": 0.007774,
     "end_time": "2022-12-22T10:13:03.200926",
     "exception": false,
     "start_time": "2022-12-22T10:13:03.193152",
     "status": "completed"
    },
    "tags": []
   },
   "source": [
    "correlation score from MSCI CITEseq Keras Quickstart by AMBROSM"
   ]
  },
  {
   "cell_type": "code",
   "execution_count": 10,
   "id": "8a56c114",
   "metadata": {
    "execution": {
     "iopub.execute_input": "2022-12-22T10:13:03.219069Z",
     "iopub.status.busy": "2022-12-22T10:13:03.218666Z",
     "iopub.status.idle": "2022-12-22T10:13:03.226603Z",
     "shell.execute_reply": "2022-12-22T10:13:03.225641Z"
    },
    "papermill": {
     "duration": 0.019871,
     "end_time": "2022-12-22T10:13:03.228751",
     "exception": false,
     "start_time": "2022-12-22T10:13:03.208880",
     "status": "completed"
    },
    "tags": []
   },
   "outputs": [],
   "source": [
    "def correlation_score(y_true, y_pred):\n",
    "    \"\"\"Scores the predictions according to the competition rules. \n",
    "    \n",
    "    It is assumed that the predictions are not constant.\n",
    "    \n",
    "    Returns the average of each sample's Pearson correlation coefficient\"\"\"\n",
    "    if type(y_true) == pd.DataFrame: y_true = y_true.values\n",
    "    if type(y_pred) == pd.DataFrame: y_pred = y_pred.values\n",
    "    if y_true.shape != y_pred.shape: raise ValueError(\"Shapes are different.\")\n",
    "    corrsum = 0\n",
    "    for i in range(len(y_true)):\n",
    "        corrsum += np.corrcoef(y_true[i], y_pred[i])[1, 0]\n",
    "    return corrsum / len(y_true)"
   ]
  },
  {
   "cell_type": "code",
   "execution_count": 11,
   "id": "e4f79bf3",
   "metadata": {
    "execution": {
     "iopub.execute_input": "2022-12-22T10:13:03.248653Z",
     "iopub.status.busy": "2022-12-22T10:13:03.247999Z",
     "iopub.status.idle": "2022-12-22T10:37:20.663391Z",
     "shell.execute_reply": "2022-12-22T10:37:20.662196Z"
    },
    "papermill": {
     "duration": 1457.439715,
     "end_time": "2022-12-22T10:37:20.677105",
     "exception": false,
     "start_time": "2022-12-22T10:13:03.237390",
     "status": "completed"
    },
    "tags": []
   },
   "outputs": [
    {
     "name": "stdout",
     "output_type": "stream",
     "text": [
      "start [0:21188]\n",
      "Train...\n",
      "0 0.6682746352654507\n",
      "Train...\n",
      "1 0.6684020840062302\n",
      "Train...\n",
      "2 0.6682595035491165\n",
      "Train...\n",
      "3 0.6674402050739464\n",
      "Train...\n",
      "4 0.6680569400313564\n",
      "start [21188:42376]\n",
      "Train...\n",
      "5 0.66753340299204\n",
      "Train...\n",
      "6 0.6668605310858712\n",
      "Train...\n",
      "7 0.6689509907946749\n",
      "Train...\n",
      "8 0.6676269190629155\n",
      "Train...\n",
      "9 0.66797567889293\n",
      "start [42376:63564]\n",
      "Train...\n",
      "10 0.667847950152341\n",
      "Train...\n",
      "11 0.6672509296452317\n",
      "Train...\n",
      "12 0.6667510885970097\n",
      "Train...\n",
      "13 0.6678697670091575\n",
      "Train...\n",
      "14 0.6677650745372357\n",
      "start [63564:84752]\n",
      "Train...\n",
      "15 0.6677857017312457\n",
      "Train...\n",
      "16 0.668350938756947\n",
      "Train...\n",
      "17 0.6659538563945296\n",
      "Train...\n",
      "18 0.6678380306598284\n",
      "Train...\n",
      "19 0.6685934689368527\n",
      "start [84752:105940]\n",
      "Train...\n",
      "20 0.6683663045623842\n",
      "Train...\n",
      "21 0.6682781557266047\n",
      "Train...\n",
      "22 0.667556846946689\n",
      "Train...\n",
      "23 0.6690450480958934\n",
      "Train...\n",
      "24 0.6704840127152167\n",
      "CPU times: user 56min 21s, sys: 3min 59s, total: 1h 21s\n",
      "Wall time: 24min 17s\n"
     ]
    }
   ],
   "source": [
    "%%time\n",
    "# 47 min 59 s\n",
    "\n",
    "# Perform training\n",
    "from sklearn.model_selection import KFold\n",
    "import os, gc, pickle\n",
    "\n",
    "np.random.seed(random_state_num)\n",
    "all_row_indices = np.arange(train_inputs.shape[0])\n",
    "np.random.shuffle(all_row_indices)\n",
    "\n",
    "kf = KFold(n_splits=5, shuffle=True, random_state=random_state_num)\n",
    "\n",
    "index = 0\n",
    "score = []\n",
    "\n",
    "d = train_inputs.shape[0]//n\n",
    "for i in range(0, n*d, d):\n",
    "    print(f'start [{i}:{i+d}]')\n",
    "    ind = all_row_indices[i:i+d]    \n",
    "    for idx_tr, idx_va in kf.split(ind):\n",
    "        X = train_inputs[ind]\n",
    "        Y = train_target[ind] #.todense()\n",
    "        Yva = train_targets[ind][idx_va]\n",
    "        Xtr, Xva = X[idx_tr], X[idx_va]\n",
    "        Ytr = Y[idx_tr]\n",
    "        del X, Y\n",
    "        gc.collect()\n",
    "        \n",
    "        print('Train...')\n",
    "        model = krr #Ridge(copy_X=False)\n",
    "        model.fit(Xtr, Ytr)\n",
    "        del Xtr, Ytr\n",
    "        gc.collect()\n",
    "        \n",
    "        s = correlation_score(Yva.todense(), model.predict(Xva)@pca_targets.components_)\n",
    "        score.append(s)\n",
    "        print(index, s)\n",
    "        del Xva, Yva\n",
    "        gc.collect()\n",
    "        \n",
    "        pkl_filename = f\"model{index:02d}.pkl\"\n",
    "        index += 1\n",
    "        with open(pkl_filename, 'wb') as file:\n",
    "            pickle.dump(model, file)\n",
    "    gc.collect()"
   ]
  },
  {
   "cell_type": "code",
   "execution_count": 12,
   "id": "c3aeef16",
   "metadata": {
    "execution": {
     "iopub.execute_input": "2022-12-22T10:37:20.702178Z",
     "iopub.status.busy": "2022-12-22T10:37:20.701263Z",
     "iopub.status.idle": "2022-12-22T10:37:20.905784Z",
     "shell.execute_reply": "2022-12-22T10:37:20.904766Z"
    },
    "papermill": {
     "duration": 0.219659,
     "end_time": "2022-12-22T10:37:20.908217",
     "exception": false,
     "start_time": "2022-12-22T10:37:20.688558",
     "status": "completed"
    },
    "tags": []
   },
   "outputs": [
    {
     "data": {
      "text/plain": [
       "21"
      ]
     },
     "execution_count": 12,
     "metadata": {},
     "output_type": "execute_result"
    }
   ],
   "source": [
    "# Delete variables to free up space\n",
    "del train_inputs # Multiome training data, has SVD applied (inputs)\n",
    "del train_targets # Multiome training data, no SVD applied (targets)\n",
    "del train_target # Multiome training data after SVD (targets)\n",
    "gc.collect()"
   ]
  },
  {
   "cell_type": "markdown",
   "id": "90f65a8d",
   "metadata": {
    "papermill": {
     "duration": 0.01135,
     "end_time": "2022-12-22T10:37:20.931247",
     "exception": false,
     "start_time": "2022-12-22T10:37:20.919897",
     "status": "completed"
    },
    "tags": []
   },
   "source": [
    "## Predictions for multiome"
   ]
  },
  {
   "cell_type": "code",
   "execution_count": 13,
   "id": "d4fa89ce",
   "metadata": {
    "execution": {
     "iopub.execute_input": "2022-12-22T10:37:20.956273Z",
     "iopub.status.busy": "2022-12-22T10:37:20.955849Z",
     "iopub.status.idle": "2022-12-22T10:37:41.036516Z",
     "shell.execute_reply": "2022-12-22T10:37:41.035643Z"
    },
    "papermill": {
     "duration": 20.096012,
     "end_time": "2022-12-22T10:37:41.038789",
     "exception": false,
     "start_time": "2022-12-22T10:37:20.942777",
     "status": "completed"
    },
    "tags": []
   },
   "outputs": [
    {
     "name": "stdout",
     "output_type": "stream",
     "text": [
      "CPU times: user 20 s, sys: 71.9 ms, total: 20.1 s\n",
      "Wall time: 20.1 s\n"
     ]
    }
   ],
   "source": [
    "%%time\n",
    "# 1 min 12 s\n",
    "\n",
    "# For test inputs, match the pca transform of the training inputs\n",
    "test_inputs = pca_inputs.transform(test_inputs)"
   ]
  },
  {
   "cell_type": "code",
   "execution_count": 14,
   "id": "cc190e8a",
   "metadata": {
    "execution": {
     "iopub.execute_input": "2022-12-22T10:37:41.063333Z",
     "iopub.status.busy": "2022-12-22T10:37:41.062924Z",
     "iopub.status.idle": "2022-12-22T10:37:41.180394Z",
     "shell.execute_reply": "2022-12-22T10:37:41.178772Z"
    },
    "papermill": {
     "duration": 0.13226,
     "end_time": "2022-12-22T10:37:41.182679",
     "exception": false,
     "start_time": "2022-12-22T10:37:41.050419",
     "status": "completed"
    },
    "tags": []
   },
   "outputs": [
    {
     "name": "stdout",
     "output_type": "stream",
     "text": [
      "CPU times: user 108 ms, sys: 973 µs, total: 109 ms\n",
      "Wall time: 109 ms\n"
     ]
    },
    {
     "data": {
      "text/plain": [
       "42"
      ]
     },
     "execution_count": 14,
     "metadata": {},
     "output_type": "execute_result"
    }
   ],
   "source": [
    "%%time\n",
    "# less than a second\n",
    "\n",
    "test_len = test_inputs.shape[0]\n",
    "d = test_len//n\n",
    "x = []\n",
    "for i in range(n):\n",
    "    x.append(test_inputs[i*d:i*d+d])\n",
    "    \n",
    "del test_inputs\n",
    "gc.collect()"
   ]
  },
  {
   "cell_type": "code",
   "execution_count": 15,
   "id": "70bfdf24",
   "metadata": {
    "execution": {
     "iopub.execute_input": "2022-12-22T10:37:41.207696Z",
     "iopub.status.busy": "2022-12-22T10:37:41.207335Z",
     "iopub.status.idle": "2022-12-22T11:10:22.114662Z",
     "shell.execute_reply": "2022-12-22T11:10:22.113451Z"
    },
    "papermill": {
     "duration": 1960.944214,
     "end_time": "2022-12-22T11:10:22.138864",
     "exception": false,
     "start_time": "2022-12-22T10:37:41.194650",
     "status": "completed"
    },
    "tags": []
   },
   "outputs": [
    {
     "name": "stdout",
     "output_type": "stream",
     "text": [
      "0 1 2 3 4 5 6 7 8 9 10 11 12 13 14 15 16 17 18 19 20 21 22 23 24 \n",
      "0 1 2 3 4 5 6 7 8 9 10 11 12 13 14 15 16 17 18 19 20 21 22 23 24 \n",
      "0 1 2 3 4 5 6 7 8 9 10 11 12 13 14 15 16 17 18 19 20 21 22 23 24 \n",
      "0 1 2 3 4 5 6 7 8 9 10 11 12 13 14 15 16 17 18 19 20 21 22 23 24 \n",
      "0 1 2 3 4 5 6 7 8 9 10 11 12 13 14 15 16 17 18 19 20 21 22 23 24 \n",
      "CPU times: user 37min 31s, sys: 5min 39s, total: 43min 10s\n",
      "Wall time: 32min 40s\n"
     ]
    },
    {
     "data": {
      "text/plain": [
       "0"
      ]
     },
     "execution_count": 15,
     "metadata": {},
     "output_type": "execute_result"
    }
   ],
   "source": [
    "%%time\n",
    "# 1 h 34 min 47 s\n",
    "\n",
    "preds = np.zeros((test_len, 23418), dtype='float16')\n",
    "for i,xx in enumerate(x):\n",
    "    for ind in range(index): # index gives the number of models (25)\n",
    "        print(ind, end=' ')\n",
    "        with open(f'model{ind:02}.pkl', 'rb') as file:\n",
    "            model = pickle.load(file)\n",
    "        preds[i*d:i*d+d,:] += (model.predict(xx)@pca_targets.components_)/index\n",
    "        gc.collect()\n",
    "    print('')\n",
    "    del xx\n",
    "gc.collect()"
   ]
  },
  {
   "cell_type": "code",
   "execution_count": 16,
   "id": "acf895b5",
   "metadata": {
    "execution": {
     "iopub.execute_input": "2022-12-22T11:10:22.182791Z",
     "iopub.status.busy": "2022-12-22T11:10:22.181470Z",
     "iopub.status.idle": "2022-12-22T11:10:22.305709Z",
     "shell.execute_reply": "2022-12-22T11:10:22.304790Z"
    },
    "papermill": {
     "duration": 0.148301,
     "end_time": "2022-12-22T11:10:22.308128",
     "exception": false,
     "start_time": "2022-12-22T11:10:22.159827",
     "status": "completed"
    },
    "tags": []
   },
   "outputs": [
    {
     "data": {
      "text/plain": [
       "21"
      ]
     },
     "execution_count": 16,
     "metadata": {},
     "output_type": "execute_result"
    }
   ],
   "source": [
    "del x\n",
    "gc.collect()"
   ]
  },
  {
   "cell_type": "code",
   "execution_count": 17,
   "id": "767fcc30",
   "metadata": {
    "execution": {
     "iopub.execute_input": "2022-12-22T11:10:22.350500Z",
     "iopub.status.busy": "2022-12-22T11:10:22.349423Z",
     "iopub.status.idle": "2022-12-22T11:10:24.593442Z",
     "shell.execute_reply": "2022-12-22T11:10:24.591987Z"
    },
    "papermill": {
     "duration": 2.268326,
     "end_time": "2022-12-22T11:10:24.596042",
     "exception": false,
     "start_time": "2022-12-22T11:10:22.327716",
     "status": "completed"
    },
    "tags": []
   },
   "outputs": [
    {
     "name": "stdout",
     "output_type": "stream",
     "text": [
      "CPU times: user 1.91 ms, sys: 2.23 s, total: 2.24 s\n",
      "Wall time: 2.24 s\n"
     ]
    }
   ],
   "source": [
    "%%time\n",
    "# 4.38 s\n",
    "np.save('preds.npy', preds) # save predictions"
   ]
  },
  {
   "cell_type": "code",
   "execution_count": 18,
   "id": "a67fb9dc",
   "metadata": {
    "execution": {
     "iopub.execute_input": "2022-12-22T11:10:24.637881Z",
     "iopub.status.busy": "2022-12-22T11:10:24.636852Z",
     "iopub.status.idle": "2022-12-22T11:10:24.646229Z",
     "shell.execute_reply": "2022-12-22T11:10:24.644827Z"
    },
    "papermill": {
     "duration": 0.032327,
     "end_time": "2022-12-22T11:10:24.648279",
     "exception": false,
     "start_time": "2022-12-22T11:10:24.615952",
     "status": "completed"
    },
    "tags": []
   },
   "outputs": [
    {
     "name": "stdout",
     "output_type": "stream",
     "text": [
      "CPU times: user 0 ns, sys: 27 µs, total: 27 µs\n",
      "Wall time: 30.5 µs\n"
     ]
    },
    {
     "data": {
      "text/plain": [
       "array([[0.7847, 0.3557, 0.262 , ..., 0.924 , 1.497 , 2.396 ],\n",
       "       [0.717 , 0.3975, 0.5444, ..., 1.479 , 1.595 , 2.47  ],\n",
       "       [0.664 , 0.3188, 0.4446, ..., 0.988 , 1.219 , 2.04  ],\n",
       "       ...,\n",
       "       [0.2832, 0.3184, 0.3577, ..., 1.283 , 0.595 , 2.303 ],\n",
       "       [0.3804, 0.3462, 0.3462, ..., 1.379 , 1.144 , 2.703 ],\n",
       "       [0.6904, 0.5244, 0.2278, ..., 1.495 , 4.63  , 3.623 ]],\n",
       "      dtype=float16)"
      ]
     },
     "execution_count": 18,
     "metadata": {},
     "output_type": "execute_result"
    }
   ],
   "source": [
    "%%time\n",
    "# less than a minute\n",
    "preds = preds.astype('float16', copy=False)\n",
    "preds"
   ]
  },
  {
   "cell_type": "markdown",
   "id": "be49df79",
   "metadata": {
    "papermill": {
     "duration": 0.019355,
     "end_time": "2022-12-22T11:10:24.687499",
     "exception": false,
     "start_time": "2022-12-22T11:10:24.668144",
     "status": "completed"
    },
    "tags": []
   },
   "source": [
    "## Submission format and save"
   ]
  },
  {
   "cell_type": "code",
   "execution_count": 19,
   "id": "6e9ce215",
   "metadata": {
    "execution": {
     "iopub.execute_input": "2022-12-22T11:10:24.729415Z",
     "iopub.status.busy": "2022-12-22T11:10:24.728728Z",
     "iopub.status.idle": "2022-12-22T11:11:07.267138Z",
     "shell.execute_reply": "2022-12-22T11:11:07.265912Z"
    },
    "papermill": {
     "duration": 42.581582,
     "end_time": "2022-12-22T11:11:07.289186",
     "exception": false,
     "start_time": "2022-12-22T11:10:24.707604",
     "status": "completed"
    },
    "tags": []
   },
   "outputs": [
    {
     "name": "stdout",
     "output_type": "stream",
     "text": [
      "CPU times: user 32.8 s, sys: 15 s, total: 47.8 s\n",
      "Wall time: 42.5 s\n"
     ]
    }
   ],
   "source": [
    "%%time\n",
    "# 42 seconds\n",
    "\n",
    "# Read the table of rows and columns required for submission\n",
    "eval_ids = pd.read_parquet(FP_EVALUATION_IDS_parquet)\n",
    "# Convert the string columns to more efficient categorical types\n",
    "#eval_ids.cell_id = eval_ids.cell_id.apply(lambda s: int(s, base=16))\n",
    "eval_ids.cell_id = eval_ids.cell_id.astype(pd.CategoricalDtype())\n",
    "eval_ids.gene_id = eval_ids.gene_id.astype(pd.CategoricalDtype())"
   ]
  },
  {
   "cell_type": "code",
   "execution_count": 20,
   "id": "862ebcdf",
   "metadata": {
    "execution": {
     "iopub.execute_input": "2022-12-22T11:11:07.332559Z",
     "iopub.status.busy": "2022-12-22T11:11:07.331891Z",
     "iopub.status.idle": "2022-12-22T11:11:36.294122Z",
     "shell.execute_reply": "2022-12-22T11:11:36.293041Z"
    },
    "papermill": {
     "duration": 28.986469,
     "end_time": "2022-12-22T11:11:36.296549",
     "exception": false,
     "start_time": "2022-12-22T11:11:07.310080",
     "status": "completed"
    },
    "tags": []
   },
   "outputs": [
    {
     "data": {
      "text/plain": [
       "row_id    cell_id       gene_id        \n",
       "0         c2150f55becb  CD86              NaN\n",
       "1         c2150f55becb  CD274             NaN\n",
       "2         c2150f55becb  CD270             NaN\n",
       "3         c2150f55becb  CD155             NaN\n",
       "4         c2150f55becb  CD112             NaN\n",
       "                                           ..\n",
       "65744175  2c53aa67933d  ENSG00000134419   NaN\n",
       "65744176  2c53aa67933d  ENSG00000186862   NaN\n",
       "65744177  2c53aa67933d  ENSG00000170959   NaN\n",
       "65744178  2c53aa67933d  ENSG00000107874   NaN\n",
       "65744179  2c53aa67933d  ENSG00000166012   NaN\n",
       "Name: target, Length: 65744180, dtype: float32"
      ]
     },
     "execution_count": 20,
     "metadata": {},
     "output_type": "execute_result"
    }
   ],
   "source": [
    "# Prepare an empty series which will be filled with predictions\n",
    "submission = pd.Series(name='target',\n",
    "                       index=pd.MultiIndex.from_frame(eval_ids), \n",
    "                       dtype=np.float32)\n",
    "submission"
   ]
  },
  {
   "cell_type": "code",
   "execution_count": 21,
   "id": "2ecc24e1",
   "metadata": {
    "execution": {
     "iopub.execute_input": "2022-12-22T11:11:36.343193Z",
     "iopub.status.busy": "2022-12-22T11:11:36.342738Z",
     "iopub.status.idle": "2022-12-22T11:11:36.386886Z",
     "shell.execute_reply": "2022-12-22T11:11:36.385819Z"
    },
    "papermill": {
     "duration": 0.071484,
     "end_time": "2022-12-22T11:11:36.389308",
     "exception": false,
     "start_time": "2022-12-22T11:11:36.317824",
     "status": "completed"
    },
    "tags": []
   },
   "outputs": [
    {
     "name": "stdout",
     "output_type": "stream",
     "text": [
      "CPU times: user 35.9 ms, sys: 1.98 ms, total: 37.9 ms\n",
      "Wall time: 37.6 ms\n"
     ]
    }
   ],
   "source": [
    "%%time\n",
    "# 34.5 ms\n",
    "\n",
    "cell_dict = dict((k,v) for v,k in enumerate(test_input_rows)) \n",
    "assert len(cell_dict)  == len(test_input_rows)\n",
    "\n",
    "gene_dict = dict((k,v) for v,k in enumerate(train_target_cols))\n",
    "assert len(gene_dict) == len(train_target_cols)"
   ]
  },
  {
   "cell_type": "code",
   "execution_count": 22,
   "id": "b1fb0b91",
   "metadata": {
    "execution": {
     "iopub.execute_input": "2022-12-22T11:11:36.431787Z",
     "iopub.status.busy": "2022-12-22T11:11:36.431392Z",
     "iopub.status.idle": "2022-12-22T11:11:38.668546Z",
     "shell.execute_reply": "2022-12-22T11:11:38.667064Z"
    },
    "papermill": {
     "duration": 2.261998,
     "end_time": "2022-12-22T11:11:38.671910",
     "exception": false,
     "start_time": "2022-12-22T11:11:36.409912",
     "status": "completed"
    },
    "tags": []
   },
   "outputs": [
    {
     "name": "stdout",
     "output_type": "stream",
     "text": [
      "CPU times: user 1.63 s, sys: 869 ms, total: 2.5 s\n",
      "Wall time: 2.23 s\n"
     ]
    }
   ],
   "source": [
    "%%time\n",
    "# 2.92 s\n",
    "\n",
    "eval_ids_cell_num = eval_ids.cell_id.apply(lambda x:cell_dict.get(x, -1))\n",
    "eval_ids_gene_num = eval_ids.gene_id.apply(lambda x:gene_dict.get(x, -1))\n",
    "\n",
    "valid_multi_rows = (eval_ids_gene_num !=-1) & (eval_ids_cell_num!=-1)"
   ]
  },
  {
   "cell_type": "code",
   "execution_count": 23,
   "id": "f022cbad",
   "metadata": {
    "execution": {
     "iopub.execute_input": "2022-12-22T11:11:38.714946Z",
     "iopub.status.busy": "2022-12-22T11:11:38.713856Z",
     "iopub.status.idle": "2022-12-22T11:11:41.356049Z",
     "shell.execute_reply": "2022-12-22T11:11:41.354608Z"
    },
    "papermill": {
     "duration": 2.666547,
     "end_time": "2022-12-22T11:11:41.359297",
     "exception": false,
     "start_time": "2022-12-22T11:11:38.692750",
     "status": "completed"
    },
    "tags": []
   },
   "outputs": [
    {
     "name": "stdout",
     "output_type": "stream",
     "text": [
      "CPU times: user 1.67 s, sys: 958 ms, total: 2.63 s\n",
      "Wall time: 2.63 s\n"
     ]
    }
   ],
   "source": [
    "%%time\n",
    "# 4.78 s\n",
    "\n",
    "submission.iloc[valid_multi_rows] = preds[eval_ids_cell_num[valid_multi_rows].to_numpy(),\n",
    "eval_ids_gene_num[valid_multi_rows].to_numpy()]"
   ]
  },
  {
   "cell_type": "code",
   "execution_count": 24,
   "id": "5d0c5fc3",
   "metadata": {
    "execution": {
     "iopub.execute_input": "2022-12-22T11:11:41.403720Z",
     "iopub.status.busy": "2022-12-22T11:11:41.402839Z",
     "iopub.status.idle": "2022-12-22T11:11:41.539072Z",
     "shell.execute_reply": "2022-12-22T11:11:41.537918Z"
    },
    "papermill": {
     "duration": 0.162189,
     "end_time": "2022-12-22T11:11:41.542517",
     "exception": false,
     "start_time": "2022-12-22T11:11:41.380328",
     "status": "completed"
    },
    "tags": []
   },
   "outputs": [
    {
     "data": {
      "text/plain": [
       "55"
      ]
     },
     "execution_count": 24,
     "metadata": {},
     "output_type": "execute_result"
    }
   ],
   "source": [
    "del eval_ids_cell_num, eval_ids_gene_num, valid_multi_rows, eval_ids, test_input_rows, train_target_cols\n",
    "gc.collect()"
   ]
  },
  {
   "cell_type": "code",
   "execution_count": 25,
   "id": "edbeee7b",
   "metadata": {
    "execution": {
     "iopub.execute_input": "2022-12-22T11:11:41.585517Z",
     "iopub.status.busy": "2022-12-22T11:11:41.585085Z",
     "iopub.status.idle": "2022-12-22T11:11:41.597837Z",
     "shell.execute_reply": "2022-12-22T11:11:41.596877Z"
    },
    "papermill": {
     "duration": 0.036911,
     "end_time": "2022-12-22T11:11:41.600101",
     "exception": false,
     "start_time": "2022-12-22T11:11:41.563190",
     "status": "completed"
    },
    "tags": []
   },
   "outputs": [
    {
     "data": {
      "text/plain": [
       "row_id    cell_id       gene_id        \n",
       "0         c2150f55becb  CD86                    NaN\n",
       "1         c2150f55becb  CD274                   NaN\n",
       "2         c2150f55becb  CD270                   NaN\n",
       "3         c2150f55becb  CD155                   NaN\n",
       "4         c2150f55becb  CD112                   NaN\n",
       "                                             ...   \n",
       "65744175  2c53aa67933d  ENSG00000134419    7.207031\n",
       "65744176  2c53aa67933d  ENSG00000186862    0.047058\n",
       "65744177  2c53aa67933d  ENSG00000170959    0.053619\n",
       "65744178  2c53aa67933d  ENSG00000107874    1.371094\n",
       "65744179  2c53aa67933d  ENSG00000166012    6.566406\n",
       "Name: target, Length: 65744180, dtype: float32"
      ]
     },
     "execution_count": 25,
     "metadata": {},
     "output_type": "execute_result"
    }
   ],
   "source": [
    "submission"
   ]
  },
  {
   "cell_type": "code",
   "execution_count": 26,
   "id": "9af96160",
   "metadata": {
    "execution": {
     "iopub.execute_input": "2022-12-22T11:11:41.643817Z",
     "iopub.status.busy": "2022-12-22T11:11:41.642954Z",
     "iopub.status.idle": "2022-12-22T11:11:44.208115Z",
     "shell.execute_reply": "2022-12-22T11:11:44.206825Z"
    },
    "papermill": {
     "duration": 2.589493,
     "end_time": "2022-12-22T11:11:44.210602",
     "exception": false,
     "start_time": "2022-12-22T11:11:41.621109",
     "status": "completed"
    },
    "tags": []
   },
   "outputs": [
    {
     "data": {
      "text/html": [
       "<div>\n",
       "<style scoped>\n",
       "    .dataframe tbody tr th:only-of-type {\n",
       "        vertical-align: middle;\n",
       "    }\n",
       "\n",
       "    .dataframe tbody tr th {\n",
       "        vertical-align: top;\n",
       "    }\n",
       "\n",
       "    .dataframe thead th {\n",
       "        text-align: right;\n",
       "    }\n",
       "</style>\n",
       "<table border=\"1\" class=\"dataframe\">\n",
       "  <thead>\n",
       "    <tr style=\"text-align: right;\">\n",
       "      <th></th>\n",
       "      <th>row_id</th>\n",
       "      <th>cell_id</th>\n",
       "      <th>gene_id</th>\n",
       "      <th>target</th>\n",
       "    </tr>\n",
       "  </thead>\n",
       "  <tbody>\n",
       "    <tr>\n",
       "      <th>0</th>\n",
       "      <td>0</td>\n",
       "      <td>c2150f55becb</td>\n",
       "      <td>CD86</td>\n",
       "      <td>NaN</td>\n",
       "    </tr>\n",
       "    <tr>\n",
       "      <th>1</th>\n",
       "      <td>1</td>\n",
       "      <td>c2150f55becb</td>\n",
       "      <td>CD274</td>\n",
       "      <td>NaN</td>\n",
       "    </tr>\n",
       "    <tr>\n",
       "      <th>2</th>\n",
       "      <td>2</td>\n",
       "      <td>c2150f55becb</td>\n",
       "      <td>CD270</td>\n",
       "      <td>NaN</td>\n",
       "    </tr>\n",
       "    <tr>\n",
       "      <th>3</th>\n",
       "      <td>3</td>\n",
       "      <td>c2150f55becb</td>\n",
       "      <td>CD155</td>\n",
       "      <td>NaN</td>\n",
       "    </tr>\n",
       "    <tr>\n",
       "      <th>4</th>\n",
       "      <td>4</td>\n",
       "      <td>c2150f55becb</td>\n",
       "      <td>CD112</td>\n",
       "      <td>NaN</td>\n",
       "    </tr>\n",
       "    <tr>\n",
       "      <th>...</th>\n",
       "      <td>...</td>\n",
       "      <td>...</td>\n",
       "      <td>...</td>\n",
       "      <td>...</td>\n",
       "    </tr>\n",
       "    <tr>\n",
       "      <th>65744175</th>\n",
       "      <td>65744175</td>\n",
       "      <td>2c53aa67933d</td>\n",
       "      <td>ENSG00000134419</td>\n",
       "      <td>7.207031</td>\n",
       "    </tr>\n",
       "    <tr>\n",
       "      <th>65744176</th>\n",
       "      <td>65744176</td>\n",
       "      <td>2c53aa67933d</td>\n",
       "      <td>ENSG00000186862</td>\n",
       "      <td>0.047058</td>\n",
       "    </tr>\n",
       "    <tr>\n",
       "      <th>65744177</th>\n",
       "      <td>65744177</td>\n",
       "      <td>2c53aa67933d</td>\n",
       "      <td>ENSG00000170959</td>\n",
       "      <td>0.053619</td>\n",
       "    </tr>\n",
       "    <tr>\n",
       "      <th>65744178</th>\n",
       "      <td>65744178</td>\n",
       "      <td>2c53aa67933d</td>\n",
       "      <td>ENSG00000107874</td>\n",
       "      <td>1.371094</td>\n",
       "    </tr>\n",
       "    <tr>\n",
       "      <th>65744179</th>\n",
       "      <td>65744179</td>\n",
       "      <td>2c53aa67933d</td>\n",
       "      <td>ENSG00000166012</td>\n",
       "      <td>6.566406</td>\n",
       "    </tr>\n",
       "  </tbody>\n",
       "</table>\n",
       "<p>65744180 rows × 4 columns</p>\n",
       "</div>"
      ],
      "text/plain": [
       "            row_id       cell_id          gene_id    target\n",
       "0                0  c2150f55becb             CD86       NaN\n",
       "1                1  c2150f55becb            CD274       NaN\n",
       "2                2  c2150f55becb            CD270       NaN\n",
       "3                3  c2150f55becb            CD155       NaN\n",
       "4                4  c2150f55becb            CD112       NaN\n",
       "...            ...           ...              ...       ...\n",
       "65744175  65744175  2c53aa67933d  ENSG00000134419  7.207031\n",
       "65744176  65744176  2c53aa67933d  ENSG00000186862  0.047058\n",
       "65744177  65744177  2c53aa67933d  ENSG00000170959  0.053619\n",
       "65744178  65744178  2c53aa67933d  ENSG00000107874  1.371094\n",
       "65744179  65744179  2c53aa67933d  ENSG00000166012  6.566406\n",
       "\n",
       "[65744180 rows x 4 columns]"
      ]
     },
     "execution_count": 26,
     "metadata": {},
     "output_type": "execute_result"
    }
   ],
   "source": [
    "submission.reset_index()"
   ]
  },
  {
   "cell_type": "code",
   "execution_count": 27,
   "id": "3e3f0ee3",
   "metadata": {
    "execution": {
     "iopub.execute_input": "2022-12-22T11:11:44.254612Z",
     "iopub.status.busy": "2022-12-22T11:11:44.253824Z",
     "iopub.status.idle": "2022-12-22T11:11:47.494072Z",
     "shell.execute_reply": "2022-12-22T11:11:47.492815Z"
    },
    "papermill": {
     "duration": 3.264953,
     "end_time": "2022-12-22T11:11:47.496414",
     "exception": false,
     "start_time": "2022-12-22T11:11:44.231461",
     "status": "completed"
    },
    "tags": []
   },
   "outputs": [
    {
     "name": "stdout",
     "output_type": "stream",
     "text": [
      "CPU times: user 2.23 s, sys: 998 ms, total: 3.23 s\n",
      "Wall time: 3.23 s\n"
     ]
    },
    {
     "data": {
      "text/html": [
       "<div>\n",
       "<style scoped>\n",
       "    .dataframe tbody tr th:only-of-type {\n",
       "        vertical-align: middle;\n",
       "    }\n",
       "\n",
       "    .dataframe tbody tr th {\n",
       "        vertical-align: top;\n",
       "    }\n",
       "\n",
       "    .dataframe thead th {\n",
       "        text-align: right;\n",
       "    }\n",
       "</style>\n",
       "<table border=\"1\" class=\"dataframe\">\n",
       "  <thead>\n",
       "    <tr style=\"text-align: right;\">\n",
       "      <th></th>\n",
       "      <th>row_id</th>\n",
       "      <th>target</th>\n",
       "    </tr>\n",
       "  </thead>\n",
       "  <tbody>\n",
       "    <tr>\n",
       "      <th>0</th>\n",
       "      <td>0</td>\n",
       "      <td>NaN</td>\n",
       "    </tr>\n",
       "    <tr>\n",
       "      <th>1</th>\n",
       "      <td>1</td>\n",
       "      <td>NaN</td>\n",
       "    </tr>\n",
       "    <tr>\n",
       "      <th>2</th>\n",
       "      <td>2</td>\n",
       "      <td>NaN</td>\n",
       "    </tr>\n",
       "    <tr>\n",
       "      <th>3</th>\n",
       "      <td>3</td>\n",
       "      <td>NaN</td>\n",
       "    </tr>\n",
       "    <tr>\n",
       "      <th>4</th>\n",
       "      <td>4</td>\n",
       "      <td>NaN</td>\n",
       "    </tr>\n",
       "    <tr>\n",
       "      <th>...</th>\n",
       "      <td>...</td>\n",
       "      <td>...</td>\n",
       "    </tr>\n",
       "    <tr>\n",
       "      <th>65744175</th>\n",
       "      <td>65744175</td>\n",
       "      <td>7.207031</td>\n",
       "    </tr>\n",
       "    <tr>\n",
       "      <th>65744176</th>\n",
       "      <td>65744176</td>\n",
       "      <td>0.047058</td>\n",
       "    </tr>\n",
       "    <tr>\n",
       "      <th>65744177</th>\n",
       "      <td>65744177</td>\n",
       "      <td>0.053619</td>\n",
       "    </tr>\n",
       "    <tr>\n",
       "      <th>65744178</th>\n",
       "      <td>65744178</td>\n",
       "      <td>1.371094</td>\n",
       "    </tr>\n",
       "    <tr>\n",
       "      <th>65744179</th>\n",
       "      <td>65744179</td>\n",
       "      <td>6.566406</td>\n",
       "    </tr>\n",
       "  </tbody>\n",
       "</table>\n",
       "<p>65744180 rows × 2 columns</p>\n",
       "</div>"
      ],
      "text/plain": [
       "            row_id    target\n",
       "0                0       NaN\n",
       "1                1       NaN\n",
       "2                2       NaN\n",
       "3                3       NaN\n",
       "4                4       NaN\n",
       "...            ...       ...\n",
       "65744175  65744175  7.207031\n",
       "65744176  65744176  0.047058\n",
       "65744177  65744177  0.053619\n",
       "65744178  65744178  1.371094\n",
       "65744179  65744179  6.566406\n",
       "\n",
       "[65744180 rows x 2 columns]"
      ]
     },
     "execution_count": 27,
     "metadata": {},
     "output_type": "execute_result"
    }
   ],
   "source": [
    "%%time\n",
    "\n",
    "submission = submission.reset_index().drop(['cell_id', 'gene_id'], axis=1)\n",
    "submission"
   ]
  },
  {
   "cell_type": "code",
   "execution_count": 28,
   "id": "afc8dcf9",
   "metadata": {
    "execution": {
     "iopub.execute_input": "2022-12-22T11:11:47.541301Z",
     "iopub.status.busy": "2022-12-22T11:11:47.540838Z",
     "iopub.status.idle": "2022-12-22T11:11:47.554943Z",
     "shell.execute_reply": "2022-12-22T11:11:47.553650Z"
    },
    "papermill": {
     "duration": 0.039799,
     "end_time": "2022-12-22T11:11:47.557594",
     "exception": false,
     "start_time": "2022-12-22T11:11:47.517795",
     "status": "completed"
    },
    "tags": []
   },
   "outputs": [
    {
     "name": "stdout",
     "output_type": "stream",
     "text": [
      "CPU times: user 781 µs, sys: 0 ns, total: 781 µs\n",
      "Wall time: 777 µs\n"
     ]
    },
    {
     "data": {
      "text/html": [
       "<div>\n",
       "<style scoped>\n",
       "    .dataframe tbody tr th:only-of-type {\n",
       "        vertical-align: middle;\n",
       "    }\n",
       "\n",
       "    .dataframe tbody tr th {\n",
       "        vertical-align: top;\n",
       "    }\n",
       "\n",
       "    .dataframe thead th {\n",
       "        text-align: right;\n",
       "    }\n",
       "</style>\n",
       "<table border=\"1\" class=\"dataframe\">\n",
       "  <thead>\n",
       "    <tr style=\"text-align: right;\">\n",
       "      <th></th>\n",
       "      <th>target</th>\n",
       "    </tr>\n",
       "    <tr>\n",
       "      <th>row_id</th>\n",
       "      <th></th>\n",
       "    </tr>\n",
       "  </thead>\n",
       "  <tbody>\n",
       "    <tr>\n",
       "      <th>0</th>\n",
       "      <td>NaN</td>\n",
       "    </tr>\n",
       "    <tr>\n",
       "      <th>1</th>\n",
       "      <td>NaN</td>\n",
       "    </tr>\n",
       "    <tr>\n",
       "      <th>2</th>\n",
       "      <td>NaN</td>\n",
       "    </tr>\n",
       "    <tr>\n",
       "      <th>3</th>\n",
       "      <td>NaN</td>\n",
       "    </tr>\n",
       "    <tr>\n",
       "      <th>4</th>\n",
       "      <td>NaN</td>\n",
       "    </tr>\n",
       "    <tr>\n",
       "      <th>...</th>\n",
       "      <td>...</td>\n",
       "    </tr>\n",
       "    <tr>\n",
       "      <th>65744175</th>\n",
       "      <td>7.207031</td>\n",
       "    </tr>\n",
       "    <tr>\n",
       "      <th>65744176</th>\n",
       "      <td>0.047058</td>\n",
       "    </tr>\n",
       "    <tr>\n",
       "      <th>65744177</th>\n",
       "      <td>0.053619</td>\n",
       "    </tr>\n",
       "    <tr>\n",
       "      <th>65744178</th>\n",
       "      <td>1.371094</td>\n",
       "    </tr>\n",
       "    <tr>\n",
       "      <th>65744179</th>\n",
       "      <td>6.566406</td>\n",
       "    </tr>\n",
       "  </tbody>\n",
       "</table>\n",
       "<p>65744180 rows × 1 columns</p>\n",
       "</div>"
      ],
      "text/plain": [
       "            target\n",
       "row_id            \n",
       "0              NaN\n",
       "1              NaN\n",
       "2              NaN\n",
       "3              NaN\n",
       "4              NaN\n",
       "...            ...\n",
       "65744175  7.207031\n",
       "65744176  0.047058\n",
       "65744177  0.053619\n",
       "65744178  1.371094\n",
       "65744179  6.566406\n",
       "\n",
       "[65744180 rows x 1 columns]"
      ]
     },
     "execution_count": 28,
     "metadata": {},
     "output_type": "execute_result"
    }
   ],
   "source": [
    "%%time\n",
    "\n",
    "submission.set_index('row_id', inplace=True)\n",
    "submission\n"
   ]
  },
  {
   "cell_type": "code",
   "execution_count": 29,
   "id": "9ccf5a8a",
   "metadata": {
    "execution": {
     "iopub.execute_input": "2022-12-22T11:11:47.602470Z",
     "iopub.status.busy": "2022-12-22T11:11:47.602061Z",
     "iopub.status.idle": "2022-12-22T11:13:54.268584Z",
     "shell.execute_reply": "2022-12-22T11:13:54.267231Z"
    },
    "papermill": {
     "duration": 126.713701,
     "end_time": "2022-12-22T11:13:54.293115",
     "exception": false,
     "start_time": "2022-12-22T11:11:47.579414",
     "status": "completed"
    },
    "tags": []
   },
   "outputs": [
    {
     "name": "stdout",
     "output_type": "stream",
     "text": [
      "CPU times: user 2min 3s, sys: 3.22 s, total: 2min 6s\n",
      "Wall time: 2min 6s\n"
     ]
    }
   ],
   "source": [
    "%%time\n",
    "# Approximately 2 minutes\n",
    "\n",
    "# save as csv\n",
    "submission.to_csv('multiome_only_64.csv')"
   ]
  }
 ],
 "metadata": {
  "kernelspec": {
   "display_name": "Python 3",
   "language": "python",
   "name": "python3"
  },
  "language_info": {
   "codemirror_mode": {
    "name": "ipython",
    "version": 3
   },
   "file_extension": ".py",
   "mimetype": "text/x-python",
   "name": "python",
   "nbconvert_exporter": "python",
   "pygments_lexer": "ipython3",
   "version": "3.7.12"
  },
  "papermill": {
   "default_parameters": {},
   "duration": 4934.464318,
   "end_time": "2022-12-22T11:13:55.649588",
   "environment_variables": {},
   "exception": null,
   "input_path": "__notebook__.ipynb",
   "output_path": "__notebook__.ipynb",
   "parameters": {},
   "start_time": "2022-12-22T09:51:41.185270",
   "version": "2.3.4"
  }
 },
 "nbformat": 4,
 "nbformat_minor": 5
}
