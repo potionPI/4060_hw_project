{
 "cells": [
  {
   "cell_type": "markdown",
   "id": "7a2ff2f8",
   "metadata": {
    "papermill": {
     "duration": 0.008435,
     "end_time": "2022-12-22T09:51:30.773475",
     "exception": false,
     "start_time": "2022-12-22T09:51:30.765040",
     "status": "completed"
    },
    "tags": []
   },
   "source": [
    "Because the datasets are SO large (especially the Multiome dataset), instead of running both parts of the project in one notebook (and risk Kaggle running out of storage space then resetting all progress), it is more convenient to separate the multiome and citeseq parts of the project, then later merge the predicted outputs from the two parts together."
   ]
  },
  {
   "cell_type": "markdown",
   "id": "a19cce54",
   "metadata": {
    "papermill": {
     "duration": 0.007235,
     "end_time": "2022-12-22T09:51:30.788402",
     "exception": false,
     "start_time": "2022-12-22T09:51:30.781167",
     "status": "completed"
    },
    "tags": []
   },
   "source": [
    "This notebook concerns itself with the multiome portion."
   ]
  },
  {
   "cell_type": "markdown",
   "id": "3e5ff608",
   "metadata": {
    "papermill": {
     "duration": 0.007206,
     "end_time": "2022-12-22T09:51:30.803153",
     "exception": false,
     "start_time": "2022-12-22T09:51:30.795947",
     "status": "completed"
    },
    "tags": []
   },
   "source": [
    "# First, all the basic imports and file names which may or may not be used is loaded in essentially as a header"
   ]
  },
  {
   "cell_type": "code",
   "execution_count": 1,
   "id": "83bde4ce",
   "metadata": {
    "_cell_guid": "b1076dfc-b9ad-4769-8c92-a6c4dae69d19",
    "_uuid": "8f2839f25d086af736a60e9eeb907d3b93b6e0e5",
    "execution": {
     "iopub.execute_input": "2022-12-22T09:51:30.820120Z",
     "iopub.status.busy": "2022-12-22T09:51:30.819618Z",
     "iopub.status.idle": "2022-12-22T09:51:41.087183Z",
     "shell.execute_reply": "2022-12-22T09:51:41.085661Z"
    },
    "papermill": {
     "duration": 10.279074,
     "end_time": "2022-12-22T09:51:41.089806",
     "exception": false,
     "start_time": "2022-12-22T09:51:30.810732",
     "status": "completed"
    },
    "tags": []
   },
   "outputs": [
    {
     "name": "stdout",
     "output_type": "stream",
     "text": [
      "Requirement already satisfied: tables in /opt/conda/lib/python3.7/site-packages (3.7.0)\r\n",
      "Requirement already satisfied: numexpr>=2.6.2 in /opt/conda/lib/python3.7/site-packages (from tables) (2.8.3)\r\n",
      "Requirement already satisfied: numpy>=1.19.0 in /opt/conda/lib/python3.7/site-packages (from tables) (1.21.6)\r\n",
      "Requirement already satisfied: packaging in /opt/conda/lib/python3.7/site-packages (from tables) (21.3)\r\n",
      "Requirement already satisfied: pyparsing!=3.0.5,>=2.0.2 in /opt/conda/lib/python3.7/site-packages (from packaging->tables) (3.0.9)\r\n",
      "\u001b[33mWARNING: Running pip as the 'root' user can result in broken permissions and conflicting behaviour with the system package manager. It is recommended to use a virtual environment instead: https://pip.pypa.io/warnings/venv\u001b[0m\u001b[33m\r\n",
      "\u001b[0m"
     ]
    }
   ],
   "source": [
    "!pip install tables"
   ]
  },
  {
   "cell_type": "code",
   "execution_count": 2,
   "id": "da431c24",
   "metadata": {
    "execution": {
     "iopub.execute_input": "2022-12-22T09:51:41.108542Z",
     "iopub.status.busy": "2022-12-22T09:51:41.108153Z",
     "iopub.status.idle": "2022-12-22T09:51:42.253201Z",
     "shell.execute_reply": "2022-12-22T09:51:42.252153Z"
    },
    "papermill": {
     "duration": 1.156314,
     "end_time": "2022-12-22T09:51:42.255435",
     "exception": false,
     "start_time": "2022-12-22T09:51:41.099121",
     "status": "completed"
    },
    "tags": []
   },
   "outputs": [],
   "source": [
    "import os, gc, pickle, datetime, scipy.sparse\n",
    "import pandas as pd\n",
    "import matplotlib.pyplot as plt\n",
    "import numpy as np\n",
    "from colorama import Fore, Back, Style\n",
    "\n",
    "from sklearn.model_selection import GroupKFold\n",
    "from sklearn.preprocessing import StandardScaler\n",
    "from sklearn.decomposition import TruncatedSVD,PCA\n",
    "from sklearn.metrics import mean_squared_error\n",
    "\n",
    "import matplotlib.pyplot as plt\n",
    "from matplotlib.ticker import MaxNLocator\n",
    "import seaborn as sns\n",
    "from cycler import cycler\n",
    "from IPython.display import display\n",
    "\n",
    "import scipy.sparse"
   ]
  },
  {
   "cell_type": "code",
   "execution_count": 3,
   "id": "5b0071c8",
   "metadata": {
    "execution": {
     "iopub.execute_input": "2022-12-22T09:51:42.272946Z",
     "iopub.status.busy": "2022-12-22T09:51:42.272101Z",
     "iopub.status.idle": "2022-12-22T09:51:42.280472Z",
     "shell.execute_reply": "2022-12-22T09:51:42.279302Z"
    },
    "papermill": {
     "duration": 0.019088,
     "end_time": "2022-12-22T09:51:42.282421",
     "exception": false,
     "start_time": "2022-12-22T09:51:42.263333",
     "status": "completed"
    },
    "tags": []
   },
   "outputs": [],
   "source": [
    "# Directory of the data\n",
    "DATA_DIR = \"/kaggle/input/open-problems-multimodal/\"\n",
    "FP_CELL_METADATA = os.path.join(DATA_DIR,\"metadata.csv\")\n",
    "\n",
    "FP_CITE_TRAIN_INPUTS = os.path.join(DATA_DIR,\"train_cite_inputs.h5\")\n",
    "FP_CITE_TRAIN_TARGETS = os.path.join(DATA_DIR,\"train_cite_targets.h5\")\n",
    "FP_CITE_TEST_INPUTS = os.path.join(DATA_DIR,\"test_cite_inputs.h5\")\n",
    "\n",
    "FP_MULT_TRAIN_INPUTS = os.path.join(DATA_DIR,\"train_multi_inputs.h5\")\n",
    "FP_MULT_TRAIN_TARGETS = os.path.join(DATA_DIR,\"train_multi_targets.h5\")\n",
    "FP_MULT_TEST_INPUTS = os.path.join(DATA_DIR,\"test_multi_inputs.h5\")\n",
    "\n",
    "FP_MULT_TRAIN_TARGETS_idx = \"../input/multimodal-single-cell-as-sparse-matrix/train_multi_targets_idxcol.npz\"\n",
    "FP_MULT_TRAIN_TARGETS_sparse = \"../input/multimodal-single-cell-as-sparse-matrix/train_multi_targets_values.sparse.npz\"\n",
    "FP_MULT_TRAIN_INPUTS_idx = \"../input/multimodal-single-cell-as-sparse-matrix/train_multi_inputs_idxcol.npz\"\n",
    "FP_MULT_TRAIN_INPUTS_sparse = \"../input/multimodal-single-cell-as-sparse-matrix/train_multi_inputs_values.sparse.npz\"\n",
    "FP_MULT_TEST_INPUTS_idx = \"../input/multimodal-single-cell-as-sparse-matrix/test_multi_inputs_idxcol.npz\"\n",
    "FP_MULT_TEST_INPUTS_sparse = \"../input/multimodal-single-cell-as-sparse-matrix/test_multi_inputs_values.sparse.npz\"\n",
    "\n",
    "FP_SUBMISSION = os.path.join(DATA_DIR,\"sample_submission.csv\")\n",
    "FP_EVALUATION_IDS = os.path.join(DATA_DIR,\"evaluation_ids.csv\")\n",
    "\n",
    "FP_EVALUATION_IDS_parquet = \"../input/multimodal-single-cell-as-sparse-matrix/evaluation.parquet\"\n"
   ]
  },
  {
   "cell_type": "markdown",
   "id": "4a192bcd",
   "metadata": {
    "papermill": {
     "duration": 0.007295,
     "end_time": "2022-12-22T09:51:42.297673",
     "exception": false,
     "start_time": "2022-12-22T09:51:42.290378",
     "status": "completed"
    },
    "tags": []
   },
   "source": [
    "# Multiome\n",
    "\n",
    "Now the multiome portion begins\n",
    "\n",
    "Model from: https://www.kaggle.com/code/xiafire/msci-multiome-5-steps-x-5-folds-25-models"
   ]
  },
  {
   "cell_type": "markdown",
   "id": "e16db783",
   "metadata": {
    "papermill": {
     "duration": 0.007286,
     "end_time": "2022-12-22T09:51:42.312667",
     "exception": false,
     "start_time": "2022-12-22T09:51:42.305381",
     "status": "completed"
    },
    "tags": []
   },
   "source": [
    "## Load in the data"
   ]
  },
  {
   "cell_type": "code",
   "execution_count": 4,
   "id": "58090f23",
   "metadata": {
    "execution": {
     "iopub.execute_input": "2022-12-22T09:51:42.329619Z",
     "iopub.status.busy": "2022-12-22T09:51:42.329274Z",
     "iopub.status.idle": "2022-12-22T09:53:33.749010Z",
     "shell.execute_reply": "2022-12-22T09:53:33.747525Z"
    },
    "papermill": {
     "duration": 111.437595,
     "end_time": "2022-12-22T09:53:33.757957",
     "exception": false,
     "start_time": "2022-12-22T09:51:42.320362",
     "status": "completed"
    },
    "tags": []
   },
   "outputs": [
    {
     "name": "stdout",
     "output_type": "stream",
     "text": [
      "CPU times: user 50.8 s, sys: 3.88 s, total: 54.7 s\n",
      "Wall time: 1min 51s\n"
     ]
    }
   ],
   "source": [
    "%%time\n",
    "# 1 min 54 s\n",
    "\n",
    "train_inputs = scipy.sparse.load_npz(FP_MULT_TRAIN_INPUTS_sparse)\n",
    "train_inputs = train_inputs.astype('float16', copy=False)\n",
    "\n",
    "train_targets = scipy.sparse.load_npz(FP_MULT_TRAIN_TARGETS_sparse)\n",
    "\n",
    "test_inputs = scipy.sparse.load_npz(FP_MULT_TEST_INPUTS_sparse)\n",
    "\n",
    "\n",
    "train_target_cols = np.load(FP_MULT_TRAIN_TARGETS_idx,\n",
    "                    allow_pickle=True)[\"columns\"]\n",
    "\n",
    "test_input_rows = np.load(FP_MULT_TEST_INPUTS_idx,\n",
    "                  allow_pickle=True)[\"index\"]"
   ]
  },
  {
   "cell_type": "markdown",
   "id": "1b5e9fd5",
   "metadata": {
    "papermill": {
     "duration": 0.007839,
     "end_time": "2022-12-22T09:53:33.773612",
     "exception": false,
     "start_time": "2022-12-22T09:53:33.765773",
     "status": "completed"
    },
    "tags": []
   },
   "source": [
    "## Perform SVD"
   ]
  },
  {
   "cell_type": "code",
   "execution_count": 5,
   "id": "5b011f7f",
   "metadata": {
    "execution": {
     "iopub.execute_input": "2022-12-22T09:53:33.790567Z",
     "iopub.status.busy": "2022-12-22T09:53:33.790159Z",
     "iopub.status.idle": "2022-12-22T09:53:33.794960Z",
     "shell.execute_reply": "2022-12-22T09:53:33.793996Z"
    },
    "papermill": {
     "duration": 0.015544,
     "end_time": "2022-12-22T09:53:33.796764",
     "exception": false,
     "start_time": "2022-12-22T09:53:33.781220",
     "status": "completed"
    },
    "tags": []
   },
   "outputs": [],
   "source": [
    "num_components = 32 # this will be the setting for n_components\n",
    "random_state_num = 4060 # random state number"
   ]
  },
  {
   "cell_type": "code",
   "execution_count": 6,
   "id": "a038d3c5",
   "metadata": {
    "execution": {
     "iopub.execute_input": "2022-12-22T09:53:33.813902Z",
     "iopub.status.busy": "2022-12-22T09:53:33.813594Z",
     "iopub.status.idle": "2022-12-22T10:00:39.529756Z",
     "shell.execute_reply": "2022-12-22T10:00:39.526840Z"
    },
    "papermill": {
     "duration": 425.737888,
     "end_time": "2022-12-22T10:00:39.542683",
     "exception": false,
     "start_time": "2022-12-22T09:53:33.804795",
     "status": "completed"
    },
    "tags": []
   },
   "outputs": [
    {
     "name": "stdout",
     "output_type": "stream",
     "text": [
      "0.008240384\n",
      "CPU times: user 7min 3s, sys: 8.66 s, total: 7min 11s\n",
      "Wall time: 7min 5s\n"
     ]
    }
   ],
   "source": [
    "%%time\n",
    "# 34 minutes 24 seconds\n",
    "\n",
    "# reduce the dimensionality of the training inputs\n",
    "pca_inputs = TruncatedSVD(n_components=num_components, random_state=random_state_num)\n",
    "train_inputs = pca_inputs.fit_transform(train_inputs)\n",
    "\n",
    "print(pca_inputs.explained_variance_ratio_.sum())"
   ]
  },
  {
   "cell_type": "code",
   "execution_count": 7,
   "id": "ffdf7ef9",
   "metadata": {
    "execution": {
     "iopub.execute_input": "2022-12-22T10:00:39.561992Z",
     "iopub.status.busy": "2022-12-22T10:00:39.561538Z",
     "iopub.status.idle": "2022-12-22T10:02:01.395512Z",
     "shell.execute_reply": "2022-12-22T10:02:01.394297Z"
    },
    "papermill": {
     "duration": 81.854209,
     "end_time": "2022-12-22T10:02:01.405056",
     "exception": false,
     "start_time": "2022-12-22T10:00:39.550847",
     "status": "completed"
    },
    "tags": []
   },
   "outputs": [
    {
     "name": "stdout",
     "output_type": "stream",
     "text": [
      "0.10154436\n",
      "CPU times: user 1min 22s, sys: 3.89 s, total: 1min 26s\n",
      "Wall time: 1min 21s\n"
     ]
    }
   ],
   "source": [
    "%%time\n",
    "# 5 minutes 58 seconds\n",
    "\n",
    "# Reduce the dimensionality of the training targets\n",
    "pca_targets = TruncatedSVD(n_components=num_components, random_state=random_state_num)\n",
    "train_target = pca_targets.fit_transform(train_targets)\n",
    "print(pca_targets.explained_variance_ratio_.sum())"
   ]
  },
  {
   "cell_type": "markdown",
   "id": "97e515d6",
   "metadata": {
    "papermill": {
     "duration": 0.007534,
     "end_time": "2022-12-22T10:02:01.420360",
     "exception": false,
     "start_time": "2022-12-22T10:02:01.412826",
     "status": "completed"
    },
    "tags": []
   },
   "source": [
    "## Multiome learning model\n",
    "\n",
    "From: https://www.kaggle.com/code/xiafire/msci-multiome-5-steps-x-5-folds-25-models"
   ]
  },
  {
   "cell_type": "code",
   "execution_count": 8,
   "id": "a2c510a4",
   "metadata": {
    "execution": {
     "iopub.execute_input": "2022-12-22T10:02:01.437903Z",
     "iopub.status.busy": "2022-12-22T10:02:01.437500Z",
     "iopub.status.idle": "2022-12-22T10:02:01.457507Z",
     "shell.execute_reply": "2022-12-22T10:02:01.456479Z"
    },
    "papermill": {
     "duration": 0.032329,
     "end_time": "2022-12-22T10:02:01.460388",
     "exception": false,
     "start_time": "2022-12-22T10:02:01.428059",
     "status": "completed"
    },
    "tags": []
   },
   "outputs": [],
   "source": [
    "# Use kernel ridge regression\n",
    "from sklearn.gaussian_process.kernels import RBF\n",
    "from sklearn.kernel_ridge import KernelRidge\n",
    "kernel = RBF(length_scale = 10)\n",
    "krr = KernelRidge(alpha=0.2, kernel=kernel)"
   ]
  },
  {
   "cell_type": "code",
   "execution_count": 9,
   "id": "0f518ba6",
   "metadata": {
    "execution": {
     "iopub.execute_input": "2022-12-22T10:02:01.478381Z",
     "iopub.status.busy": "2022-12-22T10:02:01.477982Z",
     "iopub.status.idle": "2022-12-22T10:02:01.482680Z",
     "shell.execute_reply": "2022-12-22T10:02:01.481521Z"
    },
    "papermill": {
     "duration": 0.016132,
     "end_time": "2022-12-22T10:02:01.484722",
     "exception": false,
     "start_time": "2022-12-22T10:02:01.468590",
     "status": "completed"
    },
    "tags": []
   },
   "outputs": [],
   "source": [
    "n = 5 # 5 folds"
   ]
  },
  {
   "cell_type": "markdown",
   "id": "58037ef5",
   "metadata": {
    "papermill": {
     "duration": 0.007983,
     "end_time": "2022-12-22T10:02:01.500809",
     "exception": false,
     "start_time": "2022-12-22T10:02:01.492826",
     "status": "completed"
    },
    "tags": []
   },
   "source": [
    "correlation score from MSCI CITEseq Keras Quickstart by AMBROSM"
   ]
  },
  {
   "cell_type": "code",
   "execution_count": 10,
   "id": "1e491e79",
   "metadata": {
    "execution": {
     "iopub.execute_input": "2022-12-22T10:02:01.520667Z",
     "iopub.status.busy": "2022-12-22T10:02:01.519343Z",
     "iopub.status.idle": "2022-12-22T10:02:01.528726Z",
     "shell.execute_reply": "2022-12-22T10:02:01.527053Z"
    },
    "papermill": {
     "duration": 0.02186,
     "end_time": "2022-12-22T10:02:01.531471",
     "exception": false,
     "start_time": "2022-12-22T10:02:01.509611",
     "status": "completed"
    },
    "tags": []
   },
   "outputs": [],
   "source": [
    "def correlation_score(y_true, y_pred):\n",
    "    \"\"\"Scores the predictions according to the competition rules. \n",
    "    \n",
    "    It is assumed that the predictions are not constant.\n",
    "    \n",
    "    Returns the average of each sample's Pearson correlation coefficient\"\"\"\n",
    "    if type(y_true) == pd.DataFrame: y_true = y_true.values\n",
    "    if type(y_pred) == pd.DataFrame: y_pred = y_pred.values\n",
    "    if y_true.shape != y_pred.shape: raise ValueError(\"Shapes are different.\")\n",
    "    corrsum = 0\n",
    "    for i in range(len(y_true)):\n",
    "        corrsum += np.corrcoef(y_true[i], y_pred[i])[1, 0]\n",
    "    return corrsum / len(y_true)"
   ]
  },
  {
   "cell_type": "code",
   "execution_count": 11,
   "id": "0edaa290",
   "metadata": {
    "execution": {
     "iopub.execute_input": "2022-12-22T10:02:01.550019Z",
     "iopub.status.busy": "2022-12-22T10:02:01.549083Z",
     "iopub.status.idle": "2022-12-22T10:15:50.180182Z",
     "shell.execute_reply": "2022-12-22T10:15:50.179183Z"
    },
    "papermill": {
     "duration": 828.653247,
     "end_time": "2022-12-22T10:15:50.193056",
     "exception": false,
     "start_time": "2022-12-22T10:02:01.539809",
     "status": "completed"
    },
    "tags": []
   },
   "outputs": [
    {
     "name": "stdout",
     "output_type": "stream",
     "text": [
      "start [0:21188]\n",
      "Train...\n",
      "0 0.6682822039680775\n",
      "Train...\n",
      "1 0.6685423789226382\n",
      "Train...\n",
      "2 0.6683247290583874\n",
      "Train...\n",
      "3 0.6674992456251114\n",
      "Train...\n",
      "4 0.6681502989691507\n",
      "start [21188:42376]\n",
      "Train...\n",
      "5 0.6677000872544926\n",
      "Train...\n",
      "6 0.6669404886844817\n",
      "Train...\n",
      "7 0.6690231110314144\n",
      "Train...\n",
      "8 0.6677712568433687\n",
      "Train...\n",
      "9 0.6680094590291245\n",
      "start [42376:63564]\n",
      "Train...\n",
      "10 0.6680071266413165\n",
      "Train...\n",
      "11 0.667344241699215\n",
      "Train...\n",
      "12 0.6669496109615377\n",
      "Train...\n",
      "13 0.6679260865085037\n",
      "Train...\n",
      "14 0.6678491788531686\n",
      "start [63564:84752]\n",
      "Train...\n",
      "15 0.6678259170413687\n",
      "Train...\n",
      "16 0.6683554384880745\n",
      "Train...\n",
      "17 0.6660845812373106\n",
      "Train...\n",
      "18 0.6679400901607607\n",
      "Train...\n",
      "19 0.6686431731628043\n",
      "start [84752:105940]\n",
      "Train...\n",
      "20 0.6683838962894157\n",
      "Train...\n",
      "21 0.6684722507866451\n",
      "Train...\n",
      "22 0.6676297959777407\n",
      "Train...\n",
      "23 0.6691010819157034\n",
      "Train...\n",
      "24 0.670624865461368\n",
      "CPU times: user 37min 52s, sys: 2min 44s, total: 40min 37s\n",
      "Wall time: 13min 48s\n"
     ]
    }
   ],
   "source": [
    "%%time\n",
    "# 47 min 59 s\n",
    "\n",
    "# Perform training\n",
    "from sklearn.model_selection import KFold\n",
    "import os, gc, pickle\n",
    "\n",
    "np.random.seed(random_state_num)\n",
    "all_row_indices = np.arange(train_inputs.shape[0])\n",
    "np.random.shuffle(all_row_indices)\n",
    "\n",
    "kf = KFold(n_splits=5, shuffle=True, random_state=random_state_num)\n",
    "\n",
    "index = 0\n",
    "score = []\n",
    "\n",
    "d = train_inputs.shape[0]//n\n",
    "for i in range(0, n*d, d):\n",
    "    print(f'start [{i}:{i+d}]')\n",
    "    ind = all_row_indices[i:i+d]    \n",
    "    for idx_tr, idx_va in kf.split(ind):\n",
    "        X = train_inputs[ind]\n",
    "        Y = train_target[ind] #.todense()\n",
    "        Yva = train_targets[ind][idx_va]\n",
    "        Xtr, Xva = X[idx_tr], X[idx_va]\n",
    "        Ytr = Y[idx_tr]\n",
    "        del X, Y\n",
    "        gc.collect()\n",
    "        \n",
    "        print('Train...')\n",
    "        model = krr #Ridge(copy_X=False)\n",
    "        model.fit(Xtr, Ytr)\n",
    "        del Xtr, Ytr\n",
    "        gc.collect()\n",
    "        \n",
    "        s = correlation_score(Yva.todense(), model.predict(Xva)@pca_targets.components_)\n",
    "        score.append(s)\n",
    "        print(index, s)\n",
    "        del Xva, Yva\n",
    "        gc.collect()\n",
    "        \n",
    "        pkl_filename = f\"model{index:02d}.pkl\"\n",
    "        index += 1\n",
    "        with open(pkl_filename, 'wb') as file:\n",
    "            pickle.dump(model, file)\n",
    "    gc.collect()"
   ]
  },
  {
   "cell_type": "code",
   "execution_count": 12,
   "id": "12bcc11d",
   "metadata": {
    "execution": {
     "iopub.execute_input": "2022-12-22T10:15:50.216486Z",
     "iopub.status.busy": "2022-12-22T10:15:50.216082Z",
     "iopub.status.idle": "2022-12-22T10:15:50.407020Z",
     "shell.execute_reply": "2022-12-22T10:15:50.405960Z"
    },
    "papermill": {
     "duration": 0.205078,
     "end_time": "2022-12-22T10:15:50.408964",
     "exception": false,
     "start_time": "2022-12-22T10:15:50.203886",
     "status": "completed"
    },
    "tags": []
   },
   "outputs": [
    {
     "data": {
      "text/plain": [
       "21"
      ]
     },
     "execution_count": 12,
     "metadata": {},
     "output_type": "execute_result"
    }
   ],
   "source": [
    "# Delete variables to free up space\n",
    "del train_inputs # Multiome training data, has SVD applied (inputs)\n",
    "del train_targets # Multiome training data, no SVD applied (targets)\n",
    "del train_target # Multiome training data after SVD (targets)\n",
    "gc.collect()"
   ]
  },
  {
   "cell_type": "markdown",
   "id": "b303ae88",
   "metadata": {
    "papermill": {
     "duration": 0.010661,
     "end_time": "2022-12-22T10:15:50.430668",
     "exception": false,
     "start_time": "2022-12-22T10:15:50.420007",
     "status": "completed"
    },
    "tags": []
   },
   "source": [
    "## Predictions for multiome"
   ]
  },
  {
   "cell_type": "code",
   "execution_count": 13,
   "id": "d7413822",
   "metadata": {
    "execution": {
     "iopub.execute_input": "2022-12-22T10:15:50.454510Z",
     "iopub.status.busy": "2022-12-22T10:15:50.454113Z",
     "iopub.status.idle": "2022-12-22T10:16:00.233445Z",
     "shell.execute_reply": "2022-12-22T10:16:00.232490Z"
    },
    "papermill": {
     "duration": 9.793749,
     "end_time": "2022-12-22T10:16:00.235344",
     "exception": false,
     "start_time": "2022-12-22T10:15:50.441595",
     "status": "completed"
    },
    "tags": []
   },
   "outputs": [
    {
     "name": "stdout",
     "output_type": "stream",
     "text": [
      "CPU times: user 9.72 s, sys: 52.5 ms, total: 9.77 s\n",
      "Wall time: 9.77 s\n"
     ]
    }
   ],
   "source": [
    "%%time\n",
    "# 1 min 12 s\n",
    "\n",
    "# For test inputs, match the pca transform of the training inputs\n",
    "test_inputs = pca_inputs.transform(test_inputs)"
   ]
  },
  {
   "cell_type": "code",
   "execution_count": 14,
   "id": "a43c151a",
   "metadata": {
    "execution": {
     "iopub.execute_input": "2022-12-22T10:16:00.259135Z",
     "iopub.status.busy": "2022-12-22T10:16:00.258795Z",
     "iopub.status.idle": "2022-12-22T10:16:00.379666Z",
     "shell.execute_reply": "2022-12-22T10:16:00.378393Z"
    },
    "papermill": {
     "duration": 0.135834,
     "end_time": "2022-12-22T10:16:00.382273",
     "exception": false,
     "start_time": "2022-12-22T10:16:00.246439",
     "status": "completed"
    },
    "tags": []
   },
   "outputs": [
    {
     "name": "stdout",
     "output_type": "stream",
     "text": [
      "CPU times: user 111 ms, sys: 952 µs, total: 112 ms\n",
      "Wall time: 111 ms\n"
     ]
    },
    {
     "data": {
      "text/plain": [
       "42"
      ]
     },
     "execution_count": 14,
     "metadata": {},
     "output_type": "execute_result"
    }
   ],
   "source": [
    "%%time\n",
    "# less than a second\n",
    "\n",
    "test_len = test_inputs.shape[0]\n",
    "d = test_len//n\n",
    "x = []\n",
    "for i in range(n):\n",
    "    x.append(test_inputs[i*d:i*d+d])\n",
    "    \n",
    "del test_inputs\n",
    "gc.collect()"
   ]
  },
  {
   "cell_type": "code",
   "execution_count": 15,
   "id": "1221c629",
   "metadata": {
    "execution": {
     "iopub.execute_input": "2022-12-22T10:16:00.406959Z",
     "iopub.status.busy": "2022-12-22T10:16:00.406557Z",
     "iopub.status.idle": "2022-12-22T10:30:56.742782Z",
     "shell.execute_reply": "2022-12-22T10:30:56.742157Z"
    },
    "papermill": {
     "duration": 896.369284,
     "end_time": "2022-12-22T10:30:56.762833",
     "exception": false,
     "start_time": "2022-12-22T10:16:00.393549",
     "status": "completed"
    },
    "tags": []
   },
   "outputs": [
    {
     "name": "stdout",
     "output_type": "stream",
     "text": [
      "0 1 2 3 4 5 6 7 8 9 10 11 12 13 14 15 16 17 18 19 20 21 22 23 24 \n",
      "0 1 2 3 4 5 6 7 8 9 10 11 12 13 14 15 16 17 18 19 20 21 22 23 24 \n",
      "0 1 2 3 4 5 6 7 8 9 10 11 12 13 14 15 16 17 18 19 20 21 22 23 24 \n",
      "0 1 2 3 4 5 6 7 8 9 10 11 12 13 14 15 16 17 18 19 20 21 22 23 24 \n",
      "0 1 2 3 4 5 6 7 8 9 10 11 12 13 14 15 16 17 18 19 20 21 22 23 24 \n",
      "CPU times: user 18min 2s, sys: 2min 48s, total: 20min 50s\n",
      "Wall time: 14min 56s\n"
     ]
    },
    {
     "data": {
      "text/plain": [
       "0"
      ]
     },
     "execution_count": 15,
     "metadata": {},
     "output_type": "execute_result"
    }
   ],
   "source": [
    "%%time\n",
    "# 1 h 34 min 47 s\n",
    "\n",
    "preds = np.zeros((test_len, 23418), dtype='float16')\n",
    "for i,xx in enumerate(x):\n",
    "    for ind in range(index): # index gives the number of models (25)\n",
    "        print(ind, end=' ')\n",
    "        with open(f'model{ind:02}.pkl', 'rb') as file:\n",
    "            model = pickle.load(file)\n",
    "        preds[i*d:i*d+d,:] += (model.predict(xx)@pca_targets.components_)/index\n",
    "        gc.collect()\n",
    "    print('')\n",
    "    del xx\n",
    "gc.collect()"
   ]
  },
  {
   "cell_type": "code",
   "execution_count": 16,
   "id": "1c783c35",
   "metadata": {
    "execution": {
     "iopub.execute_input": "2022-12-22T10:30:56.801186Z",
     "iopub.status.busy": "2022-12-22T10:30:56.800542Z",
     "iopub.status.idle": "2022-12-22T10:30:56.927405Z",
     "shell.execute_reply": "2022-12-22T10:30:56.926560Z"
    },
    "papermill": {
     "duration": 0.148621,
     "end_time": "2022-12-22T10:30:56.929319",
     "exception": false,
     "start_time": "2022-12-22T10:30:56.780698",
     "status": "completed"
    },
    "tags": []
   },
   "outputs": [
    {
     "data": {
      "text/plain": [
       "21"
      ]
     },
     "execution_count": 16,
     "metadata": {},
     "output_type": "execute_result"
    }
   ],
   "source": [
    "del x\n",
    "gc.collect()"
   ]
  },
  {
   "cell_type": "code",
   "execution_count": 17,
   "id": "dd16396c",
   "metadata": {
    "execution": {
     "iopub.execute_input": "2022-12-22T10:30:56.967640Z",
     "iopub.status.busy": "2022-12-22T10:30:56.966946Z",
     "iopub.status.idle": "2022-12-22T10:30:58.493382Z",
     "shell.execute_reply": "2022-12-22T10:30:58.492298Z"
    },
    "papermill": {
     "duration": 1.549052,
     "end_time": "2022-12-22T10:30:58.496479",
     "exception": false,
     "start_time": "2022-12-22T10:30:56.947427",
     "status": "completed"
    },
    "tags": []
   },
   "outputs": [
    {
     "name": "stdout",
     "output_type": "stream",
     "text": [
      "CPU times: user 3.05 ms, sys: 1.52 s, total: 1.52 s\n",
      "Wall time: 1.52 s\n"
     ]
    }
   ],
   "source": [
    "%%time\n",
    "# 4.38 s\n",
    "np.save('preds.npy', preds) # save predictions"
   ]
  },
  {
   "cell_type": "code",
   "execution_count": 18,
   "id": "3bd7e409",
   "metadata": {
    "execution": {
     "iopub.execute_input": "2022-12-22T10:30:58.535687Z",
     "iopub.status.busy": "2022-12-22T10:30:58.535255Z",
     "iopub.status.idle": "2022-12-22T10:30:58.544266Z",
     "shell.execute_reply": "2022-12-22T10:30:58.542512Z"
    },
    "papermill": {
     "duration": 0.032852,
     "end_time": "2022-12-22T10:30:58.548272",
     "exception": false,
     "start_time": "2022-12-22T10:30:58.515420",
     "status": "completed"
    },
    "tags": []
   },
   "outputs": [
    {
     "name": "stdout",
     "output_type": "stream",
     "text": [
      "CPU times: user 25 µs, sys: 2 µs, total: 27 µs\n",
      "Wall time: 31 µs\n"
     ]
    },
    {
     "data": {
      "text/plain": [
       "array([[0.7593, 0.3389, 0.2305, ..., 1.016 , 1.483 , 2.32  ],\n",
       "       [0.6523, 0.385 , 0.4346, ..., 1.4   , 1.399 , 2.318 ],\n",
       "       [0.6807, 0.2515, 0.4285, ..., 0.9033, 1.198 , 1.868 ],\n",
       "       ...,\n",
       "       [0.274 , 0.2947, 0.3638, ..., 1.141 , 0.62  , 2.166 ],\n",
       "       [0.3513, 0.3254, 0.327 , ..., 1.295 , 1.12  , 2.47  ],\n",
       "       [0.6416, 0.462 , 0.202 , ..., 1.312 , 4.203 , 3.256 ]],\n",
       "      dtype=float16)"
      ]
     },
     "execution_count": 18,
     "metadata": {},
     "output_type": "execute_result"
    }
   ],
   "source": [
    "%%time\n",
    "# less than a minute\n",
    "preds = preds.astype('float16', copy=False)\n",
    "preds"
   ]
  },
  {
   "cell_type": "markdown",
   "id": "216db248",
   "metadata": {
    "papermill": {
     "duration": 0.017722,
     "end_time": "2022-12-22T10:30:58.584684",
     "exception": false,
     "start_time": "2022-12-22T10:30:58.566962",
     "status": "completed"
    },
    "tags": []
   },
   "source": [
    "## Submission format and save"
   ]
  },
  {
   "cell_type": "code",
   "execution_count": 19,
   "id": "69408e35",
   "metadata": {
    "execution": {
     "iopub.execute_input": "2022-12-22T10:30:58.624435Z",
     "iopub.status.busy": "2022-12-22T10:30:58.622970Z",
     "iopub.status.idle": "2022-12-22T10:31:26.992066Z",
     "shell.execute_reply": "2022-12-22T10:31:26.990402Z"
    },
    "papermill": {
     "duration": 28.3912,
     "end_time": "2022-12-22T10:31:26.994115",
     "exception": false,
     "start_time": "2022-12-22T10:30:58.602915",
     "status": "completed"
    },
    "tags": []
   },
   "outputs": [
    {
     "name": "stdout",
     "output_type": "stream",
     "text": [
      "CPU times: user 23.9 s, sys: 4.7 s, total: 28.6 s\n",
      "Wall time: 28.4 s\n"
     ]
    }
   ],
   "source": [
    "%%time\n",
    "# 42 seconds\n",
    "\n",
    "# Read the table of rows and columns required for submission\n",
    "eval_ids = pd.read_parquet(FP_EVALUATION_IDS_parquet)\n",
    "# Convert the string columns to more efficient categorical types\n",
    "#eval_ids.cell_id = eval_ids.cell_id.apply(lambda s: int(s, base=16))\n",
    "eval_ids.cell_id = eval_ids.cell_id.astype(pd.CategoricalDtype())\n",
    "eval_ids.gene_id = eval_ids.gene_id.astype(pd.CategoricalDtype())"
   ]
  },
  {
   "cell_type": "code",
   "execution_count": 20,
   "id": "24b278d7",
   "metadata": {
    "execution": {
     "iopub.execute_input": "2022-12-22T10:31:27.031565Z",
     "iopub.status.busy": "2022-12-22T10:31:27.030941Z",
     "iopub.status.idle": "2022-12-22T10:31:40.668806Z",
     "shell.execute_reply": "2022-12-22T10:31:40.667293Z"
    },
    "papermill": {
     "duration": 13.659339,
     "end_time": "2022-12-22T10:31:40.671543",
     "exception": false,
     "start_time": "2022-12-22T10:31:27.012204",
     "status": "completed"
    },
    "tags": []
   },
   "outputs": [
    {
     "data": {
      "text/plain": [
       "row_id    cell_id       gene_id        \n",
       "0         c2150f55becb  CD86              NaN\n",
       "1         c2150f55becb  CD274             NaN\n",
       "2         c2150f55becb  CD270             NaN\n",
       "3         c2150f55becb  CD155             NaN\n",
       "4         c2150f55becb  CD112             NaN\n",
       "                                           ..\n",
       "65744175  2c53aa67933d  ENSG00000134419   NaN\n",
       "65744176  2c53aa67933d  ENSG00000186862   NaN\n",
       "65744177  2c53aa67933d  ENSG00000170959   NaN\n",
       "65744178  2c53aa67933d  ENSG00000107874   NaN\n",
       "65744179  2c53aa67933d  ENSG00000166012   NaN\n",
       "Name: target, Length: 65744180, dtype: float32"
      ]
     },
     "execution_count": 20,
     "metadata": {},
     "output_type": "execute_result"
    }
   ],
   "source": [
    "# Prepare an empty series which will be filled with predictions\n",
    "submission = pd.Series(name='target',\n",
    "                       index=pd.MultiIndex.from_frame(eval_ids), \n",
    "                       dtype=np.float32)\n",
    "submission"
   ]
  },
  {
   "cell_type": "code",
   "execution_count": 21,
   "id": "6606d101",
   "metadata": {
    "execution": {
     "iopub.execute_input": "2022-12-22T10:31:40.712619Z",
     "iopub.status.busy": "2022-12-22T10:31:40.712259Z",
     "iopub.status.idle": "2022-12-22T10:31:40.744641Z",
     "shell.execute_reply": "2022-12-22T10:31:40.743311Z"
    },
    "papermill": {
     "duration": 0.055727,
     "end_time": "2022-12-22T10:31:40.746915",
     "exception": false,
     "start_time": "2022-12-22T10:31:40.691188",
     "status": "completed"
    },
    "tags": []
   },
   "outputs": [
    {
     "name": "stdout",
     "output_type": "stream",
     "text": [
      "CPU times: user 23.1 ms, sys: 1.01 ms, total: 24.1 ms\n",
      "Wall time: 24 ms\n"
     ]
    }
   ],
   "source": [
    "%%time\n",
    "# 34.5 ms\n",
    "\n",
    "cell_dict = dict((k,v) for v,k in enumerate(test_input_rows)) \n",
    "assert len(cell_dict)  == len(test_input_rows)\n",
    "\n",
    "gene_dict = dict((k,v) for v,k in enumerate(train_target_cols))\n",
    "assert len(gene_dict) == len(train_target_cols)"
   ]
  },
  {
   "cell_type": "code",
   "execution_count": 22,
   "id": "d48638f2",
   "metadata": {
    "execution": {
     "iopub.execute_input": "2022-12-22T10:31:40.786004Z",
     "iopub.status.busy": "2022-12-22T10:31:40.785349Z",
     "iopub.status.idle": "2022-12-22T10:31:42.197487Z",
     "shell.execute_reply": "2022-12-22T10:31:42.196223Z"
    },
    "papermill": {
     "duration": 1.433702,
     "end_time": "2022-12-22T10:31:42.199605",
     "exception": false,
     "start_time": "2022-12-22T10:31:40.765903",
     "status": "completed"
    },
    "tags": []
   },
   "outputs": [
    {
     "name": "stdout",
     "output_type": "stream",
     "text": [
      "CPU times: user 1.22 s, sys: 361 ms, total: 1.58 s\n",
      "Wall time: 1.4 s\n"
     ]
    }
   ],
   "source": [
    "%%time\n",
    "# 2.92 s\n",
    "\n",
    "eval_ids_cell_num = eval_ids.cell_id.apply(lambda x:cell_dict.get(x, -1))\n",
    "eval_ids_gene_num = eval_ids.gene_id.apply(lambda x:gene_dict.get(x, -1))\n",
    "\n",
    "valid_multi_rows = (eval_ids_gene_num !=-1) & (eval_ids_cell_num!=-1)"
   ]
  },
  {
   "cell_type": "code",
   "execution_count": 23,
   "id": "96933c92",
   "metadata": {
    "execution": {
     "iopub.execute_input": "2022-12-22T10:31:42.239506Z",
     "iopub.status.busy": "2022-12-22T10:31:42.238679Z",
     "iopub.status.idle": "2022-12-22T10:31:43.913526Z",
     "shell.execute_reply": "2022-12-22T10:31:43.912043Z"
    },
    "papermill": {
     "duration": 1.698524,
     "end_time": "2022-12-22T10:31:43.917005",
     "exception": false,
     "start_time": "2022-12-22T10:31:42.218481",
     "status": "completed"
    },
    "tags": []
   },
   "outputs": [
    {
     "name": "stdout",
     "output_type": "stream",
     "text": [
      "CPU times: user 1.39 s, sys: 281 ms, total: 1.67 s\n",
      "Wall time: 1.67 s\n"
     ]
    }
   ],
   "source": [
    "%%time\n",
    "# 4.78 s\n",
    "\n",
    "submission.iloc[valid_multi_rows] = preds[eval_ids_cell_num[valid_multi_rows].to_numpy(),\n",
    "eval_ids_gene_num[valid_multi_rows].to_numpy()]"
   ]
  },
  {
   "cell_type": "code",
   "execution_count": 24,
   "id": "18a31a86",
   "metadata": {
    "execution": {
     "iopub.execute_input": "2022-12-22T10:31:43.957659Z",
     "iopub.status.busy": "2022-12-22T10:31:43.956272Z",
     "iopub.status.idle": "2022-12-22T10:31:44.116686Z",
     "shell.execute_reply": "2022-12-22T10:31:44.115529Z"
    },
    "papermill": {
     "duration": 0.183286,
     "end_time": "2022-12-22T10:31:44.119971",
     "exception": false,
     "start_time": "2022-12-22T10:31:43.936685",
     "status": "completed"
    },
    "tags": []
   },
   "outputs": [
    {
     "data": {
      "text/plain": [
       "55"
      ]
     },
     "execution_count": 24,
     "metadata": {},
     "output_type": "execute_result"
    }
   ],
   "source": [
    "del eval_ids_cell_num, eval_ids_gene_num, valid_multi_rows, eval_ids, test_input_rows, train_target_cols\n",
    "gc.collect()"
   ]
  },
  {
   "cell_type": "code",
   "execution_count": 25,
   "id": "b9734cfd",
   "metadata": {
    "execution": {
     "iopub.execute_input": "2022-12-22T10:31:44.167551Z",
     "iopub.status.busy": "2022-12-22T10:31:44.166814Z",
     "iopub.status.idle": "2022-12-22T10:31:44.178817Z",
     "shell.execute_reply": "2022-12-22T10:31:44.177832Z"
    },
    "papermill": {
     "duration": 0.035926,
     "end_time": "2022-12-22T10:31:44.180900",
     "exception": false,
     "start_time": "2022-12-22T10:31:44.144974",
     "status": "completed"
    },
    "tags": []
   },
   "outputs": [
    {
     "data": {
      "text/plain": [
       "row_id    cell_id       gene_id        \n",
       "0         c2150f55becb  CD86                    NaN\n",
       "1         c2150f55becb  CD274                   NaN\n",
       "2         c2150f55becb  CD270                   NaN\n",
       "3         c2150f55becb  CD155                   NaN\n",
       "4         c2150f55becb  CD112                   NaN\n",
       "                                             ...   \n",
       "65744175  2c53aa67933d  ENSG00000134419    6.183594\n",
       "65744176  2c53aa67933d  ENSG00000186862    0.044525\n",
       "65744177  2c53aa67933d  ENSG00000170959    0.039185\n",
       "65744178  2c53aa67933d  ENSG00000107874    1.047852\n",
       "65744179  2c53aa67933d  ENSG00000166012    5.597656\n",
       "Name: target, Length: 65744180, dtype: float32"
      ]
     },
     "execution_count": 25,
     "metadata": {},
     "output_type": "execute_result"
    }
   ],
   "source": [
    "submission"
   ]
  },
  {
   "cell_type": "code",
   "execution_count": 26,
   "id": "9a158e46",
   "metadata": {
    "execution": {
     "iopub.execute_input": "2022-12-22T10:31:44.226451Z",
     "iopub.status.busy": "2022-12-22T10:31:44.225008Z",
     "iopub.status.idle": "2022-12-22T10:31:45.785437Z",
     "shell.execute_reply": "2022-12-22T10:31:45.783965Z"
    },
    "papermill": {
     "duration": 1.585096,
     "end_time": "2022-12-22T10:31:45.788139",
     "exception": false,
     "start_time": "2022-12-22T10:31:44.203043",
     "status": "completed"
    },
    "tags": []
   },
   "outputs": [
    {
     "data": {
      "text/html": [
       "<div>\n",
       "<style scoped>\n",
       "    .dataframe tbody tr th:only-of-type {\n",
       "        vertical-align: middle;\n",
       "    }\n",
       "\n",
       "    .dataframe tbody tr th {\n",
       "        vertical-align: top;\n",
       "    }\n",
       "\n",
       "    .dataframe thead th {\n",
       "        text-align: right;\n",
       "    }\n",
       "</style>\n",
       "<table border=\"1\" class=\"dataframe\">\n",
       "  <thead>\n",
       "    <tr style=\"text-align: right;\">\n",
       "      <th></th>\n",
       "      <th>row_id</th>\n",
       "      <th>cell_id</th>\n",
       "      <th>gene_id</th>\n",
       "      <th>target</th>\n",
       "    </tr>\n",
       "  </thead>\n",
       "  <tbody>\n",
       "    <tr>\n",
       "      <th>0</th>\n",
       "      <td>0</td>\n",
       "      <td>c2150f55becb</td>\n",
       "      <td>CD86</td>\n",
       "      <td>NaN</td>\n",
       "    </tr>\n",
       "    <tr>\n",
       "      <th>1</th>\n",
       "      <td>1</td>\n",
       "      <td>c2150f55becb</td>\n",
       "      <td>CD274</td>\n",
       "      <td>NaN</td>\n",
       "    </tr>\n",
       "    <tr>\n",
       "      <th>2</th>\n",
       "      <td>2</td>\n",
       "      <td>c2150f55becb</td>\n",
       "      <td>CD270</td>\n",
       "      <td>NaN</td>\n",
       "    </tr>\n",
       "    <tr>\n",
       "      <th>3</th>\n",
       "      <td>3</td>\n",
       "      <td>c2150f55becb</td>\n",
       "      <td>CD155</td>\n",
       "      <td>NaN</td>\n",
       "    </tr>\n",
       "    <tr>\n",
       "      <th>4</th>\n",
       "      <td>4</td>\n",
       "      <td>c2150f55becb</td>\n",
       "      <td>CD112</td>\n",
       "      <td>NaN</td>\n",
       "    </tr>\n",
       "    <tr>\n",
       "      <th>...</th>\n",
       "      <td>...</td>\n",
       "      <td>...</td>\n",
       "      <td>...</td>\n",
       "      <td>...</td>\n",
       "    </tr>\n",
       "    <tr>\n",
       "      <th>65744175</th>\n",
       "      <td>65744175</td>\n",
       "      <td>2c53aa67933d</td>\n",
       "      <td>ENSG00000134419</td>\n",
       "      <td>6.183594</td>\n",
       "    </tr>\n",
       "    <tr>\n",
       "      <th>65744176</th>\n",
       "      <td>65744176</td>\n",
       "      <td>2c53aa67933d</td>\n",
       "      <td>ENSG00000186862</td>\n",
       "      <td>0.044525</td>\n",
       "    </tr>\n",
       "    <tr>\n",
       "      <th>65744177</th>\n",
       "      <td>65744177</td>\n",
       "      <td>2c53aa67933d</td>\n",
       "      <td>ENSG00000170959</td>\n",
       "      <td>0.039185</td>\n",
       "    </tr>\n",
       "    <tr>\n",
       "      <th>65744178</th>\n",
       "      <td>65744178</td>\n",
       "      <td>2c53aa67933d</td>\n",
       "      <td>ENSG00000107874</td>\n",
       "      <td>1.047852</td>\n",
       "    </tr>\n",
       "    <tr>\n",
       "      <th>65744179</th>\n",
       "      <td>65744179</td>\n",
       "      <td>2c53aa67933d</td>\n",
       "      <td>ENSG00000166012</td>\n",
       "      <td>5.597656</td>\n",
       "    </tr>\n",
       "  </tbody>\n",
       "</table>\n",
       "<p>65744180 rows × 4 columns</p>\n",
       "</div>"
      ],
      "text/plain": [
       "            row_id       cell_id          gene_id    target\n",
       "0                0  c2150f55becb             CD86       NaN\n",
       "1                1  c2150f55becb            CD274       NaN\n",
       "2                2  c2150f55becb            CD270       NaN\n",
       "3                3  c2150f55becb            CD155       NaN\n",
       "4                4  c2150f55becb            CD112       NaN\n",
       "...            ...           ...              ...       ...\n",
       "65744175  65744175  2c53aa67933d  ENSG00000134419  6.183594\n",
       "65744176  65744176  2c53aa67933d  ENSG00000186862  0.044525\n",
       "65744177  65744177  2c53aa67933d  ENSG00000170959  0.039185\n",
       "65744178  65744178  2c53aa67933d  ENSG00000107874  1.047852\n",
       "65744179  65744179  2c53aa67933d  ENSG00000166012  5.597656\n",
       "\n",
       "[65744180 rows x 4 columns]"
      ]
     },
     "execution_count": 26,
     "metadata": {},
     "output_type": "execute_result"
    }
   ],
   "source": [
    "submission.reset_index()"
   ]
  },
  {
   "cell_type": "code",
   "execution_count": 27,
   "id": "3239efd3",
   "metadata": {
    "execution": {
     "iopub.execute_input": "2022-12-22T10:31:45.829689Z",
     "iopub.status.busy": "2022-12-22T10:31:45.828834Z",
     "iopub.status.idle": "2022-12-22T10:31:47.943034Z",
     "shell.execute_reply": "2022-12-22T10:31:47.940533Z"
    },
    "papermill": {
     "duration": 2.138456,
     "end_time": "2022-12-22T10:31:47.946722",
     "exception": false,
     "start_time": "2022-12-22T10:31:45.808266",
     "status": "completed"
    },
    "tags": []
   },
   "outputs": [
    {
     "name": "stdout",
     "output_type": "stream",
     "text": [
      "CPU times: user 1.68 s, sys: 421 ms, total: 2.1 s\n",
      "Wall time: 2.1 s\n"
     ]
    },
    {
     "data": {
      "text/html": [
       "<div>\n",
       "<style scoped>\n",
       "    .dataframe tbody tr th:only-of-type {\n",
       "        vertical-align: middle;\n",
       "    }\n",
       "\n",
       "    .dataframe tbody tr th {\n",
       "        vertical-align: top;\n",
       "    }\n",
       "\n",
       "    .dataframe thead th {\n",
       "        text-align: right;\n",
       "    }\n",
       "</style>\n",
       "<table border=\"1\" class=\"dataframe\">\n",
       "  <thead>\n",
       "    <tr style=\"text-align: right;\">\n",
       "      <th></th>\n",
       "      <th>row_id</th>\n",
       "      <th>target</th>\n",
       "    </tr>\n",
       "  </thead>\n",
       "  <tbody>\n",
       "    <tr>\n",
       "      <th>0</th>\n",
       "      <td>0</td>\n",
       "      <td>NaN</td>\n",
       "    </tr>\n",
       "    <tr>\n",
       "      <th>1</th>\n",
       "      <td>1</td>\n",
       "      <td>NaN</td>\n",
       "    </tr>\n",
       "    <tr>\n",
       "      <th>2</th>\n",
       "      <td>2</td>\n",
       "      <td>NaN</td>\n",
       "    </tr>\n",
       "    <tr>\n",
       "      <th>3</th>\n",
       "      <td>3</td>\n",
       "      <td>NaN</td>\n",
       "    </tr>\n",
       "    <tr>\n",
       "      <th>4</th>\n",
       "      <td>4</td>\n",
       "      <td>NaN</td>\n",
       "    </tr>\n",
       "    <tr>\n",
       "      <th>...</th>\n",
       "      <td>...</td>\n",
       "      <td>...</td>\n",
       "    </tr>\n",
       "    <tr>\n",
       "      <th>65744175</th>\n",
       "      <td>65744175</td>\n",
       "      <td>6.183594</td>\n",
       "    </tr>\n",
       "    <tr>\n",
       "      <th>65744176</th>\n",
       "      <td>65744176</td>\n",
       "      <td>0.044525</td>\n",
       "    </tr>\n",
       "    <tr>\n",
       "      <th>65744177</th>\n",
       "      <td>65744177</td>\n",
       "      <td>0.039185</td>\n",
       "    </tr>\n",
       "    <tr>\n",
       "      <th>65744178</th>\n",
       "      <td>65744178</td>\n",
       "      <td>1.047852</td>\n",
       "    </tr>\n",
       "    <tr>\n",
       "      <th>65744179</th>\n",
       "      <td>65744179</td>\n",
       "      <td>5.597656</td>\n",
       "    </tr>\n",
       "  </tbody>\n",
       "</table>\n",
       "<p>65744180 rows × 2 columns</p>\n",
       "</div>"
      ],
      "text/plain": [
       "            row_id    target\n",
       "0                0       NaN\n",
       "1                1       NaN\n",
       "2                2       NaN\n",
       "3                3       NaN\n",
       "4                4       NaN\n",
       "...            ...       ...\n",
       "65744175  65744175  6.183594\n",
       "65744176  65744176  0.044525\n",
       "65744177  65744177  0.039185\n",
       "65744178  65744178  1.047852\n",
       "65744179  65744179  5.597656\n",
       "\n",
       "[65744180 rows x 2 columns]"
      ]
     },
     "execution_count": 27,
     "metadata": {},
     "output_type": "execute_result"
    }
   ],
   "source": [
    "%%time\n",
    "\n",
    "submission = submission.reset_index().drop(['cell_id', 'gene_id'], axis=1)\n",
    "submission"
   ]
  },
  {
   "cell_type": "code",
   "execution_count": 28,
   "id": "c3e5e5db",
   "metadata": {
    "execution": {
     "iopub.execute_input": "2022-12-22T10:31:47.986794Z",
     "iopub.status.busy": "2022-12-22T10:31:47.986144Z",
     "iopub.status.idle": "2022-12-22T10:31:47.998163Z",
     "shell.execute_reply": "2022-12-22T10:31:47.997027Z"
    },
    "papermill": {
     "duration": 0.034105,
     "end_time": "2022-12-22T10:31:48.000051",
     "exception": false,
     "start_time": "2022-12-22T10:31:47.965946",
     "status": "completed"
    },
    "tags": []
   },
   "outputs": [
    {
     "name": "stdout",
     "output_type": "stream",
     "text": [
      "CPU times: user 675 µs, sys: 0 ns, total: 675 µs\n",
      "Wall time: 687 µs\n"
     ]
    },
    {
     "data": {
      "text/html": [
       "<div>\n",
       "<style scoped>\n",
       "    .dataframe tbody tr th:only-of-type {\n",
       "        vertical-align: middle;\n",
       "    }\n",
       "\n",
       "    .dataframe tbody tr th {\n",
       "        vertical-align: top;\n",
       "    }\n",
       "\n",
       "    .dataframe thead th {\n",
       "        text-align: right;\n",
       "    }\n",
       "</style>\n",
       "<table border=\"1\" class=\"dataframe\">\n",
       "  <thead>\n",
       "    <tr style=\"text-align: right;\">\n",
       "      <th></th>\n",
       "      <th>target</th>\n",
       "    </tr>\n",
       "    <tr>\n",
       "      <th>row_id</th>\n",
       "      <th></th>\n",
       "    </tr>\n",
       "  </thead>\n",
       "  <tbody>\n",
       "    <tr>\n",
       "      <th>0</th>\n",
       "      <td>NaN</td>\n",
       "    </tr>\n",
       "    <tr>\n",
       "      <th>1</th>\n",
       "      <td>NaN</td>\n",
       "    </tr>\n",
       "    <tr>\n",
       "      <th>2</th>\n",
       "      <td>NaN</td>\n",
       "    </tr>\n",
       "    <tr>\n",
       "      <th>3</th>\n",
       "      <td>NaN</td>\n",
       "    </tr>\n",
       "    <tr>\n",
       "      <th>4</th>\n",
       "      <td>NaN</td>\n",
       "    </tr>\n",
       "    <tr>\n",
       "      <th>...</th>\n",
       "      <td>...</td>\n",
       "    </tr>\n",
       "    <tr>\n",
       "      <th>65744175</th>\n",
       "      <td>6.183594</td>\n",
       "    </tr>\n",
       "    <tr>\n",
       "      <th>65744176</th>\n",
       "      <td>0.044525</td>\n",
       "    </tr>\n",
       "    <tr>\n",
       "      <th>65744177</th>\n",
       "      <td>0.039185</td>\n",
       "    </tr>\n",
       "    <tr>\n",
       "      <th>65744178</th>\n",
       "      <td>1.047852</td>\n",
       "    </tr>\n",
       "    <tr>\n",
       "      <th>65744179</th>\n",
       "      <td>5.597656</td>\n",
       "    </tr>\n",
       "  </tbody>\n",
       "</table>\n",
       "<p>65744180 rows × 1 columns</p>\n",
       "</div>"
      ],
      "text/plain": [
       "            target\n",
       "row_id            \n",
       "0              NaN\n",
       "1              NaN\n",
       "2              NaN\n",
       "3              NaN\n",
       "4              NaN\n",
       "...            ...\n",
       "65744175  6.183594\n",
       "65744176  0.044525\n",
       "65744177  0.039185\n",
       "65744178  1.047852\n",
       "65744179  5.597656\n",
       "\n",
       "[65744180 rows x 1 columns]"
      ]
     },
     "execution_count": 28,
     "metadata": {},
     "output_type": "execute_result"
    }
   ],
   "source": [
    "%%time\n",
    "\n",
    "submission.set_index('row_id', inplace=True)\n",
    "submission\n"
   ]
  },
  {
   "cell_type": "code",
   "execution_count": 29,
   "id": "f722e521",
   "metadata": {
    "execution": {
     "iopub.execute_input": "2022-12-22T10:31:48.040900Z",
     "iopub.status.busy": "2022-12-22T10:31:48.040398Z",
     "iopub.status.idle": "2022-12-22T10:33:21.766710Z",
     "shell.execute_reply": "2022-12-22T10:33:21.765522Z"
    },
    "papermill": {
     "duration": 93.768993,
     "end_time": "2022-12-22T10:33:21.788145",
     "exception": false,
     "start_time": "2022-12-22T10:31:48.019152",
     "status": "completed"
    },
    "tags": []
   },
   "outputs": [
    {
     "name": "stdout",
     "output_type": "stream",
     "text": [
      "CPU times: user 1min 31s, sys: 2.22 s, total: 1min 33s\n",
      "Wall time: 1min 33s\n"
     ]
    }
   ],
   "source": [
    "%%time\n",
    "# Approximately 2 minutes\n",
    "\n",
    "# save as csv\n",
    "submission.to_csv('multiome_only_32.csv')"
   ]
  }
 ],
 "metadata": {
  "kernelspec": {
   "display_name": "Python 3",
   "language": "python",
   "name": "python3"
  },
  "language_info": {
   "codemirror_mode": {
    "name": "ipython",
    "version": 3
   },
   "file_extension": ".py",
   "mimetype": "text/x-python",
   "name": "python",
   "nbconvert_exporter": "python",
   "pygments_lexer": "ipython3",
   "version": "3.7.12"
  },
  "papermill": {
   "default_parameters": {},
   "duration": 2519.30731,
   "end_time": "2022-12-22T10:33:23.044023",
   "environment_variables": {},
   "exception": null,
   "input_path": "__notebook__.ipynb",
   "output_path": "__notebook__.ipynb",
   "parameters": {},
   "start_time": "2022-12-22T09:51:23.736713",
   "version": "2.3.4"
  }
 },
 "nbformat": 4,
 "nbformat_minor": 5
}
