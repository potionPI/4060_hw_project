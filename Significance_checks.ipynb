{
  "nbformat": 4,
  "nbformat_minor": 0,
  "metadata": {
    "colab": {
      "provenance": []
    },
    "kernelspec": {
      "name": "python3",
      "display_name": "Python 3"
    },
    "language_info": {
      "name": "python"
    }
  },
  "cells": [
    {
      "cell_type": "code",
      "execution_count": null,
      "metadata": {
        "id": "-PEMpR8LsNE0"
      },
      "outputs": [],
      "source": [
        "from scipy import stats\n",
        "import pandas as pd\n",
        "import numpy as np\n",
        "import matplotlib.pyplot as plt\n",
        "import seaborn as sns"
      ]
    },
    {
      "cell_type": "code",
      "source": [
        "# Mount google drive\n",
        "from google.colab import drive\n",
        "drive.mount(\"/content/drive\")"
      ],
      "metadata": {
        "colab": {
          "base_uri": "https://localhost:8080/"
        },
        "id": "JLfkjd2msOIK",
        "outputId": "195ca465-5da2-45bc-8ec1-b29ff0146d52"
      },
      "execution_count": null,
      "outputs": [
        {
          "output_type": "stream",
          "name": "stdout",
          "text": [
            "Drive already mounted at /content/drive; to attempt to forcibly remount, call drive.mount(\"/content/drive\", force_remount=True).\n"
          ]
        }
      ]
    },
    {
      "cell_type": "code",
      "source": [
        "# change to relevant directory\n",
        "%cd \"/content/drive/My Drive/Class: ECBM E4060/Kaggle Files\""
      ],
      "metadata": {
        "colab": {
          "base_uri": "https://localhost:8080/"
        },
        "id": "m0BAlqUbttB8",
        "outputId": "136c46cb-e03c-49a5-d3a3-3a33ec37b86d"
      },
      "execution_count": null,
      "outputs": [
        {
          "output_type": "stream",
          "name": "stdout",
          "text": [
            "/content/drive/My Drive/Class: ECBM E4060/Kaggle Files\n"
          ]
        }
      ]
    },
    {
      "cell_type": "code",
      "source": [
        "# read prediction data\n",
        "results_data = pd.read_csv('prediction_data.csv')\n",
        "results_data"
      ],
      "metadata": {
        "colab": {
          "base_uri": "https://localhost:8080/",
          "height": 551
        },
        "id": "OojNIfgzt40s",
        "outputId": "fa967e9c-e88b-4132-ef3d-e689a84a18a5"
      },
      "execution_count": null,
      "outputs": [
        {
          "output_type": "execute_result",
          "data": {
            "text/plain": [
              "    Multome features  CITEseq features  Private Score  Public Score  \\\n",
              "0                 32                32       0.760828      0.809139   \n",
              "1                 64                32       0.761387      0.809241   \n",
              "2                128                32       0.761632      0.809186   \n",
              "3                256                32       0.761238      0.808941   \n",
              "4                 32                64       0.764307      0.811029   \n",
              "5                 64                64       0.764866      0.811131   \n",
              "6                128                64       0.765111      0.811076   \n",
              "7                256                64       0.763933      0.810929   \n",
              "8                 32               128       0.764900      0.811324   \n",
              "9                 64               128       0.764468      0.811064   \n",
              "10               128               128       0.764713      0.811010   \n",
              "11               256               128       0.764078      0.810799   \n",
              "12                32               256       0.763282      0.810678   \n",
              "13                64               256       0.763841      0.810780   \n",
              "14               128               256       0.764086      0.810725   \n",
              "15               256               256       0.763657      0.810807   \n",
              "\n",
              "    Multiome explained variance  CITEseq explained variance  \n",
              "0                      0.008240                    0.131353  \n",
              "1                      0.009176                    0.131353  \n",
              "2                      0.011000                    0.131353  \n",
              "3                      0.014595                    0.131353  \n",
              "4                      0.008240                    0.139054  \n",
              "5                      0.009176                    0.139054  \n",
              "6                      0.011000                    0.139054  \n",
              "7                      0.014595                    0.139054  \n",
              "8                      0.008240                    0.148959  \n",
              "9                      0.009176                    0.148959  \n",
              "10                     0.011000                    0.148959  \n",
              "11                     0.014595                    0.148959  \n",
              "12                     0.008240                    0.167513  \n",
              "13                     0.009176                    0.167513  \n",
              "14                     0.011000                    0.167513  \n",
              "15                     0.014595                    0.167513  "
            ],
            "text/html": [
              "\n",
              "  <div id=\"df-2b89bbf5-0bcb-44b0-a251-58393a9188b6\">\n",
              "    <div class=\"colab-df-container\">\n",
              "      <div>\n",
              "<style scoped>\n",
              "    .dataframe tbody tr th:only-of-type {\n",
              "        vertical-align: middle;\n",
              "    }\n",
              "\n",
              "    .dataframe tbody tr th {\n",
              "        vertical-align: top;\n",
              "    }\n",
              "\n",
              "    .dataframe thead th {\n",
              "        text-align: right;\n",
              "    }\n",
              "</style>\n",
              "<table border=\"1\" class=\"dataframe\">\n",
              "  <thead>\n",
              "    <tr style=\"text-align: right;\">\n",
              "      <th></th>\n",
              "      <th>Multome features</th>\n",
              "      <th>CITEseq features</th>\n",
              "      <th>Private Score</th>\n",
              "      <th>Public Score</th>\n",
              "      <th>Multiome explained variance</th>\n",
              "      <th>CITEseq explained variance</th>\n",
              "    </tr>\n",
              "  </thead>\n",
              "  <tbody>\n",
              "    <tr>\n",
              "      <th>0</th>\n",
              "      <td>32</td>\n",
              "      <td>32</td>\n",
              "      <td>0.760828</td>\n",
              "      <td>0.809139</td>\n",
              "      <td>0.008240</td>\n",
              "      <td>0.131353</td>\n",
              "    </tr>\n",
              "    <tr>\n",
              "      <th>1</th>\n",
              "      <td>64</td>\n",
              "      <td>32</td>\n",
              "      <td>0.761387</td>\n",
              "      <td>0.809241</td>\n",
              "      <td>0.009176</td>\n",
              "      <td>0.131353</td>\n",
              "    </tr>\n",
              "    <tr>\n",
              "      <th>2</th>\n",
              "      <td>128</td>\n",
              "      <td>32</td>\n",
              "      <td>0.761632</td>\n",
              "      <td>0.809186</td>\n",
              "      <td>0.011000</td>\n",
              "      <td>0.131353</td>\n",
              "    </tr>\n",
              "    <tr>\n",
              "      <th>3</th>\n",
              "      <td>256</td>\n",
              "      <td>32</td>\n",
              "      <td>0.761238</td>\n",
              "      <td>0.808941</td>\n",
              "      <td>0.014595</td>\n",
              "      <td>0.131353</td>\n",
              "    </tr>\n",
              "    <tr>\n",
              "      <th>4</th>\n",
              "      <td>32</td>\n",
              "      <td>64</td>\n",
              "      <td>0.764307</td>\n",
              "      <td>0.811029</td>\n",
              "      <td>0.008240</td>\n",
              "      <td>0.139054</td>\n",
              "    </tr>\n",
              "    <tr>\n",
              "      <th>5</th>\n",
              "      <td>64</td>\n",
              "      <td>64</td>\n",
              "      <td>0.764866</td>\n",
              "      <td>0.811131</td>\n",
              "      <td>0.009176</td>\n",
              "      <td>0.139054</td>\n",
              "    </tr>\n",
              "    <tr>\n",
              "      <th>6</th>\n",
              "      <td>128</td>\n",
              "      <td>64</td>\n",
              "      <td>0.765111</td>\n",
              "      <td>0.811076</td>\n",
              "      <td>0.011000</td>\n",
              "      <td>0.139054</td>\n",
              "    </tr>\n",
              "    <tr>\n",
              "      <th>7</th>\n",
              "      <td>256</td>\n",
              "      <td>64</td>\n",
              "      <td>0.763933</td>\n",
              "      <td>0.810929</td>\n",
              "      <td>0.014595</td>\n",
              "      <td>0.139054</td>\n",
              "    </tr>\n",
              "    <tr>\n",
              "      <th>8</th>\n",
              "      <td>32</td>\n",
              "      <td>128</td>\n",
              "      <td>0.764900</td>\n",
              "      <td>0.811324</td>\n",
              "      <td>0.008240</td>\n",
              "      <td>0.148959</td>\n",
              "    </tr>\n",
              "    <tr>\n",
              "      <th>9</th>\n",
              "      <td>64</td>\n",
              "      <td>128</td>\n",
              "      <td>0.764468</td>\n",
              "      <td>0.811064</td>\n",
              "      <td>0.009176</td>\n",
              "      <td>0.148959</td>\n",
              "    </tr>\n",
              "    <tr>\n",
              "      <th>10</th>\n",
              "      <td>128</td>\n",
              "      <td>128</td>\n",
              "      <td>0.764713</td>\n",
              "      <td>0.811010</td>\n",
              "      <td>0.011000</td>\n",
              "      <td>0.148959</td>\n",
              "    </tr>\n",
              "    <tr>\n",
              "      <th>11</th>\n",
              "      <td>256</td>\n",
              "      <td>128</td>\n",
              "      <td>0.764078</td>\n",
              "      <td>0.810799</td>\n",
              "      <td>0.014595</td>\n",
              "      <td>0.148959</td>\n",
              "    </tr>\n",
              "    <tr>\n",
              "      <th>12</th>\n",
              "      <td>32</td>\n",
              "      <td>256</td>\n",
              "      <td>0.763282</td>\n",
              "      <td>0.810678</td>\n",
              "      <td>0.008240</td>\n",
              "      <td>0.167513</td>\n",
              "    </tr>\n",
              "    <tr>\n",
              "      <th>13</th>\n",
              "      <td>64</td>\n",
              "      <td>256</td>\n",
              "      <td>0.763841</td>\n",
              "      <td>0.810780</td>\n",
              "      <td>0.009176</td>\n",
              "      <td>0.167513</td>\n",
              "    </tr>\n",
              "    <tr>\n",
              "      <th>14</th>\n",
              "      <td>128</td>\n",
              "      <td>256</td>\n",
              "      <td>0.764086</td>\n",
              "      <td>0.810725</td>\n",
              "      <td>0.011000</td>\n",
              "      <td>0.167513</td>\n",
              "    </tr>\n",
              "    <tr>\n",
              "      <th>15</th>\n",
              "      <td>256</td>\n",
              "      <td>256</td>\n",
              "      <td>0.763657</td>\n",
              "      <td>0.810807</td>\n",
              "      <td>0.014595</td>\n",
              "      <td>0.167513</td>\n",
              "    </tr>\n",
              "  </tbody>\n",
              "</table>\n",
              "</div>\n",
              "      <button class=\"colab-df-convert\" onclick=\"convertToInteractive('df-2b89bbf5-0bcb-44b0-a251-58393a9188b6')\"\n",
              "              title=\"Convert this dataframe to an interactive table.\"\n",
              "              style=\"display:none;\">\n",
              "        \n",
              "  <svg xmlns=\"http://www.w3.org/2000/svg\" height=\"24px\"viewBox=\"0 0 24 24\"\n",
              "       width=\"24px\">\n",
              "    <path d=\"M0 0h24v24H0V0z\" fill=\"none\"/>\n",
              "    <path d=\"M18.56 5.44l.94 2.06.94-2.06 2.06-.94-2.06-.94-.94-2.06-.94 2.06-2.06.94zm-11 1L8.5 8.5l.94-2.06 2.06-.94-2.06-.94L8.5 2.5l-.94 2.06-2.06.94zm10 10l.94 2.06.94-2.06 2.06-.94-2.06-.94-.94-2.06-.94 2.06-2.06.94z\"/><path d=\"M17.41 7.96l-1.37-1.37c-.4-.4-.92-.59-1.43-.59-.52 0-1.04.2-1.43.59L10.3 9.45l-7.72 7.72c-.78.78-.78 2.05 0 2.83L4 21.41c.39.39.9.59 1.41.59.51 0 1.02-.2 1.41-.59l7.78-7.78 2.81-2.81c.8-.78.8-2.07 0-2.86zM5.41 20L4 18.59l7.72-7.72 1.47 1.35L5.41 20z\"/>\n",
              "  </svg>\n",
              "      </button>\n",
              "      \n",
              "  <style>\n",
              "    .colab-df-container {\n",
              "      display:flex;\n",
              "      flex-wrap:wrap;\n",
              "      gap: 12px;\n",
              "    }\n",
              "\n",
              "    .colab-df-convert {\n",
              "      background-color: #E8F0FE;\n",
              "      border: none;\n",
              "      border-radius: 50%;\n",
              "      cursor: pointer;\n",
              "      display: none;\n",
              "      fill: #1967D2;\n",
              "      height: 32px;\n",
              "      padding: 0 0 0 0;\n",
              "      width: 32px;\n",
              "    }\n",
              "\n",
              "    .colab-df-convert:hover {\n",
              "      background-color: #E2EBFA;\n",
              "      box-shadow: 0px 1px 2px rgba(60, 64, 67, 0.3), 0px 1px 3px 1px rgba(60, 64, 67, 0.15);\n",
              "      fill: #174EA6;\n",
              "    }\n",
              "\n",
              "    [theme=dark] .colab-df-convert {\n",
              "      background-color: #3B4455;\n",
              "      fill: #D2E3FC;\n",
              "    }\n",
              "\n",
              "    [theme=dark] .colab-df-convert:hover {\n",
              "      background-color: #434B5C;\n",
              "      box-shadow: 0px 1px 3px 1px rgba(0, 0, 0, 0.15);\n",
              "      filter: drop-shadow(0px 1px 2px rgba(0, 0, 0, 0.3));\n",
              "      fill: #FFFFFF;\n",
              "    }\n",
              "  </style>\n",
              "\n",
              "      <script>\n",
              "        const buttonEl =\n",
              "          document.querySelector('#df-2b89bbf5-0bcb-44b0-a251-58393a9188b6 button.colab-df-convert');\n",
              "        buttonEl.style.display =\n",
              "          google.colab.kernel.accessAllowed ? 'block' : 'none';\n",
              "\n",
              "        async function convertToInteractive(key) {\n",
              "          const element = document.querySelector('#df-2b89bbf5-0bcb-44b0-a251-58393a9188b6');\n",
              "          const dataTable =\n",
              "            await google.colab.kernel.invokeFunction('convertToInteractive',\n",
              "                                                     [key], {});\n",
              "          if (!dataTable) return;\n",
              "\n",
              "          const docLinkHtml = 'Like what you see? Visit the ' +\n",
              "            '<a target=\"_blank\" href=https://colab.research.google.com/notebooks/data_table.ipynb>data table notebook</a>'\n",
              "            + ' to learn more about interactive tables.';\n",
              "          element.innerHTML = '';\n",
              "          dataTable['output_type'] = 'display_data';\n",
              "          await google.colab.output.renderOutput(dataTable, element);\n",
              "          const docLink = document.createElement('div');\n",
              "          docLink.innerHTML = docLinkHtml;\n",
              "          element.appendChild(docLink);\n",
              "        }\n",
              "      </script>\n",
              "    </div>\n",
              "  </div>\n",
              "  "
            ]
          },
          "metadata": {},
          "execution_count": 41
        }
      ]
    },
    {
      "cell_type": "markdown",
      "source": [
        "Below, a test is performed to check if the resulting performance is a flat line or not."
      ],
      "metadata": {
        "id": "xQI_gzsmTXKw"
      }
    },
    {
      "cell_type": "code",
      "source": [
        "stats.kstest(list(results_data['Public Score']), \n",
        "             [np.mean(list(results_data['Public Score'])) for i in range(len(results_data['Public Score']))])"
      ],
      "metadata": {
        "colab": {
          "base_uri": "https://localhost:8080/"
        },
        "id": "Au8PlVtiRVEw",
        "outputId": "c86d4a5a-fe62-4c5e-81d4-88225be50ad6"
      },
      "execution_count": null,
      "outputs": [
        {
          "output_type": "execute_result",
          "data": {
            "text/plain": [
              "KstestResult(statistic=0.75, pvalue=0.00011965121670330985)"
            ]
          },
          "metadata": {},
          "execution_count": 74
        }
      ]
    },
    {
      "cell_type": "code",
      "source": [
        "stats.kstest(list(results_data['Private Score']), \n",
        "             [np.mean(list(results_data['Private Score'])) for i in range(len(results_data['Private Score']))])"
      ],
      "metadata": {
        "colab": {
          "base_uri": "https://localhost:8080/"
        },
        "id": "udBBeAMxRXfq",
        "outputId": "0f5f6a15-ed91-46e3-fd4f-ef50d785bce1"
      },
      "execution_count": null,
      "outputs": [
        {
          "output_type": "execute_result",
          "data": {
            "text/plain": [
              "KstestResult(statistic=0.6875, pvalue=0.0006700468135385351)"
            ]
          },
          "metadata": {},
          "execution_count": 75
        }
      ]
    },
    {
      "cell_type": "markdown",
      "source": [
        "Below, the same is checked by grouping feature counts"
      ],
      "metadata": {
        "id": "inZgmV_gTe-z"
      }
    },
    {
      "cell_type": "code",
      "source": [
        "c_grouped_public_pval = []\n",
        "c_grouped_private_pval = []\n",
        "m_grouped_public_pval = []\n",
        "m_grouped_private_pval = []\n",
        "\n",
        "for num in [32, 64, 128, 256]:\n",
        "  public_pval = stats.kstest(list(results_data[results_data['CITEseq features']==num]['Public Score']), \n",
        "                [np.mean(list(results_data[results_data['CITEseq features']==num]['Public Score'])) for i in range(len(list(results_data[results_data['CITEseq features']==num]['Public Score'])))]).pvalue\n",
        "  private_pval = stats.kstest(list(results_data[results_data['CITEseq features']==num]['Private Score']), \n",
        "                [np.mean(list(results_data[results_data['CITEseq features']==num]['Private Score'])) for i in range(len(list(results_data[results_data['CITEseq features']==num]['Private Score'])))]).pvalue\n",
        "  \n",
        "  c_grouped_public_pval.append(public_pval)\n",
        "  c_grouped_private_pval.append(private_pval)\n",
        "\n",
        "  public_pval = stats.kstest(list(results_data[results_data['Multome features']==num]['Public Score']), \n",
        "                [np.mean(list(results_data[results_data['Multome features']==num]['Public Score'])) for i in range(len(list(results_data[results_data['Multome features']==num]['Public Score'])))]).pvalue\n",
        "  private_pval = stats.kstest(list(results_data[results_data['Multome features']==num]['Private Score']), \n",
        "                [np.mean(list(results_data[results_data['Multome features']==num]['Private Score'])) for i in range(len(list(results_data[results_data['Multome features']==num]['Private Score'])))]).pvalue\n",
        "  m_grouped_public_pval.append(public_pval)\n",
        "  m_grouped_private_pval.append(private_pval)\n",
        "\n",
        "print(\"\\nc_grouped_public_pval\")\n",
        "print(c_grouped_public_pval)\n",
        "\n",
        "print(\"\\nc_grouped_private_pval\")\n",
        "print(c_grouped_private_pval)\n",
        "\n",
        "print(\"\\nm_grouped_public_pval\")\n",
        "print(m_grouped_public_pval)\n",
        "\n",
        "print(\"\\nm_grouped_private_pval\")\n",
        "print(m_grouped_private_pval)"
      ],
      "metadata": {
        "colab": {
          "base_uri": "https://localhost:8080/"
        },
        "id": "iRa952rPOVUW",
        "outputId": "b26be73c-1363-4d00-dd5f-f8f0a98522e3"
      },
      "execution_count": null,
      "outputs": [
        {
          "output_type": "stream",
          "name": "stdout",
          "text": [
            "\n",
            "c_grouped_public_pval\n",
            "[0.22857142857142862, 0.7714285714285716, 0.7714285714285716, 0.7714285714285716]\n",
            "\n",
            "c_grouped_private_pval\n",
            "[0.7714285714285716, 0.7714285714285716, 0.7714285714285716, 0.7714285714285716]\n",
            "\n",
            "m_grouped_public_pval\n",
            "[0.22857142857142862, 0.22857142857142862, 0.22857142857142862, 0.22857142857142862]\n",
            "\n",
            "m_grouped_private_pval\n",
            "[0.7714285714285716, 0.22857142857142862, 0.22857142857142862, 0.22857142857142862]\n"
          ]
        }
      ]
    },
    {
      "cell_type": "code",
      "source": [
        "plt.figure(figsize=(10,3))\n",
        "\n",
        "plt.subplot(1,2,1)\n",
        "sns.scatterplot(data=results_data, x='CITEseq features', y='Public Score', hue='Multome features')\n",
        "plt.xticks([32,64,128,256])\n",
        "plt.xlabel(\"CITEseq feature count\")\n",
        "\n",
        "plt.subplot(1,2,2)\n",
        "sns.scatterplot(data=results_data, x='CITEseq features', y='Public Score', hue='Multome features')\n",
        "plt.xticks([32,64,128,256])\n",
        "plt.xlabel(\"CITEseq feature count\")\n",
        "\n",
        "plt.tight_layout()"
      ],
      "metadata": {
        "colab": {
          "base_uri": "https://localhost:8080/",
          "height": 225
        },
        "id": "8HInZrBIUxhp",
        "outputId": "11526ede-8d0a-4d90-f2ff-096c961c67c4"
      },
      "execution_count": null,
      "outputs": [
        {
          "output_type": "display_data",
          "data": {
            "text/plain": [
              "<Figure size 720x216 with 2 Axes>"
            ],
            "image/png": "[encoded data removed]"
          },
          "metadata": {
            "needs_background": "light"
          }
        }
      ]
    },
    {
      "cell_type": "code",
      "source": [
        "plt.figure(figsize=(10,3))\n",
        "\n",
        "plt.subplot(1,2,1)\n",
        "sns.scatterplot(data=results_data, x='Multome features', y='Public Score', hue='CITEseq features')\n",
        "plt.xticks([32,64,128,256])\n",
        "plt.xlabel(\"Multiome feature count\")\n",
        "\n",
        "plt.subplot(1,2,2)\n",
        "sns.scatterplot(data=results_data, x='Multome features', y='Public Score', hue='CITEseq features')\n",
        "plt.xticks([32,64,128,256])\n",
        "plt.xlabel(\"Multiome feature count\")\n",
        "\n",
        "plt.tight_layout()"
      ],
      "metadata": {
        "colab": {
          "base_uri": "https://localhost:8080/",
          "height": 225
        },
        "id": "V107vm3hWLlJ",
        "outputId": "af69afbf-0306-45d6-9f0c-288eb6cbc54d"
      },
      "execution_count": null,
      "outputs": [
        {
          "output_type": "display_data",
          "data": {
            "text/plain": [
              "<Figure size 720x216 with 2 Axes>"
            ],
            "image/png": "[encoded data removed]"
          },
          "metadata": {
            "needs_background": "light"
          }
        }
      ]
    },
    {
      "cell_type": "markdown",
      "source": [
        "The above results suggest that so long as CITEseq feature count is 64 and greater, the resulting performance is approximately equal."
      ],
      "metadata": {
        "id": "ktm6IvRZX8EZ"
      }
    },
    {
      "cell_type": "code",
      "source": [
        "# [4:] removes all the entries where the feature count for multiome is 32\n",
        "stats.kstest(list(results_data['Public Score'][4:]), \n",
        "             [np.mean(list(results_data['Public Score'][4:])) for i in range(len(results_data['Public Score'][4:]))])"
      ],
      "metadata": {
        "colab": {
          "base_uri": "https://localhost:8080/"
        },
        "id": "2CLXrHf5YGer",
        "outputId": "d9e16d97-c757-4555-9f3a-2b156c819741"
      },
      "execution_count": null,
      "outputs": [
        {
          "output_type": "execute_result",
          "data": {
            "text/plain": [
              "KstestResult(statistic=0.5, pvalue=0.09954677170991616)"
            ]
          },
          "metadata": {},
          "execution_count": 97
        }
      ]
    },
    {
      "cell_type": "code",
      "source": [
        "stats.kstest(list(results_data['Private Score'][4:]), \n",
        "             [np.mean(list(results_data['Private Score'][4:])) for i in range(len(results_data['Private Score'][4:]))])"
      ],
      "metadata": {
        "colab": {
          "base_uri": "https://localhost:8080/"
        },
        "id": "egcenFc-YNhT",
        "outputId": "2cbb19f5-19b5-4922-f7f0-9452c78affb9"
      },
      "execution_count": null,
      "outputs": [
        {
          "output_type": "execute_result",
          "data": {
            "text/plain": [
              "KstestResult(statistic=0.5, pvalue=0.09954677170991616)"
            ]
          },
          "metadata": {},
          "execution_count": 100
        }
      ]
    },
    {
      "cell_type": "markdown",
      "source": [
        "Relationship between feature count and variances below"
      ],
      "metadata": {
        "id": "i8IhsaougHp1"
      }
    },
    {
      "cell_type": "code",
      "source": [
        "plt.figure(figsize=(10,3))\n",
        "\n",
        "plt.subplot(1,2,1)\n",
        "sns.scatterplot(data=results_data, x='Multome features', y='Multiome explained variance')\n",
        "plt.xticks([32,64,128,256])\n",
        "plt.xlabel(\"Multiome feature count\")\n",
        "\n",
        "plt.subplot(1,2,2)\n",
        "sns.scatterplot(data=results_data, x='CITEseq features', y='CITEseq explained variance')\n",
        "plt.xticks([32,64,128,256])\n",
        "plt.xlabel(\"CITEseq feature count\")\n",
        "\n",
        "plt.tight_layout()"
      ],
      "metadata": {
        "colab": {
          "base_uri": "https://localhost:8080/",
          "height": 225
        },
        "id": "-vavw3u7gQDO",
        "outputId": "5df31605-b4f1-4162-860f-39cac92b425a"
      },
      "execution_count": null,
      "outputs": [
        {
          "output_type": "display_data",
          "data": {
            "text/plain": [
              "<Figure size 720x216 with 2 Axes>"
            ],
            "image/png": "[encoded data removed]"
          },
          "metadata": {
            "needs_background": "light"
          }
        }
      ]
    },
    {
      "cell_type": "code",
      "source": [
        "rvs1 = results_data['Multiome explained variance']\n",
        "rvs2 = results_data['Private Score']\n",
        "stats.ttest_ind(rvs1, rvs2)"
      ],
      "metadata": {
        "colab": {
          "base_uri": "https://localhost:8080/"
        },
        "id": "XPsUwWVPhfyX",
        "outputId": "5bcba2ee-231b-4a54-926c-fa943f2c9356"
      },
      "execution_count": null,
      "outputs": [
        {
          "output_type": "execute_result",
          "data": {
            "text/plain": [
              "Ttest_indResult(statistic=-1042.1369994344714, pvalue=6.007046971518137e-70)"
            ]
          },
          "metadata": {},
          "execution_count": 106
        }
      ]
    },
    {
      "cell_type": "code",
      "source": [
        "rvs1 = results_data['Multiome explained variance']\n",
        "rvs2 = results_data['Public Score']\n",
        "stats.ttest_ind(rvs1, rvs2)"
      ],
      "metadata": {
        "colab": {
          "base_uri": "https://localhost:8080/"
        },
        "id": "gmn3U0I5gvVR",
        "outputId": "4c93324b-d951-4deb-865e-aabd9d315c80"
      },
      "execution_count": null,
      "outputs": [
        {
          "output_type": "execute_result",
          "data": {
            "text/plain": [
              "Ttest_indResult(statistic=-1209.8207996624385, pvalue=6.836267553575236e-72)"
            ]
          },
          "metadata": {},
          "execution_count": 107
        }
      ]
    },
    {
      "cell_type": "code",
      "source": [
        "rvs1 = results_data['CITEseq explained variance']\n",
        "rvs2 = results_data['Private Score']\n",
        "stats.ttest_ind(rvs1, rvs2)"
      ],
      "metadata": {
        "colab": {
          "base_uri": "https://localhost:8080/"
        },
        "id": "aSFz43e5hs1y",
        "outputId": "6a79d477-4bde-4aaa-899b-c68e5a24a956"
      },
      "execution_count": null,
      "outputs": [
        {
          "output_type": "execute_result",
          "data": {
            "text/plain": [
              "Ttest_indResult(statistic=-175.63559935836201, pvalue=9.377109372765522e-47)"
            ]
          },
          "metadata": {},
          "execution_count": 108
        }
      ]
    },
    {
      "cell_type": "code",
      "source": [
        "rvs1 = results_data['CITEseq explained variance']\n",
        "rvs2 = results_data['Public Score']\n",
        "stats.ttest_ind(rvs1, rvs2)"
      ],
      "metadata": {
        "colab": {
          "base_uri": "https://localhost:8080/"
        },
        "id": "sOu3-IHIhusH",
        "outputId": "3fa51a63-65a8-496d-b948-158aa2d0659d"
      },
      "execution_count": null,
      "outputs": [
        {
          "output_type": "execute_result",
          "data": {
            "text/plain": [
              "Ttest_indResult(statistic=-189.66374849134343, pvalue=9.371066601550407e-48)"
            ]
          },
          "metadata": {},
          "execution_count": 109
        }
      ]
    },
    {
      "cell_type": "code",
      "source": [
        "# Just as a test, we see that the p value is low if there IS a relationship\n",
        "rvs1 = [1.1,1.2,1.3]\n",
        "rvs2 = [11,12,13]\n",
        "stats.ttest_ind(rvs1, rvs2)"
      ],
      "metadata": {
        "colab": {
          "base_uri": "https://localhost:8080/"
        },
        "id": "tU1YYw3nhwG-",
        "outputId": "9883fc01-ef3e-4e16-ff2c-45ac3e9e5f6d"
      },
      "execution_count": null,
      "outputs": [
        {
          "output_type": "execute_result",
          "data": {
            "text/plain": [
              "Ttest_indResult(statistic=-18.613313663734203, pvalue=4.903943341609167e-05)"
            ]
          },
          "metadata": {},
          "execution_count": 115
        }
      ]
    },
    {
      "cell_type": "code",
      "source": [
        "# Just as a test, we see that the p value is low if there is NOT a relationship\n",
        "rvs1 = [1.1,1.2,1.3]\n",
        "rvs2 = [100,10,-10]\n",
        "stats.ttest_ind(rvs1, rvs2)"
      ],
      "metadata": {
        "colab": {
          "base_uri": "https://localhost:8080/"
        },
        "id": "8xOmSY-LiAnV",
        "outputId": "0fb38eec-5fed-4b21-f6cb-4bf8a575d838"
      },
      "execution_count": null,
      "outputs": [
        {
          "output_type": "execute_result",
          "data": {
            "text/plain": [
              "Ttest_indResult(statistic=-0.9498560408658895, pvalue=0.3959721877459472)"
            ]
          },
          "metadata": {},
          "execution_count": 114
        }
      ]
    },
    {
      "cell_type": "code",
      "source": [],
      "metadata": {
        "id": "lyT9TPBgiJcU"
      },
      "execution_count": null,
      "outputs": []
    }
  ]
}