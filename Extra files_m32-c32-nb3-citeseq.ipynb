{
 "cells": [
  {
   "cell_type": "markdown",
   "id": "327a3108",
   "metadata": {
    "papermill": {
     "duration": 0.008919,
     "end_time": "2022-12-22T12:22:07.538448",
     "exception": false,
     "start_time": "2022-12-22T12:22:07.529529",
     "status": "completed"
    },
    "tags": []
   },
   "source": [
    "Because the datasets are SO large (especially the Multiome dataset), instead of running both parts of the project in one notebook (and risk Kaggle running out of storage space then resetting all progress), it is more convenient to separate the multiome and citeseq parts of the project, then later merge the predicted outputs from the two parts together."
   ]
  },
  {
   "cell_type": "markdown",
   "id": "623bc58b",
   "metadata": {
    "papermill": {
     "duration": 0.007292,
     "end_time": "2022-12-22T12:22:07.553615",
     "exception": false,
     "start_time": "2022-12-22T12:22:07.546323",
     "status": "completed"
    },
    "tags": []
   },
   "source": [
    "This notebook concerns itself with the CITEseq portion."
   ]
  },
  {
   "cell_type": "markdown",
   "id": "3974d05d",
   "metadata": {
    "papermill": {
     "duration": 0.007414,
     "end_time": "2022-12-22T12:22:07.568740",
     "exception": false,
     "start_time": "2022-12-22T12:22:07.561326",
     "status": "completed"
    },
    "tags": []
   },
   "source": [
    "# First, all the basic imports and file names which may or may not be used is loaded in essentially as a header"
   ]
  },
  {
   "cell_type": "code",
   "execution_count": 1,
   "id": "3610547b",
   "metadata": {
    "execution": {
     "iopub.execute_input": "2022-12-22T12:22:07.587615Z",
     "iopub.status.busy": "2022-12-22T12:22:07.587154Z",
     "iopub.status.idle": "2022-12-22T12:22:21.272755Z",
     "shell.execute_reply": "2022-12-22T12:22:21.271223Z"
    },
    "papermill": {
     "duration": 13.698819,
     "end_time": "2022-12-22T12:22:21.275926",
     "exception": false,
     "start_time": "2022-12-22T12:22:07.577107",
     "status": "completed"
    },
    "tags": []
   },
   "outputs": [
    {
     "name": "stdout",
     "output_type": "stream",
     "text": [
      "Requirement already satisfied: tables in /opt/conda/lib/python3.7/site-packages (3.7.0)\r\n",
      "Requirement already satisfied: numexpr>=2.6.2 in /opt/conda/lib/python3.7/site-packages (from tables) (2.8.3)\r\n",
      "Requirement already satisfied: numpy>=1.19.0 in /opt/conda/lib/python3.7/site-packages (from tables) (1.21.6)\r\n",
      "Requirement already satisfied: packaging in /opt/conda/lib/python3.7/site-packages (from tables) (21.3)\r\n",
      "Requirement already satisfied: pyparsing!=3.0.5,>=2.0.2 in /opt/conda/lib/python3.7/site-packages (from packaging->tables) (3.0.9)\r\n",
      "\u001b[33mWARNING: Running pip as the 'root' user can result in broken permissions and conflicting behaviour with the system package manager. It is recommended to use a virtual environment instead: https://pip.pypa.io/warnings/venv\u001b[0m\u001b[33m\r\n",
      "\u001b[0m"
     ]
    }
   ],
   "source": [
    "! pip install tables"
   ]
  },
  {
   "cell_type": "code",
   "execution_count": 2,
   "id": "ab32f56f",
   "metadata": {
    "_cell_guid": "b1076dfc-b9ad-4769-8c92-a6c4dae69d19",
    "_uuid": "8f2839f25d086af736a60e9eeb907d3b93b6e0e5",
    "execution": {
     "iopub.execute_input": "2022-12-22T12:22:21.293878Z",
     "iopub.status.busy": "2022-12-22T12:22:21.293459Z",
     "iopub.status.idle": "2022-12-22T12:22:22.693731Z",
     "shell.execute_reply": "2022-12-22T12:22:22.692560Z"
    },
    "papermill": {
     "duration": 1.412749,
     "end_time": "2022-12-22T12:22:22.696673",
     "exception": false,
     "start_time": "2022-12-22T12:22:21.283924",
     "status": "completed"
    },
    "tags": []
   },
   "outputs": [],
   "source": [
    "import os, gc, pickle, datetime, scipy.sparse\n",
    "import pandas as pd\n",
    "import matplotlib.pyplot as plt\n",
    "import numpy as np\n",
    "from colorama import Fore, Back, Style\n",
    "\n",
    "from sklearn.model_selection import GroupKFold\n",
    "from sklearn.preprocessing import StandardScaler\n",
    "from sklearn.decomposition import TruncatedSVD,PCA\n",
    "from sklearn.metrics import mean_squared_error\n",
    "\n",
    "import matplotlib.pyplot as plt\n",
    "from matplotlib.ticker import MaxNLocator\n",
    "import seaborn as sns\n",
    "from cycler import cycler\n",
    "from IPython.display import display\n",
    "\n",
    "import scipy.sparse"
   ]
  },
  {
   "cell_type": "code",
   "execution_count": 3,
   "id": "bc8a9211",
   "metadata": {
    "execution": {
     "iopub.execute_input": "2022-12-22T12:22:22.715689Z",
     "iopub.status.busy": "2022-12-22T12:22:22.715271Z",
     "iopub.status.idle": "2022-12-22T12:22:22.724320Z",
     "shell.execute_reply": "2022-12-22T12:22:22.723222Z"
    },
    "papermill": {
     "duration": 0.020515,
     "end_time": "2022-12-22T12:22:22.726752",
     "exception": false,
     "start_time": "2022-12-22T12:22:22.706237",
     "status": "completed"
    },
    "tags": []
   },
   "outputs": [],
   "source": [
    "# Directory of the data\n",
    "DATA_DIR = \"/kaggle/input/open-problems-multimodal/\"\n",
    "FP_CELL_METADATA = os.path.join(DATA_DIR,\"metadata.csv\")\n",
    "\n",
    "FP_CITE_TRAIN_INPUTS = os.path.join(DATA_DIR,\"train_cite_inputs.h5\")\n",
    "FP_CITE_TRAIN_TARGETS = os.path.join(DATA_DIR,\"train_cite_targets.h5\")\n",
    "FP_CITE_TEST_INPUTS = os.path.join(DATA_DIR,\"test_cite_inputs.h5\")\n",
    "\n",
    "FP_MULT_TRAIN_INPUTS = os.path.join(DATA_DIR,\"train_multi_inputs.h5\")\n",
    "FP_MULT_TRAIN_TARGETS = os.path.join(DATA_DIR,\"train_multi_targets.h5\")\n",
    "FP_MULT_TEST_INPUTS = os.path.join(DATA_DIR,\"test_multi_inputs.h5\")\n",
    "\n",
    "FP_MULT_TRAIN_TARGETS_idx = \"../input/multimodal-single-cell-as-sparse-matrix/train_multi_targets_idxcol.npz\"\n",
    "FP_MULT_TRAIN_TARGETS_sparse = \"../input/multimodal-single-cell-as-sparse-matrix/train_multi_targets_values.sparse.npz\"\n",
    "FP_MULT_TRAIN_INPUTS_idx = \"../input/multimodal-single-cell-as-sparse-matrix/train_multi_inputs_idxcol.npz\"\n",
    "FP_MULT_TRAIN_INPUTS_sparse = \"../input/multimodal-single-cell-as-sparse-matrix/train_multi_inputs_values.sparse.npz\"\n",
    "FP_MULT_TEST_INPUTS_idx = \"../input/multimodal-single-cell-as-sparse-matrix/test_multi_inputs_idxcol.npz\"\n",
    "FP_MULT_TEST_INPUTS_sparse = \"../input/multimodal-single-cell-as-sparse-matrix/test_multi_inputs_values.sparse.npz\"\n",
    "\n",
    "FP_SUBMISSION = os.path.join(DATA_DIR,\"sample_submission.csv\")\n",
    "FP_EVALUATION_IDS = os.path.join(DATA_DIR,\"evaluation_ids.csv\")\n",
    "\n",
    "FP_EVALUATION_IDS_parquet = \"../input/multimodal-single-cell-as-sparse-matrix/evaluation.parquet\"\n",
    "\n",
    "multi_ome_only_file = '../input/n32-nb2-multiome/multiome_only_32.csv'"
   ]
  },
  {
   "cell_type": "markdown",
   "id": "e65fb5b0",
   "metadata": {
    "papermill": {
     "duration": 0.007455,
     "end_time": "2022-12-22T12:22:22.742153",
     "exception": false,
     "start_time": "2022-12-22T12:22:22.734698",
     "status": "completed"
    },
    "tags": []
   },
   "source": [
    "# CITEseq Part: Predicting protein levels"
   ]
  },
  {
   "cell_type": "markdown",
   "id": "1b26f4ff",
   "metadata": {
    "papermill": {
     "duration": 0.007614,
     "end_time": "2022-12-22T12:22:22.757430",
     "exception": false,
     "start_time": "2022-12-22T12:22:22.749816",
     "status": "completed"
    },
    "tags": []
   },
   "source": [
    "Now the CITEseq portion begins\n",
    "\n",
    "\n",
    "Code from pourchot: https://www.kaggle.com/code/pourchot/all-in-one-citeseq-multiome-with-keras"
   ]
  },
  {
   "cell_type": "code",
   "execution_count": 4,
   "id": "73143e84",
   "metadata": {
    "execution": {
     "iopub.execute_input": "2022-12-22T12:22:22.774849Z",
     "iopub.status.busy": "2022-12-22T12:22:22.774416Z",
     "iopub.status.idle": "2022-12-22T12:22:22.779532Z",
     "shell.execute_reply": "2022-12-22T12:22:22.778261Z"
    },
    "papermill": {
     "duration": 0.016779,
     "end_time": "2022-12-22T12:22:22.782044",
     "exception": false,
     "start_time": "2022-12-22T12:22:22.765265",
     "status": "completed"
    },
    "tags": []
   },
   "outputs": [],
   "source": [
    "svd_ncount = 32 # amount of dimensions to keep for SVD later"
   ]
  },
  {
   "cell_type": "markdown",
   "id": "b909e0c8",
   "metadata": {
    "papermill": {
     "duration": 0.007516,
     "end_time": "2022-12-22T12:22:22.797413",
     "exception": false,
     "start_time": "2022-12-22T12:22:22.789897",
     "status": "completed"
    },
    "tags": []
   },
   "source": [
    "## Load in the data"
   ]
  },
  {
   "cell_type": "code",
   "execution_count": 5,
   "id": "28a535d1",
   "metadata": {
    "execution": {
     "iopub.execute_input": "2022-12-22T12:22:22.815322Z",
     "iopub.status.busy": "2022-12-22T12:22:22.814877Z",
     "iopub.status.idle": "2022-12-22T12:23:54.004334Z",
     "shell.execute_reply": "2022-12-22T12:23:54.002799Z"
    },
    "papermill": {
     "duration": 91.202052,
     "end_time": "2022-12-22T12:23:54.007583",
     "exception": false,
     "start_time": "2022-12-22T12:22:22.805531",
     "status": "completed"
    },
    "tags": []
   },
   "outputs": [],
   "source": [
    "# Load training data\n",
    "X = pd.read_hdf(FP_CITE_TRAIN_INPUTS)\n",
    "Y = pd.read_hdf(FP_CITE_TRAIN_TARGETS)\n",
    "\n",
    "# Load test inputs\n",
    "X_test = pd.read_hdf(FP_CITE_TEST_INPUTS)"
   ]
  },
  {
   "cell_type": "markdown",
   "id": "433d9e47",
   "metadata": {
    "papermill": {
     "duration": 0.007696,
     "end_time": "2022-12-22T12:23:54.024119",
     "exception": false,
     "start_time": "2022-12-22T12:23:54.016423",
     "status": "completed"
    },
    "tags": []
   },
   "source": [
    "Constant columns (a.k.a. columns that have the same value in all rows) are useless for machine learning. Just like if you are told to differentiate between apples and oranges, and there is a column which indicates whether apples and oranges are fruits and vegetables, both the apples and oranges will be \"fruit,\" which informs you nothing about the difference between apples and oranges.\n",
    "\n",
    "Hence, constant columns found in the training inputs are found in order to be removed from the input data."
   ]
  },
  {
   "cell_type": "code",
   "execution_count": 6,
   "id": "3ea72e62",
   "metadata": {
    "execution": {
     "iopub.execute_input": "2022-12-22T12:23:54.041995Z",
     "iopub.status.busy": "2022-12-22T12:23:54.041571Z",
     "iopub.status.idle": "2022-12-22T12:23:56.699520Z",
     "shell.execute_reply": "2022-12-22T12:23:56.697990Z"
    },
    "papermill": {
     "duration": 2.670249,
     "end_time": "2022-12-22T12:23:56.702360",
     "exception": false,
     "start_time": "2022-12-22T12:23:54.032111",
     "status": "completed"
    },
    "tags": []
   },
   "outputs": [
    {
     "name": "stdout",
     "output_type": "stream",
     "text": [
      "constant columns  1194\n"
     ]
    }
   ],
   "source": [
    "constant_cols = list(X.columns[(X == 0).all(axis=0).values]) +\\\n",
    "                list(X_test.columns[(X_test == 0).all(axis=0).values])\n",
    "print('constant columns ',len(constant_cols))"
   ]
  },
  {
   "cell_type": "code",
   "execution_count": 7,
   "id": "2875a542",
   "metadata": {
    "execution": {
     "iopub.execute_input": "2022-12-22T12:23:56.719904Z",
     "iopub.status.busy": "2022-12-22T12:23:56.719486Z",
     "iopub.status.idle": "2022-12-22T12:23:59.966647Z",
     "shell.execute_reply": "2022-12-22T12:23:59.965165Z"
    },
    "papermill": {
     "duration": 3.259345,
     "end_time": "2022-12-22T12:23:59.969605",
     "exception": false,
     "start_time": "2022-12-22T12:23:56.710260",
     "status": "completed"
    },
    "tags": []
   },
   "outputs": [],
   "source": [
    "# remove the constant columns from the training data\n",
    "X = X.drop(columns = constant_cols)\n",
    "Xt = X_test.drop(columns = constant_cols)"
   ]
  },
  {
   "cell_type": "markdown",
   "id": "67483511",
   "metadata": {
    "papermill": {
     "duration": 0.007533,
     "end_time": "2022-12-22T12:23:59.985033",
     "exception": false,
     "start_time": "2022-12-22T12:23:59.977500",
     "status": "completed"
    },
    "tags": []
   },
   "source": [
    "The \"important columns\" are columns that appear as training targets. Hence, it is considered important to keep them in mind"
   ]
  },
  {
   "cell_type": "code",
   "execution_count": 8,
   "id": "b45d7370",
   "metadata": {
    "execution": {
     "iopub.execute_input": "2022-12-22T12:24:00.002491Z",
     "iopub.status.busy": "2022-12-22T12:24:00.002046Z",
     "iopub.status.idle": "2022-12-22T12:24:00.483875Z",
     "shell.execute_reply": "2022-12-22T12:24:00.482523Z"
    },
    "papermill": {
     "duration": 0.493513,
     "end_time": "2022-12-22T12:24:00.486278",
     "exception": false,
     "start_time": "2022-12-22T12:23:59.992765",
     "status": "completed"
    },
    "tags": []
   },
   "outputs": [
    {
     "name": "stdout",
     "output_type": "stream",
     "text": [
      "important columns  144\n"
     ]
    }
   ],
   "source": [
    "important_cols = []\n",
    "for y_col in Y.columns:\n",
    "    important_cols += [x_col for x_col in X.columns if y_col in x_col]\n",
    "print('important columns ',len(important_cols))"
   ]
  },
  {
   "cell_type": "markdown",
   "id": "ba5a8dc8",
   "metadata": {
    "papermill": {
     "duration": 0.007539,
     "end_time": "2022-12-22T12:24:00.501793",
     "exception": false,
     "start_time": "2022-12-22T12:24:00.494254",
     "status": "completed"
    },
    "tags": []
   },
   "source": [
    "Before this point, the training and testing data has been loaded in order to determine the constant columns. The training and testing data will be loaded now as sparse matrices with the constant columns removed and the important columns kept. The purpose of sparse matrices is to efficiently store data with lots of zeros and also speed up the machine learning processes."
   ]
  },
  {
   "cell_type": "code",
   "execution_count": 9,
   "id": "e102ab3a",
   "metadata": {
    "execution": {
     "iopub.execute_input": "2022-12-22T12:24:00.519696Z",
     "iopub.status.busy": "2022-12-22T12:24:00.519246Z",
     "iopub.status.idle": "2022-12-22T12:24:00.561592Z",
     "shell.execute_reply": "2022-12-22T12:24:00.560363Z"
    },
    "papermill": {
     "duration": 0.054884,
     "end_time": "2022-12-22T12:24:00.564513",
     "exception": false,
     "start_time": "2022-12-22T12:24:00.509629",
     "status": "completed"
    },
    "tags": []
   },
   "outputs": [
    {
     "data": {
      "text/html": [
       "<div>\n",
       "<style scoped>\n",
       "    .dataframe tbody tr th:only-of-type {\n",
       "        vertical-align: middle;\n",
       "    }\n",
       "\n",
       "    .dataframe tbody tr th {\n",
       "        vertical-align: top;\n",
       "    }\n",
       "\n",
       "    .dataframe thead th {\n",
       "        text-align: right;\n",
       "    }\n",
       "</style>\n",
       "<table border=\"1\" class=\"dataframe\">\n",
       "  <thead>\n",
       "    <tr style=\"text-align: right;\">\n",
       "      <th>gene_id</th>\n",
       "      <th>ENSG00000121410_A1BG</th>\n",
       "      <th>ENSG00000268895_A1BG-AS1</th>\n",
       "      <th>ENSG00000175899_A2M</th>\n",
       "      <th>ENSG00000245105_A2M-AS1</th>\n",
       "      <th>ENSG00000128274_A4GALT</th>\n",
       "      <th>ENSG00000094914_AAAS</th>\n",
       "      <th>ENSG00000081760_AACS</th>\n",
       "      <th>ENSG00000109576_AADAT</th>\n",
       "      <th>ENSG00000103591_AAGAB</th>\n",
       "      <th>ENSG00000115977_AAK1</th>\n",
       "      <th>...</th>\n",
       "      <th>ENSG00000153975_ZUP1</th>\n",
       "      <th>ENSG00000086827_ZW10</th>\n",
       "      <th>ENSG00000174442_ZWILCH</th>\n",
       "      <th>ENSG00000122952_ZWINT</th>\n",
       "      <th>ENSG00000198205_ZXDA</th>\n",
       "      <th>ENSG00000198455_ZXDB</th>\n",
       "      <th>ENSG00000070476_ZXDC</th>\n",
       "      <th>ENSG00000162378_ZYG11B</th>\n",
       "      <th>ENSG00000159840_ZYX</th>\n",
       "      <th>ENSG00000074755_ZZEF1</th>\n",
       "    </tr>\n",
       "    <tr>\n",
       "      <th>cell_id</th>\n",
       "      <th></th>\n",
       "      <th></th>\n",
       "      <th></th>\n",
       "      <th></th>\n",
       "      <th></th>\n",
       "      <th></th>\n",
       "      <th></th>\n",
       "      <th></th>\n",
       "      <th></th>\n",
       "      <th></th>\n",
       "      <th></th>\n",
       "      <th></th>\n",
       "      <th></th>\n",
       "      <th></th>\n",
       "      <th></th>\n",
       "      <th></th>\n",
       "      <th></th>\n",
       "      <th></th>\n",
       "      <th></th>\n",
       "      <th></th>\n",
       "      <th></th>\n",
       "    </tr>\n",
       "  </thead>\n",
       "  <tbody>\n",
       "    <tr>\n",
       "      <th>45006fe3e4c8</th>\n",
       "      <td>0.0</td>\n",
       "      <td>0.0</td>\n",
       "      <td>0.0</td>\n",
       "      <td>0.0</td>\n",
       "      <td>0.000000</td>\n",
       "      <td>0.000000</td>\n",
       "      <td>0.000000</td>\n",
       "      <td>0.000000</td>\n",
       "      <td>0.0</td>\n",
       "      <td>0.000000</td>\n",
       "      <td>...</td>\n",
       "      <td>0.000000</td>\n",
       "      <td>0.000000</td>\n",
       "      <td>0.000000</td>\n",
       "      <td>0.000000</td>\n",
       "      <td>0.0</td>\n",
       "      <td>0.0</td>\n",
       "      <td>0.00000</td>\n",
       "      <td>0.000000</td>\n",
       "      <td>4.090185</td>\n",
       "      <td>0.0</td>\n",
       "    </tr>\n",
       "    <tr>\n",
       "      <th>d02759a80ba2</th>\n",
       "      <td>0.0</td>\n",
       "      <td>0.0</td>\n",
       "      <td>0.0</td>\n",
       "      <td>0.0</td>\n",
       "      <td>0.000000</td>\n",
       "      <td>0.000000</td>\n",
       "      <td>0.000000</td>\n",
       "      <td>0.000000</td>\n",
       "      <td>0.0</td>\n",
       "      <td>4.039545</td>\n",
       "      <td>...</td>\n",
       "      <td>0.000000</td>\n",
       "      <td>0.000000</td>\n",
       "      <td>0.000000</td>\n",
       "      <td>4.039545</td>\n",
       "      <td>0.0</td>\n",
       "      <td>0.0</td>\n",
       "      <td>0.00000</td>\n",
       "      <td>0.000000</td>\n",
       "      <td>0.000000</td>\n",
       "      <td>0.0</td>\n",
       "    </tr>\n",
       "    <tr>\n",
       "      <th>c016c6b0efa5</th>\n",
       "      <td>0.0</td>\n",
       "      <td>0.0</td>\n",
       "      <td>0.0</td>\n",
       "      <td>0.0</td>\n",
       "      <td>3.847321</td>\n",
       "      <td>0.000000</td>\n",
       "      <td>3.847321</td>\n",
       "      <td>3.847321</td>\n",
       "      <td>0.0</td>\n",
       "      <td>0.000000</td>\n",
       "      <td>...</td>\n",
       "      <td>0.000000</td>\n",
       "      <td>0.000000</td>\n",
       "      <td>3.847321</td>\n",
       "      <td>4.529743</td>\n",
       "      <td>0.0</td>\n",
       "      <td>0.0</td>\n",
       "      <td>0.00000</td>\n",
       "      <td>3.847321</td>\n",
       "      <td>3.847321</td>\n",
       "      <td>0.0</td>\n",
       "    </tr>\n",
       "    <tr>\n",
       "      <th>ba7f733a4f75</th>\n",
       "      <td>0.0</td>\n",
       "      <td>0.0</td>\n",
       "      <td>0.0</td>\n",
       "      <td>0.0</td>\n",
       "      <td>0.000000</td>\n",
       "      <td>3.436846</td>\n",
       "      <td>3.436846</td>\n",
       "      <td>0.000000</td>\n",
       "      <td>0.0</td>\n",
       "      <td>4.513782</td>\n",
       "      <td>...</td>\n",
       "      <td>3.436846</td>\n",
       "      <td>0.000000</td>\n",
       "      <td>4.113780</td>\n",
       "      <td>5.020215</td>\n",
       "      <td>0.0</td>\n",
       "      <td>0.0</td>\n",
       "      <td>0.00000</td>\n",
       "      <td>3.436846</td>\n",
       "      <td>4.113780</td>\n",
       "      <td>0.0</td>\n",
       "    </tr>\n",
       "    <tr>\n",
       "      <th>fbcf2443ffb2</th>\n",
       "      <td>0.0</td>\n",
       "      <td>0.0</td>\n",
       "      <td>0.0</td>\n",
       "      <td>0.0</td>\n",
       "      <td>0.000000</td>\n",
       "      <td>0.000000</td>\n",
       "      <td>4.196826</td>\n",
       "      <td>0.000000</td>\n",
       "      <td>0.0</td>\n",
       "      <td>0.000000</td>\n",
       "      <td>...</td>\n",
       "      <td>0.000000</td>\n",
       "      <td>4.196826</td>\n",
       "      <td>4.196826</td>\n",
       "      <td>4.196826</td>\n",
       "      <td>0.0</td>\n",
       "      <td>0.0</td>\n",
       "      <td>3.51861</td>\n",
       "      <td>4.196826</td>\n",
       "      <td>3.518610</td>\n",
       "      <td>0.0</td>\n",
       "    </tr>\n",
       "  </tbody>\n",
       "</table>\n",
       "<p>5 rows × 20856 columns</p>\n",
       "</div>"
      ],
      "text/plain": [
       "gene_id       ENSG00000121410_A1BG  ENSG00000268895_A1BG-AS1  \\\n",
       "cell_id                                                        \n",
       "45006fe3e4c8                   0.0                       0.0   \n",
       "d02759a80ba2                   0.0                       0.0   \n",
       "c016c6b0efa5                   0.0                       0.0   \n",
       "ba7f733a4f75                   0.0                       0.0   \n",
       "fbcf2443ffb2                   0.0                       0.0   \n",
       "\n",
       "gene_id       ENSG00000175899_A2M  ENSG00000245105_A2M-AS1  \\\n",
       "cell_id                                                      \n",
       "45006fe3e4c8                  0.0                      0.0   \n",
       "d02759a80ba2                  0.0                      0.0   \n",
       "c016c6b0efa5                  0.0                      0.0   \n",
       "ba7f733a4f75                  0.0                      0.0   \n",
       "fbcf2443ffb2                  0.0                      0.0   \n",
       "\n",
       "gene_id       ENSG00000128274_A4GALT  ENSG00000094914_AAAS  \\\n",
       "cell_id                                                      \n",
       "45006fe3e4c8                0.000000              0.000000   \n",
       "d02759a80ba2                0.000000              0.000000   \n",
       "c016c6b0efa5                3.847321              0.000000   \n",
       "ba7f733a4f75                0.000000              3.436846   \n",
       "fbcf2443ffb2                0.000000              0.000000   \n",
       "\n",
       "gene_id       ENSG00000081760_AACS  ENSG00000109576_AADAT  \\\n",
       "cell_id                                                     \n",
       "45006fe3e4c8              0.000000               0.000000   \n",
       "d02759a80ba2              0.000000               0.000000   \n",
       "c016c6b0efa5              3.847321               3.847321   \n",
       "ba7f733a4f75              3.436846               0.000000   \n",
       "fbcf2443ffb2              4.196826               0.000000   \n",
       "\n",
       "gene_id       ENSG00000103591_AAGAB  ENSG00000115977_AAK1  ...  \\\n",
       "cell_id                                                    ...   \n",
       "45006fe3e4c8                    0.0              0.000000  ...   \n",
       "d02759a80ba2                    0.0              4.039545  ...   \n",
       "c016c6b0efa5                    0.0              0.000000  ...   \n",
       "ba7f733a4f75                    0.0              4.513782  ...   \n",
       "fbcf2443ffb2                    0.0              0.000000  ...   \n",
       "\n",
       "gene_id       ENSG00000153975_ZUP1  ENSG00000086827_ZW10  \\\n",
       "cell_id                                                    \n",
       "45006fe3e4c8              0.000000              0.000000   \n",
       "d02759a80ba2              0.000000              0.000000   \n",
       "c016c6b0efa5              0.000000              0.000000   \n",
       "ba7f733a4f75              3.436846              0.000000   \n",
       "fbcf2443ffb2              0.000000              4.196826   \n",
       "\n",
       "gene_id       ENSG00000174442_ZWILCH  ENSG00000122952_ZWINT  \\\n",
       "cell_id                                                       \n",
       "45006fe3e4c8                0.000000               0.000000   \n",
       "d02759a80ba2                0.000000               4.039545   \n",
       "c016c6b0efa5                3.847321               4.529743   \n",
       "ba7f733a4f75                4.113780               5.020215   \n",
       "fbcf2443ffb2                4.196826               4.196826   \n",
       "\n",
       "gene_id       ENSG00000198205_ZXDA  ENSG00000198455_ZXDB  \\\n",
       "cell_id                                                    \n",
       "45006fe3e4c8                   0.0                   0.0   \n",
       "d02759a80ba2                   0.0                   0.0   \n",
       "c016c6b0efa5                   0.0                   0.0   \n",
       "ba7f733a4f75                   0.0                   0.0   \n",
       "fbcf2443ffb2                   0.0                   0.0   \n",
       "\n",
       "gene_id       ENSG00000070476_ZXDC  ENSG00000162378_ZYG11B  \\\n",
       "cell_id                                                      \n",
       "45006fe3e4c8               0.00000                0.000000   \n",
       "d02759a80ba2               0.00000                0.000000   \n",
       "c016c6b0efa5               0.00000                3.847321   \n",
       "ba7f733a4f75               0.00000                3.436846   \n",
       "fbcf2443ffb2               3.51861                4.196826   \n",
       "\n",
       "gene_id       ENSG00000159840_ZYX  ENSG00000074755_ZZEF1  \n",
       "cell_id                                                   \n",
       "45006fe3e4c8             4.090185                    0.0  \n",
       "d02759a80ba2             0.000000                    0.0  \n",
       "c016c6b0efa5             3.847321                    0.0  \n",
       "ba7f733a4f75             4.113780                    0.0  \n",
       "fbcf2443ffb2             3.518610                    0.0  \n",
       "\n",
       "[5 rows x 20856 columns]"
      ]
     },
     "execution_count": 9,
     "metadata": {},
     "output_type": "execute_result"
    }
   ],
   "source": [
    "# First, taking a look at X shows there are a LOT of zeros:\n",
    "X.head()"
   ]
  },
  {
   "cell_type": "code",
   "execution_count": 10,
   "id": "d9fe8e15",
   "metadata": {
    "execution": {
     "iopub.execute_input": "2022-12-22T12:24:00.584050Z",
     "iopub.status.busy": "2022-12-22T12:24:00.583632Z",
     "iopub.status.idle": "2022-12-22T12:24:01.124782Z",
     "shell.execute_reply": "2022-12-22T12:24:01.123500Z"
    },
    "papermill": {
     "duration": 0.554289,
     "end_time": "2022-12-22T12:24:01.127329",
     "exception": false,
     "start_time": "2022-12-22T12:24:00.573040",
     "status": "completed"
    },
    "tags": []
   },
   "outputs": [
    {
     "data": {
      "text/plain": [
       "(119651, 4)"
      ]
     },
     "execution_count": 10,
     "metadata": {},
     "output_type": "execute_result"
    }
   ],
   "source": [
    "# first delete the X, X_test, Xt, and Y to save space\n",
    "del X\n",
    "del X_test\n",
    "del Xt\n",
    "del Y\n",
    "\n",
    "# load in the metadata since it'll be modified as well in the next cell\n",
    "# (Since X and Y are modified, it is convenient to modify the metadata to match\n",
    "# at the same time)\n",
    "metadata_df = pd.read_csv(FP_CELL_METADATA, index_col='cell_id')\n",
    "metadata_df = metadata_df[metadata_df.technology==\"citeseq\"] # focus on citeseq right now\n",
    "metadata_df.shape # show the shape"
   ]
  },
  {
   "cell_type": "code",
   "execution_count": 11,
   "id": "32a3bb87",
   "metadata": {
    "execution": {
     "iopub.execute_input": "2022-12-22T12:24:01.146051Z",
     "iopub.status.busy": "2022-12-22T12:24:01.145609Z",
     "iopub.status.idle": "2022-12-22T12:26:53.087889Z",
     "shell.execute_reply": "2022-12-22T12:26:53.086554Z"
    },
    "papermill": {
     "duration": 171.964116,
     "end_time": "2022-12-22T12:26:53.099885",
     "exception": false,
     "start_time": "2022-12-22T12:24:01.135769",
     "status": "completed"
    },
    "tags": []
   },
   "outputs": [
    {
     "name": "stdout",
     "output_type": "stream",
     "text": [
      "Original X shape: (70988, 20856) 5.515 GByte\n",
      "Original Xt shape: (48663, 20856) 3.781 GByte\n",
      "CPU times: user 2min 3s, sys: 14.4 s, total: 2min 17s\n",
      "Wall time: 2min 51s\n"
     ]
    }
   ],
   "source": [
    "%%time\n",
    "# 2min 17s\n",
    "\n",
    "# Now, the data will be converted into sparse matrices\n",
    "# (See MSCI CITEseq Keras Quickstart by AMBROSM)\n",
    "\n",
    "# Read train and convert to sparse matrix\n",
    "X = pd.read_hdf(FP_CITE_TRAIN_INPUTS).drop(columns=constant_cols)\n",
    "cell_index = X.index\n",
    "meta = metadata_df.reindex(cell_index)\n",
    "X0 = X[important_cols].values\n",
    "print(f\"Original X shape: {str(X.shape):14} {X.size*4/1024/1024/1024:2.3f} GByte\")\n",
    "gc.collect()\n",
    "X = scipy.sparse.csr_matrix(X.values)\n",
    "gc.collect()\n",
    "\n",
    "# Read test and convert to sparse matrix\n",
    "Xt = pd.read_hdf(FP_CITE_TEST_INPUTS).drop(columns=constant_cols)\n",
    "cell_index_test = Xt.index\n",
    "meta_test = metadata_df.reindex(cell_index_test)\n",
    "X0t = Xt[important_cols].values\n",
    "print(f\"Original Xt shape: {str(Xt.shape):14} {Xt.size*4/1024/1024/1024:2.3f} GByte\")\n",
    "gc.collect()\n",
    "Xt = scipy.sparse.csr_matrix(Xt.values)"
   ]
  },
  {
   "cell_type": "markdown",
   "id": "90444d65",
   "metadata": {
    "papermill": {
     "duration": 0.008821,
     "end_time": "2022-12-22T12:26:53.118766",
     "exception": false,
     "start_time": "2022-12-22T12:26:53.109945",
     "status": "completed"
    },
    "tags": []
   },
   "source": [
    "## Perform SVD\n",
    "Now perform SVD in order to reduce the number of features"
   ]
  },
  {
   "cell_type": "code",
   "execution_count": 12,
   "id": "317dca6b",
   "metadata": {
    "execution": {
     "iopub.execute_input": "2022-12-22T12:26:53.139674Z",
     "iopub.status.busy": "2022-12-22T12:26:53.139263Z",
     "iopub.status.idle": "2022-12-22T12:29:37.240477Z",
     "shell.execute_reply": "2022-12-22T12:29:37.238045Z"
    },
    "papermill": {
     "duration": 164.127509,
     "end_time": "2022-12-22T12:29:37.255840",
     "exception": false,
     "start_time": "2022-12-22T12:26:53.128331",
     "status": "completed"
    },
    "tags": []
   },
   "outputs": [
    {
     "name": "stdout",
     "output_type": "stream",
     "text": [
      "Shape of both before SVD: (119651, 20856)\n",
      "Shape of both after SVD:  (119651, 32)\n",
      "Reduced X shape:  (70988, 176)   0.047 GByte\n",
      "Reduced Xt shape: (48663, 176)   0.032 GByte\n",
      "CPU times: user 2min 44s, sys: 4.67 s, total: 2min 49s\n",
      "Wall time: 2min 44s\n"
     ]
    }
   ],
   "source": [
    "%%time\n",
    "# 5-6 minutes\n",
    "\n",
    "# Apply the singular value decomposition\n",
    "both = scipy.sparse.vstack([X, Xt])\n",
    "assert both.shape[0] == 119651\n",
    "print(f\"Shape of both before SVD: {both.shape}\")\n",
    "svd = TruncatedSVD(n_components=svd_ncount, random_state=1) # 512 is possible\n",
    "both = svd.fit_transform(both)\n",
    "print(f\"Shape of both after SVD:  {both.shape}\")\n",
    "    \n",
    "# Hstack the svd output with the important features\n",
    "X = both[:70988]\n",
    "Xt = both[70988:]\n",
    "del both\n",
    "X = np.hstack([X, X0])\n",
    "Xt = np.hstack([Xt, X0t])\n",
    "print(f\"Reduced X shape:  {str(X.shape):14} {X.size*4/1024/1024/1024:2.3f} GByte\")\n",
    "print(f\"Reduced Xt shape: {str(Xt.shape):14} {Xt.size*4/1024/1024/1024:2.3f} GByte\")"
   ]
  },
  {
   "cell_type": "code",
   "execution_count": 13,
   "id": "93182562",
   "metadata": {
    "execution": {
     "iopub.execute_input": "2022-12-22T12:29:37.277700Z",
     "iopub.status.busy": "2022-12-22T12:29:37.277179Z",
     "iopub.status.idle": "2022-12-22T12:29:37.285116Z",
     "shell.execute_reply": "2022-12-22T12:29:37.283880Z"
    },
    "papermill": {
     "duration": 0.023007,
     "end_time": "2022-12-22T12:29:37.287855",
     "exception": false,
     "start_time": "2022-12-22T12:29:37.264848",
     "status": "completed"
    },
    "tags": []
   },
   "outputs": [
    {
     "name": "stdout",
     "output_type": "stream",
     "text": [
      "Explained variance:\n",
      "0.13135295\n"
     ]
    }
   ],
   "source": [
    "print(\"Explained variance:\")\n",
    "print(svd.explained_variance_ratio_.sum())"
   ]
  },
  {
   "cell_type": "code",
   "execution_count": 14,
   "id": "48951e41",
   "metadata": {
    "execution": {
     "iopub.execute_input": "2022-12-22T12:29:37.309043Z",
     "iopub.status.busy": "2022-12-22T12:29:37.308505Z",
     "iopub.status.idle": "2022-12-22T12:29:37.992023Z",
     "shell.execute_reply": "2022-12-22T12:29:37.990928Z"
    },
    "papermill": {
     "duration": 0.697238,
     "end_time": "2022-12-22T12:29:37.994738",
     "exception": false,
     "start_time": "2022-12-22T12:29:37.297500",
     "status": "completed"
    },
    "tags": []
   },
   "outputs": [
    {
     "name": "stdout",
     "output_type": "stream",
     "text": [
      "Y shape: (70988, 140)   0.037 GByte\n"
     ]
    }
   ],
   "source": [
    "# Read Y\n",
    "Y = pd.read_hdf(FP_CITE_TRAIN_TARGETS)\n",
    "y_columns = list(Y.columns)\n",
    "Y = Y.values\n",
    "\n",
    "# Normalize the targets row-wise: This doesn't change the correlations,\n",
    "# and negative_correlation_loss depends on it\n",
    "Y -= Y.mean(axis=1).reshape(-1, 1)\n",
    "Y /= Y.std(axis=1).reshape(-1, 1)\n",
    "    \n",
    "print(f\"Y shape: {str(Y.shape):14} {Y.size*4/1024/1024/1024:2.3f} GByte\")"
   ]
  },
  {
   "cell_type": "markdown",
   "id": "fdf2f8bd",
   "metadata": {
    "papermill": {
     "duration": 0.008894,
     "end_time": "2022-12-22T12:29:38.013847",
     "exception": false,
     "start_time": "2022-12-22T12:29:38.004953",
     "status": "completed"
    },
    "tags": []
   },
   "source": [
    "## CITEseq learning model\n",
    "\n",
    "From: https://www.kaggle.com/code/pourchot/all-in-one-citeseq-multiome-with-keras/notebook"
   ]
  },
  {
   "cell_type": "code",
   "execution_count": 15,
   "id": "6dfa9ca2",
   "metadata": {
    "execution": {
     "iopub.execute_input": "2022-12-22T12:29:38.035686Z",
     "iopub.status.busy": "2022-12-22T12:29:38.034869Z",
     "iopub.status.idle": "2022-12-22T12:29:45.708747Z",
     "shell.execute_reply": "2022-12-22T12:29:45.707787Z"
    },
    "papermill": {
     "duration": 7.687317,
     "end_time": "2022-12-22T12:29:45.711440",
     "exception": false,
     "start_time": "2022-12-22T12:29:38.024123",
     "status": "completed"
    },
    "tags": []
   },
   "outputs": [],
   "source": [
    "import math\n",
    "\n",
    "import tensorflow as tf\n",
    "import tensorflow.keras.backend as K\n",
    "from tensorflow.keras.models import Model, load_model\n",
    "from tensorflow.keras.callbacks import ReduceLROnPlateau, LearningRateScheduler, EarlyStopping\n",
    "from tensorflow.keras.layers import Dense, Input, Concatenate, Dropout, BatchNormalization"
   ]
  },
  {
   "cell_type": "markdown",
   "id": "28ec0298",
   "metadata": {
    "papermill": {
     "duration": 0.008604,
     "end_time": "2022-12-22T12:29:45.729741",
     "exception": false,
     "start_time": "2022-12-22T12:29:45.721137",
     "status": "completed"
    },
    "tags": []
   },
   "source": [
    "metric and loss function from MSCI CITEseq Keras Quickstart by AMBROSM\n",
    "\n"
   ]
  },
  {
   "cell_type": "code",
   "execution_count": 16,
   "id": "da549804",
   "metadata": {
    "execution": {
     "iopub.execute_input": "2022-12-22T12:29:45.750485Z",
     "iopub.status.busy": "2022-12-22T12:29:45.749541Z",
     "iopub.status.idle": "2022-12-22T12:29:45.759634Z",
     "shell.execute_reply": "2022-12-22T12:29:45.758319Z"
    },
    "papermill": {
     "duration": 0.023611,
     "end_time": "2022-12-22T12:29:45.762408",
     "exception": false,
     "start_time": "2022-12-22T12:29:45.738797",
     "status": "completed"
    },
    "tags": []
   },
   "outputs": [],
   "source": [
    "def correlation_score(y_true, y_pred):\n",
    "    \"\"\"Scores the predictions according to the competition rules. \n",
    "    \n",
    "    It is assumed that the predictions are not constant.\n",
    "    \n",
    "    Returns the average of each sample's Pearson correlation coefficient\"\"\"\n",
    "    if type(y_true) == pd.DataFrame: y_true = y_true.values\n",
    "    if type(y_pred) == pd.DataFrame: y_pred = y_pred.values\n",
    "    corrsum = 0\n",
    "    for i in range(len(y_true)):\n",
    "        corrsum += np.corrcoef(y_true[i], y_pred[i])[1, 0]\n",
    "    return corrsum / len(y_true)\n",
    "\n",
    "def negative_correlation_loss(y_true, y_pred):\n",
    "    \"\"\"Negative correlation loss function for Keras\n",
    "    \n",
    "    Precondition:\n",
    "    y_true.mean(axis=1) == 0\n",
    "    y_true.std(axis=1) == 1\n",
    "    \n",
    "    Returns:\n",
    "    -1 = perfect positive correlation\n",
    "    1 = totally negative correlation\n",
    "    \"\"\"\n",
    "    my = K.mean(tf.convert_to_tensor(y_pred), axis=1)\n",
    "    my = tf.tile(tf.expand_dims(my, axis=1), (1, y_true.shape[1]))\n",
    "    ym = y_pred - my\n",
    "    r_num = K.sum(tf.multiply(y_true, ym), axis=1)\n",
    "    r_den = tf.sqrt(K.sum(K.square(ym), axis=1) * float(y_true.shape[-1]))\n",
    "    r = tf.reduce_mean(r_num / r_den)\n",
    "    return - r"
   ]
  },
  {
   "cell_type": "code",
   "execution_count": 17,
   "id": "52b44a79",
   "metadata": {
    "execution": {
     "iopub.execute_input": "2022-12-22T12:29:45.783148Z",
     "iopub.status.busy": "2022-12-22T12:29:45.782686Z",
     "iopub.status.idle": "2022-12-22T12:29:45.794614Z",
     "shell.execute_reply": "2022-12-22T12:29:45.793522Z"
    },
    "papermill": {
     "duration": 0.02541,
     "end_time": "2022-12-22T12:29:45.797245",
     "exception": false,
     "start_time": "2022-12-22T12:29:45.771835",
     "status": "completed"
    },
    "tags": []
   },
   "outputs": [],
   "source": [
    "LR_START = 0.01\n",
    "BATCH_SIZE = 512\n",
    "\n",
    "def create_model():\n",
    "    \n",
    "    reg1 = 9.613e-06\n",
    "    reg2 = 1e-07\n",
    "    REG1 = tf.keras.regularizers.l2(reg1)\n",
    "    REG2 = tf.keras.regularizers.l2(reg2)\n",
    "    DROP = 0.1\n",
    "\n",
    "    activation = 'selu'\n",
    "    inputs = Input(shape =(X.shape[1],))\n",
    "\n",
    "    x0 = Dense(256, \n",
    "              kernel_regularizer = REG1,\n",
    "              activation = activation,\n",
    "             )(inputs)\n",
    "    x0 = Dropout(DROP)(x0)\n",
    "    \n",
    "    \n",
    "    x1 = Dense(512, \n",
    "               kernel_regularizer = REG1,\n",
    "               activation = activation,\n",
    "             )(x0)\n",
    "    x1 = Dropout(DROP)(x1)\n",
    "    \n",
    "    \n",
    "    x2 = Dense(512, \n",
    "               kernel_regularizer = REG1,\n",
    "               activation = activation,\n",
    "             )(x1) \n",
    "    x2= Dropout(DROP)(x2)\n",
    "    \n",
    "    x3 = Dense(Y.shape[1],\n",
    "               kernel_regularizer = REG1,\n",
    "               activation = activation,\n",
    "             )(x2)\n",
    "    x3 = Dropout(DROP)(x3)\n",
    "\n",
    "         \n",
    "    x = Concatenate()([\n",
    "                x0, \n",
    "                x1, \n",
    "                x2, \n",
    "                x3\n",
    "                ])\n",
    "    \n",
    "    x = Dense(Y.shape[1], \n",
    "                kernel_regularizer = REG2,\n",
    "                activation='linear',\n",
    "                )(x)\n",
    "    \n",
    "    \n",
    "    model = Model(inputs, x)\n",
    "    \n",
    "\n",
    "    return model"
   ]
  },
  {
   "cell_type": "code",
   "execution_count": 18,
   "id": "a7afc9e4",
   "metadata": {
    "execution": {
     "iopub.execute_input": "2022-12-22T12:29:45.818990Z",
     "iopub.status.busy": "2022-12-22T12:29:45.818323Z",
     "iopub.status.idle": "2022-12-22T12:42:35.399345Z",
     "shell.execute_reply": "2022-12-22T12:42:35.397947Z"
    },
    "papermill": {
     "duration": 770.076547,
     "end_time": "2022-12-22T12:42:35.883326",
     "exception": false,
     "start_time": "2022-12-22T12:29:45.806779",
     "status": "completed"
    },
    "tags": []
   },
   "outputs": [
    {
     "name": "stderr",
     "output_type": "stream",
     "text": [
      "2022-12-22 12:29:46.158247: I tensorflow/core/common_runtime/process_util.cc:146] Creating new thread pool with default inter op setting: 2. Tune using inter_op_parallelism_threads for best performance.\n",
      "2022-12-22 12:29:46.492382: I tensorflow/compiler/mlir/mlir_graph_optimization_pass.cc:185] None of the MLIR Optimization Passes are enabled (registered 2)\n"
     ]
    },
    {
     "name": "stdout",
     "output_type": "stream",
     "text": [
      "Epoch 1/50\n",
      "91/91 [==============================] - 7s 61ms/step - loss: -0.8194 - negative_correlation_loss: -0.8358 - val_loss: -0.8492 - val_negative_correlation_loss: -0.8620\n",
      "Epoch 2/50\n",
      "91/91 [==============================] - 4s 49ms/step - loss: -0.8739 - negative_correlation_loss: -0.8847 - val_loss: -0.8699 - val_negative_correlation_loss: -0.8784\n",
      "Epoch 3/50\n",
      "91/91 [==============================] - 5s 51ms/step - loss: -0.8854 - negative_correlation_loss: -0.8928 - val_loss: -0.8736 - val_negative_correlation_loss: -0.8798\n",
      "Epoch 4/50\n",
      "91/91 [==============================] - 5s 51ms/step - loss: -0.8899 - negative_correlation_loss: -0.8958 - val_loss: -0.8787 - val_negative_correlation_loss: -0.8837\n",
      "Epoch 5/50\n",
      "91/91 [==============================] - 5s 55ms/step - loss: -0.8923 - negative_correlation_loss: -0.8975 - val_loss: -0.8794 - val_negative_correlation_loss: -0.8841\n",
      "Epoch 6/50\n",
      "91/91 [==============================] - 5s 53ms/step - loss: -0.8942 - negative_correlation_loss: -0.8989 - val_loss: -0.8805 - val_negative_correlation_loss: -0.8846\n",
      "Epoch 7/50\n",
      "91/91 [==============================] - 5s 57ms/step - loss: -0.8947 - negative_correlation_loss: -0.8992 - val_loss: -0.8806 - val_negative_correlation_loss: -0.8845\n",
      "Epoch 8/50\n",
      "91/91 [==============================] - 4s 49ms/step - loss: -0.8956 - negative_correlation_loss: -0.8997 - val_loss: -0.8816 - val_negative_correlation_loss: -0.8853\n",
      "Epoch 9/50\n",
      "91/91 [==============================] - 4s 48ms/step - loss: -0.8960 - negative_correlation_loss: -0.8999 - val_loss: -0.8825 - val_negative_correlation_loss: -0.8862\n",
      "Epoch 10/50\n",
      "91/91 [==============================] - 5s 50ms/step - loss: -0.8963 - negative_correlation_loss: -0.9002 - val_loss: -0.8842 - val_negative_correlation_loss: -0.8878\n",
      "Epoch 11/50\n",
      "91/91 [==============================] - 5s 50ms/step - loss: -0.8967 - negative_correlation_loss: -0.9005 - val_loss: -0.8821 - val_negative_correlation_loss: -0.8856\n",
      "Epoch 12/50\n",
      "91/91 [==============================] - 4s 48ms/step - loss: -0.8969 - negative_correlation_loss: -0.9006 - val_loss: -0.8830 - val_negative_correlation_loss: -0.8865\n",
      "Epoch 13/50\n",
      "91/91 [==============================] - 5s 51ms/step - loss: -0.8971 - negative_correlation_loss: -0.9008 - val_loss: -0.8823 - val_negative_correlation_loss: -0.8857\n",
      "Epoch 14/50\n",
      "91/91 [==============================] - 5s 58ms/step - loss: -0.8973 - negative_correlation_loss: -0.9009 - val_loss: -0.8809 - val_negative_correlation_loss: -0.8843\n",
      "\n",
      "Epoch 00014: ReduceLROnPlateau reducing learning rate to 0.008999999798834325.\n",
      "Epoch 15/50\n",
      "91/91 [==============================] - 4s 49ms/step - loss: -0.8978 - negative_correlation_loss: -0.9012 - val_loss: -0.8842 - val_negative_correlation_loss: -0.8873\n",
      "Epoch 16/50\n",
      "91/91 [==============================] - 5s 50ms/step - loss: -0.8980 - negative_correlation_loss: -0.9015 - val_loss: -0.8825 - val_negative_correlation_loss: -0.8856\n",
      "Epoch 17/50\n",
      "91/91 [==============================] - 5s 52ms/step - loss: -0.8981 - negative_correlation_loss: -0.9015 - val_loss: -0.8800 - val_negative_correlation_loss: -0.8832\n",
      "Epoch 18/50\n",
      "91/91 [==============================] - 5s 54ms/step - loss: -0.8980 - negative_correlation_loss: -0.9015 - val_loss: -0.8825 - val_negative_correlation_loss: -0.8856\n",
      "\n",
      "Epoch 00018: ReduceLROnPlateau reducing learning rate to 0.008099999651312828.\n",
      "Epoch 19/50\n",
      "91/91 [==============================] - 5s 53ms/step - loss: -0.8984 - negative_correlation_loss: -0.9017 - val_loss: -0.8832 - val_negative_correlation_loss: -0.8862\n",
      "Epoch 20/50\n",
      "91/91 [==============================] - 5s 51ms/step - loss: -0.8984 - negative_correlation_loss: -0.9017 - val_loss: -0.8838 - val_negative_correlation_loss: -0.8868\n",
      "Epoch 21/50\n",
      "91/91 [==============================] - 5s 61ms/step - loss: -0.8986 - negative_correlation_loss: -0.9018 - val_loss: -0.8842 - val_negative_correlation_loss: -0.8872\n",
      "Epoch 22/50\n",
      "91/91 [==============================] - 5s 52ms/step - loss: -0.8986 - negative_correlation_loss: -0.9018 - val_loss: -0.8843 - val_negative_correlation_loss: -0.8873\n",
      "\n",
      "Epoch 00022: ReduceLROnPlateau reducing learning rate to 0.007289999350905419.\n",
      "Epoch 23/50\n",
      "91/91 [==============================] - 5s 50ms/step - loss: -0.8991 - negative_correlation_loss: -0.9021 - val_loss: -0.8833 - val_negative_correlation_loss: -0.8861\n",
      "Epoch 24/50\n",
      "91/91 [==============================] - 5s 53ms/step - loss: -0.8989 - negative_correlation_loss: -0.9021 - val_loss: -0.8841 - val_negative_correlation_loss: -0.8870\n",
      "Epoch 25/50\n",
      "91/91 [==============================] - 5s 50ms/step - loss: -0.8989 - negative_correlation_loss: -0.9021 - val_loss: -0.8842 - val_negative_correlation_loss: -0.8871\n",
      "Epoch 26/50\n",
      "91/91 [==============================] - 4s 49ms/step - loss: -0.8990 - negative_correlation_loss: -0.9022 - val_loss: -0.8834 - val_negative_correlation_loss: -0.8863\n",
      "\n",
      "Epoch 00026: ReduceLROnPlateau reducing learning rate to 0.006560999248176813.\n",
      "Epoch 27/50\n",
      "91/91 [==============================] - 5s 60ms/step - loss: -0.8994 - negative_correlation_loss: -0.9025 - val_loss: -0.8851 - val_negative_correlation_loss: -0.8879\n",
      "Epoch 28/50\n",
      "91/91 [==============================] - 5s 51ms/step - loss: -0.8992 - negative_correlation_loss: -0.9023 - val_loss: -0.8852 - val_negative_correlation_loss: -0.8880\n",
      "Epoch 29/50\n",
      "91/91 [==============================] - 5s 55ms/step - loss: -0.8993 - negative_correlation_loss: -0.9024 - val_loss: -0.8846 - val_negative_correlation_loss: -0.8874\n",
      "Epoch 30/50\n",
      "91/91 [==============================] - 5s 53ms/step - loss: -0.8994 - negative_correlation_loss: -0.9024 - val_loss: -0.8842 - val_negative_correlation_loss: -0.8869\n",
      "Epoch 31/50\n",
      "91/91 [==============================] - 5s 58ms/step - loss: -0.8994 - negative_correlation_loss: -0.9024 - val_loss: -0.8846 - val_negative_correlation_loss: -0.8875\n",
      "\n",
      "Epoch 00031: ReduceLROnPlateau reducing learning rate to 0.005904899490997195.\n",
      "Epoch 32/50\n",
      "91/91 [==============================] - 5s 58ms/step - loss: -0.8998 - negative_correlation_loss: -0.9027 - val_loss: -0.8863 - val_negative_correlation_loss: -0.8890\n",
      "Epoch 33/50\n",
      "91/91 [==============================] - 6s 70ms/step - loss: -0.8996 - negative_correlation_loss: -0.9026 - val_loss: -0.8837 - val_negative_correlation_loss: -0.8865\n",
      "Epoch 34/50\n",
      "91/91 [==============================] - 5s 58ms/step - loss: -0.8997 - negative_correlation_loss: -0.9026 - val_loss: -0.8851 - val_negative_correlation_loss: -0.8879\n",
      "Epoch 35/50\n",
      "91/91 [==============================] - 6s 64ms/step - loss: -0.8996 - negative_correlation_loss: -0.9025 - val_loss: -0.8840 - val_negative_correlation_loss: -0.8867\n",
      "Epoch 36/50\n",
      "91/91 [==============================] - 5s 57ms/step - loss: -0.8998 - negative_correlation_loss: -0.9026 - val_loss: -0.8850 - val_negative_correlation_loss: -0.8877\n",
      "\n",
      "Epoch 00036: ReduceLROnPlateau reducing learning rate to 0.00531440949998796.\n",
      "Epoch 37/50\n",
      "91/91 [==============================] - 6s 61ms/step - loss: -0.9000 - negative_correlation_loss: -0.9029 - val_loss: -0.8840 - val_negative_correlation_loss: -0.8866\n",
      "Epoch 38/50\n",
      "91/91 [==============================] - 5s 55ms/step - loss: -0.9001 - negative_correlation_loss: -0.9031 - val_loss: -0.8864 - val_negative_correlation_loss: -0.8890\n",
      "Epoch 39/50\n",
      "91/91 [==============================] - 6s 61ms/step - loss: -0.8999 - negative_correlation_loss: -0.9029 - val_loss: -0.8858 - val_negative_correlation_loss: -0.8884\n",
      "Epoch 40/50\n",
      "91/91 [==============================] - 5s 53ms/step - loss: -0.9002 - negative_correlation_loss: -0.9030 - val_loss: -0.8855 - val_negative_correlation_loss: -0.8881\n",
      "\n",
      "Epoch 00040: ReduceLROnPlateau reducing learning rate to 0.004782968759536744.\n",
      "Epoch 41/50\n",
      "91/91 [==============================] - 5s 53ms/step - loss: -0.9002 - negative_correlation_loss: -0.9031 - val_loss: -0.8855 - val_negative_correlation_loss: -0.8880\n",
      "Epoch 42/50\n",
      "91/91 [==============================] - 5s 51ms/step - loss: -0.9004 - negative_correlation_loss: -0.9031 - val_loss: -0.8848 - val_negative_correlation_loss: -0.8873\n",
      "Epoch 43/50\n",
      "91/91 [==============================] - 5s 51ms/step - loss: -0.9002 - negative_correlation_loss: -0.9030 - val_loss: -0.8856 - val_negative_correlation_loss: -0.8881\n",
      "Epoch 44/50\n",
      "91/91 [==============================] - 5s 51ms/step - loss: -0.9003 - negative_correlation_loss: -0.9030 - val_loss: -0.8844 - val_negative_correlation_loss: -0.8870\n",
      "\n",
      "Epoch 00044: ReduceLROnPlateau reducing learning rate to 0.0043046717997640375.\n",
      "Epoch 45/50\n",
      "91/91 [==============================] - 5s 59ms/step - loss: -0.9005 - negative_correlation_loss: -0.9031 - val_loss: -0.8862 - val_negative_correlation_loss: -0.8887\n",
      "Epoch 46/50\n",
      "91/91 [==============================] - 4s 49ms/step - loss: -0.9007 - negative_correlation_loss: -0.9034 - val_loss: -0.8857 - val_negative_correlation_loss: -0.8882\n",
      "Epoch 47/50\n",
      "91/91 [==============================] - 4s 48ms/step - loss: -0.9004 - negative_correlation_loss: -0.9031 - val_loss: -0.8858 - val_negative_correlation_loss: -0.8884\n",
      "Epoch 48/50\n",
      "91/91 [==============================] - 4s 49ms/step - loss: -0.9006 - negative_correlation_loss: -0.9033 - val_loss: -0.8855 - val_negative_correlation_loss: -0.8880\n",
      "\n",
      "Epoch 00048: ReduceLROnPlateau reducing learning rate to 0.0038742044940590858.\n",
      "Epoch 49/50\n",
      "91/91 [==============================] - 4s 48ms/step - loss: -0.9008 - negative_correlation_loss: -0.9035 - val_loss: -0.8856 - val_negative_correlation_loss: -0.8881\n",
      "Epoch 50/50\n",
      "91/91 [==============================] - 5s 50ms/step - loss: -0.9008 - negative_correlation_loss: -0.9034 - val_loss: -0.8864 - val_negative_correlation_loss: -0.8888\n"
     ]
    },
    {
     "name": "stderr",
     "output_type": "stream",
     "text": [
      "2022-12-22 12:34:10.878784: W tensorflow/python/util/util.cc:348] Sets are not currently considered sequences, but this may change in the future, so consider avoiding using them.\n"
     ]
    },
    {
     "name": "stdout",
     "output_type": "stream",
     "text": [
      "model saved\n",
      "Fold 0, correlation =  0.88916\n",
      "Epoch 1/50\n",
      "92/92 [==============================] - 6s 52ms/step - loss: -0.8101 - negative_correlation_loss: -0.8257 - val_loss: -0.8538 - val_negative_correlation_loss: -0.8662\n",
      "Epoch 2/50\n",
      "92/92 [==============================] - 5s 50ms/step - loss: -0.8670 - negative_correlation_loss: -0.8773 - val_loss: -0.8730 - val_negative_correlation_loss: -0.8814\n",
      "Epoch 3/50\n",
      "92/92 [==============================] - 5s 57ms/step - loss: -0.8798 - negative_correlation_loss: -0.8871 - val_loss: -0.8794 - val_negative_correlation_loss: -0.8857\n",
      "Epoch 4/50\n",
      "92/92 [==============================] - 4s 48ms/step - loss: -0.8853 - negative_correlation_loss: -0.8912 - val_loss: -0.8824 - val_negative_correlation_loss: -0.8879\n",
      "Epoch 5/50\n",
      "92/92 [==============================] - 4s 48ms/step - loss: -0.8883 - negative_correlation_loss: -0.8935 - val_loss: -0.8852 - val_negative_correlation_loss: -0.8902\n",
      "Epoch 6/50\n",
      "92/92 [==============================] - 5s 50ms/step - loss: -0.8902 - negative_correlation_loss: -0.8950 - val_loss: -0.8870 - val_negative_correlation_loss: -0.8917\n",
      "Epoch 7/50\n",
      "92/92 [==============================] - 4s 48ms/step - loss: -0.8909 - negative_correlation_loss: -0.8956 - val_loss: -0.8871 - val_negative_correlation_loss: -0.8917\n",
      "Epoch 8/50\n",
      "92/92 [==============================] - 4s 48ms/step - loss: -0.8917 - negative_correlation_loss: -0.8962 - val_loss: -0.8866 - val_negative_correlation_loss: -0.8908\n",
      "Epoch 9/50\n",
      "92/92 [==============================] - 4s 48ms/step - loss: -0.8924 - negative_correlation_loss: -0.8966 - val_loss: -0.8868 - val_negative_correlation_loss: -0.8911\n",
      "Epoch 10/50\n",
      "92/92 [==============================] - 6s 60ms/step - loss: -0.8929 - negative_correlation_loss: -0.8970 - val_loss: -0.8872 - val_negative_correlation_loss: -0.8912\n",
      "Epoch 11/50\n",
      "92/92 [==============================] - 5s 57ms/step - loss: -0.8931 - negative_correlation_loss: -0.8972 - val_loss: -0.8888 - val_negative_correlation_loss: -0.8928\n",
      "Epoch 12/50\n",
      "92/92 [==============================] - 5s 50ms/step - loss: -0.8931 - negative_correlation_loss: -0.8972 - val_loss: -0.8874 - val_negative_correlation_loss: -0.8913\n",
      "Epoch 13/50\n",
      "92/92 [==============================] - 5s 50ms/step - loss: -0.8936 - negative_correlation_loss: -0.8976 - val_loss: -0.8874 - val_negative_correlation_loss: -0.8913\n",
      "Epoch 14/50\n",
      "92/92 [==============================] - 4s 49ms/step - loss: -0.8934 - negative_correlation_loss: -0.8975 - val_loss: -0.8879 - val_negative_correlation_loss: -0.8918\n",
      "Epoch 15/50\n",
      "92/92 [==============================] - 4s 49ms/step - loss: -0.8938 - negative_correlation_loss: -0.8978 - val_loss: -0.8844 - val_negative_correlation_loss: -0.8883\n",
      "\n",
      "Epoch 00015: ReduceLROnPlateau reducing learning rate to 0.008999999798834325.\n",
      "Epoch 16/50\n",
      "92/92 [==============================] - 5s 57ms/step - loss: -0.8944 - negative_correlation_loss: -0.8981 - val_loss: -0.8888 - val_negative_correlation_loss: -0.8926\n",
      "Epoch 17/50\n",
      "92/92 [==============================] - 4s 48ms/step - loss: -0.8945 - negative_correlation_loss: -0.8982 - val_loss: -0.8897 - val_negative_correlation_loss: -0.8933\n",
      "Epoch 18/50\n",
      "92/92 [==============================] - 4s 48ms/step - loss: -0.8946 - negative_correlation_loss: -0.8982 - val_loss: -0.8896 - val_negative_correlation_loss: -0.8932\n",
      "Epoch 19/50\n",
      "92/92 [==============================] - 4s 48ms/step - loss: -0.8948 - negative_correlation_loss: -0.8984 - val_loss: -0.8889 - val_negative_correlation_loss: -0.8926\n",
      "Epoch 20/50\n",
      "92/92 [==============================] - 5s 50ms/step - loss: -0.8945 - negative_correlation_loss: -0.8982 - val_loss: -0.8883 - val_negative_correlation_loss: -0.8919\n",
      "Epoch 21/50\n",
      "92/92 [==============================] - 4s 49ms/step - loss: -0.8948 - negative_correlation_loss: -0.8984 - val_loss: -0.8890 - val_negative_correlation_loss: -0.8926\n",
      "\n",
      "Epoch 00021: ReduceLROnPlateau reducing learning rate to 0.008099999651312828.\n",
      "Epoch 22/50\n",
      "92/92 [==============================] - 4s 48ms/step - loss: -0.8953 - negative_correlation_loss: -0.8988 - val_loss: -0.8883 - val_negative_correlation_loss: -0.8919\n",
      "Epoch 23/50\n",
      "92/92 [==============================] - 5s 58ms/step - loss: -0.8952 - negative_correlation_loss: -0.8987 - val_loss: -0.8888 - val_negative_correlation_loss: -0.8923\n",
      "Epoch 24/50\n",
      "92/92 [==============================] - 5s 53ms/step - loss: -0.8953 - negative_correlation_loss: -0.8987 - val_loss: -0.8897 - val_negative_correlation_loss: -0.8931\n",
      "Epoch 25/50\n",
      "92/92 [==============================] - 5s 52ms/step - loss: -0.8955 - negative_correlation_loss: -0.8989 - val_loss: -0.8908 - val_negative_correlation_loss: -0.8942\n",
      "Epoch 26/50\n",
      "92/92 [==============================] - 5s 50ms/step - loss: -0.8954 - negative_correlation_loss: -0.8989 - val_loss: -0.8890 - val_negative_correlation_loss: -0.8924\n",
      "Epoch 27/50\n",
      "92/92 [==============================] - 5s 49ms/step - loss: -0.8953 - negative_correlation_loss: -0.8987 - val_loss: -0.8888 - val_negative_correlation_loss: -0.8923\n",
      "Epoch 28/50\n",
      "92/92 [==============================] - 4s 48ms/step - loss: -0.8953 - negative_correlation_loss: -0.8987 - val_loss: -0.8885 - val_negative_correlation_loss: -0.8921\n",
      "Epoch 29/50\n",
      "92/92 [==============================] - 4s 48ms/step - loss: -0.8953 - negative_correlation_loss: -0.8988 - val_loss: -0.8891 - val_negative_correlation_loss: -0.8925\n",
      "\n",
      "Epoch 00029: ReduceLROnPlateau reducing learning rate to 0.007289999350905419.\n",
      "Epoch 30/50\n",
      "92/92 [==============================] - 5s 57ms/step - loss: -0.8958 - negative_correlation_loss: -0.8992 - val_loss: -0.8905 - val_negative_correlation_loss: -0.8939\n",
      "Epoch 31/50\n",
      "92/92 [==============================] - 4s 48ms/step - loss: -0.8959 - negative_correlation_loss: -0.8992 - val_loss: -0.8905 - val_negative_correlation_loss: -0.8938\n",
      "Epoch 32/50\n",
      "92/92 [==============================] - 5s 49ms/step - loss: -0.8957 - negative_correlation_loss: -0.8991 - val_loss: -0.8898 - val_negative_correlation_loss: -0.8932\n",
      "Epoch 33/50\n",
      "92/92 [==============================] - 4s 48ms/step - loss: -0.8958 - negative_correlation_loss: -0.8992 - val_loss: -0.8895 - val_negative_correlation_loss: -0.8928\n",
      "\n",
      "Epoch 00033: ReduceLROnPlateau reducing learning rate to 0.006560999248176813.\n",
      "Epoch 34/50\n",
      "92/92 [==============================] - 4s 48ms/step - loss: -0.8961 - negative_correlation_loss: -0.8994 - val_loss: -0.8904 - val_negative_correlation_loss: -0.8936\n",
      "Epoch 35/50\n",
      "92/92 [==============================] - 5s 50ms/step - loss: -0.8961 - negative_correlation_loss: -0.8993 - val_loss: -0.8896 - val_negative_correlation_loss: -0.8928\n",
      "Epoch 36/50\n",
      "92/92 [==============================] - 5s 52ms/step - loss: -0.8962 - negative_correlation_loss: -0.8993 - val_loss: -0.8907 - val_negative_correlation_loss: -0.8938\n",
      "Epoch 37/50\n",
      "92/92 [==============================] - 5s 55ms/step - loss: -0.8962 - negative_correlation_loss: -0.8994 - val_loss: -0.8899 - val_negative_correlation_loss: -0.8931\n",
      "\n",
      "Epoch 00037: ReduceLROnPlateau reducing learning rate to 0.005904899490997195.\n",
      "Epoch 38/50\n",
      "92/92 [==============================] - 4s 49ms/step - loss: -0.8965 - negative_correlation_loss: -0.8997 - val_loss: -0.8899 - val_negative_correlation_loss: -0.8930\n",
      "Epoch 39/50\n",
      "92/92 [==============================] - 4s 48ms/step - loss: -0.8964 - negative_correlation_loss: -0.8995 - val_loss: -0.8905 - val_negative_correlation_loss: -0.8936\n",
      "Epoch 40/50\n",
      "92/92 [==============================] - 5s 49ms/step - loss: -0.8965 - negative_correlation_loss: -0.8996 - val_loss: -0.8901 - val_negative_correlation_loss: -0.8932\n",
      "Epoch 41/50\n",
      "92/92 [==============================] - 4s 47ms/step - loss: -0.8965 - negative_correlation_loss: -0.8996 - val_loss: -0.8901 - val_negative_correlation_loss: -0.8932\n",
      "\n",
      "Epoch 00041: ReduceLROnPlateau reducing learning rate to 0.00531440949998796.\n",
      "Epoch 42/50\n",
      "92/92 [==============================] - 4s 48ms/step - loss: -0.8968 - negative_correlation_loss: -0.8999 - val_loss: -0.8905 - val_negative_correlation_loss: -0.8936\n",
      "Epoch 43/50\n",
      "92/92 [==============================] - 5s 55ms/step - loss: -0.8969 - negative_correlation_loss: -0.8999 - val_loss: -0.8899 - val_negative_correlation_loss: -0.8929\n",
      "Epoch 44/50\n",
      "92/92 [==============================] - 4s 48ms/step - loss: -0.8969 - negative_correlation_loss: -0.8999 - val_loss: -0.8917 - val_negative_correlation_loss: -0.8947\n",
      "Epoch 45/50\n",
      "92/92 [==============================] - 4s 48ms/step - loss: -0.8969 - negative_correlation_loss: -0.8999 - val_loss: -0.8908 - val_negative_correlation_loss: -0.8938\n",
      "Epoch 46/50\n",
      "92/92 [==============================] - 4s 49ms/step - loss: -0.8969 - negative_correlation_loss: -0.8999 - val_loss: -0.8905 - val_negative_correlation_loss: -0.8935\n",
      "Epoch 47/50\n",
      "92/92 [==============================] - 5s 50ms/step - loss: -0.8969 - negative_correlation_loss: -0.8999 - val_loss: -0.8905 - val_negative_correlation_loss: -0.8935\n",
      "Epoch 48/50\n",
      "92/92 [==============================] - 4s 48ms/step - loss: -0.8969 - negative_correlation_loss: -0.8999 - val_loss: -0.8909 - val_negative_correlation_loss: -0.8938\n",
      "\n",
      "Epoch 00048: ReduceLROnPlateau reducing learning rate to 0.004782968759536744.\n",
      "Epoch 49/50\n",
      "92/92 [==============================] - 5s 51ms/step - loss: -0.8971 - negative_correlation_loss: -0.9001 - val_loss: -0.8908 - val_negative_correlation_loss: -0.8937\n",
      "Epoch 50/50\n",
      "92/92 [==============================] - 6s 62ms/step - loss: -0.8971 - negative_correlation_loss: -0.9001 - val_loss: -0.8912 - val_negative_correlation_loss: -0.8942\n",
      "model saved\n",
      "Fold 1, correlation =  0.89472\n",
      "Epoch 1/50\n",
      "96/96 [==============================] - 6s 51ms/step - loss: -0.8077 - negative_correlation_loss: -0.8235 - val_loss: -0.8557 - val_negative_correlation_loss: -0.8680\n",
      "Epoch 2/50\n",
      "96/96 [==============================] - 4s 46ms/step - loss: -0.8698 - negative_correlation_loss: -0.8798 - val_loss: -0.8697 - val_negative_correlation_loss: -0.8777\n",
      "Epoch 3/50\n",
      "96/96 [==============================] - 4s 45ms/step - loss: -0.8807 - negative_correlation_loss: -0.8878 - val_loss: -0.8762 - val_negative_correlation_loss: -0.8824\n",
      "Epoch 4/50\n",
      "96/96 [==============================] - 5s 55ms/step - loss: -0.8867 - negative_correlation_loss: -0.8923 - val_loss: -0.8808 - val_negative_correlation_loss: -0.8859\n",
      "Epoch 5/50\n",
      "96/96 [==============================] - 5s 48ms/step - loss: -0.8894 - negative_correlation_loss: -0.8943 - val_loss: -0.8812 - val_negative_correlation_loss: -0.8857\n",
      "Epoch 6/50\n",
      "96/96 [==============================] - 5s 48ms/step - loss: -0.8908 - negative_correlation_loss: -0.8953 - val_loss: -0.8833 - val_negative_correlation_loss: -0.8876\n",
      "Epoch 7/50\n",
      "96/96 [==============================] - 5s 49ms/step - loss: -0.8917 - negative_correlation_loss: -0.8959 - val_loss: -0.8831 - val_negative_correlation_loss: -0.8871\n",
      "Epoch 8/50\n",
      "96/96 [==============================] - 5s 48ms/step - loss: -0.8925 - negative_correlation_loss: -0.8966 - val_loss: -0.8845 - val_negative_correlation_loss: -0.8882\n",
      "Epoch 9/50\n",
      "96/96 [==============================] - 5s 47ms/step - loss: -0.8926 - negative_correlation_loss: -0.8966 - val_loss: -0.8834 - val_negative_correlation_loss: -0.8872\n",
      "Epoch 10/50\n",
      "96/96 [==============================] - 5s 49ms/step - loss: -0.8932 - negative_correlation_loss: -0.8970 - val_loss: -0.8845 - val_negative_correlation_loss: -0.8881\n",
      "Epoch 11/50\n",
      "96/96 [==============================] - 6s 58ms/step - loss: -0.8935 - negative_correlation_loss: -0.8972 - val_loss: -0.8835 - val_negative_correlation_loss: -0.8871\n",
      "Epoch 12/50\n",
      "96/96 [==============================] - 5s 48ms/step - loss: -0.8936 - negative_correlation_loss: -0.8974 - val_loss: -0.8854 - val_negative_correlation_loss: -0.8889\n",
      "Epoch 13/50\n",
      "96/96 [==============================] - 5s 50ms/step - loss: -0.8938 - negative_correlation_loss: -0.8975 - val_loss: -0.8846 - val_negative_correlation_loss: -0.8881\n",
      "Epoch 14/50\n",
      "96/96 [==============================] - 4s 46ms/step - loss: -0.8940 - negative_correlation_loss: -0.8976 - val_loss: -0.8829 - val_negative_correlation_loss: -0.8864\n",
      "Epoch 15/50\n",
      "96/96 [==============================] - 4s 47ms/step - loss: -0.8941 - negative_correlation_loss: -0.8978 - val_loss: -0.8851 - val_negative_correlation_loss: -0.8885\n",
      "Epoch 16/50\n",
      "96/96 [==============================] - 4s 47ms/step - loss: -0.8943 - negative_correlation_loss: -0.8978 - val_loss: -0.8850 - val_negative_correlation_loss: -0.8885\n",
      "\n",
      "Epoch 00016: ReduceLROnPlateau reducing learning rate to 0.008999999798834325.\n",
      "Epoch 17/50\n",
      "96/96 [==============================] - 5s 55ms/step - loss: -0.8946 - negative_correlation_loss: -0.8981 - val_loss: -0.8867 - val_negative_correlation_loss: -0.8900\n",
      "Epoch 18/50\n",
      "96/96 [==============================] - 5s 48ms/step - loss: -0.8946 - negative_correlation_loss: -0.8980 - val_loss: -0.8859 - val_negative_correlation_loss: -0.8892\n",
      "Epoch 19/50\n",
      "96/96 [==============================] - 5s 48ms/step - loss: -0.8948 - negative_correlation_loss: -0.8982 - val_loss: -0.8861 - val_negative_correlation_loss: -0.8894\n",
      "Epoch 20/50\n",
      "96/96 [==============================] - 5s 48ms/step - loss: -0.8948 - negative_correlation_loss: -0.8981 - val_loss: -0.8848 - val_negative_correlation_loss: -0.8881\n",
      "Epoch 21/50\n",
      "96/96 [==============================] - 4s 47ms/step - loss: -0.8950 - negative_correlation_loss: -0.8985 - val_loss: -0.8850 - val_negative_correlation_loss: -0.8883\n",
      "\n",
      "Epoch 00021: ReduceLROnPlateau reducing learning rate to 0.008099999651312828.\n",
      "Epoch 22/50\n",
      "96/96 [==============================] - 5s 50ms/step - loss: -0.8954 - negative_correlation_loss: -0.8986 - val_loss: -0.8861 - val_negative_correlation_loss: -0.8892\n",
      "Epoch 23/50\n",
      "96/96 [==============================] - 5s 52ms/step - loss: -0.8955 - negative_correlation_loss: -0.8988 - val_loss: -0.8862 - val_negative_correlation_loss: -0.8893\n",
      "Epoch 24/50\n",
      "96/96 [==============================] - 6s 58ms/step - loss: -0.8955 - negative_correlation_loss: -0.8988 - val_loss: -0.8860 - val_negative_correlation_loss: -0.8892\n",
      "Epoch 25/50\n",
      "96/96 [==============================] - 4s 47ms/step - loss: -0.8954 - negative_correlation_loss: -0.8987 - val_loss: -0.8851 - val_negative_correlation_loss: -0.8883\n",
      "\n",
      "Epoch 00025: ReduceLROnPlateau reducing learning rate to 0.007289999350905419.\n",
      "Epoch 26/50\n",
      "96/96 [==============================] - 4s 47ms/step - loss: -0.8958 - negative_correlation_loss: -0.8989 - val_loss: -0.8865 - val_negative_correlation_loss: -0.8896\n",
      "Epoch 27/50\n",
      "96/96 [==============================] - 4s 47ms/step - loss: -0.8958 - negative_correlation_loss: -0.8990 - val_loss: -0.8864 - val_negative_correlation_loss: -0.8895\n",
      "Epoch 28/50\n",
      "96/96 [==============================] - 5s 47ms/step - loss: -0.8959 - negative_correlation_loss: -0.8989 - val_loss: -0.8865 - val_negative_correlation_loss: -0.8895\n",
      "Epoch 29/50\n",
      "96/96 [==============================] - 5s 48ms/step - loss: -0.8959 - negative_correlation_loss: -0.8990 - val_loss: -0.8854 - val_negative_correlation_loss: -0.8883\n",
      "\n",
      "Epoch 00029: ReduceLROnPlateau reducing learning rate to 0.006560999248176813.\n",
      "Epoch 30/50\n",
      "96/96 [==============================] - 5s 50ms/step - loss: -0.8962 - negative_correlation_loss: -0.8993 - val_loss: -0.8865 - val_negative_correlation_loss: -0.8894\n",
      "Epoch 31/50\n",
      "96/96 [==============================] - 5s 52ms/step - loss: -0.8964 - negative_correlation_loss: -0.8994 - val_loss: -0.8855 - val_negative_correlation_loss: -0.8884\n",
      "Epoch 32/50\n",
      "96/96 [==============================] - 4s 47ms/step - loss: -0.8964 - negative_correlation_loss: -0.8994 - val_loss: -0.8861 - val_negative_correlation_loss: -0.8890\n",
      "Epoch 33/50\n",
      "96/96 [==============================] - 4s 47ms/step - loss: -0.8963 - negative_correlation_loss: -0.8993 - val_loss: -0.8873 - val_negative_correlation_loss: -0.8902\n",
      "Epoch 34/50\n",
      "96/96 [==============================] - 5s 48ms/step - loss: -0.8961 - negative_correlation_loss: -0.8991 - val_loss: -0.8856 - val_negative_correlation_loss: -0.8884\n",
      "Epoch 35/50\n",
      "96/96 [==============================] - 5s 48ms/step - loss: -0.8962 - negative_correlation_loss: -0.8994 - val_loss: -0.8876 - val_negative_correlation_loss: -0.8906\n",
      "Epoch 36/50\n",
      "96/96 [==============================] - 5s 50ms/step - loss: -0.8963 - negative_correlation_loss: -0.8994 - val_loss: -0.8869 - val_negative_correlation_loss: -0.8897\n",
      "Epoch 37/50\n",
      "96/96 [==============================] - 5s 55ms/step - loss: -0.8963 - negative_correlation_loss: -0.8994 - val_loss: -0.8870 - val_negative_correlation_loss: -0.8899\n",
      "Epoch 38/50\n",
      "96/96 [==============================] - 5s 47ms/step - loss: -0.8963 - negative_correlation_loss: -0.8994 - val_loss: -0.8865 - val_negative_correlation_loss: -0.8894\n",
      "Epoch 39/50\n",
      "96/96 [==============================] - 5s 48ms/step - loss: -0.8963 - negative_correlation_loss: -0.8993 - val_loss: -0.8867 - val_negative_correlation_loss: -0.8896\n",
      "\n",
      "Epoch 00039: ReduceLROnPlateau reducing learning rate to 0.005904899490997195.\n",
      "Epoch 40/50\n",
      "96/96 [==============================] - 5s 48ms/step - loss: -0.8966 - negative_correlation_loss: -0.8996 - val_loss: -0.8862 - val_negative_correlation_loss: -0.8890\n",
      "Epoch 41/50\n",
      "96/96 [==============================] - 5s 47ms/step - loss: -0.8966 - negative_correlation_loss: -0.8996 - val_loss: -0.8854 - val_negative_correlation_loss: -0.8882\n",
      "Epoch 42/50\n",
      "96/96 [==============================] - 4s 46ms/step - loss: -0.8966 - negative_correlation_loss: -0.8995 - val_loss: -0.8873 - val_negative_correlation_loss: -0.8901\n",
      "Epoch 43/50\n",
      "96/96 [==============================] - 5s 47ms/step - loss: -0.8967 - negative_correlation_loss: -0.8997 - val_loss: -0.8874 - val_negative_correlation_loss: -0.8903\n",
      "\n",
      "Epoch 00043: ReduceLROnPlateau reducing learning rate to 0.00531440949998796.\n",
      "Epoch 44/50\n",
      "96/96 [==============================] - 5s 55ms/step - loss: -0.8969 - negative_correlation_loss: -0.8998 - val_loss: -0.8867 - val_negative_correlation_loss: -0.8894\n",
      "Epoch 45/50\n",
      "96/96 [==============================] - 5s 48ms/step - loss: -0.8969 - negative_correlation_loss: -0.8998 - val_loss: -0.8858 - val_negative_correlation_loss: -0.8885\n",
      "Epoch 46/50\n",
      "96/96 [==============================] - 5s 49ms/step - loss: -0.8970 - negative_correlation_loss: -0.8998 - val_loss: -0.8877 - val_negative_correlation_loss: -0.8904\n",
      "Epoch 47/50\n",
      "96/96 [==============================] - 5s 49ms/step - loss: -0.8970 - negative_correlation_loss: -0.8997 - val_loss: -0.8863 - val_negative_correlation_loss: -0.8890\n",
      "\n",
      "Epoch 00047: ReduceLROnPlateau reducing learning rate to 0.004782968759536744.\n",
      "Epoch 48/50\n",
      "96/96 [==============================] - 5s 51ms/step - loss: -0.8972 - negative_correlation_loss: -0.9000 - val_loss: -0.8866 - val_negative_correlation_loss: -0.8892\n",
      "Epoch 49/50\n",
      "96/96 [==============================] - 5s 50ms/step - loss: -0.8973 - negative_correlation_loss: -0.9000 - val_loss: -0.8871 - val_negative_correlation_loss: -0.8898\n",
      "Epoch 50/50\n",
      "96/96 [==============================] - 5s 55ms/step - loss: -0.8974 - negative_correlation_loss: -0.9001 - val_loss: -0.8872 - val_negative_correlation_loss: -0.8898\n",
      "model saved\n",
      "Fold 2, correlation =  0.89044\n",
      "\u001b[32m\u001b[1mMean corr = 0.89144\u001b[0m\n",
      "\u001b[34m\u001b[1mOof corr   = 0.89144\u001b[0m\n",
      "CPU times: user 31min 11s, sys: 1min 17s, total: 32min 28s\n",
      "Wall time: 12min 49s\n"
     ]
    }
   ],
   "source": [
    "%%time\n",
    "# 13 min 44 s\n",
    "VERBOSE = 1\n",
    "\n",
    "import warnings\n",
    "warnings.filterwarnings(\"ignore\")\n",
    "\n",
    "EPOCHS = 50 \n",
    "N_SPLITS = 3\n",
    "\n",
    "pred_train = np.zeros((Y.shape[0],Y.shape[1]))\n",
    "\n",
    "np.random.seed(1)\n",
    "tf.random.set_seed(1)\n",
    "score_list = []\n",
    "kf = GroupKFold(n_splits=N_SPLITS)\n",
    "score_list = []\n",
    "\n",
    "for fold, (idx_tr, idx_va) in enumerate(kf.split(X, groups=meta.donor)):\n",
    "    start_time = datetime.datetime.now()\n",
    "    model = None\n",
    "    gc.collect()\n",
    "    \n",
    "    X_tr = X[idx_tr]\n",
    "    y_tr = Y[idx_tr]\n",
    "    X_va = X[idx_va]\n",
    "    y_va = Y[idx_va]\n",
    "\n",
    "    lr = ReduceLROnPlateau(\n",
    "                    monitor = \"val_loss\",\n",
    "                    factor = 0.9, \n",
    "                    patience = 4, \n",
    "                    verbose = VERBOSE)\n",
    "\n",
    "    es = EarlyStopping(\n",
    "                    monitor = \"val_loss\",\n",
    "                    patience = 40, \n",
    "                    verbose = VERBOSE,\n",
    "                    mode = \"min\", \n",
    "                    restore_best_weights = True)\n",
    "\n",
    "    model_checkpoint_callback = tf.keras.callbacks.ModelCheckpoint(\n",
    "                    filepath = './citeseq',\n",
    "                    save_weights_only = True,\n",
    "                    monitor = 'val_loss',\n",
    "                    mode = 'min',\n",
    "                    save_best_only = True)\n",
    "\n",
    "    callbacks = [\n",
    "                    lr, \n",
    "                    es, \n",
    "                    model_checkpoint_callback\n",
    "                    ]\n",
    "    \n",
    "    model = create_model()\n",
    "    \n",
    "    model.compile(\n",
    "                optimizer = tf.keras.optimizers.Adam(learning_rate=LR_START),\n",
    "                metrics = [negative_correlation_loss],\n",
    "                loss = negative_correlation_loss\n",
    "                 )\n",
    "    # Training\n",
    "    model.fit(\n",
    "                X_tr,\n",
    "                y_tr, \n",
    "                validation_data=(\n",
    "                                X_va,\n",
    "                                y_va), \n",
    "                epochs = EPOCHS,\n",
    "                verbose = VERBOSE,\n",
    "                batch_size = BATCH_SIZE,\n",
    "                shuffle = True,\n",
    "                callbacks = callbacks)\n",
    "\n",
    "    del X_tr, y_tr \n",
    "    gc.collect()\n",
    "    \n",
    "    model.load_weights('./citeseq')\n",
    "    model.save(f\"./submissions/model_{fold}\")\n",
    "    print('model saved')\n",
    "    \n",
    "    #  Model validation\n",
    "    y_va_pred = model.predict(X_va)\n",
    "    corrscore = correlation_score(y_va, y_va_pred)\n",
    "    pred_train[idx_va] = y_va_pred\n",
    "    \n",
    "    print(f\"Fold {fold}, correlation =  {corrscore:.5f}\")\n",
    "    del X_va, y_va, y_va_pred\n",
    "    gc.collect()\n",
    "    score_list.append(corrscore)\n",
    "\n",
    "# Show overall score\n",
    "print(f\"{Fore.GREEN}{Style.BRIGHT}Mean corr = {np.array(score_list).mean():.5f}{Style.RESET_ALL}\")\n",
    "score_total = correlation_score(Y, pred_train)\n",
    "print(f\"{Fore.BLUE}{Style.BRIGHT}Oof corr   = {score_total:.5f}{Style.RESET_ALL}\")"
   ]
  },
  {
   "cell_type": "markdown",
   "id": "64323e81",
   "metadata": {
    "papermill": {
     "duration": 0.563721,
     "end_time": "2022-12-22T12:42:36.937829",
     "exception": false,
     "start_time": "2022-12-22T12:42:36.374108",
     "status": "completed"
    },
    "tags": []
   },
   "source": [
    "## Predictions for CITEseq"
   ]
  },
  {
   "cell_type": "code",
   "execution_count": 19,
   "id": "564485d1",
   "metadata": {
    "execution": {
     "iopub.execute_input": "2022-12-22T12:42:37.913066Z",
     "iopub.status.busy": "2022-12-22T12:42:37.912620Z",
     "iopub.status.idle": "2022-12-22T12:42:53.780309Z",
     "shell.execute_reply": "2022-12-22T12:42:53.778617Z"
    },
    "papermill": {
     "duration": 16.360493,
     "end_time": "2022-12-22T12:42:53.783220",
     "exception": false,
     "start_time": "2022-12-22T12:42:37.422727",
     "status": "completed"
    },
    "tags": []
   },
   "outputs": [
    {
     "name": "stdout",
     "output_type": "stream",
     "text": [
      "Predicting with fold 0\n",
      "Predicting with fold 1\n",
      "Predicting with fold 2\n",
      "CPU times: user 21 s, sys: 3 s, total: 24 s\n",
      "Wall time: 15.9 s\n"
     ]
    }
   ],
   "source": [
    "%%time\n",
    "# Around 20 s\n",
    "\n",
    "test_pred = np.zeros((len(Xt), 140), dtype=np.float32)\n",
    "for fold in range(N_SPLITS):\n",
    "    print(f\"Predicting with fold {fold}\")\n",
    "    model = load_model(f\"./submissions/model_{fold}\",\n",
    "                       custom_objects={'negative_correlation_loss': negative_correlation_loss})\n",
    "    test_pred += model.predict(Xt)"
   ]
  },
  {
   "cell_type": "markdown",
   "id": "08768f8b",
   "metadata": {
    "papermill": {
     "duration": 0.486732,
     "end_time": "2022-12-22T12:42:54.817924",
     "exception": false,
     "start_time": "2022-12-22T12:42:54.331192",
     "status": "completed"
    },
    "tags": []
   },
   "source": [
    "## Save submission by merging with multiome"
   ]
  },
  {
   "cell_type": "code",
   "execution_count": 20,
   "id": "ed9e7f32",
   "metadata": {
    "execution": {
     "iopub.execute_input": "2022-12-22T12:42:55.805240Z",
     "iopub.status.busy": "2022-12-22T12:42:55.804748Z",
     "iopub.status.idle": "2022-12-22T12:46:35.348018Z",
     "shell.execute_reply": "2022-12-22T12:46:35.347020Z"
    },
    "papermill": {
     "duration": 220.588216,
     "end_time": "2022-12-22T12:46:35.900651",
     "exception": false,
     "start_time": "2022-12-22T12:42:55.312435",
     "status": "completed"
    },
    "tags": []
   },
   "outputs": [
    {
     "data": {
      "text/plain": [
       "row_id\n",
       "0          -293.930969\n",
       "1          -280.330383\n",
       "2          -240.719254\n",
       "3           182.822968\n",
       "4           284.110229\n",
       "               ...    \n",
       "65744175      6.183594\n",
       "65744176      0.044525\n",
       "65744177      0.039185\n",
       "65744178      1.047852\n",
       "65744179      5.597656\n",
       "Name: target, Length: 65744180, dtype: float64"
      ]
     },
     "metadata": {},
     "output_type": "display_data"
    },
    {
     "name": "stdout",
     "output_type": "stream",
     "text": [
      "CPU times: user 3min 11s, sys: 14.8 s, total: 3min 26s\n",
      "Wall time: 3min 39s\n"
     ]
    }
   ],
   "source": [
    "%%time\n",
    "# 2min 41s\n",
    "\n",
    "# Merge with multiome\n",
    "submission = pd.read_csv(multi_ome_only_file,index_col='row_id', squeeze=True)\n",
    "submission.iloc[:len(test_pred.ravel())] = test_pred.ravel()\n",
    "assert not submission.isna().any()\n",
    "\n",
    "submission.to_csv('submission_full_m32_c32.csv')\n",
    "display(submission)"
   ]
  }
 ],
 "metadata": {
  "kernelspec": {
   "display_name": "Python 3",
   "language": "python",
   "name": "python3"
  },
  "language_info": {
   "codemirror_mode": {
    "name": "ipython",
    "version": 3
   },
   "file_extension": ".py",
   "mimetype": "text/x-python",
   "name": "python",
   "nbconvert_exporter": "python",
   "pygments_lexer": "ipython3",
   "version": "3.7.12"
  },
  "papermill": {
   "default_parameters": {},
   "duration": 1481.41052,
   "end_time": "2022-12-22T12:46:39.154347",
   "environment_variables": {},
   "exception": null,
   "input_path": "__notebook__.ipynb",
   "output_path": "__notebook__.ipynb",
   "parameters": {},
   "start_time": "2022-12-22T12:21:57.743827",
   "version": "2.3.4"
  }
 },
 "nbformat": 4,
 "nbformat_minor": 5
}
