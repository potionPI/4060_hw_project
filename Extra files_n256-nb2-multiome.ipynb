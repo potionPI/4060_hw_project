{
 "cells": [
  {
   "cell_type": "markdown",
   "id": "17f52ce7",
   "metadata": {
    "papermill": {
     "duration": 0.009958,
     "end_time": "2022-12-22T09:51:20.301633",
     "exception": false,
     "start_time": "2022-12-22T09:51:20.291675",
     "status": "completed"
    },
    "tags": []
   },
   "source": [
    "Because the datasets are SO large (especially the Multiome dataset), instead of running both parts of the project in one notebook (and risk Kaggle running out of storage space then resetting all progress), it is more convenient to separate the multiome and citeseq parts of the project, then later merge the predicted outputs from the two parts together."
   ]
  },
  {
   "cell_type": "markdown",
   "id": "25755be0",
   "metadata": {
    "papermill": {
     "duration": 0.008229,
     "end_time": "2022-12-22T09:51:20.318945",
     "exception": false,
     "start_time": "2022-12-22T09:51:20.310716",
     "status": "completed"
    },
    "tags": []
   },
   "source": [
    "This notebook concerns itself with the multiome portion."
   ]
  },
  {
   "cell_type": "markdown",
   "id": "87338b0a",
   "metadata": {
    "papermill": {
     "duration": 0.0082,
     "end_time": "2022-12-22T09:51:20.335680",
     "exception": false,
     "start_time": "2022-12-22T09:51:20.327480",
     "status": "completed"
    },
    "tags": []
   },
   "source": [
    "# First, all the basic imports and file names which may or may not be used is loaded in essentially as a header"
   ]
  },
  {
   "cell_type": "code",
   "execution_count": 1,
   "id": "a3d4a336",
   "metadata": {
    "_cell_guid": "b1076dfc-b9ad-4769-8c92-a6c4dae69d19",
    "_uuid": "8f2839f25d086af736a60e9eeb907d3b93b6e0e5",
    "execution": {
     "iopub.execute_input": "2022-12-22T09:51:20.355404Z",
     "iopub.status.busy": "2022-12-22T09:51:20.354926Z",
     "iopub.status.idle": "2022-12-22T09:51:33.301058Z",
     "shell.execute_reply": "2022-12-22T09:51:33.299911Z"
    },
    "papermill": {
     "duration": 12.960515,
     "end_time": "2022-12-22T09:51:33.304656",
     "exception": false,
     "start_time": "2022-12-22T09:51:20.344141",
     "status": "completed"
    },
    "tags": []
   },
   "outputs": [
    {
     "name": "stdout",
     "output_type": "stream",
     "text": [
      "Requirement already satisfied: tables in /opt/conda/lib/python3.7/site-packages (3.7.0)\r\n",
      "Requirement already satisfied: numpy>=1.19.0 in /opt/conda/lib/python3.7/site-packages (from tables) (1.21.6)\r\n",
      "Requirement already satisfied: packaging in /opt/conda/lib/python3.7/site-packages (from tables) (21.3)\r\n",
      "Requirement already satisfied: numexpr>=2.6.2 in /opt/conda/lib/python3.7/site-packages (from tables) (2.8.3)\r\n",
      "Requirement already satisfied: pyparsing!=3.0.5,>=2.0.2 in /opt/conda/lib/python3.7/site-packages (from packaging->tables) (3.0.9)\r\n",
      "\u001b[33mWARNING: Running pip as the 'root' user can result in broken permissions and conflicting behaviour with the system package manager. It is recommended to use a virtual environment instead: https://pip.pypa.io/warnings/venv\u001b[0m\u001b[33m\r\n",
      "\u001b[0m"
     ]
    }
   ],
   "source": [
    "!pip install tables"
   ]
  },
  {
   "cell_type": "code",
   "execution_count": 2,
   "id": "c442d7e0",
   "metadata": {
    "execution": {
     "iopub.execute_input": "2022-12-22T09:51:33.331387Z",
     "iopub.status.busy": "2022-12-22T09:51:33.329828Z",
     "iopub.status.idle": "2022-12-22T09:51:34.766290Z",
     "shell.execute_reply": "2022-12-22T09:51:34.764913Z"
    },
    "papermill": {
     "duration": 1.450103,
     "end_time": "2022-12-22T09:51:34.769123",
     "exception": false,
     "start_time": "2022-12-22T09:51:33.319020",
     "status": "completed"
    },
    "tags": []
   },
   "outputs": [],
   "source": [
    "import os, gc, pickle, datetime, scipy.sparse\n",
    "import pandas as pd\n",
    "import matplotlib.pyplot as plt\n",
    "import numpy as np\n",
    "from colorama import Fore, Back, Style\n",
    "\n",
    "from sklearn.model_selection import GroupKFold\n",
    "from sklearn.preprocessing import StandardScaler\n",
    "from sklearn.decomposition import TruncatedSVD,PCA\n",
    "from sklearn.metrics import mean_squared_error\n",
    "\n",
    "import matplotlib.pyplot as plt\n",
    "from matplotlib.ticker import MaxNLocator\n",
    "import seaborn as sns\n",
    "from cycler import cycler\n",
    "from IPython.display import display\n",
    "\n",
    "import scipy.sparse"
   ]
  },
  {
   "cell_type": "code",
   "execution_count": 3,
   "id": "1c915613",
   "metadata": {
    "execution": {
     "iopub.execute_input": "2022-12-22T09:51:34.789816Z",
     "iopub.status.busy": "2022-12-22T09:51:34.789249Z",
     "iopub.status.idle": "2022-12-22T09:51:34.798345Z",
     "shell.execute_reply": "2022-12-22T09:51:34.797140Z"
    },
    "papermill": {
     "duration": 0.022214,
     "end_time": "2022-12-22T09:51:34.800777",
     "exception": false,
     "start_time": "2022-12-22T09:51:34.778563",
     "status": "completed"
    },
    "tags": []
   },
   "outputs": [],
   "source": [
    "# Directory of the data\n",
    "DATA_DIR = \"/kaggle/input/open-problems-multimodal/\"\n",
    "FP_CELL_METADATA = os.path.join(DATA_DIR,\"metadata.csv\")\n",
    "\n",
    "FP_CITE_TRAIN_INPUTS = os.path.join(DATA_DIR,\"train_cite_inputs.h5\")\n",
    "FP_CITE_TRAIN_TARGETS = os.path.join(DATA_DIR,\"train_cite_targets.h5\")\n",
    "FP_CITE_TEST_INPUTS = os.path.join(DATA_DIR,\"test_cite_inputs.h5\")\n",
    "\n",
    "FP_MULT_TRAIN_INPUTS = os.path.join(DATA_DIR,\"train_multi_inputs.h5\")\n",
    "FP_MULT_TRAIN_TARGETS = os.path.join(DATA_DIR,\"train_multi_targets.h5\")\n",
    "FP_MULT_TEST_INPUTS = os.path.join(DATA_DIR,\"test_multi_inputs.h5\")\n",
    "\n",
    "FP_MULT_TRAIN_TARGETS_idx = \"../input/multimodal-single-cell-as-sparse-matrix/train_multi_targets_idxcol.npz\"\n",
    "FP_MULT_TRAIN_TARGETS_sparse = \"../input/multimodal-single-cell-as-sparse-matrix/train_multi_targets_values.sparse.npz\"\n",
    "FP_MULT_TRAIN_INPUTS_idx = \"../input/multimodal-single-cell-as-sparse-matrix/train_multi_inputs_idxcol.npz\"\n",
    "FP_MULT_TRAIN_INPUTS_sparse = \"../input/multimodal-single-cell-as-sparse-matrix/train_multi_inputs_values.sparse.npz\"\n",
    "FP_MULT_TEST_INPUTS_idx = \"../input/multimodal-single-cell-as-sparse-matrix/test_multi_inputs_idxcol.npz\"\n",
    "FP_MULT_TEST_INPUTS_sparse = \"../input/multimodal-single-cell-as-sparse-matrix/test_multi_inputs_values.sparse.npz\"\n",
    "\n",
    "FP_SUBMISSION = os.path.join(DATA_DIR,\"sample_submission.csv\")\n",
    "FP_EVALUATION_IDS = os.path.join(DATA_DIR,\"evaluation_ids.csv\")\n",
    "\n",
    "FP_EVALUATION_IDS_parquet = \"../input/multimodal-single-cell-as-sparse-matrix/evaluation.parquet\"\n"
   ]
  },
  {
   "cell_type": "markdown",
   "id": "f01ed32c",
   "metadata": {
    "papermill": {
     "duration": 0.008528,
     "end_time": "2022-12-22T09:51:34.818412",
     "exception": false,
     "start_time": "2022-12-22T09:51:34.809884",
     "status": "completed"
    },
    "tags": []
   },
   "source": [
    "# Multiome\n",
    "\n",
    "Now the multiome portion begins\n",
    "\n",
    "Model from: https://www.kaggle.com/code/xiafire/msci-multiome-5-steps-x-5-folds-25-models"
   ]
  },
  {
   "cell_type": "markdown",
   "id": "de1de9a3",
   "metadata": {
    "papermill": {
     "duration": 0.008996,
     "end_time": "2022-12-22T09:51:34.836155",
     "exception": false,
     "start_time": "2022-12-22T09:51:34.827159",
     "status": "completed"
    },
    "tags": []
   },
   "source": [
    "## Load in the data"
   ]
  },
  {
   "cell_type": "code",
   "execution_count": 4,
   "id": "a0f2f5fd",
   "metadata": {
    "execution": {
     "iopub.execute_input": "2022-12-22T09:51:34.856530Z",
     "iopub.status.busy": "2022-12-22T09:51:34.856071Z",
     "iopub.status.idle": "2022-12-22T09:53:41.678241Z",
     "shell.execute_reply": "2022-12-22T09:53:41.676925Z"
    },
    "papermill": {
     "duration": 126.843943,
     "end_time": "2022-12-22T09:53:41.689568",
     "exception": false,
     "start_time": "2022-12-22T09:51:34.845625",
     "status": "completed"
    },
    "tags": []
   },
   "outputs": [
    {
     "name": "stdout",
     "output_type": "stream",
     "text": [
      "CPU times: user 1min 15s, sys: 7.84 s, total: 1min 23s\n",
      "Wall time: 2min 6s\n"
     ]
    }
   ],
   "source": [
    "%%time\n",
    "# 1 min 54 s\n",
    "\n",
    "train_inputs = scipy.sparse.load_npz(FP_MULT_TRAIN_INPUTS_sparse)\n",
    "train_inputs = train_inputs.astype('float16', copy=False)\n",
    "\n",
    "train_targets = scipy.sparse.load_npz(FP_MULT_TRAIN_TARGETS_sparse)\n",
    "\n",
    "test_inputs = scipy.sparse.load_npz(FP_MULT_TEST_INPUTS_sparse)\n",
    "\n",
    "\n",
    "train_target_cols = np.load(FP_MULT_TRAIN_TARGETS_idx,\n",
    "                    allow_pickle=True)[\"columns\"]\n",
    "\n",
    "test_input_rows = np.load(FP_MULT_TEST_INPUTS_idx,\n",
    "                  allow_pickle=True)[\"index\"]"
   ]
  },
  {
   "cell_type": "markdown",
   "id": "c4972634",
   "metadata": {
    "papermill": {
     "duration": 0.008671,
     "end_time": "2022-12-22T09:53:41.707975",
     "exception": false,
     "start_time": "2022-12-22T09:53:41.699304",
     "status": "completed"
    },
    "tags": []
   },
   "source": [
    "## Perform SVD"
   ]
  },
  {
   "cell_type": "code",
   "execution_count": 5,
   "id": "79fbc0c4",
   "metadata": {
    "execution": {
     "iopub.execute_input": "2022-12-22T09:53:41.727306Z",
     "iopub.status.busy": "2022-12-22T09:53:41.726864Z",
     "iopub.status.idle": "2022-12-22T09:53:41.733837Z",
     "shell.execute_reply": "2022-12-22T09:53:41.732630Z"
    },
    "papermill": {
     "duration": 0.019584,
     "end_time": "2022-12-22T09:53:41.736315",
     "exception": false,
     "start_time": "2022-12-22T09:53:41.716731",
     "status": "completed"
    },
    "tags": []
   },
   "outputs": [],
   "source": [
    "num_components = 256 # this will be the setting for n_components\n",
    "random_state_num = 4060 # random state number"
   ]
  },
  {
   "cell_type": "code",
   "execution_count": 6,
   "id": "67440d2f",
   "metadata": {
    "execution": {
     "iopub.execute_input": "2022-12-22T09:53:41.756608Z",
     "iopub.status.busy": "2022-12-22T09:53:41.755873Z",
     "iopub.status.idle": "2022-12-22T10:39:27.469712Z",
     "shell.execute_reply": "2022-12-22T10:39:27.467973Z"
    },
    "papermill": {
     "duration": 2745.744651,
     "end_time": "2022-12-22T10:39:27.489930",
     "exception": false,
     "start_time": "2022-12-22T09:53:41.745279",
     "status": "completed"
    },
    "tags": []
   },
   "outputs": [
    {
     "name": "stdout",
     "output_type": "stream",
     "text": [
      "0.014594905\n",
      "CPU times: user 45min 50s, sys: 34.9 s, total: 46min 25s\n",
      "Wall time: 45min 45s\n"
     ]
    }
   ],
   "source": [
    "%%time\n",
    "# 34 minutes 24 seconds\n",
    "\n",
    "# reduce the dimensionality of the training inputs\n",
    "pca_inputs = TruncatedSVD(n_components=num_components, random_state=random_state_num)\n",
    "train_inputs = pca_inputs.fit_transform(train_inputs)\n",
    "\n",
    "print(pca_inputs.explained_variance_ratio_.sum())"
   ]
  },
  {
   "cell_type": "code",
   "execution_count": 7,
   "id": "453ee6d5",
   "metadata": {
    "execution": {
     "iopub.execute_input": "2022-12-22T10:39:27.513251Z",
     "iopub.status.busy": "2022-12-22T10:39:27.512336Z",
     "iopub.status.idle": "2022-12-22T10:52:57.803632Z",
     "shell.execute_reply": "2022-12-22T10:52:57.802148Z"
    },
    "papermill": {
     "duration": 810.3166,
     "end_time": "2022-12-22T10:52:57.816475",
     "exception": false,
     "start_time": "2022-12-22T10:39:27.499875",
     "status": "completed"
    },
    "tags": []
   },
   "outputs": [
    {
     "name": "stdout",
     "output_type": "stream",
     "text": [
      "0.13660844\n",
      "CPU times: user 13min 35s, sys: 10.2 s, total: 13min 45s\n",
      "Wall time: 13min 30s\n"
     ]
    }
   ],
   "source": [
    "%%time\n",
    "# 5 minutes 58 seconds\n",
    "\n",
    "# Reduce the dimensionality of the training targets\n",
    "pca_targets = TruncatedSVD(n_components=num_components, random_state=random_state_num)\n",
    "train_target = pca_targets.fit_transform(train_targets)\n",
    "print(pca_targets.explained_variance_ratio_.sum())"
   ]
  },
  {
   "cell_type": "markdown",
   "id": "e49495a4",
   "metadata": {
    "papermill": {
     "duration": 0.009756,
     "end_time": "2022-12-22T10:52:57.836399",
     "exception": false,
     "start_time": "2022-12-22T10:52:57.826643",
     "status": "completed"
    },
    "tags": []
   },
   "source": [
    "## Multiome learning model\n",
    "\n",
    "From: https://www.kaggle.com/code/xiafire/msci-multiome-5-steps-x-5-folds-25-models"
   ]
  },
  {
   "cell_type": "code",
   "execution_count": 8,
   "id": "666dce4e",
   "metadata": {
    "execution": {
     "iopub.execute_input": "2022-12-22T10:52:57.858582Z",
     "iopub.status.busy": "2022-12-22T10:52:57.857584Z",
     "iopub.status.idle": "2022-12-22T10:52:57.889539Z",
     "shell.execute_reply": "2022-12-22T10:52:57.888312Z"
    },
    "papermill": {
     "duration": 0.046111,
     "end_time": "2022-12-22T10:52:57.892390",
     "exception": false,
     "start_time": "2022-12-22T10:52:57.846279",
     "status": "completed"
    },
    "tags": []
   },
   "outputs": [],
   "source": [
    "# Use kernel ridge regression\n",
    "from sklearn.gaussian_process.kernels import RBF\n",
    "from sklearn.kernel_ridge import KernelRidge\n",
    "kernel = RBF(length_scale = 10)\n",
    "krr = KernelRidge(alpha=0.2, kernel=kernel)"
   ]
  },
  {
   "cell_type": "code",
   "execution_count": 9,
   "id": "4b155761",
   "metadata": {
    "execution": {
     "iopub.execute_input": "2022-12-22T10:52:57.913498Z",
     "iopub.status.busy": "2022-12-22T10:52:57.913079Z",
     "iopub.status.idle": "2022-12-22T10:52:57.918573Z",
     "shell.execute_reply": "2022-12-22T10:52:57.917294Z"
    },
    "papermill": {
     "duration": 0.018856,
     "end_time": "2022-12-22T10:52:57.920840",
     "exception": false,
     "start_time": "2022-12-22T10:52:57.901984",
     "status": "completed"
    },
    "tags": []
   },
   "outputs": [],
   "source": [
    "n = 5 # 5 folds"
   ]
  },
  {
   "cell_type": "markdown",
   "id": "0fb9b058",
   "metadata": {
    "papermill": {
     "duration": 0.008713,
     "end_time": "2022-12-22T10:52:57.938805",
     "exception": false,
     "start_time": "2022-12-22T10:52:57.930092",
     "status": "completed"
    },
    "tags": []
   },
   "source": [
    "correlation score from MSCI CITEseq Keras Quickstart by AMBROSM"
   ]
  },
  {
   "cell_type": "code",
   "execution_count": 10,
   "id": "0fa60942",
   "metadata": {
    "execution": {
     "iopub.execute_input": "2022-12-22T10:52:57.958983Z",
     "iopub.status.busy": "2022-12-22T10:52:57.958532Z",
     "iopub.status.idle": "2022-12-22T10:52:57.969565Z",
     "shell.execute_reply": "2022-12-22T10:52:57.968441Z"
    },
    "papermill": {
     "duration": 0.024271,
     "end_time": "2022-12-22T10:52:57.972047",
     "exception": false,
     "start_time": "2022-12-22T10:52:57.947776",
     "status": "completed"
    },
    "tags": []
   },
   "outputs": [],
   "source": [
    "def correlation_score(y_true, y_pred):\n",
    "    \"\"\"Scores the predictions according to the competition rules. \n",
    "    \n",
    "    It is assumed that the predictions are not constant.\n",
    "    \n",
    "    Returns the average of each sample's Pearson correlation coefficient\"\"\"\n",
    "    if type(y_true) == pd.DataFrame: y_true = y_true.values\n",
    "    if type(y_pred) == pd.DataFrame: y_pred = y_pred.values\n",
    "    if y_true.shape != y_pred.shape: raise ValueError(\"Shapes are different.\")\n",
    "    corrsum = 0\n",
    "    for i in range(len(y_true)):\n",
    "        corrsum += np.corrcoef(y_true[i], y_pred[i])[1, 0]\n",
    "    return corrsum / len(y_true)"
   ]
  },
  {
   "cell_type": "code",
   "execution_count": 11,
   "id": "70a93e18",
   "metadata": {
    "execution": {
     "iopub.execute_input": "2022-12-22T10:52:57.992322Z",
     "iopub.status.busy": "2022-12-22T10:52:57.991940Z",
     "iopub.status.idle": "2022-12-22T11:52:54.414486Z",
     "shell.execute_reply": "2022-12-22T11:52:54.412941Z"
    },
    "papermill": {
     "duration": 3596.448244,
     "end_time": "2022-12-22T11:52:54.429390",
     "exception": false,
     "start_time": "2022-12-22T10:52:57.981146",
     "status": "completed"
    },
    "tags": []
   },
   "outputs": [
    {
     "name": "stdout",
     "output_type": "stream",
     "text": [
      "start [0:21188]\n",
      "Train...\n",
      "0 0.6666178015950062\n",
      "Train...\n",
      "1 0.6667195887734685\n",
      "Train...\n",
      "2 0.6665781412397265\n",
      "Train...\n",
      "3 0.6656830396416116\n",
      "Train...\n",
      "4 0.6664251980752822\n",
      "start [21188:42376]\n",
      "Train...\n",
      "5 0.6659853108094034\n",
      "Train...\n",
      "6 0.6652651114289787\n",
      "Train...\n",
      "7 0.6673117190701843\n",
      "Train...\n",
      "8 0.6660474264420619\n",
      "Train...\n",
      "9 0.6663596736482712\n",
      "start [42376:63564]\n",
      "Train...\n",
      "10 0.6662188179042828\n",
      "Train...\n",
      "11 0.6656253493463776\n",
      "Train...\n",
      "12 0.6651468179658976\n",
      "Train...\n",
      "13 0.6662368463272412\n",
      "Train...\n",
      "14 0.6661533059737205\n",
      "start [63564:84752]\n",
      "Train...\n",
      "15 0.6661340197737444\n",
      "Train...\n",
      "16 0.6666357666504569\n",
      "Train...\n",
      "17 0.6643476469057601\n",
      "Train...\n",
      "18 0.6660095820698346\n",
      "Train...\n",
      "19 0.6669874878528076\n",
      "start [84752:105940]\n",
      "Train...\n",
      "20 0.6667461455250722\n",
      "Train...\n",
      "21 0.6666717786747607\n",
      "Train...\n",
      "22 0.6658150959604827\n",
      "Train...\n",
      "23 0.6674076780976589\n",
      "Train...\n",
      "24 0.6688406420292216\n",
      "CPU times: user 1h 35min 20s, sys: 4min 3s, total: 1h 39min 24s\n",
      "Wall time: 59min 56s\n"
     ]
    }
   ],
   "source": [
    "%%time\n",
    "# 47 min 59 s\n",
    "\n",
    "# Perform training\n",
    "from sklearn.model_selection import KFold\n",
    "import os, gc, pickle\n",
    "\n",
    "np.random.seed(random_state_num)\n",
    "all_row_indices = np.arange(train_inputs.shape[0])\n",
    "np.random.shuffle(all_row_indices)\n",
    "\n",
    "kf = KFold(n_splits=5, shuffle=True, random_state=random_state_num)\n",
    "\n",
    "index = 0\n",
    "score = []\n",
    "\n",
    "d = train_inputs.shape[0]//n\n",
    "for i in range(0, n*d, d):\n",
    "    print(f'start [{i}:{i+d}]')\n",
    "    ind = all_row_indices[i:i+d]    \n",
    "    for idx_tr, idx_va in kf.split(ind):\n",
    "        X = train_inputs[ind]\n",
    "        Y = train_target[ind] #.todense()\n",
    "        Yva = train_targets[ind][idx_va]\n",
    "        Xtr, Xva = X[idx_tr], X[idx_va]\n",
    "        Ytr = Y[idx_tr]\n",
    "        del X, Y\n",
    "        gc.collect()\n",
    "        \n",
    "        print('Train...')\n",
    "        model = krr #Ridge(copy_X=False)\n",
    "        model.fit(Xtr, Ytr)\n",
    "        del Xtr, Ytr\n",
    "        gc.collect()\n",
    "        \n",
    "        s = correlation_score(Yva.todense(), model.predict(Xva)@pca_targets.components_)\n",
    "        score.append(s)\n",
    "        print(index, s)\n",
    "        del Xva, Yva\n",
    "        gc.collect()\n",
    "        \n",
    "        pkl_filename = f\"model{index:02d}.pkl\"\n",
    "        index += 1\n",
    "        with open(pkl_filename, 'wb') as file:\n",
    "            pickle.dump(model, file)\n",
    "    gc.collect()"
   ]
  },
  {
   "cell_type": "code",
   "execution_count": 12,
   "id": "109e676b",
   "metadata": {
    "execution": {
     "iopub.execute_input": "2022-12-22T11:52:54.456076Z",
     "iopub.status.busy": "2022-12-22T11:52:54.455640Z",
     "iopub.status.idle": "2022-12-22T11:52:54.678182Z",
     "shell.execute_reply": "2022-12-22T11:52:54.677003Z"
    },
    "papermill": {
     "duration": 0.240443,
     "end_time": "2022-12-22T11:52:54.682465",
     "exception": false,
     "start_time": "2022-12-22T11:52:54.442022",
     "status": "completed"
    },
    "tags": []
   },
   "outputs": [
    {
     "data": {
      "text/plain": [
       "21"
      ]
     },
     "execution_count": 12,
     "metadata": {},
     "output_type": "execute_result"
    }
   ],
   "source": [
    "# Delete variables to free up space\n",
    "del train_inputs # Multiome training data, has SVD applied (inputs)\n",
    "del train_targets # Multiome training data, no SVD applied (targets)\n",
    "del train_target # Multiome training data after SVD (targets)\n",
    "gc.collect()"
   ]
  },
  {
   "cell_type": "markdown",
   "id": "05e50256",
   "metadata": {
    "papermill": {
     "duration": 0.012085,
     "end_time": "2022-12-22T11:52:54.706940",
     "exception": false,
     "start_time": "2022-12-22T11:52:54.694855",
     "status": "completed"
    },
    "tags": []
   },
   "source": [
    "## Predictions for multiome"
   ]
  },
  {
   "cell_type": "code",
   "execution_count": 13,
   "id": "febb0f22",
   "metadata": {
    "execution": {
     "iopub.execute_input": "2022-12-22T11:52:54.734159Z",
     "iopub.status.busy": "2022-12-22T11:52:54.733722Z",
     "iopub.status.idle": "2022-12-22T11:54:07.048014Z",
     "shell.execute_reply": "2022-12-22T11:54:07.046726Z"
    },
    "papermill": {
     "duration": 72.342721,
     "end_time": "2022-12-22T11:54:07.062682",
     "exception": false,
     "start_time": "2022-12-22T11:52:54.719961",
     "status": "completed"
    },
    "tags": []
   },
   "outputs": [
    {
     "name": "stdout",
     "output_type": "stream",
     "text": [
      "CPU times: user 1min 12s, sys: 110 ms, total: 1min 12s\n",
      "Wall time: 1min 12s\n"
     ]
    }
   ],
   "source": [
    "%%time\n",
    "# 1 min 12 s\n",
    "\n",
    "# For test inputs, match the pca transform of the training inputs\n",
    "test_inputs = pca_inputs.transform(test_inputs)"
   ]
  },
  {
   "cell_type": "code",
   "execution_count": 14,
   "id": "86ddae54",
   "metadata": {
    "execution": {
     "iopub.execute_input": "2022-12-22T11:54:07.094415Z",
     "iopub.status.busy": "2022-12-22T11:54:07.093985Z",
     "iopub.status.idle": "2022-12-22T11:54:07.229762Z",
     "shell.execute_reply": "2022-12-22T11:54:07.228498Z"
    },
    "papermill": {
     "duration": 0.154637,
     "end_time": "2022-12-22T11:54:07.232021",
     "exception": false,
     "start_time": "2022-12-22T11:54:07.077384",
     "status": "completed"
    },
    "tags": []
   },
   "outputs": [
    {
     "name": "stdout",
     "output_type": "stream",
     "text": [
      "CPU times: user 125 ms, sys: 975 µs, total: 126 ms\n",
      "Wall time: 126 ms\n"
     ]
    },
    {
     "data": {
      "text/plain": [
       "42"
      ]
     },
     "execution_count": 14,
     "metadata": {},
     "output_type": "execute_result"
    }
   ],
   "source": [
    "%%time\n",
    "# less than a second\n",
    "\n",
    "test_len = test_inputs.shape[0]\n",
    "d = test_len//n\n",
    "x = []\n",
    "for i in range(n):\n",
    "    x.append(test_inputs[i*d:i*d+d])\n",
    "    \n",
    "del test_inputs\n",
    "gc.collect()"
   ]
  },
  {
   "cell_type": "code",
   "execution_count": 15,
   "id": "a3824a60",
   "metadata": {
    "execution": {
     "iopub.execute_input": "2022-12-22T11:54:07.561127Z",
     "iopub.status.busy": "2022-12-22T11:54:07.560433Z",
     "iopub.status.idle": "2022-12-22T14:09:04.512992Z",
     "shell.execute_reply": "2022-12-22T14:09:04.511508Z"
    },
    "papermill": {
     "duration": 8097.291069,
     "end_time": "2022-12-22T14:09:04.536542",
     "exception": false,
     "start_time": "2022-12-22T11:54:07.245473",
     "status": "completed"
    },
    "tags": []
   },
   "outputs": [
    {
     "name": "stdout",
     "output_type": "stream",
     "text": [
      "0 1 2 3 4 5 6 7 8 9 10 11 12 13 14 15 16 17 18 19 20 21 22 23 24 \n",
      "0 1 2 3 4 5 6 7 8 9 10 11 12 13 14 15 16 17 18 19 20 21 22 23 24 \n",
      "0 1 2 3 4 5 6 7 8 9 10 11 12 13 14 15 16 17 18 19 20 21 22 23 24 \n",
      "0 1 2 3 4 5 6 7 8 9 10 11 12 13 14 15 16 17 18 19 20 21 22 23 24 \n",
      "0 1 2 3 4 5 6 7 8 9 10 11 12 13 14 15 16 17 18 19 20 21 22 23 24 \n",
      "CPU times: user 2h 34min 58s, sys: 6min 15s, total: 2h 41min 14s\n",
      "Wall time: 2h 14min 56s\n"
     ]
    },
    {
     "data": {
      "text/plain": [
       "0"
      ]
     },
     "execution_count": 15,
     "metadata": {},
     "output_type": "execute_result"
    }
   ],
   "source": [
    "%%time\n",
    "# 1 h 34 min 47 s\n",
    "\n",
    "preds = np.zeros((test_len, 23418), dtype='float16')\n",
    "for i,xx in enumerate(x):\n",
    "    for ind in range(index): # index gives the number of models (25)\n",
    "        print(ind, end=' ')\n",
    "        with open(f'model{ind:02}.pkl', 'rb') as file:\n",
    "            model = pickle.load(file)\n",
    "        preds[i*d:i*d+d,:] += (model.predict(xx)@pca_targets.components_)/index\n",
    "        gc.collect()\n",
    "    print('')\n",
    "    del xx\n",
    "gc.collect()"
   ]
  },
  {
   "cell_type": "code",
   "execution_count": 16,
   "id": "31e4093a",
   "metadata": {
    "execution": {
     "iopub.execute_input": "2022-12-22T14:09:04.579509Z",
     "iopub.status.busy": "2022-12-22T14:09:04.579026Z",
     "iopub.status.idle": "2022-12-22T14:09:04.707708Z",
     "shell.execute_reply": "2022-12-22T14:09:04.706617Z"
    },
    "papermill": {
     "duration": 0.153428,
     "end_time": "2022-12-22T14:09:04.710340",
     "exception": false,
     "start_time": "2022-12-22T14:09:04.556912",
     "status": "completed"
    },
    "tags": []
   },
   "outputs": [
    {
     "data": {
      "text/plain": [
       "21"
      ]
     },
     "execution_count": 16,
     "metadata": {},
     "output_type": "execute_result"
    }
   ],
   "source": [
    "del x\n",
    "gc.collect()"
   ]
  },
  {
   "cell_type": "code",
   "execution_count": 17,
   "id": "7cf2e46e",
   "metadata": {
    "execution": {
     "iopub.execute_input": "2022-12-22T14:09:04.753527Z",
     "iopub.status.busy": "2022-12-22T14:09:04.753119Z",
     "iopub.status.idle": "2022-12-22T14:09:08.430213Z",
     "shell.execute_reply": "2022-12-22T14:09:08.429041Z"
    },
    "papermill": {
     "duration": 3.702092,
     "end_time": "2022-12-22T14:09:08.433068",
     "exception": false,
     "start_time": "2022-12-22T14:09:04.730976",
     "status": "completed"
    },
    "tags": []
   },
   "outputs": [
    {
     "name": "stdout",
     "output_type": "stream",
     "text": [
      "CPU times: user 2.59 ms, sys: 3.67 s, total: 3.67 s\n",
      "Wall time: 3.67 s\n"
     ]
    }
   ],
   "source": [
    "%%time\n",
    "# 4.38 s\n",
    "np.save('preds.npy', preds) # save predictions"
   ]
  },
  {
   "cell_type": "code",
   "execution_count": 18,
   "id": "21dda6d9",
   "metadata": {
    "execution": {
     "iopub.execute_input": "2022-12-22T14:09:08.475665Z",
     "iopub.status.busy": "2022-12-22T14:09:08.475234Z",
     "iopub.status.idle": "2022-12-22T14:09:08.486175Z",
     "shell.execute_reply": "2022-12-22T14:09:08.484972Z"
    },
    "papermill": {
     "duration": 0.034505,
     "end_time": "2022-12-22T14:09:08.488322",
     "exception": false,
     "start_time": "2022-12-22T14:09:08.453817",
     "status": "completed"
    },
    "tags": []
   },
   "outputs": [
    {
     "name": "stdout",
     "output_type": "stream",
     "text": [
      "CPU times: user 119 µs, sys: 0 ns, total: 119 µs\n",
      "Wall time: 123 µs\n"
     ]
    },
    {
     "data": {
      "text/plain": [
       "array([[1.192 , 0.574 , 0.461 , ..., 1.675 , 2.262 , 4.277 ],\n",
       "       [1.344 , 0.6846, 0.8486, ..., 2.518 , 2.89  , 4.242 ],\n",
       "       [1.178 , 0.4863, 0.9497, ..., 1.683 , 2.213 , 3.693 ],\n",
       "       ...,\n",
       "       [0.401 , 0.4568, 0.703 , ..., 1.809 , 0.9077, 3.248 ],\n",
       "       [0.4253, 0.5137, 0.541 , ..., 1.927 , 1.451 , 3.684 ],\n",
       "       [1.214 , 0.911 , 0.3657, ..., 2.572 , 8.305 , 6.375 ]],\n",
       "      dtype=float16)"
      ]
     },
     "execution_count": 18,
     "metadata": {},
     "output_type": "execute_result"
    }
   ],
   "source": [
    "%%time\n",
    "# less than a minute\n",
    "preds = preds.astype('float16', copy=False)\n",
    "preds"
   ]
  },
  {
   "cell_type": "markdown",
   "id": "aa6a6a08",
   "metadata": {
    "papermill": {
     "duration": 0.020855,
     "end_time": "2022-12-22T14:09:08.529428",
     "exception": false,
     "start_time": "2022-12-22T14:09:08.508573",
     "status": "completed"
    },
    "tags": []
   },
   "source": [
    "## Submission format and save"
   ]
  },
  {
   "cell_type": "code",
   "execution_count": 19,
   "id": "ebc48e9e",
   "metadata": {
    "execution": {
     "iopub.execute_input": "2022-12-22T14:09:08.573608Z",
     "iopub.status.busy": "2022-12-22T14:09:08.573168Z",
     "iopub.status.idle": "2022-12-22T14:09:56.194572Z",
     "shell.execute_reply": "2022-12-22T14:09:56.193183Z"
    },
    "papermill": {
     "duration": 47.668516,
     "end_time": "2022-12-22T14:09:56.219798",
     "exception": false,
     "start_time": "2022-12-22T14:09:08.551282",
     "status": "completed"
    },
    "tags": []
   },
   "outputs": [
    {
     "name": "stdout",
     "output_type": "stream",
     "text": [
      "CPU times: user 33.7 s, sys: 18.3 s, total: 52 s\n",
      "Wall time: 47.6 s\n"
     ]
    }
   ],
   "source": [
    "%%time\n",
    "# 42 seconds\n",
    "\n",
    "# Read the table of rows and columns required for submission\n",
    "eval_ids = pd.read_parquet(FP_EVALUATION_IDS_parquet)\n",
    "# Convert the string columns to more efficient categorical types\n",
    "#eval_ids.cell_id = eval_ids.cell_id.apply(lambda s: int(s, base=16))\n",
    "eval_ids.cell_id = eval_ids.cell_id.astype(pd.CategoricalDtype())\n",
    "eval_ids.gene_id = eval_ids.gene_id.astype(pd.CategoricalDtype())"
   ]
  },
  {
   "cell_type": "code",
   "execution_count": 20,
   "id": "db0e67dd",
   "metadata": {
    "execution": {
     "iopub.execute_input": "2022-12-22T14:09:56.265865Z",
     "iopub.status.busy": "2022-12-22T14:09:56.265087Z",
     "iopub.status.idle": "2022-12-22T14:10:26.737698Z",
     "shell.execute_reply": "2022-12-22T14:10:26.736491Z"
    },
    "papermill": {
     "duration": 30.518747,
     "end_time": "2022-12-22T14:10:26.760358",
     "exception": false,
     "start_time": "2022-12-22T14:09:56.241611",
     "status": "completed"
    },
    "tags": []
   },
   "outputs": [
    {
     "data": {
      "text/plain": [
       "row_id    cell_id       gene_id        \n",
       "0         c2150f55becb  CD86              NaN\n",
       "1         c2150f55becb  CD274             NaN\n",
       "2         c2150f55becb  CD270             NaN\n",
       "3         c2150f55becb  CD155             NaN\n",
       "4         c2150f55becb  CD112             NaN\n",
       "                                           ..\n",
       "65744175  2c53aa67933d  ENSG00000134419   NaN\n",
       "65744176  2c53aa67933d  ENSG00000186862   NaN\n",
       "65744177  2c53aa67933d  ENSG00000170959   NaN\n",
       "65744178  2c53aa67933d  ENSG00000107874   NaN\n",
       "65744179  2c53aa67933d  ENSG00000166012   NaN\n",
       "Name: target, Length: 65744180, dtype: float32"
      ]
     },
     "execution_count": 20,
     "metadata": {},
     "output_type": "execute_result"
    }
   ],
   "source": [
    "# Prepare an empty series which will be filled with predictions\n",
    "submission = pd.Series(name='target',\n",
    "                       index=pd.MultiIndex.from_frame(eval_ids), \n",
    "                       dtype=np.float32)\n",
    "submission"
   ]
  },
  {
   "cell_type": "code",
   "execution_count": 21,
   "id": "e330376b",
   "metadata": {
    "execution": {
     "iopub.execute_input": "2022-12-22T14:10:26.817413Z",
     "iopub.status.busy": "2022-12-22T14:10:26.816831Z",
     "iopub.status.idle": "2022-12-22T14:10:26.879306Z",
     "shell.execute_reply": "2022-12-22T14:10:26.877678Z"
    },
    "papermill": {
     "duration": 0.097917,
     "end_time": "2022-12-22T14:10:26.882213",
     "exception": false,
     "start_time": "2022-12-22T14:10:26.784296",
     "status": "completed"
    },
    "tags": []
   },
   "outputs": [
    {
     "name": "stdout",
     "output_type": "stream",
     "text": [
      "CPU times: user 52.8 ms, sys: 0 ns, total: 52.8 ms\n",
      "Wall time: 53 ms\n"
     ]
    }
   ],
   "source": [
    "%%time\n",
    "# 34.5 ms\n",
    "\n",
    "cell_dict = dict((k,v) for v,k in enumerate(test_input_rows)) \n",
    "assert len(cell_dict)  == len(test_input_rows)\n",
    "\n",
    "gene_dict = dict((k,v) for v,k in enumerate(train_target_cols))\n",
    "assert len(gene_dict) == len(train_target_cols)"
   ]
  },
  {
   "cell_type": "code",
   "execution_count": 22,
   "id": "6b6146b6",
   "metadata": {
    "execution": {
     "iopub.execute_input": "2022-12-22T14:10:26.930856Z",
     "iopub.status.busy": "2022-12-22T14:10:26.930054Z",
     "iopub.status.idle": "2022-12-22T14:10:29.356001Z",
     "shell.execute_reply": "2022-12-22T14:10:29.354734Z"
    },
    "papermill": {
     "duration": 2.452348,
     "end_time": "2022-12-22T14:10:29.359173",
     "exception": false,
     "start_time": "2022-12-22T14:10:26.906825",
     "status": "completed"
    },
    "tags": []
   },
   "outputs": [
    {
     "name": "stdout",
     "output_type": "stream",
     "text": [
      "CPU times: user 1.71 s, sys: 985 ms, total: 2.7 s\n",
      "Wall time: 2.42 s\n"
     ]
    }
   ],
   "source": [
    "%%time\n",
    "# 2.92 s\n",
    "\n",
    "eval_ids_cell_num = eval_ids.cell_id.apply(lambda x:cell_dict.get(x, -1))\n",
    "eval_ids_gene_num = eval_ids.gene_id.apply(lambda x:gene_dict.get(x, -1))\n",
    "\n",
    "valid_multi_rows = (eval_ids_gene_num !=-1) & (eval_ids_cell_num!=-1)"
   ]
  },
  {
   "cell_type": "code",
   "execution_count": 23,
   "id": "966019fb",
   "metadata": {
    "execution": {
     "iopub.execute_input": "2022-12-22T14:10:29.402781Z",
     "iopub.status.busy": "2022-12-22T14:10:29.402285Z",
     "iopub.status.idle": "2022-12-22T14:10:32.759923Z",
     "shell.execute_reply": "2022-12-22T14:10:32.758311Z"
    },
    "papermill": {
     "duration": 3.38248,
     "end_time": "2022-12-22T14:10:32.762800",
     "exception": false,
     "start_time": "2022-12-22T14:10:29.380320",
     "status": "completed"
    },
    "tags": []
   },
   "outputs": [
    {
     "name": "stdout",
     "output_type": "stream",
     "text": [
      "CPU times: user 1.73 s, sys: 1.62 s, total: 3.35 s\n",
      "Wall time: 3.35 s\n"
     ]
    }
   ],
   "source": [
    "%%time\n",
    "# 4.78 s\n",
    "\n",
    "submission.iloc[valid_multi_rows] = preds[eval_ids_cell_num[valid_multi_rows].to_numpy(),\n",
    "eval_ids_gene_num[valid_multi_rows].to_numpy()]"
   ]
  },
  {
   "cell_type": "code",
   "execution_count": 24,
   "id": "507fab0e",
   "metadata": {
    "execution": {
     "iopub.execute_input": "2022-12-22T14:10:32.807163Z",
     "iopub.status.busy": "2022-12-22T14:10:32.806366Z",
     "iopub.status.idle": "2022-12-22T14:10:32.951889Z",
     "shell.execute_reply": "2022-12-22T14:10:32.950552Z"
    },
    "papermill": {
     "duration": 0.170574,
     "end_time": "2022-12-22T14:10:32.954507",
     "exception": false,
     "start_time": "2022-12-22T14:10:32.783933",
     "status": "completed"
    },
    "tags": []
   },
   "outputs": [
    {
     "data": {
      "text/plain": [
       "55"
      ]
     },
     "execution_count": 24,
     "metadata": {},
     "output_type": "execute_result"
    }
   ],
   "source": [
    "del eval_ids_cell_num, eval_ids_gene_num, valid_multi_rows, eval_ids, test_input_rows, train_target_cols\n",
    "gc.collect()"
   ]
  },
  {
   "cell_type": "code",
   "execution_count": 25,
   "id": "7bbe1a95",
   "metadata": {
    "execution": {
     "iopub.execute_input": "2022-12-22T14:10:32.998347Z",
     "iopub.status.busy": "2022-12-22T14:10:32.997953Z",
     "iopub.status.idle": "2022-12-22T14:10:33.010363Z",
     "shell.execute_reply": "2022-12-22T14:10:33.009319Z"
    },
    "papermill": {
     "duration": 0.036881,
     "end_time": "2022-12-22T14:10:33.012670",
     "exception": false,
     "start_time": "2022-12-22T14:10:32.975789",
     "status": "completed"
    },
    "tags": []
   },
   "outputs": [
    {
     "data": {
      "text/plain": [
       "row_id    cell_id       gene_id        \n",
       "0         c2150f55becb  CD86                     NaN\n",
       "1         c2150f55becb  CD274                    NaN\n",
       "2         c2150f55becb  CD270                    NaN\n",
       "3         c2150f55becb  CD155                    NaN\n",
       "4         c2150f55becb  CD112                    NaN\n",
       "                                             ...    \n",
       "65744175  2c53aa67933d  ENSG00000134419    14.890625\n",
       "65744176  2c53aa67933d  ENSG00000186862     0.086182\n",
       "65744177  2c53aa67933d  ENSG00000170959     0.116577\n",
       "65744178  2c53aa67933d  ENSG00000107874     2.857422\n",
       "65744179  2c53aa67933d  ENSG00000166012    12.351562\n",
       "Name: target, Length: 65744180, dtype: float32"
      ]
     },
     "execution_count": 25,
     "metadata": {},
     "output_type": "execute_result"
    }
   ],
   "source": [
    "submission"
   ]
  },
  {
   "cell_type": "code",
   "execution_count": 26,
   "id": "21160caa",
   "metadata": {
    "execution": {
     "iopub.execute_input": "2022-12-22T14:10:33.067226Z",
     "iopub.status.busy": "2022-12-22T14:10:33.065770Z",
     "iopub.status.idle": "2022-12-22T14:10:35.774038Z",
     "shell.execute_reply": "2022-12-22T14:10:35.772611Z"
    },
    "papermill": {
     "duration": 2.742773,
     "end_time": "2022-12-22T14:10:35.776620",
     "exception": false,
     "start_time": "2022-12-22T14:10:33.033847",
     "status": "completed"
    },
    "tags": []
   },
   "outputs": [
    {
     "data": {
      "text/html": [
       "<div>\n",
       "<style scoped>\n",
       "    .dataframe tbody tr th:only-of-type {\n",
       "        vertical-align: middle;\n",
       "    }\n",
       "\n",
       "    .dataframe tbody tr th {\n",
       "        vertical-align: top;\n",
       "    }\n",
       "\n",
       "    .dataframe thead th {\n",
       "        text-align: right;\n",
       "    }\n",
       "</style>\n",
       "<table border=\"1\" class=\"dataframe\">\n",
       "  <thead>\n",
       "    <tr style=\"text-align: right;\">\n",
       "      <th></th>\n",
       "      <th>row_id</th>\n",
       "      <th>cell_id</th>\n",
       "      <th>gene_id</th>\n",
       "      <th>target</th>\n",
       "    </tr>\n",
       "  </thead>\n",
       "  <tbody>\n",
       "    <tr>\n",
       "      <th>0</th>\n",
       "      <td>0</td>\n",
       "      <td>c2150f55becb</td>\n",
       "      <td>CD86</td>\n",
       "      <td>NaN</td>\n",
       "    </tr>\n",
       "    <tr>\n",
       "      <th>1</th>\n",
       "      <td>1</td>\n",
       "      <td>c2150f55becb</td>\n",
       "      <td>CD274</td>\n",
       "      <td>NaN</td>\n",
       "    </tr>\n",
       "    <tr>\n",
       "      <th>2</th>\n",
       "      <td>2</td>\n",
       "      <td>c2150f55becb</td>\n",
       "      <td>CD270</td>\n",
       "      <td>NaN</td>\n",
       "    </tr>\n",
       "    <tr>\n",
       "      <th>3</th>\n",
       "      <td>3</td>\n",
       "      <td>c2150f55becb</td>\n",
       "      <td>CD155</td>\n",
       "      <td>NaN</td>\n",
       "    </tr>\n",
       "    <tr>\n",
       "      <th>4</th>\n",
       "      <td>4</td>\n",
       "      <td>c2150f55becb</td>\n",
       "      <td>CD112</td>\n",
       "      <td>NaN</td>\n",
       "    </tr>\n",
       "    <tr>\n",
       "      <th>...</th>\n",
       "      <td>...</td>\n",
       "      <td>...</td>\n",
       "      <td>...</td>\n",
       "      <td>...</td>\n",
       "    </tr>\n",
       "    <tr>\n",
       "      <th>65744175</th>\n",
       "      <td>65744175</td>\n",
       "      <td>2c53aa67933d</td>\n",
       "      <td>ENSG00000134419</td>\n",
       "      <td>14.890625</td>\n",
       "    </tr>\n",
       "    <tr>\n",
       "      <th>65744176</th>\n",
       "      <td>65744176</td>\n",
       "      <td>2c53aa67933d</td>\n",
       "      <td>ENSG00000186862</td>\n",
       "      <td>0.086182</td>\n",
       "    </tr>\n",
       "    <tr>\n",
       "      <th>65744177</th>\n",
       "      <td>65744177</td>\n",
       "      <td>2c53aa67933d</td>\n",
       "      <td>ENSG00000170959</td>\n",
       "      <td>0.116577</td>\n",
       "    </tr>\n",
       "    <tr>\n",
       "      <th>65744178</th>\n",
       "      <td>65744178</td>\n",
       "      <td>2c53aa67933d</td>\n",
       "      <td>ENSG00000107874</td>\n",
       "      <td>2.857422</td>\n",
       "    </tr>\n",
       "    <tr>\n",
       "      <th>65744179</th>\n",
       "      <td>65744179</td>\n",
       "      <td>2c53aa67933d</td>\n",
       "      <td>ENSG00000166012</td>\n",
       "      <td>12.351562</td>\n",
       "    </tr>\n",
       "  </tbody>\n",
       "</table>\n",
       "<p>65744180 rows × 4 columns</p>\n",
       "</div>"
      ],
      "text/plain": [
       "            row_id       cell_id          gene_id     target\n",
       "0                0  c2150f55becb             CD86        NaN\n",
       "1                1  c2150f55becb            CD274        NaN\n",
       "2                2  c2150f55becb            CD270        NaN\n",
       "3                3  c2150f55becb            CD155        NaN\n",
       "4                4  c2150f55becb            CD112        NaN\n",
       "...            ...           ...              ...        ...\n",
       "65744175  65744175  2c53aa67933d  ENSG00000134419  14.890625\n",
       "65744176  65744176  2c53aa67933d  ENSG00000186862   0.086182\n",
       "65744177  65744177  2c53aa67933d  ENSG00000170959   0.116577\n",
       "65744178  65744178  2c53aa67933d  ENSG00000107874   2.857422\n",
       "65744179  65744179  2c53aa67933d  ENSG00000166012  12.351562\n",
       "\n",
       "[65744180 rows x 4 columns]"
      ]
     },
     "execution_count": 26,
     "metadata": {},
     "output_type": "execute_result"
    }
   ],
   "source": [
    "submission.reset_index()"
   ]
  },
  {
   "cell_type": "code",
   "execution_count": 27,
   "id": "cfe4114a",
   "metadata": {
    "execution": {
     "iopub.execute_input": "2022-12-22T14:10:35.821683Z",
     "iopub.status.busy": "2022-12-22T14:10:35.821256Z",
     "iopub.status.idle": "2022-12-22T14:10:39.253263Z",
     "shell.execute_reply": "2022-12-22T14:10:39.251819Z"
    },
    "papermill": {
     "duration": 3.457746,
     "end_time": "2022-12-22T14:10:39.256042",
     "exception": false,
     "start_time": "2022-12-22T14:10:35.798296",
     "status": "completed"
    },
    "tags": []
   },
   "outputs": [
    {
     "name": "stdout",
     "output_type": "stream",
     "text": [
      "CPU times: user 2.36 s, sys: 1.06 s, total: 3.41 s\n",
      "Wall time: 3.42 s\n"
     ]
    },
    {
     "data": {
      "text/html": [
       "<div>\n",
       "<style scoped>\n",
       "    .dataframe tbody tr th:only-of-type {\n",
       "        vertical-align: middle;\n",
       "    }\n",
       "\n",
       "    .dataframe tbody tr th {\n",
       "        vertical-align: top;\n",
       "    }\n",
       "\n",
       "    .dataframe thead th {\n",
       "        text-align: right;\n",
       "    }\n",
       "</style>\n",
       "<table border=\"1\" class=\"dataframe\">\n",
       "  <thead>\n",
       "    <tr style=\"text-align: right;\">\n",
       "      <th></th>\n",
       "      <th>row_id</th>\n",
       "      <th>target</th>\n",
       "    </tr>\n",
       "  </thead>\n",
       "  <tbody>\n",
       "    <tr>\n",
       "      <th>0</th>\n",
       "      <td>0</td>\n",
       "      <td>NaN</td>\n",
       "    </tr>\n",
       "    <tr>\n",
       "      <th>1</th>\n",
       "      <td>1</td>\n",
       "      <td>NaN</td>\n",
       "    </tr>\n",
       "    <tr>\n",
       "      <th>2</th>\n",
       "      <td>2</td>\n",
       "      <td>NaN</td>\n",
       "    </tr>\n",
       "    <tr>\n",
       "      <th>3</th>\n",
       "      <td>3</td>\n",
       "      <td>NaN</td>\n",
       "    </tr>\n",
       "    <tr>\n",
       "      <th>4</th>\n",
       "      <td>4</td>\n",
       "      <td>NaN</td>\n",
       "    </tr>\n",
       "    <tr>\n",
       "      <th>...</th>\n",
       "      <td>...</td>\n",
       "      <td>...</td>\n",
       "    </tr>\n",
       "    <tr>\n",
       "      <th>65744175</th>\n",
       "      <td>65744175</td>\n",
       "      <td>14.890625</td>\n",
       "    </tr>\n",
       "    <tr>\n",
       "      <th>65744176</th>\n",
       "      <td>65744176</td>\n",
       "      <td>0.086182</td>\n",
       "    </tr>\n",
       "    <tr>\n",
       "      <th>65744177</th>\n",
       "      <td>65744177</td>\n",
       "      <td>0.116577</td>\n",
       "    </tr>\n",
       "    <tr>\n",
       "      <th>65744178</th>\n",
       "      <td>65744178</td>\n",
       "      <td>2.857422</td>\n",
       "    </tr>\n",
       "    <tr>\n",
       "      <th>65744179</th>\n",
       "      <td>65744179</td>\n",
       "      <td>12.351562</td>\n",
       "    </tr>\n",
       "  </tbody>\n",
       "</table>\n",
       "<p>65744180 rows × 2 columns</p>\n",
       "</div>"
      ],
      "text/plain": [
       "            row_id     target\n",
       "0                0        NaN\n",
       "1                1        NaN\n",
       "2                2        NaN\n",
       "3                3        NaN\n",
       "4                4        NaN\n",
       "...            ...        ...\n",
       "65744175  65744175  14.890625\n",
       "65744176  65744176   0.086182\n",
       "65744177  65744177   0.116577\n",
       "65744178  65744178   2.857422\n",
       "65744179  65744179  12.351562\n",
       "\n",
       "[65744180 rows x 2 columns]"
      ]
     },
     "execution_count": 27,
     "metadata": {},
     "output_type": "execute_result"
    }
   ],
   "source": [
    "%%time\n",
    "\n",
    "submission = submission.reset_index().drop(['cell_id', 'gene_id'], axis=1)\n",
    "submission"
   ]
  },
  {
   "cell_type": "code",
   "execution_count": 28,
   "id": "7c6a062f",
   "metadata": {
    "execution": {
     "iopub.execute_input": "2022-12-22T14:10:39.302582Z",
     "iopub.status.busy": "2022-12-22T14:10:39.301236Z",
     "iopub.status.idle": "2022-12-22T14:10:39.316126Z",
     "shell.execute_reply": "2022-12-22T14:10:39.315014Z"
    },
    "papermill": {
     "duration": 0.041131,
     "end_time": "2022-12-22T14:10:39.319231",
     "exception": false,
     "start_time": "2022-12-22T14:10:39.278100",
     "status": "completed"
    },
    "tags": []
   },
   "outputs": [
    {
     "name": "stdout",
     "output_type": "stream",
     "text": [
      "CPU times: user 717 µs, sys: 27 µs, total: 744 µs\n",
      "Wall time: 755 µs\n"
     ]
    },
    {
     "data": {
      "text/html": [
       "<div>\n",
       "<style scoped>\n",
       "    .dataframe tbody tr th:only-of-type {\n",
       "        vertical-align: middle;\n",
       "    }\n",
       "\n",
       "    .dataframe tbody tr th {\n",
       "        vertical-align: top;\n",
       "    }\n",
       "\n",
       "    .dataframe thead th {\n",
       "        text-align: right;\n",
       "    }\n",
       "</style>\n",
       "<table border=\"1\" class=\"dataframe\">\n",
       "  <thead>\n",
       "    <tr style=\"text-align: right;\">\n",
       "      <th></th>\n",
       "      <th>target</th>\n",
       "    </tr>\n",
       "    <tr>\n",
       "      <th>row_id</th>\n",
       "      <th></th>\n",
       "    </tr>\n",
       "  </thead>\n",
       "  <tbody>\n",
       "    <tr>\n",
       "      <th>0</th>\n",
       "      <td>NaN</td>\n",
       "    </tr>\n",
       "    <tr>\n",
       "      <th>1</th>\n",
       "      <td>NaN</td>\n",
       "    </tr>\n",
       "    <tr>\n",
       "      <th>2</th>\n",
       "      <td>NaN</td>\n",
       "    </tr>\n",
       "    <tr>\n",
       "      <th>3</th>\n",
       "      <td>NaN</td>\n",
       "    </tr>\n",
       "    <tr>\n",
       "      <th>4</th>\n",
       "      <td>NaN</td>\n",
       "    </tr>\n",
       "    <tr>\n",
       "      <th>...</th>\n",
       "      <td>...</td>\n",
       "    </tr>\n",
       "    <tr>\n",
       "      <th>65744175</th>\n",
       "      <td>14.890625</td>\n",
       "    </tr>\n",
       "    <tr>\n",
       "      <th>65744176</th>\n",
       "      <td>0.086182</td>\n",
       "    </tr>\n",
       "    <tr>\n",
       "      <th>65744177</th>\n",
       "      <td>0.116577</td>\n",
       "    </tr>\n",
       "    <tr>\n",
       "      <th>65744178</th>\n",
       "      <td>2.857422</td>\n",
       "    </tr>\n",
       "    <tr>\n",
       "      <th>65744179</th>\n",
       "      <td>12.351562</td>\n",
       "    </tr>\n",
       "  </tbody>\n",
       "</table>\n",
       "<p>65744180 rows × 1 columns</p>\n",
       "</div>"
      ],
      "text/plain": [
       "             target\n",
       "row_id             \n",
       "0               NaN\n",
       "1               NaN\n",
       "2               NaN\n",
       "3               NaN\n",
       "4               NaN\n",
       "...             ...\n",
       "65744175  14.890625\n",
       "65744176   0.086182\n",
       "65744177   0.116577\n",
       "65744178   2.857422\n",
       "65744179  12.351562\n",
       "\n",
       "[65744180 rows x 1 columns]"
      ]
     },
     "execution_count": 28,
     "metadata": {},
     "output_type": "execute_result"
    }
   ],
   "source": [
    "%%time\n",
    "\n",
    "submission.set_index('row_id', inplace=True)\n",
    "submission\n"
   ]
  },
  {
   "cell_type": "code",
   "execution_count": 29,
   "id": "a978bbc8",
   "metadata": {
    "execution": {
     "iopub.execute_input": "2022-12-22T14:10:39.367186Z",
     "iopub.status.busy": "2022-12-22T14:10:39.366752Z",
     "iopub.status.idle": "2022-12-22T14:12:46.079900Z",
     "shell.execute_reply": "2022-12-22T14:12:46.078632Z"
    },
    "papermill": {
     "duration": 126.762821,
     "end_time": "2022-12-22T14:12:46.105178",
     "exception": false,
     "start_time": "2022-12-22T14:10:39.342357",
     "status": "completed"
    },
    "tags": []
   },
   "outputs": [
    {
     "name": "stdout",
     "output_type": "stream",
     "text": [
      "CPU times: user 2min 2s, sys: 3.69 s, total: 2min 6s\n",
      "Wall time: 2min 6s\n"
     ]
    }
   ],
   "source": [
    "%%time\n",
    "# Approximately 2 minutes\n",
    "\n",
    "# save as csv\n",
    "submission.to_csv('multiome_only_256.csv')"
   ]
  }
 ],
 "metadata": {
  "kernelspec": {
   "display_name": "Python 3",
   "language": "python",
   "name": "python3"
  },
  "language_info": {
   "codemirror_mode": {
    "name": "ipython",
    "version": 3
   },
   "file_extension": ".py",
   "mimetype": "text/x-python",
   "name": "python",
   "nbconvert_exporter": "python",
   "pygments_lexer": "ipython3",
   "version": "3.7.12"
  },
  "papermill": {
   "default_parameters": {},
   "duration": 15696.031998,
   "end_time": "2022-12-22T14:12:47.683381",
   "environment_variables": {},
   "exception": null,
   "input_path": "__notebook__.ipynb",
   "output_path": "__notebook__.ipynb",
   "parameters": {},
   "start_time": "2022-12-22T09:51:11.651383",
   "version": "2.3.4"
  }
 },
 "nbformat": 4,
 "nbformat_minor": 5
}
