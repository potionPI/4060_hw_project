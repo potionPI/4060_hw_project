{
 "cells": [
  {
   "cell_type": "code",
   "execution_count": 1,
   "id": "67c07449",
   "metadata": {
    "execution": {
     "iopub.execute_input": "2022-11-12T22:12:16.532753Z",
     "iopub.status.busy": "2022-11-12T22:12:16.531903Z",
     "iopub.status.idle": "2022-11-12T22:12:29.430230Z",
     "shell.execute_reply": "2022-11-12T22:12:29.429077Z"
    },
    "papermill": {
     "duration": 12.917049,
     "end_time": "2022-11-12T22:12:29.433096",
     "exception": false,
     "start_time": "2022-11-12T22:12:16.516047",
     "status": "completed"
    },
    "tags": []
   },
   "outputs": [
    {
     "name": "stdout",
     "output_type": "stream",
     "text": [
      "Requirement already satisfied: tables in /opt/conda/lib/python3.7/site-packages (3.7.0)\r\n",
      "Requirement already satisfied: numpy>=1.19.0 in /opt/conda/lib/python3.7/site-packages (from tables) (1.21.6)\r\n",
      "Requirement already satisfied: packaging in /opt/conda/lib/python3.7/site-packages (from tables) (21.3)\r\n",
      "Requirement already satisfied: numexpr>=2.6.2 in /opt/conda/lib/python3.7/site-packages (from tables) (2.8.3)\r\n",
      "Requirement already satisfied: pyparsing!=3.0.5,>=2.0.2 in /opt/conda/lib/python3.7/site-packages (from packaging->tables) (3.0.9)\r\n",
      "\u001b[33mWARNING: Running pip as the 'root' user can result in broken permissions and conflicting behaviour with the system package manager. It is recommended to use a virtual environment instead: https://pip.pypa.io/warnings/venv\u001b[0m\u001b[33m\r\n",
      "\u001b[0m"
     ]
    }
   ],
   "source": [
    "!pip install tables"
   ]
  },
  {
   "cell_type": "code",
   "execution_count": 2,
   "id": "fe1abc37",
   "metadata": {
    "_cell_guid": "b1076dfc-b9ad-4769-8c92-a6c4dae69d19",
    "_uuid": "8f2839f25d086af736a60e9eeb907d3b93b6e0e5",
    "execution": {
     "iopub.execute_input": "2022-11-12T22:12:29.454092Z",
     "iopub.status.busy": "2022-11-12T22:12:29.453653Z",
     "iopub.status.idle": "2022-11-12T22:12:30.794645Z",
     "shell.execute_reply": "2022-11-12T22:12:30.793443Z"
    },
    "papermill": {
     "duration": 1.354413,
     "end_time": "2022-11-12T22:12:30.797166",
     "exception": false,
     "start_time": "2022-11-12T22:12:29.442753",
     "status": "completed"
    },
    "tags": []
   },
   "outputs": [],
   "source": [
    "import os, gc, pickle, datetime, scipy.sparse\n",
    "import pandas as pd\n",
    "import matplotlib.pyplot as plt\n",
    "import numpy as np\n",
    "from colorama import Fore, Back, Style\n",
    "\n",
    "from sklearn.model_selection import GroupKFold\n",
    "from sklearn.preprocessing import StandardScaler\n",
    "from sklearn.decomposition import TruncatedSVD,PCA\n",
    "from sklearn.metrics import mean_squared_error\n",
    "\n",
    "import matplotlib.pyplot as plt\n",
    "from matplotlib.ticker import MaxNLocator\n",
    "import seaborn as sns\n",
    "from cycler import cycler\n",
    "from IPython.display import display\n",
    "\n",
    "import scipy.sparse"
   ]
  },
  {
   "cell_type": "code",
   "execution_count": 3,
   "id": "dafe9593",
   "metadata": {
    "execution": {
     "iopub.execute_input": "2022-11-12T22:12:30.818796Z",
     "iopub.status.busy": "2022-11-12T22:12:30.817565Z",
     "iopub.status.idle": "2022-11-12T22:12:30.825671Z",
     "shell.execute_reply": "2022-11-12T22:12:30.824851Z"
    },
    "papermill": {
     "duration": 0.021046,
     "end_time": "2022-11-12T22:12:30.827691",
     "exception": false,
     "start_time": "2022-11-12T22:12:30.806645",
     "status": "completed"
    },
    "tags": []
   },
   "outputs": [],
   "source": [
    "# Directory of the data\n",
    "DATA_DIR = \"/kaggle/input/open-problems-multimodal/\"\n",
    "FP_CELL_METADATA = os.path.join(DATA_DIR,\"metadata.csv\")\n",
    "\n",
    "FP_CITE_TRAIN_INPUTS = os.path.join(DATA_DIR,\"train_cite_inputs.h5\")\n",
    "FP_CITE_TRAIN_TARGETS = os.path.join(DATA_DIR,\"train_cite_targets.h5\")\n",
    "FP_CITE_TEST_INPUTS = os.path.join(DATA_DIR,\"test_cite_inputs.h5\")\n",
    "\n",
    "FP_MULT_TRAIN_INPUTS = os.path.join(DATA_DIR,\"train_multi_inputs.h5\")\n",
    "FP_MULT_TRAIN_TARGETS = os.path.join(DATA_DIR,\"train_multi_targets.h5\")\n",
    "FP_MULT_TEST_INPUTS = os.path.join(DATA_DIR,\"test_multi_inputs.h5\")\n",
    "\n",
    "FP_MULT_TRAIN_TARGETS_idx = \"../input/multimodal-single-cell-as-sparse-matrix/train_multi_targets_idxcol.npz\"\n",
    "FP_MULT_TRAIN_TARGETS_sparse = \"../input/multimodal-single-cell-as-sparse-matrix/train_multi_targets_values.sparse.npz\"\n",
    "FP_MULT_TRAIN_INPUTS_idx = \"../input/multimodal-single-cell-as-sparse-matrix/train_multi_inputs_idxcol.npz\"\n",
    "FP_MULT_TRAIN_INPUTS_sparse = \"../input/multimodal-single-cell-as-sparse-matrix/train_multi_inputs_values.sparse.npz\"\n",
    "FP_MULT_TEST_INPUTS_idx = \"../input/multimodal-single-cell-as-sparse-matrix/test_multi_inputs_idxcol.npz\"\n",
    "FP_MULT_TEST_INPUTS_sparse = \"../input/multimodal-single-cell-as-sparse-matrix/test_multi_inputs_values.sparse.npz\"\n",
    "\n",
    "FP_SUBMISSION = os.path.join(DATA_DIR,\"sample_submission.csv\")\n",
    "FP_EVALUATION_IDS = os.path.join(DATA_DIR,\"evaluation_ids.csv\")"
   ]
  },
  {
   "cell_type": "markdown",
   "id": "a9ff161a",
   "metadata": {
    "papermill": {
     "duration": 0.008985,
     "end_time": "2022-11-12T22:12:30.846262",
     "exception": false,
     "start_time": "2022-11-12T22:12:30.837277",
     "status": "completed"
    },
    "tags": []
   },
   "source": [
    "# Multiome, light exploration"
   ]
  },
  {
   "cell_type": "markdown",
   "id": "0d01372d",
   "metadata": {
    "papermill": {
     "duration": 0.009213,
     "end_time": "2022-11-12T22:12:30.867117",
     "exception": false,
     "start_time": "2022-11-12T22:12:30.857904",
     "status": "completed"
    },
    "tags": []
   },
   "source": [
    "NOTE: Multiome data is TOO BIG for loading in directly, so a preprocessing step where the data is reduced into sparse matrices is done first.\n",
    "\n",
    "The process to do this is outlined in this notebook by Fabien Crom: https://www.kaggle.com/code/fabiencrom/multimodal-single-cell-creating-sparse-data/\n",
    "\n",
    "The data output from that notebook is given here by Fabien Crom:\n",
    "https://www.kaggle.com/datasets/fabiencrom/multimodal-single-cell-as-sparse-matrix/code\n",
    "\n",
    "Essentially, the method is to read the data in chunks and save it in those chunks to a sparse matrix."
   ]
  },
  {
   "cell_type": "markdown",
   "id": "e868f355",
   "metadata": {
    "papermill": {
     "duration": 0.00877,
     "end_time": "2022-11-12T22:12:30.885389",
     "exception": false,
     "start_time": "2022-11-12T22:12:30.876619",
     "status": "completed"
    },
    "tags": []
   },
   "source": [
    "## Multiome Targets"
   ]
  },
  {
   "cell_type": "markdown",
   "id": "51b65148",
   "metadata": {
    "papermill": {
     "duration": 0.008873,
     "end_time": "2022-11-12T22:12:30.903573",
     "exception": false,
     "start_time": "2022-11-12T22:12:30.894700",
     "status": "completed"
    },
    "tags": []
   },
   "source": [
    "First, the targets of the Multome can be lightly explored to see what the prediction is for"
   ]
  },
  {
   "cell_type": "code",
   "execution_count": 4,
   "id": "3e3cb952",
   "metadata": {
    "execution": {
     "iopub.execute_input": "2022-11-12T22:12:30.924511Z",
     "iopub.status.busy": "2022-11-12T22:12:30.923473Z",
     "iopub.status.idle": "2022-11-12T22:12:56.163890Z",
     "shell.execute_reply": "2022-11-12T22:12:56.161523Z"
    },
    "papermill": {
     "duration": 25.25446,
     "end_time": "2022-11-12T22:12:56.167509",
     "exception": false,
     "start_time": "2022-11-12T22:12:30.913049",
     "status": "completed"
    },
    "tags": []
   },
   "outputs": [
    {
     "name": "stdout",
     "output_type": "stream",
     "text": [
      "CPU times: user 16.3 s, sys: 2.45 s, total: 18.7 s\n",
      "Wall time: 25.2 s\n"
     ]
    }
   ],
   "source": [
    "%%time\n",
    "# 25.1s\n",
    "\n",
    "Multi_targets = scipy.sparse.load_npz(FP_MULT_TRAIN_TARGETS_sparse)\n",
    "Multi_targets_idx = np.load(FP_MULT_TRAIN_TARGETS_idx,\n",
    "                   allow_pickle=True)[\"columns\"]"
   ]
  },
  {
   "cell_type": "code",
   "execution_count": 5,
   "id": "4d335530",
   "metadata": {
    "execution": {
     "iopub.execute_input": "2022-11-12T22:12:56.189139Z",
     "iopub.status.busy": "2022-11-12T22:12:56.188716Z",
     "iopub.status.idle": "2022-11-12T22:12:56.195750Z",
     "shell.execute_reply": "2022-11-12T22:12:56.194379Z"
    },
    "papermill": {
     "duration": 0.020763,
     "end_time": "2022-11-12T22:12:56.198206",
     "exception": false,
     "start_time": "2022-11-12T22:12:56.177443",
     "status": "completed"
    },
    "tags": []
   },
   "outputs": [
    {
     "name": "stdout",
     "output_type": "stream",
     "text": [
      "['index', 'columns']\n"
     ]
    }
   ],
   "source": [
    "# In order to explore the rows and columns of the \n",
    "# training targets, first print what the .npz file has \n",
    "# defined as the keys\n",
    "print(np.load(FP_MULT_TRAIN_TARGETS_idx,\n",
    "                   allow_pickle=True).files)\n",
    "\n",
    "# This means that there are index (row) names and\n",
    "# column names given in the .npz file, which can be accessed\n",
    "# in the form \n",
    "# np.load(FP_MULT_TRAIN_TARGETS_idx,\n",
    "#                    allow_pickle=True)['index']"
   ]
  },
  {
   "cell_type": "code",
   "execution_count": 6,
   "id": "84aa2dd7",
   "metadata": {
    "execution": {
     "iopub.execute_input": "2022-11-12T22:12:56.219828Z",
     "iopub.status.busy": "2022-11-12T22:12:56.218877Z",
     "iopub.status.idle": "2022-11-12T22:12:56.297527Z",
     "shell.execute_reply": "2022-11-12T22:12:56.296623Z"
    },
    "papermill": {
     "duration": 0.092133,
     "end_time": "2022-11-12T22:12:56.299992",
     "exception": false,
     "start_time": "2022-11-12T22:12:56.207859",
     "status": "completed"
    },
    "tags": []
   },
   "outputs": [
    {
     "data": {
      "text/plain": [
       "((105942, 23418), 105942, (23418,))"
      ]
     },
     "execution_count": 6,
     "metadata": {},
     "output_type": "execute_result"
    }
   ],
   "source": [
    "# Checking the shape to make sure there is a match\n",
    "# There are 105942 rows, each row being a cell uniquely\n",
    "# defined by a 12 character long cell_id\n",
    "# There are 23418 columns, each columns being a gene\n",
    "# uniquely defined by a gene_id\n",
    "Multi_targets.shape, len(np.load(FP_MULT_TRAIN_TARGETS_idx,\n",
    "        allow_pickle=True)['index']), Multi_targets_idx.shape"
   ]
  },
  {
   "cell_type": "code",
   "execution_count": 7,
   "id": "c23af75c",
   "metadata": {
    "execution": {
     "iopub.execute_input": "2022-11-12T22:12:56.322285Z",
     "iopub.status.busy": "2022-11-12T22:12:56.321438Z",
     "iopub.status.idle": "2022-11-12T22:12:56.440818Z",
     "shell.execute_reply": "2022-11-12T22:12:56.439589Z"
    },
    "papermill": {
     "duration": 0.133296,
     "end_time": "2022-11-12T22:12:56.443249",
     "exception": false,
     "start_time": "2022-11-12T22:12:56.309953",
     "status": "completed"
    },
    "tags": []
   },
   "outputs": [
    {
     "data": {
      "text/plain": [
       "105942"
      ]
     },
     "metadata": {},
     "output_type": "display_data"
    },
    {
     "data": {
      "text/plain": [
       "array(['56390cf1b95e', 'fc0c60183c33', '9b4a87e22ad0', ...,\n",
       "       '00783f28b463', 'e7abb1a0f251', '193992d571a5'], dtype=object)"
      ]
     },
     "metadata": {},
     "output_type": "display_data"
    }
   ],
   "source": [
    "# The rows of the training targets are previewed below\n",
    "display(len(np.load(FP_MULT_TRAIN_TARGETS_idx,\n",
    "        allow_pickle=True)['index']))\n",
    "display(np.load(FP_MULT_TRAIN_TARGETS_idx,\n",
    "        allow_pickle=True)['index'])\n",
    "\n",
    "# each row is a 12 character id uniquely defining a cell"
   ]
  },
  {
   "cell_type": "code",
   "execution_count": 8,
   "id": "6bd6ccaf",
   "metadata": {
    "execution": {
     "iopub.execute_input": "2022-11-12T22:12:56.464800Z",
     "iopub.status.busy": "2022-11-12T22:12:56.464389Z",
     "iopub.status.idle": "2022-11-12T22:12:56.499191Z",
     "shell.execute_reply": "2022-11-12T22:12:56.498165Z"
    },
    "papermill": {
     "duration": 0.048736,
     "end_time": "2022-11-12T22:12:56.501845",
     "exception": false,
     "start_time": "2022-11-12T22:12:56.453109",
     "status": "completed"
    },
    "tags": []
   },
   "outputs": [
    {
     "data": {
      "text/plain": [
       "23418"
      ]
     },
     "metadata": {},
     "output_type": "display_data"
    },
    {
     "data": {
      "text/plain": [
       "array(['ENSG00000121410', 'ENSG00000268895', 'ENSG00000175899', ...,\n",
       "       'ENSG00000162378', 'ENSG00000159840', 'ENSG00000074755'],\n",
       "      dtype=object)"
      ]
     },
     "metadata": {},
     "output_type": "display_data"
    }
   ],
   "source": [
    "# The columns of the training targets are previewed below\n",
    "display(len(np.load(FP_MULT_TRAIN_TARGETS_idx,\n",
    "        allow_pickle=True)['columns']))\n",
    "display(np.load(FP_MULT_TRAIN_TARGETS_idx,\n",
    "        allow_pickle=True)['columns'])\n",
    "\n",
    "# each column is a gene name"
   ]
  },
  {
   "cell_type": "code",
   "execution_count": 9,
   "id": "68617fb0",
   "metadata": {
    "execution": {
     "iopub.execute_input": "2022-11-12T22:12:56.529650Z",
     "iopub.status.busy": "2022-11-12T22:12:56.528450Z",
     "iopub.status.idle": "2022-11-12T22:12:56.539677Z",
     "shell.execute_reply": "2022-11-12T22:12:56.537382Z"
    },
    "papermill": {
     "duration": 0.030425,
     "end_time": "2022-11-12T22:12:56.543434",
     "exception": false,
     "start_time": "2022-11-12T22:12:56.513009",
     "status": "completed"
    },
    "tags": []
   },
   "outputs": [
    {
     "name": "stdout",
     "output_type": "stream",
     "text": [
      "  (0, 12)\t4.893861\n",
      "  (0, 13)\t5.583255\n",
      "  (0, 14)\t4.893861\n",
      "  (0, 23)\t4.893861\n",
      "  (0, 34)\t4.893861\n",
      "  (0, 44)\t5.583255\n",
      "  (0, 58)\t4.893861\n",
      "  (0, 64)\t4.893861\n",
      "  (0, 65)\t4.893861\n",
      "  (0, 66)\t5.987466\n",
      "  (0, 67)\t4.893861\n",
      "  (0, 86)\t4.893861\n",
      "  (0, 87)\t4.893861\n",
      "  (0, 92)\t4.893861\n",
      "  (0, 94)\t4.893861\n",
      "  (0, 96)\t4.893861\n",
      "  (0, 101)\t4.893861\n",
      "  (0, 108)\t5.583255\n",
      "  (0, 111)\t5.583255\n",
      "  (0, 113)\t4.893861\n",
      "  (0, 240)\t4.893861\n",
      "  (0, 359)\t4.893861\n",
      "  (0, 407)\t6.27452\n",
      "  (0, 411)\t4.893861\n",
      "  (0, 419)\t4.893861\n",
      "  :\t:\n",
      "  (0, 23278)\t4.893861\n",
      "  (0, 23297)\t5.583255\n",
      "  (0, 23301)\t4.893861\n",
      "  (0, 23312)\t4.893861\n",
      "  (0, 23315)\t5.583255\n",
      "  (0, 23320)\t4.893861\n",
      "  (0, 23321)\t4.893861\n",
      "  (0, 23325)\t5.987466\n",
      "  (0, 23327)\t4.893861\n",
      "  (0, 23341)\t5.987466\n",
      "  (0, 23352)\t4.893861\n",
      "  (0, 23354)\t5.987466\n",
      "  (0, 23355)\t4.893861\n",
      "  (0, 23356)\t5.583255\n",
      "  (0, 23360)\t4.893861\n",
      "  (0, 23363)\t4.893861\n",
      "  (0, 23364)\t4.893861\n",
      "  (0, 23365)\t4.893861\n",
      "  (0, 23375)\t6.679357\n",
      "  (0, 23378)\t5.583255\n",
      "  (0, 23381)\t4.893861\n",
      "  (0, 23395)\t4.893861\n",
      "  (0, 23410)\t4.893861\n",
      "  (0, 23415)\t5.583255\n",
      "  (0, 23417)\t4.893861\n"
     ]
    }
   ],
   "source": [
    "# One row of the target matrix is printed to show that the expected\n",
    "# output is a floating point number for each cell_id and gene_id pair.\n",
    "# The number is \n",
    "print(Multi_targets[0,:])\n",
    "\n",
    "# These floating point values are RNA gene expression levels which are defined as\n",
    "# library-size normalized and log1p transformed counts.\n",
    "# Essentially, a higher level means more weighted reads, which means a higher\n",
    "# number means more expression"
   ]
  },
  {
   "cell_type": "markdown",
   "id": "5b0dcc00",
   "metadata": {
    "papermill": {
     "duration": 0.009946,
     "end_time": "2022-11-12T22:12:56.564127",
     "exception": false,
     "start_time": "2022-11-12T22:12:56.554181",
     "status": "completed"
    },
    "tags": []
   },
   "source": [
    "In conclusion about the Multiome targets, the gene expression level as a floating point number must be predicted given a gene for a cell."
   ]
  },
  {
   "cell_type": "markdown",
   "id": "9d34ebf6",
   "metadata": {
    "papermill": {
     "duration": 0.00986,
     "end_time": "2022-11-12T22:12:56.584622",
     "exception": false,
     "start_time": "2022-11-12T22:12:56.574762",
     "status": "completed"
    },
    "tags": []
   },
   "source": [
    "## Multiome inputs"
   ]
  },
  {
   "cell_type": "markdown",
   "id": "7659cae8",
   "metadata": {
    "papermill": {
     "duration": 0.009808,
     "end_time": "2022-11-12T22:12:56.604564",
     "exception": false,
     "start_time": "2022-11-12T22:12:56.594756",
     "status": "completed"
    },
    "tags": []
   },
   "source": [
    "Next, the inputs for the multiome can be explored to see what parameters may be used for prediction"
   ]
  },
  {
   "cell_type": "code",
   "execution_count": 10,
   "id": "f1b96245",
   "metadata": {
    "execution": {
     "iopub.execute_input": "2022-11-12T22:12:56.629165Z",
     "iopub.status.busy": "2022-11-12T22:12:56.627852Z",
     "iopub.status.idle": "2022-11-12T22:14:01.445619Z",
     "shell.execute_reply": "2022-11-12T22:14:01.444577Z"
    },
    "papermill": {
     "duration": 64.839709,
     "end_time": "2022-11-12T22:14:01.455104",
     "exception": false,
     "start_time": "2022-11-12T22:12:56.615395",
     "status": "completed"
    },
    "tags": []
   },
   "outputs": [
    {
     "name": "stdout",
     "output_type": "stream",
     "text": [
      "CPU times: user 36.3 s, sys: 5.16 s, total: 41.5 s\n",
      "Wall time: 1min 4s\n"
     ]
    }
   ],
   "source": [
    "%%time\n",
    "# 1 min 4 s\n",
    "\n",
    "Multi_inputs = scipy.sparse.load_npz(FP_MULT_TRAIN_INPUTS_sparse)\n",
    "Multi_inputs_idx = np.load(FP_MULT_TRAIN_INPUTS_idx,\n",
    "                   allow_pickle=True)[\"columns\"]"
   ]
  },
  {
   "cell_type": "code",
   "execution_count": 11,
   "id": "87aab381",
   "metadata": {
    "execution": {
     "iopub.execute_input": "2022-11-12T22:14:01.477868Z",
     "iopub.status.busy": "2022-11-12T22:14:01.476851Z",
     "iopub.status.idle": "2022-11-12T22:14:01.553467Z",
     "shell.execute_reply": "2022-11-12T22:14:01.552252Z"
    },
    "papermill": {
     "duration": 0.090754,
     "end_time": "2022-11-12T22:14:01.556060",
     "exception": false,
     "start_time": "2022-11-12T22:14:01.465306",
     "status": "completed"
    },
    "tags": []
   },
   "outputs": [
    {
     "data": {
      "text/plain": [
       "((105942, 228942), 105942, (228942,))"
      ]
     },
     "execution_count": 11,
     "metadata": {},
     "output_type": "execute_result"
    }
   ],
   "source": [
    "# Checking the shape to make sure there is a match\n",
    "# There are 105942 rows, each row being a cell uniquely\n",
    "# defined by a 12 character long cell_id. There are the\n",
    "# same number of cell_ids in the input as there is in the targets\n",
    "# There are 228942 columns, each column being a genomic\n",
    "# coordinate for where chromatin accessibility was measured\n",
    "Multi_inputs.shape, len(np.load(FP_MULT_TRAIN_INPUTS_idx,\n",
    "        allow_pickle=True)['index']), Multi_inputs_idx.shape"
   ]
  },
  {
   "cell_type": "code",
   "execution_count": 12,
   "id": "0338fde5",
   "metadata": {
    "execution": {
     "iopub.execute_input": "2022-11-12T22:14:01.579509Z",
     "iopub.status.busy": "2022-11-12T22:14:01.578564Z",
     "iopub.status.idle": "2022-11-12T22:14:01.587557Z",
     "shell.execute_reply": "2022-11-12T22:14:01.586004Z"
    },
    "papermill": {
     "duration": 0.024154,
     "end_time": "2022-11-12T22:14:01.590237",
     "exception": false,
     "start_time": "2022-11-12T22:14:01.566083",
     "status": "completed"
    },
    "tags": []
   },
   "outputs": [
    {
     "name": "stdout",
     "output_type": "stream",
     "text": [
      "['index', 'columns']\n"
     ]
    }
   ],
   "source": [
    "# In order to explore the rows and columns of the \n",
    "# training inputs, first print what the .npz file has \n",
    "# defined as the keys\n",
    "print(np.load(FP_MULT_TRAIN_INPUTS_idx,\n",
    "                   allow_pickle=True).files)\n",
    "\n",
    "# This means that there are index (row) names and\n",
    "# column names given in the .npz file, which can be accessed\n",
    "# in the form \n",
    "# np.load(FP_MULT_TRAIN_INPUTS_idx,\n",
    "#                    allow_pickle=True)['index']"
   ]
  },
  {
   "cell_type": "code",
   "execution_count": 13,
   "id": "1f6199b1",
   "metadata": {
    "execution": {
     "iopub.execute_input": "2022-11-12T22:14:01.612954Z",
     "iopub.status.busy": "2022-11-12T22:14:01.612508Z",
     "iopub.status.idle": "2022-11-12T22:14:01.950132Z",
     "shell.execute_reply": "2022-11-12T22:14:01.949135Z"
    },
    "papermill": {
     "duration": 0.35202,
     "end_time": "2022-11-12T22:14:01.952526",
     "exception": false,
     "start_time": "2022-11-12T22:14:01.600506",
     "status": "completed"
    },
    "tags": []
   },
   "outputs": [
    {
     "data": {
      "text/plain": [
       "True"
      ]
     },
     "execution_count": 13,
     "metadata": {},
     "output_type": "execute_result"
    }
   ],
   "source": [
    "# Checking that the cell_ids for the training inputs and targets\n",
    "# match exactly (both in number and order)\n",
    "sum(np.load(FP_MULT_TRAIN_INPUTS_idx,\n",
    "        allow_pickle=True)['index'] ==\\\n",
    "np.load(FP_MULT_TRAIN_TARGETS_idx,\n",
    "        allow_pickle=True)['index']) == Multi_inputs.shape[0]\n",
    "\n",
    "# The output is True, meaning that the training input and training target\n",
    "# data have their cell_id (rows) ordered exactly the same"
   ]
  },
  {
   "cell_type": "code",
   "execution_count": 14,
   "id": "1e60f0b9",
   "metadata": {
    "execution": {
     "iopub.execute_input": "2022-11-12T22:14:01.975625Z",
     "iopub.status.busy": "2022-11-12T22:14:01.974669Z",
     "iopub.status.idle": "2022-11-12T22:14:02.087685Z",
     "shell.execute_reply": "2022-11-12T22:14:02.086344Z"
    },
    "papermill": {
     "duration": 0.12768,
     "end_time": "2022-11-12T22:14:02.090599",
     "exception": false,
     "start_time": "2022-11-12T22:14:01.962919",
     "status": "completed"
    },
    "tags": []
   },
   "outputs": [
    {
     "data": {
      "text/plain": [
       "105942"
      ]
     },
     "metadata": {},
     "output_type": "display_data"
    },
    {
     "data": {
      "text/plain": [
       "array(['56390cf1b95e', 'fc0c60183c33', '9b4a87e22ad0', ...,\n",
       "       '00783f28b463', 'e7abb1a0f251', '193992d571a5'], dtype=object)"
      ]
     },
     "metadata": {},
     "output_type": "display_data"
    }
   ],
   "source": [
    "# The rows of the training targets are previewed below\n",
    "display(len(np.load(FP_MULT_TRAIN_INPUTS_idx,\n",
    "        allow_pickle=True)['index']))\n",
    "display(np.load(FP_MULT_TRAIN_INPUTS_idx,\n",
    "        allow_pickle=True)['index'])\n",
    "\n",
    "# each row is a 12 character id uniquely defining a cell"
   ]
  },
  {
   "cell_type": "code",
   "execution_count": 15,
   "id": "9d96a2ee",
   "metadata": {
    "execution": {
     "iopub.execute_input": "2022-11-12T22:14:02.113736Z",
     "iopub.status.busy": "2022-11-12T22:14:02.113324Z",
     "iopub.status.idle": "2022-11-12T22:14:02.422803Z",
     "shell.execute_reply": "2022-11-12T22:14:02.421517Z"
    },
    "papermill": {
     "duration": 0.324057,
     "end_time": "2022-11-12T22:14:02.425196",
     "exception": false,
     "start_time": "2022-11-12T22:14:02.101139",
     "status": "completed"
    },
    "tags": []
   },
   "outputs": [
    {
     "data": {
      "text/plain": [
       "228942"
      ]
     },
     "metadata": {},
     "output_type": "display_data"
    },
    {
     "data": {
      "text/plain": [
       "array(['GL000194.1:114519-115365', 'GL000194.1:55758-56597',\n",
       "       'GL000194.1:58217-58957', ..., 'chrY:7836768-7837671',\n",
       "       'chrY:7869454-7870371', 'chrY:7873814-7874709'], dtype=object)"
      ]
     },
     "metadata": {},
     "output_type": "display_data"
    }
   ],
   "source": [
    "# The columns of the training targets are previewed below\n",
    "display(len(np.load(FP_MULT_TRAIN_INPUTS_idx,\n",
    "        allow_pickle=True)['columns']))\n",
    "display(np.load(FP_MULT_TRAIN_INPUTS_idx,\n",
    "        allow_pickle=True)['columns'])\n",
    "\n",
    "# each column is a location on the genome for where the chromatin accessibility \n",
    "# was measured"
   ]
  },
  {
   "cell_type": "code",
   "execution_count": 16,
   "id": "258ee761",
   "metadata": {
    "execution": {
     "iopub.execute_input": "2022-11-12T22:14:02.449039Z",
     "iopub.status.busy": "2022-11-12T22:14:02.448581Z",
     "iopub.status.idle": "2022-11-12T22:14:02.454647Z",
     "shell.execute_reply": "2022-11-12T22:14:02.453653Z"
    },
    "papermill": {
     "duration": 0.021187,
     "end_time": "2022-11-12T22:14:02.457285",
     "exception": false,
     "start_time": "2022-11-12T22:14:02.436098",
     "status": "completed"
    },
    "tags": []
   },
   "outputs": [
    {
     "name": "stdout",
     "output_type": "stream",
     "text": [
      "  (0, 121)\t2.7798393\n",
      "  (0, 132)\t1.8324159\n",
      "  (0, 178)\t1.3441861\n",
      "  (0, 206)\t2.7048109\n",
      "  (0, 281)\t1.993638\n",
      "  (0, 304)\t1.0189339\n",
      "  (0, 342)\t1.3371854\n",
      "  (0, 349)\t1.2167372\n",
      "  (0, 352)\t1.478264\n",
      "  (0, 364)\t1.2530675\n",
      "  (0, 438)\t1.4439429\n",
      "  (0, 440)\t2.128663\n",
      "  (0, 458)\t1.9236114\n",
      "  (0, 470)\t4.4668913\n",
      "  (0, 471)\t3.1427772\n",
      "  (0, 478)\t4.1509223\n",
      "  (0, 514)\t1.5360577\n",
      "  (0, 538)\t7.6406264\n",
      "  (0, 606)\t2.337737\n",
      "  (0, 677)\t2.6183214\n",
      "  (0, 678)\t2.8350036\n",
      "  (0, 681)\t2.24269\n",
      "  (0, 700)\t3.1052935\n",
      "  (0, 706)\t2.7141986\n",
      "  (0, 729)\t0.8664662\n",
      "  :\t:\n",
      "  (0, 228003)\t5.713204\n",
      "  (0, 228076)\t3.9001691\n",
      "  (0, 228103)\t1.2692189\n",
      "  (0, 228127)\t4.1223474\n",
      "  (0, 228207)\t5.229238\n",
      "  (0, 228212)\t3.8581614\n",
      "  (0, 228227)\t2.949207\n",
      "  (0, 228276)\t2.2193623\n",
      "  (0, 228319)\t4.2803874\n",
      "  (0, 228345)\t1.8020262\n",
      "  (0, 228368)\t1.5879754\n",
      "  (0, 228510)\t3.7330737\n",
      "  (0, 228519)\t1.9850894\n",
      "  (0, 228599)\t1.7331359\n",
      "  (0, 228661)\t3.651702\n",
      "  (0, 228664)\t4.654979\n",
      "  (0, 228669)\t4.922051\n",
      "  (0, 228676)\t4.840466\n",
      "  (0, 228713)\t3.6842017\n",
      "  (0, 228714)\t2.3858082\n",
      "  (0, 228790)\t2.0739381\n",
      "  (0, 228824)\t1.9153142\n",
      "  (0, 228840)\t3.0717263\n",
      "  (0, 228871)\t2.8540814\n",
      "  (0, 228937)\t4.4283357\n"
     ]
    }
   ],
   "source": [
    "# Can clearly see that the values of the inputs are floating point numbers\n",
    "#display(Multi_inputs[0,:])\n",
    "print(Multi_inputs[0,:])\n",
    "#display(Multi_inputs[0,:][Multi_inputs[0,:] > 0])\n",
    "\n",
    "#  Each value of the input is a floating point number indicating the \n",
    "# chromatin accessibility"
   ]
  },
  {
   "cell_type": "code",
   "execution_count": 17,
   "id": "f95ea59a",
   "metadata": {
    "execution": {
     "iopub.execute_input": "2022-11-12T22:14:02.481189Z",
     "iopub.status.busy": "2022-11-12T22:14:02.480743Z",
     "iopub.status.idle": "2022-11-12T22:14:39.871229Z",
     "shell.execute_reply": "2022-11-12T22:14:39.869839Z"
    },
    "papermill": {
     "duration": 37.414983,
     "end_time": "2022-11-12T22:14:39.883423",
     "exception": false,
     "start_time": "2022-11-12T22:14:02.468440",
     "status": "completed"
    },
    "tags": []
   },
   "outputs": [
    {
     "name": "stdout",
     "output_type": "stream",
     "text": [
      "CPU times: user 21.2 s, sys: 2.99 s, total: 24.2 s\n",
      "Wall time: 37.4 s\n"
     ]
    }
   ],
   "source": [
    "%%time\n",
    "# 39.7 s\n",
    "\n",
    "Multi_inputs_test = scipy.sparse.load_npz(FP_MULT_TEST_INPUTS_sparse)\n",
    "Multi_inputs_idx_test = np.load(FP_MULT_TEST_INPUTS_idx,\n",
    "                   allow_pickle=True)[\"columns\"]"
   ]
  },
  {
   "cell_type": "code",
   "execution_count": 18,
   "id": "489f72e1",
   "metadata": {
    "execution": {
     "iopub.execute_input": "2022-11-12T22:14:39.908201Z",
     "iopub.status.busy": "2022-11-12T22:14:39.907734Z",
     "iopub.status.idle": "2022-11-12T22:14:39.914878Z",
     "shell.execute_reply": "2022-11-12T22:14:39.913820Z"
    },
    "papermill": {
     "duration": 0.022174,
     "end_time": "2022-11-12T22:14:39.917300",
     "exception": false,
     "start_time": "2022-11-12T22:14:39.895126",
     "status": "completed"
    },
    "tags": []
   },
   "outputs": [
    {
     "name": "stdout",
     "output_type": "stream",
     "text": [
      "['index', 'columns']\n"
     ]
    }
   ],
   "source": [
    "# In order to explore the rows and columns of the \n",
    "# testing inputs, first print what the .npz file has \n",
    "# defined as the keys\n",
    "print(np.load(FP_MULT_TEST_INPUTS_idx,\n",
    "                   allow_pickle=True).files)\n",
    "\n",
    "# This means that there are index (row) names and\n",
    "# column names given in the .npz file, which can be accessed\n",
    "# in the form \n",
    "# np.load(FP_MULT_TEST_INPUTS_idx,\n",
    "#                    allow_pickle=True)['index']"
   ]
  },
  {
   "cell_type": "code",
   "execution_count": 19,
   "id": "43612170",
   "metadata": {
    "execution": {
     "iopub.execute_input": "2022-11-12T22:14:39.942139Z",
     "iopub.status.busy": "2022-11-12T22:14:39.940857Z",
     "iopub.status.idle": "2022-11-12T22:14:39.978924Z",
     "shell.execute_reply": "2022-11-12T22:14:39.977748Z"
    },
    "papermill": {
     "duration": 0.053064,
     "end_time": "2022-11-12T22:14:39.981519",
     "exception": false,
     "start_time": "2022-11-12T22:14:39.928455",
     "status": "completed"
    },
    "tags": []
   },
   "outputs": [
    {
     "data": {
      "text/plain": [
       "((55935, 228942), 55935, (228942,))"
      ]
     },
     "execution_count": 19,
     "metadata": {},
     "output_type": "execute_result"
    }
   ],
   "source": [
    "# Checking the shape to make sure there is a match\n",
    "# There are 55935 rows, each row being a cell uniquely\n",
    "# defined by a 12 character long cell_id. There are the\n",
    "# same number of cell_ids in the input as there is in the targets\n",
    "# There are 228942 columns, each column being a genomic\n",
    "# coordinate for where chromatin accessibility was measured\n",
    "Multi_inputs_test.shape, len(np.load(FP_MULT_TEST_INPUTS_idx,\n",
    "        allow_pickle=True)['index']), Multi_inputs_idx_test.shape"
   ]
  },
  {
   "cell_type": "code",
   "execution_count": 20,
   "id": "3072e996",
   "metadata": {
    "execution": {
     "iopub.execute_input": "2022-11-12T22:14:40.006898Z",
     "iopub.status.busy": "2022-11-12T22:14:40.006458Z",
     "iopub.status.idle": "2022-11-12T22:14:40.792331Z",
     "shell.execute_reply": "2022-11-12T22:14:40.791172Z"
    },
    "papermill": {
     "duration": 0.801335,
     "end_time": "2022-11-12T22:14:40.794974",
     "exception": false,
     "start_time": "2022-11-12T22:14:39.993639",
     "status": "completed"
    },
    "tags": []
   },
   "outputs": [
    {
     "data": {
      "text/plain": [
       "True"
      ]
     },
     "execution_count": 20,
     "metadata": {},
     "output_type": "execute_result"
    }
   ],
   "source": [
    "# Checking that the genomic locations for the training inputs and testing inputs\n",
    "# match exactly \n",
    "sum(np.load(FP_MULT_TRAIN_INPUTS_idx,\n",
    "        allow_pickle=True)['columns'] ==\\\n",
    "np.load(FP_MULT_TEST_INPUTS_idx,\n",
    "        allow_pickle=True)['columns']) == Multi_inputs.shape[1]\n",
    "\n",
    "# The output is True, meaning that the training input and testing input\n",
    "# data have their genomic coordinates (columns) ordered exactly the same"
   ]
  },
  {
   "cell_type": "code",
   "execution_count": 21,
   "id": "8493241a",
   "metadata": {
    "execution": {
     "iopub.execute_input": "2022-11-12T22:14:40.820124Z",
     "iopub.status.busy": "2022-11-12T22:14:40.819635Z",
     "iopub.status.idle": "2022-11-12T22:14:40.886515Z",
     "shell.execute_reply": "2022-11-12T22:14:40.885456Z"
    },
    "papermill": {
     "duration": 0.082535,
     "end_time": "2022-11-12T22:14:40.889233",
     "exception": false,
     "start_time": "2022-11-12T22:14:40.806698",
     "status": "completed"
    },
    "tags": []
   },
   "outputs": [
    {
     "data": {
      "text/plain": [
       "55935"
      ]
     },
     "metadata": {},
     "output_type": "display_data"
    },
    {
     "data": {
      "text/plain": [
       "array(['458c2ae2c9b1', '01a0659b0710', '028a8bc3f2ba', ...,\n",
       "       '05666c99aa48', '121f946642b5', 'b847ba21f59f'], dtype=object)"
      ]
     },
     "metadata": {},
     "output_type": "display_data"
    }
   ],
   "source": [
    "# The rows of the testing targets are previewed below\n",
    "display(len(np.load(FP_MULT_TEST_INPUTS_idx,\n",
    "        allow_pickle=True)['index']))\n",
    "display(np.load(FP_MULT_TEST_INPUTS_idx,\n",
    "        allow_pickle=True)['index'])\n",
    "\n",
    "# each row is a 12 character id uniquely defining a cell"
   ]
  },
  {
   "cell_type": "code",
   "execution_count": 22,
   "id": "d274eb4f",
   "metadata": {
    "execution": {
     "iopub.execute_input": "2022-11-12T22:14:40.914393Z",
     "iopub.status.busy": "2022-11-12T22:14:40.913983Z",
     "iopub.status.idle": "2022-11-12T22:14:41.210253Z",
     "shell.execute_reply": "2022-11-12T22:14:41.209029Z"
    },
    "papermill": {
     "duration": 0.311844,
     "end_time": "2022-11-12T22:14:41.212782",
     "exception": false,
     "start_time": "2022-11-12T22:14:40.900938",
     "status": "completed"
    },
    "tags": []
   },
   "outputs": [
    {
     "data": {
      "text/plain": [
       "228942"
      ]
     },
     "metadata": {},
     "output_type": "display_data"
    },
    {
     "data": {
      "text/plain": [
       "array(['GL000194.1:114519-115365', 'GL000194.1:55758-56597',\n",
       "       'GL000194.1:58217-58957', ..., 'chrY:7836768-7837671',\n",
       "       'chrY:7869454-7870371', 'chrY:7873814-7874709'], dtype=object)"
      ]
     },
     "metadata": {},
     "output_type": "display_data"
    }
   ],
   "source": [
    "# The columns of the testing targets are previewed below\n",
    "display(len(np.load(FP_MULT_TEST_INPUTS_idx,\n",
    "        allow_pickle=True)['columns']))\n",
    "display(np.load(FP_MULT_TEST_INPUTS_idx,\n",
    "        allow_pickle=True)['columns'])\n",
    "\n",
    "# each column is a location on the genome for where the chromatin accessibility \n",
    "# was measured"
   ]
  },
  {
   "cell_type": "code",
   "execution_count": 23,
   "id": "d03c1fbc",
   "metadata": {
    "execution": {
     "iopub.execute_input": "2022-11-12T22:14:41.238662Z",
     "iopub.status.busy": "2022-11-12T22:14:41.238237Z",
     "iopub.status.idle": "2022-11-12T22:14:41.245139Z",
     "shell.execute_reply": "2022-11-12T22:14:41.243875Z"
    },
    "papermill": {
     "duration": 0.023552,
     "end_time": "2022-11-12T22:14:41.248305",
     "exception": false,
     "start_time": "2022-11-12T22:14:41.224753",
     "status": "completed"
    },
    "tags": []
   },
   "outputs": [
    {
     "name": "stdout",
     "output_type": "stream",
     "text": [
      "  (0, 83)\t3.809964\n",
      "  (0, 224)\t4.269998\n",
      "  (0, 230)\t4.9450355\n",
      "  (0, 304)\t1.3452605\n",
      "  (0, 308)\t4.9980745\n",
      "  (0, 340)\t2.5276005\n",
      "  (0, 354)\t1.4460272\n",
      "  (0, 361)\t4.420143\n",
      "  (0, 392)\t1.7801597\n",
      "  (0, 401)\t1.6961472\n",
      "  (0, 437)\t1.7614198\n",
      "  (0, 457)\t3.7477815\n",
      "  (0, 463)\t4.600738\n",
      "  (0, 515)\t4.43197\n",
      "  (0, 533)\t6.7457433\n",
      "  (0, 571)\t2.419014\n",
      "  (0, 685)\t1.6049813\n",
      "  (0, 910)\t6.4601045\n",
      "  (0, 1013)\t1.8260169\n",
      "  (0, 1048)\t2.419014\n",
      "  (0, 1129)\t6.9834394\n",
      "  (0, 1409)\t6.7320933\n",
      "  (0, 1635)\t5.8816104\n",
      "  (0, 1679)\t2.410658\n",
      "  (0, 1847)\t4.397452\n",
      "  :\t:\n",
      "  (0, 226029)\t3.3689616\n",
      "  (0, 226119)\t7.100891\n",
      "  (0, 226354)\t3.7509642\n",
      "  (0, 226360)\t1.3939122\n",
      "  (0, 226404)\t5.1971364\n",
      "  (0, 226537)\t3.9367533\n",
      "  (0, 226543)\t3.1011198\n",
      "  (0, 226740)\t5.3450637\n",
      "  (0, 226869)\t3.7084696\n",
      "  (0, 226877)\t7.5941153\n",
      "  (0, 226972)\t4.8288417\n",
      "  (0, 227056)\t2.9302938\n",
      "  (0, 227080)\t2.1274364\n",
      "  (0, 227157)\t3.3456414\n",
      "  (0, 227192)\t2.2589688\n",
      "  (0, 227196)\t1.5066074\n",
      "  (0, 227231)\t4.708414\n",
      "  (0, 227265)\t2.6101677\n",
      "  (0, 227280)\t2.5098143\n",
      "  (0, 227418)\t4.213982\n",
      "  (0, 227730)\t2.7833922\n",
      "  (0, 227744)\t3.9367533\n",
      "  (0, 227777)\t3.5433002\n",
      "  (0, 227901)\t3.0595906\n",
      "  (0, 228574)\t4.836051\n"
     ]
    }
   ],
   "source": [
    "# Can clearly see that the values of the inputs are floating point numbers\n",
    "print(Multi_inputs_test[0,:])\n",
    "\n",
    "#  Each value of the input is a floating point number indicating the \n",
    "# chromatin accessibility"
   ]
  },
  {
   "cell_type": "markdown",
   "id": "fc1a2974",
   "metadata": {
    "papermill": {
     "duration": 0.011494,
     "end_time": "2022-11-12T22:14:41.271761",
     "exception": false,
     "start_time": "2022-11-12T22:14:41.260267",
     "status": "completed"
    },
    "tags": []
   },
   "source": [
    "In conclusion about the multiome inputs, the chromatin accessibility is given for a bunch of cells at different genomic coordinates. Chromatin accessibility is how compacted chromatin is, and chromatin is essentially a convenient package of DNA which can be uncoiled to make euchromatin which can be read by DNA reading proteins to make genes turn on. Hence, it makes sense that more accessible chromatin would correspond to gene expression. In fact, chromatin accessibility is directly related to gene expression (https://www.frontiersin.org/articles/10.3389/fgene.2020.618478/full). \n",
    "\n",
    "Helpful video: https://www.youtube.com/watch?v=6Z8aQhV_aD4"
   ]
  },
  {
   "cell_type": "markdown",
   "id": "7ce37766",
   "metadata": {
    "papermill": {
     "duration": 0.011691,
     "end_time": "2022-11-12T22:14:41.297192",
     "exception": false,
     "start_time": "2022-11-12T22:14:41.285501",
     "status": "completed"
    },
    "tags": []
   },
   "source": [
    "# CITEseq, light exploration"
   ]
  },
  {
   "cell_type": "markdown",
   "id": "fbf115fc",
   "metadata": {
    "papermill": {
     "duration": 0.011669,
     "end_time": "2022-11-12T22:14:41.320743",
     "exception": false,
     "start_time": "2022-11-12T22:14:41.309074",
     "status": "completed"
    },
    "tags": []
   },
   "source": [
    "## CITEseq Targets"
   ]
  },
  {
   "cell_type": "code",
   "execution_count": 24,
   "id": "b0cdbeba",
   "metadata": {
    "execution": {
     "iopub.execute_input": "2022-11-12T22:14:41.346559Z",
     "iopub.status.busy": "2022-11-12T22:14:41.345655Z",
     "iopub.status.idle": "2022-11-12T22:14:42.207335Z",
     "shell.execute_reply": "2022-11-12T22:14:42.205958Z"
    },
    "papermill": {
     "duration": 0.877656,
     "end_time": "2022-11-12T22:14:42.210235",
     "exception": false,
     "start_time": "2022-11-12T22:14:41.332579",
     "status": "completed"
    },
    "tags": []
   },
   "outputs": [
    {
     "name": "stdout",
     "output_type": "stream",
     "text": [
      "CPU times: user 260 ms, sys: 104 ms, total: 364 ms\n",
      "Wall time: 855 ms\n"
     ]
    }
   ],
   "source": [
    "%%time\n",
    "# 1 second\n",
    "\n",
    "Y = pd.read_hdf(FP_CITE_TRAIN_TARGETS)"
   ]
  },
  {
   "cell_type": "code",
   "execution_count": 25,
   "id": "0a96b673",
   "metadata": {
    "execution": {
     "iopub.execute_input": "2022-11-12T22:14:42.235975Z",
     "iopub.status.busy": "2022-11-12T22:14:42.235543Z",
     "iopub.status.idle": "2022-11-12T22:14:42.301957Z",
     "shell.execute_reply": "2022-11-12T22:14:42.301083Z"
    },
    "papermill": {
     "duration": 0.082058,
     "end_time": "2022-11-12T22:14:42.304141",
     "exception": false,
     "start_time": "2022-11-12T22:14:42.222083",
     "status": "completed"
    },
    "tags": []
   },
   "outputs": [
    {
     "data": {
      "text/html": [
       "<div>\n",
       "<style scoped>\n",
       "    .dataframe tbody tr th:only-of-type {\n",
       "        vertical-align: middle;\n",
       "    }\n",
       "\n",
       "    .dataframe tbody tr th {\n",
       "        vertical-align: top;\n",
       "    }\n",
       "\n",
       "    .dataframe thead th {\n",
       "        text-align: right;\n",
       "    }\n",
       "</style>\n",
       "<table border=\"1\" class=\"dataframe\">\n",
       "  <thead>\n",
       "    <tr style=\"text-align: right;\">\n",
       "      <th>gene_id</th>\n",
       "      <th>CD86</th>\n",
       "      <th>CD274</th>\n",
       "      <th>CD270</th>\n",
       "      <th>CD155</th>\n",
       "      <th>CD112</th>\n",
       "      <th>CD47</th>\n",
       "      <th>CD48</th>\n",
       "      <th>CD40</th>\n",
       "      <th>CD154</th>\n",
       "      <th>CD52</th>\n",
       "      <th>...</th>\n",
       "      <th>CD94</th>\n",
       "      <th>CD162</th>\n",
       "      <th>CD85j</th>\n",
       "      <th>CD23</th>\n",
       "      <th>CD328</th>\n",
       "      <th>HLA-E</th>\n",
       "      <th>CD82</th>\n",
       "      <th>CD101</th>\n",
       "      <th>CD88</th>\n",
       "      <th>CD224</th>\n",
       "    </tr>\n",
       "    <tr>\n",
       "      <th>cell_id</th>\n",
       "      <th></th>\n",
       "      <th></th>\n",
       "      <th></th>\n",
       "      <th></th>\n",
       "      <th></th>\n",
       "      <th></th>\n",
       "      <th></th>\n",
       "      <th></th>\n",
       "      <th></th>\n",
       "      <th></th>\n",
       "      <th></th>\n",
       "      <th></th>\n",
       "      <th></th>\n",
       "      <th></th>\n",
       "      <th></th>\n",
       "      <th></th>\n",
       "      <th></th>\n",
       "      <th></th>\n",
       "      <th></th>\n",
       "      <th></th>\n",
       "      <th></th>\n",
       "    </tr>\n",
       "  </thead>\n",
       "  <tbody>\n",
       "    <tr>\n",
       "      <th>45006fe3e4c8</th>\n",
       "      <td>1.167804</td>\n",
       "      <td>0.622530</td>\n",
       "      <td>0.106959</td>\n",
       "      <td>0.324989</td>\n",
       "      <td>3.331674</td>\n",
       "      <td>6.426002</td>\n",
       "      <td>1.480766</td>\n",
       "      <td>-0.728392</td>\n",
       "      <td>-0.468851</td>\n",
       "      <td>-0.073285</td>\n",
       "      <td>...</td>\n",
       "      <td>-0.448390</td>\n",
       "      <td>3.220174</td>\n",
       "      <td>-0.533004</td>\n",
       "      <td>0.674956</td>\n",
       "      <td>-0.006187</td>\n",
       "      <td>0.682148</td>\n",
       "      <td>1.398105</td>\n",
       "      <td>0.414292</td>\n",
       "      <td>1.780314</td>\n",
       "      <td>0.548070</td>\n",
       "    </tr>\n",
       "    <tr>\n",
       "      <th>d02759a80ba2</th>\n",
       "      <td>0.818970</td>\n",
       "      <td>0.506009</td>\n",
       "      <td>1.078682</td>\n",
       "      <td>6.848758</td>\n",
       "      <td>3.524885</td>\n",
       "      <td>5.279456</td>\n",
       "      <td>4.930438</td>\n",
       "      <td>2.069372</td>\n",
       "      <td>0.333652</td>\n",
       "      <td>-0.468088</td>\n",
       "      <td>...</td>\n",
       "      <td>0.323613</td>\n",
       "      <td>8.407108</td>\n",
       "      <td>0.131301</td>\n",
       "      <td>0.047607</td>\n",
       "      <td>-0.243628</td>\n",
       "      <td>0.547864</td>\n",
       "      <td>1.832587</td>\n",
       "      <td>0.982308</td>\n",
       "      <td>2.736507</td>\n",
       "      <td>2.184063</td>\n",
       "    </tr>\n",
       "    <tr>\n",
       "      <th>c016c6b0efa5</th>\n",
       "      <td>-0.356703</td>\n",
       "      <td>-0.422261</td>\n",
       "      <td>-0.824493</td>\n",
       "      <td>1.137495</td>\n",
       "      <td>0.518924</td>\n",
       "      <td>7.221962</td>\n",
       "      <td>-0.375034</td>\n",
       "      <td>1.738071</td>\n",
       "      <td>0.142919</td>\n",
       "      <td>-0.971460</td>\n",
       "      <td>...</td>\n",
       "      <td>1.348692</td>\n",
       "      <td>4.888579</td>\n",
       "      <td>-0.279483</td>\n",
       "      <td>-0.131097</td>\n",
       "      <td>-0.177604</td>\n",
       "      <td>-0.689188</td>\n",
       "      <td>9.013709</td>\n",
       "      <td>-1.182975</td>\n",
       "      <td>3.958148</td>\n",
       "      <td>2.868600</td>\n",
       "    </tr>\n",
       "    <tr>\n",
       "      <th>ba7f733a4f75</th>\n",
       "      <td>-1.201507</td>\n",
       "      <td>0.149115</td>\n",
       "      <td>2.022468</td>\n",
       "      <td>6.021595</td>\n",
       "      <td>7.258670</td>\n",
       "      <td>2.792436</td>\n",
       "      <td>21.708519</td>\n",
       "      <td>-0.137913</td>\n",
       "      <td>1.649969</td>\n",
       "      <td>-0.754680</td>\n",
       "      <td>...</td>\n",
       "      <td>1.504426</td>\n",
       "      <td>12.391979</td>\n",
       "      <td>0.511394</td>\n",
       "      <td>0.587863</td>\n",
       "      <td>-0.752638</td>\n",
       "      <td>1.714851</td>\n",
       "      <td>3.893782</td>\n",
       "      <td>1.799661</td>\n",
       "      <td>1.537249</td>\n",
       "      <td>4.407671</td>\n",
       "    </tr>\n",
       "    <tr>\n",
       "      <th>fbcf2443ffb2</th>\n",
       "      <td>-0.100404</td>\n",
       "      <td>0.697461</td>\n",
       "      <td>0.625836</td>\n",
       "      <td>-0.298404</td>\n",
       "      <td>1.369898</td>\n",
       "      <td>3.254521</td>\n",
       "      <td>-1.659380</td>\n",
       "      <td>0.643531</td>\n",
       "      <td>0.902710</td>\n",
       "      <td>1.291877</td>\n",
       "      <td>...</td>\n",
       "      <td>0.777023</td>\n",
       "      <td>6.496499</td>\n",
       "      <td>0.279898</td>\n",
       "      <td>-0.841950</td>\n",
       "      <td>-0.869419</td>\n",
       "      <td>0.675092</td>\n",
       "      <td>5.259685</td>\n",
       "      <td>-0.835379</td>\n",
       "      <td>9.631781</td>\n",
       "      <td>1.765445</td>\n",
       "    </tr>\n",
       "    <tr>\n",
       "      <th>...</th>\n",
       "      <td>...</td>\n",
       "      <td>...</td>\n",
       "      <td>...</td>\n",
       "      <td>...</td>\n",
       "      <td>...</td>\n",
       "      <td>...</td>\n",
       "      <td>...</td>\n",
       "      <td>...</td>\n",
       "      <td>...</td>\n",
       "      <td>...</td>\n",
       "      <td>...</td>\n",
       "      <td>...</td>\n",
       "      <td>...</td>\n",
       "      <td>...</td>\n",
       "      <td>...</td>\n",
       "      <td>...</td>\n",
       "      <td>...</td>\n",
       "      <td>...</td>\n",
       "      <td>...</td>\n",
       "      <td>...</td>\n",
       "      <td>...</td>\n",
       "    </tr>\n",
       "    <tr>\n",
       "      <th>650ee456f0f3</th>\n",
       "      <td>0.905420</td>\n",
       "      <td>0.386141</td>\n",
       "      <td>0.961590</td>\n",
       "      <td>5.090580</td>\n",
       "      <td>2.854346</td>\n",
       "      <td>6.093729</td>\n",
       "      <td>-0.586178</td>\n",
       "      <td>0.452389</td>\n",
       "      <td>0.040806</td>\n",
       "      <td>0.191407</td>\n",
       "      <td>...</td>\n",
       "      <td>1.261118</td>\n",
       "      <td>3.092832</td>\n",
       "      <td>0.003275</td>\n",
       "      <td>0.278930</td>\n",
       "      <td>-0.272002</td>\n",
       "      <td>0.249477</td>\n",
       "      <td>3.789460</td>\n",
       "      <td>0.138330</td>\n",
       "      <td>1.466193</td>\n",
       "      <td>4.278504</td>\n",
       "    </tr>\n",
       "    <tr>\n",
       "      <th>cc506e7707f5</th>\n",
       "      <td>2.101247</td>\n",
       "      <td>2.117462</td>\n",
       "      <td>0.112699</td>\n",
       "      <td>2.065512</td>\n",
       "      <td>2.176803</td>\n",
       "      <td>3.900090</td>\n",
       "      <td>-0.586001</td>\n",
       "      <td>-0.175479</td>\n",
       "      <td>1.363232</td>\n",
       "      <td>0.109905</td>\n",
       "      <td>...</td>\n",
       "      <td>0.714624</td>\n",
       "      <td>5.029233</td>\n",
       "      <td>0.909861</td>\n",
       "      <td>0.057322</td>\n",
       "      <td>2.633387</td>\n",
       "      <td>1.340077</td>\n",
       "      <td>11.456146</td>\n",
       "      <td>-1.431453</td>\n",
       "      <td>5.275882</td>\n",
       "      <td>2.510530</td>\n",
       "    </tr>\n",
       "    <tr>\n",
       "      <th>a91f1b55a520</th>\n",
       "      <td>1.221313</td>\n",
       "      <td>0.476566</td>\n",
       "      <td>1.437551</td>\n",
       "      <td>5.135631</td>\n",
       "      <td>2.926102</td>\n",
       "      <td>1.615081</td>\n",
       "      <td>-0.586910</td>\n",
       "      <td>1.760421</td>\n",
       "      <td>1.944711</td>\n",
       "      <td>-0.095096</td>\n",
       "      <td>...</td>\n",
       "      <td>-0.176027</td>\n",
       "      <td>5.027534</td>\n",
       "      <td>-0.703609</td>\n",
       "      <td>1.139491</td>\n",
       "      <td>-0.078092</td>\n",
       "      <td>1.592960</td>\n",
       "      <td>9.358179</td>\n",
       "      <td>0.981883</td>\n",
       "      <td>6.911032</td>\n",
       "      <td>3.415310</td>\n",
       "    </tr>\n",
       "    <tr>\n",
       "      <th>3a9882c98205</th>\n",
       "      <td>-0.151433</td>\n",
       "      <td>-0.850024</td>\n",
       "      <td>0.461556</td>\n",
       "      <td>3.546561</td>\n",
       "      <td>1.996473</td>\n",
       "      <td>5.702821</td>\n",
       "      <td>0.883038</td>\n",
       "      <td>1.309014</td>\n",
       "      <td>1.029737</td>\n",
       "      <td>-0.072851</td>\n",
       "      <td>...</td>\n",
       "      <td>-0.484493</td>\n",
       "      <td>12.883892</td>\n",
       "      <td>1.579381</td>\n",
       "      <td>-0.382835</td>\n",
       "      <td>-0.065286</td>\n",
       "      <td>-0.021458</td>\n",
       "      <td>7.372662</td>\n",
       "      <td>1.010247</td>\n",
       "      <td>1.864805</td>\n",
       "      <td>3.449289</td>\n",
       "    </tr>\n",
       "    <tr>\n",
       "      <th>c91b6b2ccd3d</th>\n",
       "      <td>-0.439299</td>\n",
       "      <td>-0.338327</td>\n",
       "      <td>0.803677</td>\n",
       "      <td>4.796933</td>\n",
       "      <td>1.822685</td>\n",
       "      <td>3.196906</td>\n",
       "      <td>-0.586291</td>\n",
       "      <td>3.456347</td>\n",
       "      <td>0.113264</td>\n",
       "      <td>-0.379802</td>\n",
       "      <td>...</td>\n",
       "      <td>0.368413</td>\n",
       "      <td>7.204354</td>\n",
       "      <td>2.410788</td>\n",
       "      <td>0.459688</td>\n",
       "      <td>-0.241992</td>\n",
       "      <td>1.508021</td>\n",
       "      <td>7.803446</td>\n",
       "      <td>0.618852</td>\n",
       "      <td>7.220644</td>\n",
       "      <td>3.234360</td>\n",
       "    </tr>\n",
       "  </tbody>\n",
       "</table>\n",
       "<p>70988 rows × 140 columns</p>\n",
       "</div>"
      ],
      "text/plain": [
       "gene_id           CD86     CD274     CD270     CD155     CD112      CD47  \\\n",
       "cell_id                                                                    \n",
       "45006fe3e4c8  1.167804  0.622530  0.106959  0.324989  3.331674  6.426002   \n",
       "d02759a80ba2  0.818970  0.506009  1.078682  6.848758  3.524885  5.279456   \n",
       "c016c6b0efa5 -0.356703 -0.422261 -0.824493  1.137495  0.518924  7.221962   \n",
       "ba7f733a4f75 -1.201507  0.149115  2.022468  6.021595  7.258670  2.792436   \n",
       "fbcf2443ffb2 -0.100404  0.697461  0.625836 -0.298404  1.369898  3.254521   \n",
       "...                ...       ...       ...       ...       ...       ...   \n",
       "650ee456f0f3  0.905420  0.386141  0.961590  5.090580  2.854346  6.093729   \n",
       "cc506e7707f5  2.101247  2.117462  0.112699  2.065512  2.176803  3.900090   \n",
       "a91f1b55a520  1.221313  0.476566  1.437551  5.135631  2.926102  1.615081   \n",
       "3a9882c98205 -0.151433 -0.850024  0.461556  3.546561  1.996473  5.702821   \n",
       "c91b6b2ccd3d -0.439299 -0.338327  0.803677  4.796933  1.822685  3.196906   \n",
       "\n",
       "gene_id            CD48      CD40     CD154      CD52  ...      CD94  \\\n",
       "cell_id                                                ...             \n",
       "45006fe3e4c8   1.480766 -0.728392 -0.468851 -0.073285  ... -0.448390   \n",
       "d02759a80ba2   4.930438  2.069372  0.333652 -0.468088  ...  0.323613   \n",
       "c016c6b0efa5  -0.375034  1.738071  0.142919 -0.971460  ...  1.348692   \n",
       "ba7f733a4f75  21.708519 -0.137913  1.649969 -0.754680  ...  1.504426   \n",
       "fbcf2443ffb2  -1.659380  0.643531  0.902710  1.291877  ...  0.777023   \n",
       "...                 ...       ...       ...       ...  ...       ...   \n",
       "650ee456f0f3  -0.586178  0.452389  0.040806  0.191407  ...  1.261118   \n",
       "cc506e7707f5  -0.586001 -0.175479  1.363232  0.109905  ...  0.714624   \n",
       "a91f1b55a520  -0.586910  1.760421  1.944711 -0.095096  ... -0.176027   \n",
       "3a9882c98205   0.883038  1.309014  1.029737 -0.072851  ... -0.484493   \n",
       "c91b6b2ccd3d  -0.586291  3.456347  0.113264 -0.379802  ...  0.368413   \n",
       "\n",
       "gene_id           CD162     CD85j      CD23     CD328     HLA-E       CD82  \\\n",
       "cell_id                                                                      \n",
       "45006fe3e4c8   3.220174 -0.533004  0.674956 -0.006187  0.682148   1.398105   \n",
       "d02759a80ba2   8.407108  0.131301  0.047607 -0.243628  0.547864   1.832587   \n",
       "c016c6b0efa5   4.888579 -0.279483 -0.131097 -0.177604 -0.689188   9.013709   \n",
       "ba7f733a4f75  12.391979  0.511394  0.587863 -0.752638  1.714851   3.893782   \n",
       "fbcf2443ffb2   6.496499  0.279898 -0.841950 -0.869419  0.675092   5.259685   \n",
       "...                 ...       ...       ...       ...       ...        ...   \n",
       "650ee456f0f3   3.092832  0.003275  0.278930 -0.272002  0.249477   3.789460   \n",
       "cc506e7707f5   5.029233  0.909861  0.057322  2.633387  1.340077  11.456146   \n",
       "a91f1b55a520   5.027534 -0.703609  1.139491 -0.078092  1.592960   9.358179   \n",
       "3a9882c98205  12.883892  1.579381 -0.382835 -0.065286 -0.021458   7.372662   \n",
       "c91b6b2ccd3d   7.204354  2.410788  0.459688 -0.241992  1.508021   7.803446   \n",
       "\n",
       "gene_id          CD101      CD88     CD224  \n",
       "cell_id                                     \n",
       "45006fe3e4c8  0.414292  1.780314  0.548070  \n",
       "d02759a80ba2  0.982308  2.736507  2.184063  \n",
       "c016c6b0efa5 -1.182975  3.958148  2.868600  \n",
       "ba7f733a4f75  1.799661  1.537249  4.407671  \n",
       "fbcf2443ffb2 -0.835379  9.631781  1.765445  \n",
       "...                ...       ...       ...  \n",
       "650ee456f0f3  0.138330  1.466193  4.278504  \n",
       "cc506e7707f5 -1.431453  5.275882  2.510530  \n",
       "a91f1b55a520  0.981883  6.911032  3.415310  \n",
       "3a9882c98205  1.010247  1.864805  3.449289  \n",
       "c91b6b2ccd3d  0.618852  7.220644  3.234360  \n",
       "\n",
       "[70988 rows x 140 columns]"
      ]
     },
     "execution_count": 25,
     "metadata": {},
     "output_type": "execute_result"
    }
   ],
   "source": [
    "# previewing the training targets shows that each\n",
    "# row is a cell uniquely defined by its cell_id and each\n",
    "# column is a gene uniquely defined by the gene_id\n",
    "# Each value is a floating point value is a surface protein\n",
    "# level which has been dsb normalized.\n",
    "\n",
    "# There are 70988 rows for 70988 different cells \n",
    "# and 140 columns for 140 different genes\n",
    "Y"
   ]
  },
  {
   "cell_type": "markdown",
   "id": "f222e346",
   "metadata": {
    "papermill": {
     "duration": 0.012259,
     "end_time": "2022-11-12T22:14:42.329195",
     "exception": false,
     "start_time": "2022-11-12T22:14:42.316936",
     "status": "completed"
    },
    "tags": []
   },
   "source": [
    "In conclusion about the CITEseq targets, the surface protein level as a floating point number must be found given the gene for a cell."
   ]
  },
  {
   "cell_type": "markdown",
   "id": "cb97ef9e",
   "metadata": {
    "papermill": {
     "duration": 0.012359,
     "end_time": "2022-11-12T22:14:42.354048",
     "exception": false,
     "start_time": "2022-11-12T22:14:42.341689",
     "status": "completed"
    },
    "tags": []
   },
   "source": [
    "## CITEseq Inputs"
   ]
  },
  {
   "cell_type": "code",
   "execution_count": 26,
   "id": "de5b60b4",
   "metadata": {
    "execution": {
     "iopub.execute_input": "2022-11-12T22:14:42.382466Z",
     "iopub.status.busy": "2022-11-12T22:14:42.380991Z",
     "iopub.status.idle": "2022-11-12T22:16:25.417384Z",
     "shell.execute_reply": "2022-11-12T22:16:25.415847Z"
    },
    "papermill": {
     "duration": 103.072939,
     "end_time": "2022-11-12T22:16:25.439618",
     "exception": false,
     "start_time": "2022-11-12T22:14:42.366679",
     "status": "completed"
    },
    "tags": []
   },
   "outputs": [
    {
     "name": "stdout",
     "output_type": "stream",
     "text": [
      "CPU times: user 53.6 s, sys: 19.5 s, total: 1min 13s\n",
      "Wall time: 1min 43s\n"
     ]
    }
   ],
   "source": [
    "%%time\n",
    "# 2 min 39 s\n",
    "\n",
    "X = pd.read_hdf(FP_CITE_TRAIN_INPUTS) # training inputs\n",
    "X_test = pd.read_hdf(FP_CITE_TEST_INPUTS) # testing inputs"
   ]
  },
  {
   "cell_type": "code",
   "execution_count": 27,
   "id": "864fe56f",
   "metadata": {
    "execution": {
     "iopub.execute_input": "2022-11-12T22:16:25.469322Z",
     "iopub.status.busy": "2022-11-12T22:16:25.468508Z",
     "iopub.status.idle": "2022-11-12T22:16:25.533012Z",
     "shell.execute_reply": "2022-11-12T22:16:25.532133Z"
    },
    "papermill": {
     "duration": 0.082227,
     "end_time": "2022-11-12T22:16:25.535339",
     "exception": false,
     "start_time": "2022-11-12T22:16:25.453112",
     "status": "completed"
    },
    "tags": []
   },
   "outputs": [
    {
     "data": {
      "text/html": [
       "<div>\n",
       "<style scoped>\n",
       "    .dataframe tbody tr th:only-of-type {\n",
       "        vertical-align: middle;\n",
       "    }\n",
       "\n",
       "    .dataframe tbody tr th {\n",
       "        vertical-align: top;\n",
       "    }\n",
       "\n",
       "    .dataframe thead th {\n",
       "        text-align: right;\n",
       "    }\n",
       "</style>\n",
       "<table border=\"1\" class=\"dataframe\">\n",
       "  <thead>\n",
       "    <tr style=\"text-align: right;\">\n",
       "      <th>gene_id</th>\n",
       "      <th>ENSG00000121410_A1BG</th>\n",
       "      <th>ENSG00000268895_A1BG-AS1</th>\n",
       "      <th>ENSG00000175899_A2M</th>\n",
       "      <th>ENSG00000245105_A2M-AS1</th>\n",
       "      <th>ENSG00000166535_A2ML1</th>\n",
       "      <th>ENSG00000128274_A4GALT</th>\n",
       "      <th>ENSG00000094914_AAAS</th>\n",
       "      <th>ENSG00000081760_AACS</th>\n",
       "      <th>ENSG00000109576_AADAT</th>\n",
       "      <th>ENSG00000103591_AAGAB</th>\n",
       "      <th>...</th>\n",
       "      <th>ENSG00000153975_ZUP1</th>\n",
       "      <th>ENSG00000086827_ZW10</th>\n",
       "      <th>ENSG00000174442_ZWILCH</th>\n",
       "      <th>ENSG00000122952_ZWINT</th>\n",
       "      <th>ENSG00000198205_ZXDA</th>\n",
       "      <th>ENSG00000198455_ZXDB</th>\n",
       "      <th>ENSG00000070476_ZXDC</th>\n",
       "      <th>ENSG00000162378_ZYG11B</th>\n",
       "      <th>ENSG00000159840_ZYX</th>\n",
       "      <th>ENSG00000074755_ZZEF1</th>\n",
       "    </tr>\n",
       "    <tr>\n",
       "      <th>cell_id</th>\n",
       "      <th></th>\n",
       "      <th></th>\n",
       "      <th></th>\n",
       "      <th></th>\n",
       "      <th></th>\n",
       "      <th></th>\n",
       "      <th></th>\n",
       "      <th></th>\n",
       "      <th></th>\n",
       "      <th></th>\n",
       "      <th></th>\n",
       "      <th></th>\n",
       "      <th></th>\n",
       "      <th></th>\n",
       "      <th></th>\n",
       "      <th></th>\n",
       "      <th></th>\n",
       "      <th></th>\n",
       "      <th></th>\n",
       "      <th></th>\n",
       "      <th></th>\n",
       "    </tr>\n",
       "  </thead>\n",
       "  <tbody>\n",
       "    <tr>\n",
       "      <th>45006fe3e4c8</th>\n",
       "      <td>0.0</td>\n",
       "      <td>0.0</td>\n",
       "      <td>0.0</td>\n",
       "      <td>0.0</td>\n",
       "      <td>0.0</td>\n",
       "      <td>0.000000</td>\n",
       "      <td>0.000000</td>\n",
       "      <td>0.000000</td>\n",
       "      <td>0.000000</td>\n",
       "      <td>0.000000</td>\n",
       "      <td>...</td>\n",
       "      <td>0.000000</td>\n",
       "      <td>0.000000</td>\n",
       "      <td>0.000000</td>\n",
       "      <td>0.000000</td>\n",
       "      <td>0.0</td>\n",
       "      <td>0.0</td>\n",
       "      <td>0.000000</td>\n",
       "      <td>0.000000</td>\n",
       "      <td>4.090185</td>\n",
       "      <td>0.000000</td>\n",
       "    </tr>\n",
       "    <tr>\n",
       "      <th>d02759a80ba2</th>\n",
       "      <td>0.0</td>\n",
       "      <td>0.0</td>\n",
       "      <td>0.0</td>\n",
       "      <td>0.0</td>\n",
       "      <td>0.0</td>\n",
       "      <td>0.000000</td>\n",
       "      <td>0.000000</td>\n",
       "      <td>0.000000</td>\n",
       "      <td>0.000000</td>\n",
       "      <td>0.000000</td>\n",
       "      <td>...</td>\n",
       "      <td>0.000000</td>\n",
       "      <td>0.000000</td>\n",
       "      <td>0.000000</td>\n",
       "      <td>4.039545</td>\n",
       "      <td>0.0</td>\n",
       "      <td>0.0</td>\n",
       "      <td>0.000000</td>\n",
       "      <td>0.000000</td>\n",
       "      <td>0.000000</td>\n",
       "      <td>0.000000</td>\n",
       "    </tr>\n",
       "    <tr>\n",
       "      <th>c016c6b0efa5</th>\n",
       "      <td>0.0</td>\n",
       "      <td>0.0</td>\n",
       "      <td>0.0</td>\n",
       "      <td>0.0</td>\n",
       "      <td>0.0</td>\n",
       "      <td>3.847321</td>\n",
       "      <td>0.000000</td>\n",
       "      <td>3.847321</td>\n",
       "      <td>3.847321</td>\n",
       "      <td>0.000000</td>\n",
       "      <td>...</td>\n",
       "      <td>0.000000</td>\n",
       "      <td>0.000000</td>\n",
       "      <td>3.847321</td>\n",
       "      <td>4.529743</td>\n",
       "      <td>0.0</td>\n",
       "      <td>0.0</td>\n",
       "      <td>0.000000</td>\n",
       "      <td>3.847321</td>\n",
       "      <td>3.847321</td>\n",
       "      <td>0.000000</td>\n",
       "    </tr>\n",
       "    <tr>\n",
       "      <th>ba7f733a4f75</th>\n",
       "      <td>0.0</td>\n",
       "      <td>0.0</td>\n",
       "      <td>0.0</td>\n",
       "      <td>0.0</td>\n",
       "      <td>0.0</td>\n",
       "      <td>0.000000</td>\n",
       "      <td>3.436846</td>\n",
       "      <td>3.436846</td>\n",
       "      <td>0.000000</td>\n",
       "      <td>0.000000</td>\n",
       "      <td>...</td>\n",
       "      <td>3.436846</td>\n",
       "      <td>0.000000</td>\n",
       "      <td>4.113780</td>\n",
       "      <td>5.020215</td>\n",
       "      <td>0.0</td>\n",
       "      <td>0.0</td>\n",
       "      <td>0.000000</td>\n",
       "      <td>3.436846</td>\n",
       "      <td>4.113780</td>\n",
       "      <td>0.000000</td>\n",
       "    </tr>\n",
       "    <tr>\n",
       "      <th>fbcf2443ffb2</th>\n",
       "      <td>0.0</td>\n",
       "      <td>0.0</td>\n",
       "      <td>0.0</td>\n",
       "      <td>0.0</td>\n",
       "      <td>0.0</td>\n",
       "      <td>0.000000</td>\n",
       "      <td>0.000000</td>\n",
       "      <td>4.196826</td>\n",
       "      <td>0.000000</td>\n",
       "      <td>0.000000</td>\n",
       "      <td>...</td>\n",
       "      <td>0.000000</td>\n",
       "      <td>4.196826</td>\n",
       "      <td>4.196826</td>\n",
       "      <td>4.196826</td>\n",
       "      <td>0.0</td>\n",
       "      <td>0.0</td>\n",
       "      <td>3.518610</td>\n",
       "      <td>4.196826</td>\n",
       "      <td>3.518610</td>\n",
       "      <td>0.000000</td>\n",
       "    </tr>\n",
       "    <tr>\n",
       "      <th>...</th>\n",
       "      <td>...</td>\n",
       "      <td>...</td>\n",
       "      <td>...</td>\n",
       "      <td>...</td>\n",
       "      <td>...</td>\n",
       "      <td>...</td>\n",
       "      <td>...</td>\n",
       "      <td>...</td>\n",
       "      <td>...</td>\n",
       "      <td>...</td>\n",
       "      <td>...</td>\n",
       "      <td>...</td>\n",
       "      <td>...</td>\n",
       "      <td>...</td>\n",
       "      <td>...</td>\n",
       "      <td>...</td>\n",
       "      <td>...</td>\n",
       "      <td>...</td>\n",
       "      <td>...</td>\n",
       "      <td>...</td>\n",
       "      <td>...</td>\n",
       "    </tr>\n",
       "    <tr>\n",
       "      <th>650ee456f0f3</th>\n",
       "      <td>0.0</td>\n",
       "      <td>0.0</td>\n",
       "      <td>0.0</td>\n",
       "      <td>0.0</td>\n",
       "      <td>0.0</td>\n",
       "      <td>0.000000</td>\n",
       "      <td>0.000000</td>\n",
       "      <td>0.000000</td>\n",
       "      <td>0.000000</td>\n",
       "      <td>0.000000</td>\n",
       "      <td>...</td>\n",
       "      <td>0.000000</td>\n",
       "      <td>4.397535</td>\n",
       "      <td>4.397535</td>\n",
       "      <td>5.084510</td>\n",
       "      <td>0.0</td>\n",
       "      <td>0.0</td>\n",
       "      <td>0.000000</td>\n",
       "      <td>0.000000</td>\n",
       "      <td>4.397535</td>\n",
       "      <td>4.397535</td>\n",
       "    </tr>\n",
       "    <tr>\n",
       "      <th>cc506e7707f5</th>\n",
       "      <td>0.0</td>\n",
       "      <td>0.0</td>\n",
       "      <td>0.0</td>\n",
       "      <td>0.0</td>\n",
       "      <td>0.0</td>\n",
       "      <td>0.000000</td>\n",
       "      <td>3.981467</td>\n",
       "      <td>4.665241</td>\n",
       "      <td>0.000000</td>\n",
       "      <td>0.000000</td>\n",
       "      <td>...</td>\n",
       "      <td>3.981467</td>\n",
       "      <td>0.000000</td>\n",
       "      <td>4.665241</td>\n",
       "      <td>3.981467</td>\n",
       "      <td>0.0</td>\n",
       "      <td>0.0</td>\n",
       "      <td>0.000000</td>\n",
       "      <td>0.000000</td>\n",
       "      <td>3.981467</td>\n",
       "      <td>0.000000</td>\n",
       "    </tr>\n",
       "    <tr>\n",
       "      <th>a91f1b55a520</th>\n",
       "      <td>0.0</td>\n",
       "      <td>0.0</td>\n",
       "      <td>0.0</td>\n",
       "      <td>0.0</td>\n",
       "      <td>0.0</td>\n",
       "      <td>0.000000</td>\n",
       "      <td>0.000000</td>\n",
       "      <td>4.497696</td>\n",
       "      <td>0.000000</td>\n",
       "      <td>4.497696</td>\n",
       "      <td>...</td>\n",
       "      <td>0.000000</td>\n",
       "      <td>0.000000</td>\n",
       "      <td>0.000000</td>\n",
       "      <td>4.497696</td>\n",
       "      <td>0.0</td>\n",
       "      <td>0.0</td>\n",
       "      <td>3.815622</td>\n",
       "      <td>4.497696</td>\n",
       "      <td>0.000000</td>\n",
       "      <td>0.000000</td>\n",
       "    </tr>\n",
       "    <tr>\n",
       "      <th>3a9882c98205</th>\n",
       "      <td>0.0</td>\n",
       "      <td>0.0</td>\n",
       "      <td>0.0</td>\n",
       "      <td>0.0</td>\n",
       "      <td>0.0</td>\n",
       "      <td>0.000000</td>\n",
       "      <td>3.900907</td>\n",
       "      <td>0.000000</td>\n",
       "      <td>0.000000</td>\n",
       "      <td>4.583891</td>\n",
       "      <td>...</td>\n",
       "      <td>0.000000</td>\n",
       "      <td>0.000000</td>\n",
       "      <td>4.583891</td>\n",
       "      <td>4.985945</td>\n",
       "      <td>0.0</td>\n",
       "      <td>0.0</td>\n",
       "      <td>0.000000</td>\n",
       "      <td>0.000000</td>\n",
       "      <td>0.000000</td>\n",
       "      <td>3.900907</td>\n",
       "    </tr>\n",
       "    <tr>\n",
       "      <th>c91b6b2ccd3d</th>\n",
       "      <td>0.0</td>\n",
       "      <td>0.0</td>\n",
       "      <td>0.0</td>\n",
       "      <td>0.0</td>\n",
       "      <td>0.0</td>\n",
       "      <td>0.000000</td>\n",
       "      <td>0.000000</td>\n",
       "      <td>0.000000</td>\n",
       "      <td>0.000000</td>\n",
       "      <td>0.000000</td>\n",
       "      <td>...</td>\n",
       "      <td>4.189502</td>\n",
       "      <td>0.000000</td>\n",
       "      <td>0.000000</td>\n",
       "      <td>4.189502</td>\n",
       "      <td>0.0</td>\n",
       "      <td>0.0</td>\n",
       "      <td>0.000000</td>\n",
       "      <td>0.000000</td>\n",
       "      <td>4.189502</td>\n",
       "      <td>4.189502</td>\n",
       "    </tr>\n",
       "  </tbody>\n",
       "</table>\n",
       "<p>70988 rows × 22050 columns</p>\n",
       "</div>"
      ],
      "text/plain": [
       "gene_id       ENSG00000121410_A1BG  ENSG00000268895_A1BG-AS1  \\\n",
       "cell_id                                                        \n",
       "45006fe3e4c8                   0.0                       0.0   \n",
       "d02759a80ba2                   0.0                       0.0   \n",
       "c016c6b0efa5                   0.0                       0.0   \n",
       "ba7f733a4f75                   0.0                       0.0   \n",
       "fbcf2443ffb2                   0.0                       0.0   \n",
       "...                            ...                       ...   \n",
       "650ee456f0f3                   0.0                       0.0   \n",
       "cc506e7707f5                   0.0                       0.0   \n",
       "a91f1b55a520                   0.0                       0.0   \n",
       "3a9882c98205                   0.0                       0.0   \n",
       "c91b6b2ccd3d                   0.0                       0.0   \n",
       "\n",
       "gene_id       ENSG00000175899_A2M  ENSG00000245105_A2M-AS1  \\\n",
       "cell_id                                                      \n",
       "45006fe3e4c8                  0.0                      0.0   \n",
       "d02759a80ba2                  0.0                      0.0   \n",
       "c016c6b0efa5                  0.0                      0.0   \n",
       "ba7f733a4f75                  0.0                      0.0   \n",
       "fbcf2443ffb2                  0.0                      0.0   \n",
       "...                           ...                      ...   \n",
       "650ee456f0f3                  0.0                      0.0   \n",
       "cc506e7707f5                  0.0                      0.0   \n",
       "a91f1b55a520                  0.0                      0.0   \n",
       "3a9882c98205                  0.0                      0.0   \n",
       "c91b6b2ccd3d                  0.0                      0.0   \n",
       "\n",
       "gene_id       ENSG00000166535_A2ML1  ENSG00000128274_A4GALT  \\\n",
       "cell_id                                                       \n",
       "45006fe3e4c8                    0.0                0.000000   \n",
       "d02759a80ba2                    0.0                0.000000   \n",
       "c016c6b0efa5                    0.0                3.847321   \n",
       "ba7f733a4f75                    0.0                0.000000   \n",
       "fbcf2443ffb2                    0.0                0.000000   \n",
       "...                             ...                     ...   \n",
       "650ee456f0f3                    0.0                0.000000   \n",
       "cc506e7707f5                    0.0                0.000000   \n",
       "a91f1b55a520                    0.0                0.000000   \n",
       "3a9882c98205                    0.0                0.000000   \n",
       "c91b6b2ccd3d                    0.0                0.000000   \n",
       "\n",
       "gene_id       ENSG00000094914_AAAS  ENSG00000081760_AACS  \\\n",
       "cell_id                                                    \n",
       "45006fe3e4c8              0.000000              0.000000   \n",
       "d02759a80ba2              0.000000              0.000000   \n",
       "c016c6b0efa5              0.000000              3.847321   \n",
       "ba7f733a4f75              3.436846              3.436846   \n",
       "fbcf2443ffb2              0.000000              4.196826   \n",
       "...                            ...                   ...   \n",
       "650ee456f0f3              0.000000              0.000000   \n",
       "cc506e7707f5              3.981467              4.665241   \n",
       "a91f1b55a520              0.000000              4.497696   \n",
       "3a9882c98205              3.900907              0.000000   \n",
       "c91b6b2ccd3d              0.000000              0.000000   \n",
       "\n",
       "gene_id       ENSG00000109576_AADAT  ENSG00000103591_AAGAB  ...  \\\n",
       "cell_id                                                     ...   \n",
       "45006fe3e4c8               0.000000               0.000000  ...   \n",
       "d02759a80ba2               0.000000               0.000000  ...   \n",
       "c016c6b0efa5               3.847321               0.000000  ...   \n",
       "ba7f733a4f75               0.000000               0.000000  ...   \n",
       "fbcf2443ffb2               0.000000               0.000000  ...   \n",
       "...                             ...                    ...  ...   \n",
       "650ee456f0f3               0.000000               0.000000  ...   \n",
       "cc506e7707f5               0.000000               0.000000  ...   \n",
       "a91f1b55a520               0.000000               4.497696  ...   \n",
       "3a9882c98205               0.000000               4.583891  ...   \n",
       "c91b6b2ccd3d               0.000000               0.000000  ...   \n",
       "\n",
       "gene_id       ENSG00000153975_ZUP1  ENSG00000086827_ZW10  \\\n",
       "cell_id                                                    \n",
       "45006fe3e4c8              0.000000              0.000000   \n",
       "d02759a80ba2              0.000000              0.000000   \n",
       "c016c6b0efa5              0.000000              0.000000   \n",
       "ba7f733a4f75              3.436846              0.000000   \n",
       "fbcf2443ffb2              0.000000              4.196826   \n",
       "...                            ...                   ...   \n",
       "650ee456f0f3              0.000000              4.397535   \n",
       "cc506e7707f5              3.981467              0.000000   \n",
       "a91f1b55a520              0.000000              0.000000   \n",
       "3a9882c98205              0.000000              0.000000   \n",
       "c91b6b2ccd3d              4.189502              0.000000   \n",
       "\n",
       "gene_id       ENSG00000174442_ZWILCH  ENSG00000122952_ZWINT  \\\n",
       "cell_id                                                       \n",
       "45006fe3e4c8                0.000000               0.000000   \n",
       "d02759a80ba2                0.000000               4.039545   \n",
       "c016c6b0efa5                3.847321               4.529743   \n",
       "ba7f733a4f75                4.113780               5.020215   \n",
       "fbcf2443ffb2                4.196826               4.196826   \n",
       "...                              ...                    ...   \n",
       "650ee456f0f3                4.397535               5.084510   \n",
       "cc506e7707f5                4.665241               3.981467   \n",
       "a91f1b55a520                0.000000               4.497696   \n",
       "3a9882c98205                4.583891               4.985945   \n",
       "c91b6b2ccd3d                0.000000               4.189502   \n",
       "\n",
       "gene_id       ENSG00000198205_ZXDA  ENSG00000198455_ZXDB  \\\n",
       "cell_id                                                    \n",
       "45006fe3e4c8                   0.0                   0.0   \n",
       "d02759a80ba2                   0.0                   0.0   \n",
       "c016c6b0efa5                   0.0                   0.0   \n",
       "ba7f733a4f75                   0.0                   0.0   \n",
       "fbcf2443ffb2                   0.0                   0.0   \n",
       "...                            ...                   ...   \n",
       "650ee456f0f3                   0.0                   0.0   \n",
       "cc506e7707f5                   0.0                   0.0   \n",
       "a91f1b55a520                   0.0                   0.0   \n",
       "3a9882c98205                   0.0                   0.0   \n",
       "c91b6b2ccd3d                   0.0                   0.0   \n",
       "\n",
       "gene_id       ENSG00000070476_ZXDC  ENSG00000162378_ZYG11B  \\\n",
       "cell_id                                                      \n",
       "45006fe3e4c8              0.000000                0.000000   \n",
       "d02759a80ba2              0.000000                0.000000   \n",
       "c016c6b0efa5              0.000000                3.847321   \n",
       "ba7f733a4f75              0.000000                3.436846   \n",
       "fbcf2443ffb2              3.518610                4.196826   \n",
       "...                            ...                     ...   \n",
       "650ee456f0f3              0.000000                0.000000   \n",
       "cc506e7707f5              0.000000                0.000000   \n",
       "a91f1b55a520              3.815622                4.497696   \n",
       "3a9882c98205              0.000000                0.000000   \n",
       "c91b6b2ccd3d              0.000000                0.000000   \n",
       "\n",
       "gene_id       ENSG00000159840_ZYX  ENSG00000074755_ZZEF1  \n",
       "cell_id                                                   \n",
       "45006fe3e4c8             4.090185               0.000000  \n",
       "d02759a80ba2             0.000000               0.000000  \n",
       "c016c6b0efa5             3.847321               0.000000  \n",
       "ba7f733a4f75             4.113780               0.000000  \n",
       "fbcf2443ffb2             3.518610               0.000000  \n",
       "...                           ...                    ...  \n",
       "650ee456f0f3             4.397535               4.397535  \n",
       "cc506e7707f5             3.981467               0.000000  \n",
       "a91f1b55a520             0.000000               0.000000  \n",
       "3a9882c98205             0.000000               3.900907  \n",
       "c91b6b2ccd3d             4.189502               4.189502  \n",
       "\n",
       "[70988 rows x 22050 columns]"
      ]
     },
     "execution_count": 27,
     "metadata": {},
     "output_type": "execute_result"
    }
   ],
   "source": [
    "# training inputs:\n",
    "\n",
    "# each row is a cell uniquely defined by its cell_id and each\n",
    "# column is a gene uniquely defined by the gene_id\n",
    "# Each value is a floating point value which is the gene\n",
    "# expression level which is the RNA count that has been\n",
    "# library normalized and log1p transformed\n",
    "\n",
    "# There are 70988 rows for 70988 different cells \n",
    "# and 22050 columns for 22050 different genes\n",
    "X"
   ]
  },
  {
   "cell_type": "code",
   "execution_count": 28,
   "id": "925ef4cc",
   "metadata": {
    "execution": {
     "iopub.execute_input": "2022-11-12T22:16:25.564408Z",
     "iopub.status.busy": "2022-11-12T22:16:25.563690Z",
     "iopub.status.idle": "2022-11-12T22:16:25.729044Z",
     "shell.execute_reply": "2022-11-12T22:16:25.727805Z"
    },
    "papermill": {
     "duration": 0.182546,
     "end_time": "2022-11-12T22:16:25.731449",
     "exception": false,
     "start_time": "2022-11-12T22:16:25.548903",
     "status": "completed"
    },
    "tags": []
   },
   "outputs": [
    {
     "data": {
      "text/plain": [
       "True"
      ]
     },
     "execution_count": 28,
     "metadata": {},
     "output_type": "execute_result"
    }
   ],
   "source": [
    "# checking that the cell_ids for the training\n",
    "# input and training targets are the same\n",
    "sum(X.index == Y.index) == X.shape[0]\n",
    "\n",
    "# since the result is true, it means all the cell_ids\n",
    "# are present in both and in the same order"
   ]
  },
  {
   "cell_type": "code",
   "execution_count": 29,
   "id": "32aed0b1",
   "metadata": {
    "execution": {
     "iopub.execute_input": "2022-11-12T22:16:25.760535Z",
     "iopub.status.busy": "2022-11-12T22:16:25.760123Z",
     "iopub.status.idle": "2022-11-12T22:16:25.814349Z",
     "shell.execute_reply": "2022-11-12T22:16:25.813194Z"
    },
    "papermill": {
     "duration": 0.071613,
     "end_time": "2022-11-12T22:16:25.816754",
     "exception": false,
     "start_time": "2022-11-12T22:16:25.745141",
     "status": "completed"
    },
    "tags": []
   },
   "outputs": [
    {
     "data": {
      "text/html": [
       "<div>\n",
       "<style scoped>\n",
       "    .dataframe tbody tr th:only-of-type {\n",
       "        vertical-align: middle;\n",
       "    }\n",
       "\n",
       "    .dataframe tbody tr th {\n",
       "        vertical-align: top;\n",
       "    }\n",
       "\n",
       "    .dataframe thead th {\n",
       "        text-align: right;\n",
       "    }\n",
       "</style>\n",
       "<table border=\"1\" class=\"dataframe\">\n",
       "  <thead>\n",
       "    <tr style=\"text-align: right;\">\n",
       "      <th>gene_id</th>\n",
       "      <th>ENSG00000121410_A1BG</th>\n",
       "      <th>ENSG00000268895_A1BG-AS1</th>\n",
       "      <th>ENSG00000175899_A2M</th>\n",
       "      <th>ENSG00000245105_A2M-AS1</th>\n",
       "      <th>ENSG00000166535_A2ML1</th>\n",
       "      <th>ENSG00000128274_A4GALT</th>\n",
       "      <th>ENSG00000094914_AAAS</th>\n",
       "      <th>ENSG00000081760_AACS</th>\n",
       "      <th>ENSG00000109576_AADAT</th>\n",
       "      <th>ENSG00000103591_AAGAB</th>\n",
       "      <th>...</th>\n",
       "      <th>ENSG00000153975_ZUP1</th>\n",
       "      <th>ENSG00000086827_ZW10</th>\n",
       "      <th>ENSG00000174442_ZWILCH</th>\n",
       "      <th>ENSG00000122952_ZWINT</th>\n",
       "      <th>ENSG00000198205_ZXDA</th>\n",
       "      <th>ENSG00000198455_ZXDB</th>\n",
       "      <th>ENSG00000070476_ZXDC</th>\n",
       "      <th>ENSG00000162378_ZYG11B</th>\n",
       "      <th>ENSG00000159840_ZYX</th>\n",
       "      <th>ENSG00000074755_ZZEF1</th>\n",
       "    </tr>\n",
       "    <tr>\n",
       "      <th>cell_id</th>\n",
       "      <th></th>\n",
       "      <th></th>\n",
       "      <th></th>\n",
       "      <th></th>\n",
       "      <th></th>\n",
       "      <th></th>\n",
       "      <th></th>\n",
       "      <th></th>\n",
       "      <th></th>\n",
       "      <th></th>\n",
       "      <th></th>\n",
       "      <th></th>\n",
       "      <th></th>\n",
       "      <th></th>\n",
       "      <th></th>\n",
       "      <th></th>\n",
       "      <th></th>\n",
       "      <th></th>\n",
       "      <th></th>\n",
       "      <th></th>\n",
       "      <th></th>\n",
       "    </tr>\n",
       "  </thead>\n",
       "  <tbody>\n",
       "    <tr>\n",
       "      <th>c2150f55becb</th>\n",
       "      <td>0.0</td>\n",
       "      <td>0.0</td>\n",
       "      <td>0.0</td>\n",
       "      <td>0.0</td>\n",
       "      <td>0.0</td>\n",
       "      <td>0.000000</td>\n",
       "      <td>0.000000</td>\n",
       "      <td>0.000000</td>\n",
       "      <td>0.000000</td>\n",
       "      <td>0.000000</td>\n",
       "      <td>...</td>\n",
       "      <td>0.000000</td>\n",
       "      <td>0.000000</td>\n",
       "      <td>0.000000</td>\n",
       "      <td>0.000000</td>\n",
       "      <td>0.000000</td>\n",
       "      <td>0.0</td>\n",
       "      <td>0.00000</td>\n",
       "      <td>0.000000</td>\n",
       "      <td>4.090185</td>\n",
       "      <td>0.000000</td>\n",
       "    </tr>\n",
       "    <tr>\n",
       "      <th>65b7edf8a4da</th>\n",
       "      <td>0.0</td>\n",
       "      <td>0.0</td>\n",
       "      <td>0.0</td>\n",
       "      <td>0.0</td>\n",
       "      <td>0.0</td>\n",
       "      <td>0.000000</td>\n",
       "      <td>0.000000</td>\n",
       "      <td>0.000000</td>\n",
       "      <td>0.000000</td>\n",
       "      <td>0.000000</td>\n",
       "      <td>...</td>\n",
       "      <td>0.000000</td>\n",
       "      <td>0.000000</td>\n",
       "      <td>0.000000</td>\n",
       "      <td>4.039545</td>\n",
       "      <td>0.000000</td>\n",
       "      <td>0.0</td>\n",
       "      <td>0.00000</td>\n",
       "      <td>0.000000</td>\n",
       "      <td>0.000000</td>\n",
       "      <td>0.000000</td>\n",
       "    </tr>\n",
       "    <tr>\n",
       "      <th>c1b26cb1057b</th>\n",
       "      <td>0.0</td>\n",
       "      <td>0.0</td>\n",
       "      <td>0.0</td>\n",
       "      <td>0.0</td>\n",
       "      <td>0.0</td>\n",
       "      <td>3.847321</td>\n",
       "      <td>0.000000</td>\n",
       "      <td>3.847321</td>\n",
       "      <td>3.847321</td>\n",
       "      <td>0.000000</td>\n",
       "      <td>...</td>\n",
       "      <td>0.000000</td>\n",
       "      <td>0.000000</td>\n",
       "      <td>3.847321</td>\n",
       "      <td>4.529743</td>\n",
       "      <td>0.000000</td>\n",
       "      <td>0.0</td>\n",
       "      <td>0.00000</td>\n",
       "      <td>3.847321</td>\n",
       "      <td>3.847321</td>\n",
       "      <td>0.000000</td>\n",
       "    </tr>\n",
       "    <tr>\n",
       "      <th>917168fa6f83</th>\n",
       "      <td>0.0</td>\n",
       "      <td>0.0</td>\n",
       "      <td>0.0</td>\n",
       "      <td>0.0</td>\n",
       "      <td>0.0</td>\n",
       "      <td>0.000000</td>\n",
       "      <td>3.436846</td>\n",
       "      <td>3.436846</td>\n",
       "      <td>0.000000</td>\n",
       "      <td>0.000000</td>\n",
       "      <td>...</td>\n",
       "      <td>3.436846</td>\n",
       "      <td>0.000000</td>\n",
       "      <td>4.113780</td>\n",
       "      <td>5.020215</td>\n",
       "      <td>0.000000</td>\n",
       "      <td>0.0</td>\n",
       "      <td>0.00000</td>\n",
       "      <td>3.436846</td>\n",
       "      <td>4.113780</td>\n",
       "      <td>0.000000</td>\n",
       "    </tr>\n",
       "    <tr>\n",
       "      <th>2b29feeca86d</th>\n",
       "      <td>0.0</td>\n",
       "      <td>0.0</td>\n",
       "      <td>0.0</td>\n",
       "      <td>0.0</td>\n",
       "      <td>0.0</td>\n",
       "      <td>0.000000</td>\n",
       "      <td>0.000000</td>\n",
       "      <td>4.196826</td>\n",
       "      <td>0.000000</td>\n",
       "      <td>0.000000</td>\n",
       "      <td>...</td>\n",
       "      <td>0.000000</td>\n",
       "      <td>4.196826</td>\n",
       "      <td>4.196826</td>\n",
       "      <td>4.196826</td>\n",
       "      <td>0.000000</td>\n",
       "      <td>0.0</td>\n",
       "      <td>3.51861</td>\n",
       "      <td>4.196826</td>\n",
       "      <td>3.518610</td>\n",
       "      <td>0.000000</td>\n",
       "    </tr>\n",
       "    <tr>\n",
       "      <th>...</th>\n",
       "      <td>...</td>\n",
       "      <td>...</td>\n",
       "      <td>...</td>\n",
       "      <td>...</td>\n",
       "      <td>...</td>\n",
       "      <td>...</td>\n",
       "      <td>...</td>\n",
       "      <td>...</td>\n",
       "      <td>...</td>\n",
       "      <td>...</td>\n",
       "      <td>...</td>\n",
       "      <td>...</td>\n",
       "      <td>...</td>\n",
       "      <td>...</td>\n",
       "      <td>...</td>\n",
       "      <td>...</td>\n",
       "      <td>...</td>\n",
       "      <td>...</td>\n",
       "      <td>...</td>\n",
       "      <td>...</td>\n",
       "      <td>...</td>\n",
       "    </tr>\n",
       "    <tr>\n",
       "      <th>a9b4d99f1f50</th>\n",
       "      <td>0.0</td>\n",
       "      <td>0.0</td>\n",
       "      <td>0.0</td>\n",
       "      <td>0.0</td>\n",
       "      <td>0.0</td>\n",
       "      <td>0.000000</td>\n",
       "      <td>0.000000</td>\n",
       "      <td>0.000000</td>\n",
       "      <td>0.000000</td>\n",
       "      <td>3.719836</td>\n",
       "      <td>...</td>\n",
       "      <td>0.000000</td>\n",
       "      <td>0.000000</td>\n",
       "      <td>0.000000</td>\n",
       "      <td>3.719836</td>\n",
       "      <td>0.000000</td>\n",
       "      <td>0.0</td>\n",
       "      <td>0.00000</td>\n",
       "      <td>0.000000</td>\n",
       "      <td>3.719836</td>\n",
       "      <td>0.000000</td>\n",
       "    </tr>\n",
       "    <tr>\n",
       "      <th>0e2c1d0782af</th>\n",
       "      <td>0.0</td>\n",
       "      <td>0.0</td>\n",
       "      <td>0.0</td>\n",
       "      <td>0.0</td>\n",
       "      <td>0.0</td>\n",
       "      <td>0.000000</td>\n",
       "      <td>0.000000</td>\n",
       "      <td>0.000000</td>\n",
       "      <td>4.026206</td>\n",
       "      <td>0.000000</td>\n",
       "      <td>...</td>\n",
       "      <td>4.026206</td>\n",
       "      <td>0.000000</td>\n",
       "      <td>0.000000</td>\n",
       "      <td>4.026206</td>\n",
       "      <td>0.000000</td>\n",
       "      <td>0.0</td>\n",
       "      <td>0.00000</td>\n",
       "      <td>0.000000</td>\n",
       "      <td>4.710393</td>\n",
       "      <td>0.000000</td>\n",
       "    </tr>\n",
       "    <tr>\n",
       "      <th>a3cbc5aa0ec3</th>\n",
       "      <td>0.0</td>\n",
       "      <td>0.0</td>\n",
       "      <td>0.0</td>\n",
       "      <td>0.0</td>\n",
       "      <td>0.0</td>\n",
       "      <td>0.000000</td>\n",
       "      <td>0.000000</td>\n",
       "      <td>0.000000</td>\n",
       "      <td>0.000000</td>\n",
       "      <td>0.000000</td>\n",
       "      <td>...</td>\n",
       "      <td>0.000000</td>\n",
       "      <td>0.000000</td>\n",
       "      <td>4.306634</td>\n",
       "      <td>0.000000</td>\n",
       "      <td>0.000000</td>\n",
       "      <td>0.0</td>\n",
       "      <td>0.00000</td>\n",
       "      <td>4.306634</td>\n",
       "      <td>6.933096</td>\n",
       "      <td>4.993019</td>\n",
       "    </tr>\n",
       "    <tr>\n",
       "      <th>75b350243add</th>\n",
       "      <td>0.0</td>\n",
       "      <td>0.0</td>\n",
       "      <td>0.0</td>\n",
       "      <td>0.0</td>\n",
       "      <td>0.0</td>\n",
       "      <td>0.000000</td>\n",
       "      <td>3.624848</td>\n",
       "      <td>3.624848</td>\n",
       "      <td>0.000000</td>\n",
       "      <td>0.000000</td>\n",
       "      <td>...</td>\n",
       "      <td>0.000000</td>\n",
       "      <td>0.000000</td>\n",
       "      <td>0.000000</td>\n",
       "      <td>3.624848</td>\n",
       "      <td>3.624848</td>\n",
       "      <td>0.0</td>\n",
       "      <td>0.00000</td>\n",
       "      <td>3.624848</td>\n",
       "      <td>0.000000</td>\n",
       "      <td>0.000000</td>\n",
       "    </tr>\n",
       "    <tr>\n",
       "      <th>ad5a949989b2</th>\n",
       "      <td>0.0</td>\n",
       "      <td>0.0</td>\n",
       "      <td>0.0</td>\n",
       "      <td>0.0</td>\n",
       "      <td>0.0</td>\n",
       "      <td>0.000000</td>\n",
       "      <td>0.000000</td>\n",
       "      <td>4.452700</td>\n",
       "      <td>0.000000</td>\n",
       "      <td>3.377115</td>\n",
       "      <td>...</td>\n",
       "      <td>3.377115</td>\n",
       "      <td>3.377115</td>\n",
       "      <td>0.000000</td>\n",
       "      <td>4.737466</td>\n",
       "      <td>0.000000</td>\n",
       "      <td>0.0</td>\n",
       "      <td>0.00000</td>\n",
       "      <td>0.000000</td>\n",
       "      <td>0.000000</td>\n",
       "      <td>0.000000</td>\n",
       "    </tr>\n",
       "  </tbody>\n",
       "</table>\n",
       "<p>48663 rows × 22050 columns</p>\n",
       "</div>"
      ],
      "text/plain": [
       "gene_id       ENSG00000121410_A1BG  ENSG00000268895_A1BG-AS1  \\\n",
       "cell_id                                                        \n",
       "c2150f55becb                   0.0                       0.0   \n",
       "65b7edf8a4da                   0.0                       0.0   \n",
       "c1b26cb1057b                   0.0                       0.0   \n",
       "917168fa6f83                   0.0                       0.0   \n",
       "2b29feeca86d                   0.0                       0.0   \n",
       "...                            ...                       ...   \n",
       "a9b4d99f1f50                   0.0                       0.0   \n",
       "0e2c1d0782af                   0.0                       0.0   \n",
       "a3cbc5aa0ec3                   0.0                       0.0   \n",
       "75b350243add                   0.0                       0.0   \n",
       "ad5a949989b2                   0.0                       0.0   \n",
       "\n",
       "gene_id       ENSG00000175899_A2M  ENSG00000245105_A2M-AS1  \\\n",
       "cell_id                                                      \n",
       "c2150f55becb                  0.0                      0.0   \n",
       "65b7edf8a4da                  0.0                      0.0   \n",
       "c1b26cb1057b                  0.0                      0.0   \n",
       "917168fa6f83                  0.0                      0.0   \n",
       "2b29feeca86d                  0.0                      0.0   \n",
       "...                           ...                      ...   \n",
       "a9b4d99f1f50                  0.0                      0.0   \n",
       "0e2c1d0782af                  0.0                      0.0   \n",
       "a3cbc5aa0ec3                  0.0                      0.0   \n",
       "75b350243add                  0.0                      0.0   \n",
       "ad5a949989b2                  0.0                      0.0   \n",
       "\n",
       "gene_id       ENSG00000166535_A2ML1  ENSG00000128274_A4GALT  \\\n",
       "cell_id                                                       \n",
       "c2150f55becb                    0.0                0.000000   \n",
       "65b7edf8a4da                    0.0                0.000000   \n",
       "c1b26cb1057b                    0.0                3.847321   \n",
       "917168fa6f83                    0.0                0.000000   \n",
       "2b29feeca86d                    0.0                0.000000   \n",
       "...                             ...                     ...   \n",
       "a9b4d99f1f50                    0.0                0.000000   \n",
       "0e2c1d0782af                    0.0                0.000000   \n",
       "a3cbc5aa0ec3                    0.0                0.000000   \n",
       "75b350243add                    0.0                0.000000   \n",
       "ad5a949989b2                    0.0                0.000000   \n",
       "\n",
       "gene_id       ENSG00000094914_AAAS  ENSG00000081760_AACS  \\\n",
       "cell_id                                                    \n",
       "c2150f55becb              0.000000              0.000000   \n",
       "65b7edf8a4da              0.000000              0.000000   \n",
       "c1b26cb1057b              0.000000              3.847321   \n",
       "917168fa6f83              3.436846              3.436846   \n",
       "2b29feeca86d              0.000000              4.196826   \n",
       "...                            ...                   ...   \n",
       "a9b4d99f1f50              0.000000              0.000000   \n",
       "0e2c1d0782af              0.000000              0.000000   \n",
       "a3cbc5aa0ec3              0.000000              0.000000   \n",
       "75b350243add              3.624848              3.624848   \n",
       "ad5a949989b2              0.000000              4.452700   \n",
       "\n",
       "gene_id       ENSG00000109576_AADAT  ENSG00000103591_AAGAB  ...  \\\n",
       "cell_id                                                     ...   \n",
       "c2150f55becb               0.000000               0.000000  ...   \n",
       "65b7edf8a4da               0.000000               0.000000  ...   \n",
       "c1b26cb1057b               3.847321               0.000000  ...   \n",
       "917168fa6f83               0.000000               0.000000  ...   \n",
       "2b29feeca86d               0.000000               0.000000  ...   \n",
       "...                             ...                    ...  ...   \n",
       "a9b4d99f1f50               0.000000               3.719836  ...   \n",
       "0e2c1d0782af               4.026206               0.000000  ...   \n",
       "a3cbc5aa0ec3               0.000000               0.000000  ...   \n",
       "75b350243add               0.000000               0.000000  ...   \n",
       "ad5a949989b2               0.000000               3.377115  ...   \n",
       "\n",
       "gene_id       ENSG00000153975_ZUP1  ENSG00000086827_ZW10  \\\n",
       "cell_id                                                    \n",
       "c2150f55becb              0.000000              0.000000   \n",
       "65b7edf8a4da              0.000000              0.000000   \n",
       "c1b26cb1057b              0.000000              0.000000   \n",
       "917168fa6f83              3.436846              0.000000   \n",
       "2b29feeca86d              0.000000              4.196826   \n",
       "...                            ...                   ...   \n",
       "a9b4d99f1f50              0.000000              0.000000   \n",
       "0e2c1d0782af              4.026206              0.000000   \n",
       "a3cbc5aa0ec3              0.000000              0.000000   \n",
       "75b350243add              0.000000              0.000000   \n",
       "ad5a949989b2              3.377115              3.377115   \n",
       "\n",
       "gene_id       ENSG00000174442_ZWILCH  ENSG00000122952_ZWINT  \\\n",
       "cell_id                                                       \n",
       "c2150f55becb                0.000000               0.000000   \n",
       "65b7edf8a4da                0.000000               4.039545   \n",
       "c1b26cb1057b                3.847321               4.529743   \n",
       "917168fa6f83                4.113780               5.020215   \n",
       "2b29feeca86d                4.196826               4.196826   \n",
       "...                              ...                    ...   \n",
       "a9b4d99f1f50                0.000000               3.719836   \n",
       "0e2c1d0782af                0.000000               4.026206   \n",
       "a3cbc5aa0ec3                4.306634               0.000000   \n",
       "75b350243add                0.000000               3.624848   \n",
       "ad5a949989b2                0.000000               4.737466   \n",
       "\n",
       "gene_id       ENSG00000198205_ZXDA  ENSG00000198455_ZXDB  \\\n",
       "cell_id                                                    \n",
       "c2150f55becb              0.000000                   0.0   \n",
       "65b7edf8a4da              0.000000                   0.0   \n",
       "c1b26cb1057b              0.000000                   0.0   \n",
       "917168fa6f83              0.000000                   0.0   \n",
       "2b29feeca86d              0.000000                   0.0   \n",
       "...                            ...                   ...   \n",
       "a9b4d99f1f50              0.000000                   0.0   \n",
       "0e2c1d0782af              0.000000                   0.0   \n",
       "a3cbc5aa0ec3              0.000000                   0.0   \n",
       "75b350243add              3.624848                   0.0   \n",
       "ad5a949989b2              0.000000                   0.0   \n",
       "\n",
       "gene_id       ENSG00000070476_ZXDC  ENSG00000162378_ZYG11B  \\\n",
       "cell_id                                                      \n",
       "c2150f55becb               0.00000                0.000000   \n",
       "65b7edf8a4da               0.00000                0.000000   \n",
       "c1b26cb1057b               0.00000                3.847321   \n",
       "917168fa6f83               0.00000                3.436846   \n",
       "2b29feeca86d               3.51861                4.196826   \n",
       "...                            ...                     ...   \n",
       "a9b4d99f1f50               0.00000                0.000000   \n",
       "0e2c1d0782af               0.00000                0.000000   \n",
       "a3cbc5aa0ec3               0.00000                4.306634   \n",
       "75b350243add               0.00000                3.624848   \n",
       "ad5a949989b2               0.00000                0.000000   \n",
       "\n",
       "gene_id       ENSG00000159840_ZYX  ENSG00000074755_ZZEF1  \n",
       "cell_id                                                   \n",
       "c2150f55becb             4.090185               0.000000  \n",
       "65b7edf8a4da             0.000000               0.000000  \n",
       "c1b26cb1057b             3.847321               0.000000  \n",
       "917168fa6f83             4.113780               0.000000  \n",
       "2b29feeca86d             3.518610               0.000000  \n",
       "...                           ...                    ...  \n",
       "a9b4d99f1f50             3.719836               0.000000  \n",
       "0e2c1d0782af             4.710393               0.000000  \n",
       "a3cbc5aa0ec3             6.933096               4.993019  \n",
       "75b350243add             0.000000               0.000000  \n",
       "ad5a949989b2             0.000000               0.000000  \n",
       "\n",
       "[48663 rows x 22050 columns]"
      ]
     },
     "execution_count": 29,
     "metadata": {},
     "output_type": "execute_result"
    }
   ],
   "source": [
    "# testing inputs:\n",
    "\n",
    "# each row is a cell uniquely defined by its cell_id and each\n",
    "# column is a gene uniquely defined by the gene_id\n",
    "# Each value is a floating point value which is the gene\n",
    "# expression level which is the RNA count that has been\n",
    "# library normalized and log1p transformed\n",
    "\n",
    "# There are 48663 rows for 48663 different cells \n",
    "# and 22050 columns for 22050 different genes\n",
    "X_test"
   ]
  },
  {
   "cell_type": "markdown",
   "id": "c71af109",
   "metadata": {
    "papermill": {
     "duration": 0.014112,
     "end_time": "2022-11-12T22:16:25.845127",
     "exception": false,
     "start_time": "2022-11-12T22:16:25.831015",
     "status": "completed"
    },
    "tags": []
   },
   "source": [
    "In conclusion about the CITEseq inputs, gene expression is given for various genes of various cells. When it gene is expressed it means that the gene is doing something rather than being inactive, so gene expresssion is more or less how active a particular gene is being (say, in allowing for protein creation). For the problem the given gene expression will be used to predict protein levels, which makes sense since some genes are used in providing instructions for creating protein, and thus if those genes are expressed (or active), then it would make sense that there would be more of that protein, increasing the protein level."
   ]
  }
 ],
 "metadata": {
  "kernelspec": {
   "display_name": "Python 3",
   "language": "python",
   "name": "python3"
  },
  "language_info": {
   "codemirror_mode": {
    "name": "ipython",
    "version": 3
   },
   "file_extension": ".py",
   "mimetype": "text/x-python",
   "name": "python",
   "nbconvert_exporter": "python",
   "pygments_lexer": "ipython3",
   "version": "3.7.12"
  },
  "papermill": {
   "default_parameters": {},
   "duration": 259.676809,
   "end_time": "2022-11-12T22:16:27.288033",
   "environment_variables": {},
   "exception": null,
   "input_path": "__notebook__.ipynb",
   "output_path": "__notebook__.ipynb",
   "parameters": {},
   "start_time": "2022-11-12T22:12:07.611224",
   "version": "2.3.4"
  }
 },
 "nbformat": 4,
 "nbformat_minor": 5
}
